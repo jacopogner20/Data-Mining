{
 "cells": [
  {
   "cell_type": "code",
   "execution_count": 1,
   "id": "a7b40f04",
   "metadata": {},
   "outputs": [],
   "source": [
    "%matplotlib inline\n",
    "\n",
    "import numpy as np\n",
    "import pandas as pd\n",
    "import seaborn as sns\n",
    "import matplotlib.pyplot as plt\n",
    "from scipy import stats\n",
    "\n",
    "from collections import Counter\n",
    "from collections import defaultdict\n",
    "\n",
    "from sklearn.preprocessing import StandardScaler\n",
    "\n",
    "from pyod.models.hbos import HBOS\n",
    "\n",
    "from sklearn.covariance import EllipticEnvelope\n",
    "\n",
    "from pyod.models.knn import KNN\n",
    "\n",
    "from sklearn.neighbors import LocalOutlierFactor\n",
    "\n",
    "from pyod.models.cof import COF\n",
    "\n",
    "from sklearn.cluster import DBSCAN\n",
    "\n",
    "from pyod.models.cblof import CBLOF\n",
    "\n",
    "from pyod.models.abod import ABOD\n",
    "\n",
    "from pyod.models.loda import LODA\n",
    "\n",
    "from sklearn.ensemble import IsolationForest\n",
    "from pyod.models.iforest import IsolationForest"
   ]
  },
  {
   "cell_type": "code",
   "execution_count": 2,
   "id": "9babcbc4",
   "metadata": {},
   "outputs": [],
   "source": [
    "df_train=pd.read_csv(\"RavdessAudioOnlyFeatures_TRAIN.csv\")\n",
    "df_test=pd.read_csv(\"RavdessAudioOnlyFeatures_TEST.csv\")\n",
    "\n",
    "df_train[\"emotion\"]=df_train[\"emotion\"].replace([\"fearful\", \"angry\", \"happy\", \"surprised\", \"neutral\", \"calm\", \"sad\", \"disgust\"],[0,1,2,3,4,5,6,7])\n",
    "df_train[\"emotional_intensity\"]=df_train[\"emotional_intensity\"].replace([\"normal\", \"strong\"],[0,1])\n",
    "df_train[\"sex\"]=df_train[\"sex\"].replace([\"M\", \"F\"],[0,1])\n",
    "df_train[\"statement\"]=df_train[\"statement\"].replace([\"Dogs are sitting by the door\", \"Kids are talking by the door\"],[0,1])\n",
    "df_train[\"vocal_channel\"]=df_train[\"vocal_channel\"].replace([\"speech\", \"song\"],[0,1])\n",
    "y_train=df_train.emotion.values\n",
    "X_train=df_train.drop(columns=[\"emotion\", \"modality\",\"emotional_intensity\",\"sex\",\"statement\",\"vocal_channel\",\"repetition\",\"actor\",\"filename\"]).values\n",
    "\n",
    "df_test[\"emotion\"]=df_test[\"emotion\"].replace([\"fearful\", \"angry\", \"happy\", \"surprised\", \"neutral\", \"calm\", \"sad\", \"disgust\"],[0,1,2,3,4,5,6,7])\n",
    "df_test[\"emotional_intensity\"]=df_test[\"emotional_intensity\"].replace([\"normal\", \"strong\"],[0,1])\n",
    "df_test[\"sex\"]=df_test[\"sex\"].replace([\"M\", \"F\"],[0,1])\n",
    "df_test[\"statement\"]=df_test[\"statement\"].replace([\"Dogs are sitting by the door\", \"Kids are talking by the door\"],[0,1])\n",
    "df_test[\"vocal_channel\"]=df_test[\"vocal_channel\"].replace([\"speech\", \"song\"],[0,1])\n",
    "y_test=df_test.emotion.values\n",
    "X_test=df_test.drop(columns=[\"emotion\", \"modality\",\"emotional_intensity\",\"sex\",\"statement\",\"vocal_channel\",\"repetition\",\"actor\",\"filename\"]).values\n"
   ]
  },
  {
   "cell_type": "code",
   "execution_count": 3,
   "id": "327fb749",
   "metadata": {},
   "outputs": [],
   "source": [
    "frames = [df_train, df_test]\n",
    "df = pd.concat(frames)\n",
    "X = df.drop(columns=[\"emotion\", \"modality\",\"emotional_intensity\",\"sex\",\"statement\",\"vocal_channel\",\"repetition\",\"actor\",\"filename\"]).values\n",
    "X_unscaled = df.drop(columns=[\"emotion\", \"modality\",\"emotional_intensity\",\"sex\",\"statement\",\"vocal_channel\",\"repetition\",\"actor\",\"filename\"]).values\n",
    "y=df.emotion.values"
   ]
  },
  {
   "cell_type": "code",
   "execution_count": 4,
   "id": "946ef99e",
   "metadata": {},
   "outputs": [],
   "source": [
    "scl = StandardScaler()\n",
    "X = scl.fit_transform(X)"
   ]
  },
  {
   "cell_type": "markdown",
   "id": "cfaa1082",
   "metadata": {},
   "source": [
    "# Distance Based"
   ]
  },
  {
   "cell_type": "markdown",
   "id": "438184c1",
   "metadata": {},
   "source": [
    "## KNN\n"
   ]
  },
  {
   "cell_type": "code",
   "execution_count": 5,
   "id": "cf449513",
   "metadata": {},
   "outputs": [],
   "source": [
    "from pyod.models.knn import KNN"
   ]
  },
  {
   "cell_type": "code",
   "execution_count": 6,
   "id": "77bca512",
   "metadata": {},
   "outputs": [
    {
     "data": {
      "text/plain": [
       "KNN(algorithm='auto', contamination=0.1, leaf_size=30, method='largest',\n",
       "  metric='minkowski', metric_params=None, n_jobs=1, n_neighbors=5, p=2,\n",
       "  radius=1.0)"
      ]
     },
     "execution_count": 6,
     "metadata": {},
     "output_type": "execute_result"
    }
   ],
   "source": [
    "clf = KNN(n_neighbors=5)\n",
    "clf.fit(X)"
   ]
  },
  {
   "cell_type": "code",
   "execution_count": 7,
   "id": "8117f930",
   "metadata": {},
   "outputs": [
    {
     "data": {
      "text/plain": [
       "(array([0, 1]), array([2222,  230]))"
      ]
     },
     "execution_count": 7,
     "metadata": {},
     "output_type": "execute_result"
    }
   ],
   "source": [
    "outliers = clf.predict(X)\n",
    "np.unique(outliers, return_counts=True)"
   ]
  },
  {
   "cell_type": "code",
   "execution_count": 8,
   "id": "8231f145",
   "metadata": {},
   "outputs": [
    {
     "data": {
      "image/png": "[encoded data removed]",
      "text/plain": [
       "<Figure size 432x288 with 1 Axes>"
      ]
     },
     "metadata": {
      "needs_background": "light"
     },
     "output_type": "display_data"
    }
   ],
   "source": [
    "plt.hist(clf.decision_scores_, bins=20)\n",
    "plt.axvline(np.min(clf.decision_scores_[np.where(outliers==1)]), c='k')\n",
    "plt.show()"
   ]
  }
 ],
 "metadata": {
  "kernelspec": {
   "display_name": "Python 3 (ipykernel)",
   "language": "python",
   "name": "python3"
  },
  "language_info": {
   "codemirror_mode": {
    "name": "ipython",
    "version": 3
   },
   "file_extension": ".py",
   "mimetype": "text/x-python",
   "name": "python",
   "nbconvert_exporter": "python",
   "pygments_lexer": "ipython3",
   "version": "3.9.12"
  }
 },
 "nbformat": 4,
 "nbformat_minor": 5
}
