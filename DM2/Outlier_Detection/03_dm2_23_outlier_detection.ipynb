{
 "cells": [
  {
   "cell_type": "markdown",
   "metadata": {},
   "source": [
    "**Author:** [Riccardo Guidotti](http://kdd.isti.cnr.it/people/riccardo-guidotti)  \n",
    "**Python version:**  3.x"
   ]
  },
  {
   "cell_type": "code",
   "execution_count": 1,
   "metadata": {},
   "outputs": [],
   "source": [
    "%matplotlib inline\n",
    "\n",
    "import numpy as np\n",
    "import pandas as pd\n",
    "import seaborn as sns\n",
    "import matplotlib.pyplot as plt\n",
    "\n",
    "from collections import Counter\n",
    "from collections import defaultdict"
   ]
  },
  {
   "cell_type": "markdown",
   "metadata": {},
   "source": [
    "# Data Preparation"
   ]
  },
  {
   "cell_type": "code",
   "execution_count": 2,
   "metadata": {},
   "outputs": [],
   "source": [
    "from sklearn.datasets import load_breast_cancer\n",
    "\n",
    "frame = load_breast_cancer(as_frame=True)\n",
    "df = frame['data']\n",
    "X = df.values\n",
    "y = np.array(frame['target'])"
   ]
  },
  {
   "cell_type": "code",
   "execution_count": 3,
   "metadata": {},
   "outputs": [],
   "source": [
    "from sklearn.preprocessing import StandardScaler"
   ]
  },
  {
   "cell_type": "code",
   "execution_count": 4,
   "metadata": {},
   "outputs": [],
   "source": [
    "scl = StandardScaler()\n",
    "X = scl.fit_transform(X)"
   ]
  },
  {
   "cell_type": "markdown",
   "metadata": {},
   "source": [
    "# Box Plot"
   ]
  },
  {
   "cell_type": "code",
   "execution_count": 5,
   "metadata": {},
   "outputs": [
    {
     "data": {
      "image/png": "[encoded data removed]",
      "text/plain": [
       "<Figure size 432x288 with 1 Axes>"
      ]
     },
     "metadata": {
      "needs_background": "light"
     },
     "output_type": "display_data"
    }
   ],
   "source": [
    "idx0 = 2\n",
    "idx1 = 3\n",
    "\n",
    "sns.boxplot(data=[X[:,idx0], X[:,idx1]])\n",
    "plt.xticks([0,1], [frame.feature_names[idx0], frame.feature_names[idx1]])\n",
    "plt.show()"
   ]
  },
  {
   "cell_type": "markdown",
   "metadata": {},
   "source": [
    "# Automatic BoxPlot"
   ]
  },
  {
   "cell_type": "code",
   "execution_count": 6,
   "metadata": {},
   "outputs": [],
   "source": [
    "def is_outlier(x, k=1.5):\n",
    "    q1 = np.quantile(x, 0.25)\n",
    "    q3 = np.quantile(x, 0.75)\n",
    "    iqr = q3 - q1\n",
    "    outliers = list()\n",
    "    for v in x:\n",
    "        if v < q1 - k * iqr or v > q3 + k * iqr:\n",
    "            outliers.append(True)\n",
    "        else:\n",
    "            outliers.append(False)\n",
    "    return np.array(outliers)"
   ]
  },
  {
   "cell_type": "code",
   "execution_count": 7,
   "metadata": {},
   "outputs": [
    {
     "data": {
      "text/plain": [
       "'mean radius'"
      ]
     },
     "execution_count": 7,
     "metadata": {},
     "output_type": "execute_result"
    }
   ],
   "source": [
    "frame.feature_names[0]"
   ]
  },
  {
   "cell_type": "code",
   "execution_count": 8,
   "metadata": {},
   "outputs": [
    {
     "data": {
      "text/plain": [
       "(array([False,  True]), array([555,  14]))"
      ]
     },
     "execution_count": 8,
     "metadata": {},
     "output_type": "execute_result"
    }
   ],
   "source": [
    "outliers = is_outlier(X[:,0], k=1.5)\n",
    "np.unique(outliers, return_counts=True)"
   ]
  },
  {
   "cell_type": "markdown",
   "metadata": {},
   "source": [
    "# HBOS"
   ]
  },
  {
   "cell_type": "code",
   "execution_count": null,
   "metadata": {},
   "outputs": [],
   "source": []
  },
  {
   "cell_type": "code",
   "execution_count": 9,
   "metadata": {},
   "outputs": [],
   "source": [
    "from pyod.models.hbos import HBOS"
   ]
  },
  {
   "cell_type": "code",
   "execution_count": 10,
   "metadata": {},
   "outputs": [
    {
     "data": {
      "text/plain": [
       "HBOS(alpha=0.1, contamination=0.1, n_bins=10, tol=0.5)"
      ]
     },
     "execution_count": 10,
     "metadata": {},
     "output_type": "execute_result"
    }
   ],
   "source": [
    "clf = HBOS()\n",
    "clf.fit(X)"
   ]
  },
  {
   "cell_type": "code",
   "execution_count": 11,
   "metadata": {},
   "outputs": [
    {
     "data": {
      "text/plain": [
       "array([71.82117163, 42.74608859, 53.35105753, 60.49238623, 50.68916709,\n",
       "       41.28863482, 40.64896401, 43.15000065, 43.7645633 , 52.30851172,\n",
       "       32.75258853, 43.63542634, 69.83773473, 42.04003159, 50.09172783,\n",
       "       50.88421203, 33.71317711, 49.9130123 , 49.70546212, 28.41977146,\n",
       "       27.37484123, 34.14597911, 54.65709676, 47.65237519, 51.02954433,\n",
       "       62.12435592, 46.94625884, 49.0264205 , 47.92395155, 40.0189887 ,\n",
       "       54.53008093, 48.11117421, 53.37260562, 51.77765106, 45.53759479,\n",
       "       44.66519177, 36.95237025, 32.4785786 , 42.71365764, 33.11683157,\n",
       "       26.42770764, 38.47777017, 67.49763423, 34.40530437, 32.50954226,\n",
       "       54.53056878, 34.60803006, 36.37752416, 25.31405072, 28.28229836,\n",
       "       28.6944677 , 27.6496872 , 25.04922245, 47.38838802, 30.83372415,\n",
       "       25.93549179, 45.56889135, 40.28349859, 29.42654885, 40.48090306,\n",
       "       39.75646664, 41.44127208, 53.7918173 , 44.87525847, 39.41127944,\n",
       "       37.06453106, 35.37401542, 26.81451275, 57.96231008, 25.521319  ,\n",
       "       47.7629918 , 52.28409   , 54.24999302, 32.0754362 , 22.44732097,\n",
       "       44.26303163, 37.54676732, 62.07645855, 75.56519947, 22.05731884,\n",
       "       30.66989859, 36.88247891, 69.52414856, 58.46630664, 23.39043197,\n",
       "       45.08233908, 39.17719858, 45.29987239, 27.93127997, 41.22503962,\n",
       "       25.99600512, 34.81519201, 35.95992605, 23.75331444, 42.32731524,\n",
       "       50.33331371, 25.47386231, 38.35521766, 24.73445489, 34.77516682,\n",
       "       32.74562724, 41.48868292, 27.0061628 , 28.3376532 , 28.8118449 ,\n",
       "       44.92778874, 31.09488303, 24.50418156, 77.62102755, 28.00813984,\n",
       "       35.36151829, 34.55973555, 50.68629338, 38.62906494, 39.47259212,\n",
       "       26.18231603, 47.96309979, 44.31393345, 52.72230874, 45.23193323,\n",
       "       26.85652461, 43.88319446, 78.57428061, 32.07417686, 33.57335328,\n",
       "       28.18600443, 33.58237321, 46.32446021, 37.71354785, 47.47823423,\n",
       "       28.09640604, 39.67314768, 37.52956715, 31.21371115, 41.58712934,\n",
       "       24.82689893, 30.60713109, 22.78571791, 47.1407962 , 31.849466  ,\n",
       "       38.40128964, 38.2862018 , 26.10016158, 25.35840145, 31.10974864,\n",
       "       37.85127488, 44.13197158, 39.76475311, 29.7539773 , 28.76068431,\n",
       "       30.1905586 , 52.29015716, 61.04687577, 30.16029047, 30.51811123,\n",
       "       22.28269929, 51.46192637, 40.49183548, 25.31673361, 31.80555521,\n",
       "       32.96094715, 52.51923593, 53.44649999, 30.46313156, 51.20228107,\n",
       "       29.84592263, 33.47279394, 38.56007161, 53.11281596, 25.70612261,\n",
       "       28.67006368, 28.36457179, 49.28966078, 36.1071658 , 35.58064716,\n",
       "       39.02088242, 50.2686482 , 41.35188561, 36.39634429, 29.36068571,\n",
       "       59.76742703, 64.54209775, 35.85545996, 31.71592608, 33.5455022 ,\n",
       "       35.06363335, 39.62844077, 23.94478422, 28.76837612, 24.63497078,\n",
       "       57.91094511, 35.93632249, 45.03233624, 42.43335679, 42.72659712,\n",
       "       23.5951158 , 47.00642661, 47.31623101, 44.21899651, 39.79145768,\n",
       "       24.50145167, 38.04616728, 65.66976088, 53.84899836, 26.59637959,\n",
       "       32.71166939, 32.37074045, 40.38538324, 35.86823054, 32.88337308,\n",
       "       53.2719627 , 22.38631728, 64.37592353, 53.97114525, 48.93391983,\n",
       "       36.03338402, 31.87252209, 33.26635539, 48.36381439, 52.0182337 ,\n",
       "       30.09381298, 28.59757144, 29.95344551, 39.62407117, 25.08686669,\n",
       "       35.11803416, 28.37323481, 34.52219951, 28.59709042, 41.53209512,\n",
       "       45.37583094, 32.26668332, 33.7087083 , 46.4857022 , 33.99743578,\n",
       "       25.25269108, 59.89248472, 48.5003404 , 37.84603899, 43.58180474,\n",
       "       27.52758353, 29.79548514, 41.0514629 , 31.16553568, 46.83629854,\n",
       "       33.57087457, 27.47918696, 40.29139393, 29.29309851, 23.30917968,\n",
       "       58.11482835, 24.98250991, 60.42335615, 35.95264849, 46.34210498,\n",
       "       32.16610298, 54.57525935, 56.4300628 , 70.92615118, 48.82826802,\n",
       "       42.78211977, 35.46993982, 51.96758102, 33.67346769, 41.10990437,\n",
       "       53.84586487, 31.98823361, 27.61750838, 25.52767139, 37.86482397,\n",
       "       36.10145416, 24.24646131, 57.99919271, 33.25605739, 36.91137949,\n",
       "       36.91346325, 31.37608085, 35.66137519, 30.51496802, 27.48888821,\n",
       "       49.86511889, 34.28450608, 41.09148696, 42.91809224, 33.81008329,\n",
       "       29.72811044, 34.6474908 , 32.15908553, 43.18120049, 29.33881466,\n",
       "       52.35301506, 27.856976  , 29.24648311, 24.06288175, 25.36723301,\n",
       "       28.12165469, 37.59554543, 29.2467362 , 31.02905415, 33.12077868,\n",
       "       54.82835176, 27.60656508, 61.21570696, 27.96292827, 24.73340654,\n",
       "       31.33403589, 28.39031005, 39.71915265, 37.01278596, 33.42316163,\n",
       "       26.21021422, 32.52616806, 25.14429841, 30.20717664, 45.93838751,\n",
       "       33.16451013, 30.41156667, 38.04599039, 56.61452442, 34.16322608,\n",
       "       36.45525073, 44.27483839, 26.57741332, 58.59514224, 25.96443562,\n",
       "       23.39089203, 27.98253798, 30.13436412, 38.88724062, 44.1778358 ,\n",
       "       38.68624164, 32.1390381 , 33.10117337, 27.62602296, 26.99703112,\n",
       "       45.76303546, 28.29549609, 49.43097009, 27.11010666, 54.08369787,\n",
       "       33.54939291, 32.7665005 , 30.3141646 , 55.67147787, 26.35003153,\n",
       "       39.0540887 , 23.1748478 , 29.94482771, 25.37643835, 29.28639452,\n",
       "       28.13179253, 63.20202903, 65.24111708, 45.77717018, 38.11754351,\n",
       "       34.20506583, 35.42807094, 26.87345925, 41.97493163, 29.94481594,\n",
       "       31.4705561 , 25.58906096, 22.23232195, 32.82449237, 25.72923323,\n",
       "       42.26955669, 58.18814623, 24.29092866, 49.52238986, 57.22159835,\n",
       "       50.62783962, 28.70774582, 43.91109372, 45.0553451 , 26.55450714,\n",
       "       36.05605601, 48.60863275, 31.75828192, 29.10200127, 51.08536032,\n",
       "       31.28037405, 26.72700368, 39.33224664, 31.39817447, 28.69940528,\n",
       "       34.8118961 , 30.97229047, 32.29923579, 38.78890608, 54.43787932,\n",
       "       29.15759951, 43.66755655, 51.41515644, 59.13416627, 24.21056018,\n",
       "       26.18515658, 29.02204635, 30.5554861 , 32.83402681, 23.09515487,\n",
       "       56.84141706, 24.95121938, 29.42058154, 23.62867638, 29.59958799,\n",
       "       30.17030051, 32.66597081, 34.38635287, 39.43294066, 26.7715381 ,\n",
       "       25.19804001, 24.72478535, 36.22484281, 34.75147198, 38.86529496,\n",
       "       24.65076605, 38.45379364, 55.33651626, 26.17694501, 26.74378259,\n",
       "       25.23250768, 45.16398947, 25.73580054, 30.95229935, 38.77464212,\n",
       "       34.04378096, 32.87090067, 26.49397871, 27.29901239, 26.38927874,\n",
       "       49.72330354, 30.85593909, 48.88454931, 50.0536846 , 25.90102334,\n",
       "       34.79774494, 24.24108981, 25.87169051, 26.14900158, 27.71273359,\n",
       "       36.88632093, 48.16040214, 30.7787721 , 38.14934442, 38.17974513,\n",
       "       28.69345732, 43.44656998, 28.73743911, 31.37690552, 47.62783442,\n",
       "       38.73003625, 45.91311054, 27.2932222 , 29.28803029, 25.23736283,\n",
       "       29.31140275, 31.79242775, 26.96631007, 29.21036385, 34.98350928,\n",
       "       46.90260277, 69.71405633, 31.9931342 , 23.79671392, 28.4119249 ,\n",
       "       39.09078357, 29.37916397, 31.68497432, 58.52654423, 41.15712348,\n",
       "       27.78362369, 32.50542263, 32.71948566, 38.30698346, 34.57881432,\n",
       "       25.25424383, 32.41880085, 29.8088751 , 26.0942072 , 49.51310559,\n",
       "       25.4669226 , 27.30311417, 31.40508505, 26.91191714, 38.71284416,\n",
       "       47.17059943, 31.87697891, 48.37092248, 25.76257375, 37.45922491,\n",
       "       25.83979879, 44.61258679, 47.06861742, 33.18721223, 26.70268454,\n",
       "       28.41133647, 30.98661312, 24.8756954 , 46.57958047, 48.68454288,\n",
       "       31.51253907, 48.01293781, 27.70514855, 55.84771821, 54.07444024,\n",
       "       53.8860903 , 29.74266523, 38.94973429, 31.41265224, 51.85920075,\n",
       "       33.59957667, 30.69191561, 41.22182366, 30.01687825, 30.95380149,\n",
       "       26.50801802, 40.98307229, 40.58932552, 32.19367519, 26.0787878 ,\n",
       "       44.00725063, 59.18903055, 30.2544579 , 27.19769635, 28.69114737,\n",
       "       37.78448314, 30.62215945, 27.45529774, 41.66945324, 26.54908749,\n",
       "       29.38551345, 27.04830756, 27.14530125, 53.26747707, 31.62563894,\n",
       "       47.94375496, 34.29495405, 40.09812592, 44.53471903, 49.28281339,\n",
       "       30.55479342, 36.20419357, 29.52716527, 27.27269536, 25.1400254 ,\n",
       "       24.41413792, 27.58848245, 30.4064765 , 30.86385288, 32.76334773,\n",
       "       36.1426582 , 32.33411882, 29.93811423, 39.56226393, 28.01858256,\n",
       "       38.04905596, 35.05590259, 44.4895681 , 36.91694422, 37.71777248,\n",
       "       31.48517151, 41.26688157, 54.57727998, 61.66021233, 56.5995214 ,\n",
       "       48.41154859, 43.40690795, 72.0782573 , 41.04190629])"
      ]
     },
     "execution_count": 11,
     "metadata": {},
     "output_type": "execute_result"
    }
   ],
   "source": [
    "clf.decision_scores_"
   ]
  },
  {
   "cell_type": "code",
   "execution_count": 12,
   "metadata": {},
   "outputs": [
    {
     "data": {
      "text/plain": [
       "(array([0, 1]), array([512,  57]))"
      ]
     },
     "execution_count": 12,
     "metadata": {},
     "output_type": "execute_result"
    }
   ],
   "source": [
    "outliers = clf.predict(X)\n",
    "np.unique(outliers, return_counts=True)"
   ]
  },
  {
   "cell_type": "code",
   "execution_count": 13,
   "metadata": {},
   "outputs": [
    {
     "data": {
      "image/png": "[encoded data removed]",
      "text/plain": [
       "<Figure size 432x288 with 1 Axes>"
      ]
     },
     "metadata": {
      "needs_background": "light"
     },
     "output_type": "display_data"
    }
   ],
   "source": [
    "plt.hist(clf.decision_scores_, bins=20)\n",
    "plt.axvline(np.min(clf.decision_scores_[np.where(outliers==1)]), c='k')\n",
    "plt.show()"
   ]
  },
  {
   "cell_type": "code",
   "execution_count": 14,
   "metadata": {},
   "outputs": [
    {
     "data": {
      "text/plain": [
       "array([71.82117163, 42.74608859, 53.35105753, 60.49238623, 50.68916709,\n",
       "       41.28863482, 40.64896401, 43.15000065, 43.7645633 , 52.30851172,\n",
       "       32.75258853, 43.63542634, 69.83773473, 42.04003159, 50.09172783,\n",
       "       50.88421203, 33.71317711, 49.9130123 , 49.70546212, 28.41977146,\n",
       "       27.37484123, 34.14597911, 54.65709676, 47.65237519, 51.02954433,\n",
       "       62.12435592, 46.94625884, 49.0264205 , 47.92395155, 40.0189887 ,\n",
       "       54.53008093, 48.11117421, 53.37260562, 51.77765106, 45.53759479,\n",
       "       44.66519177, 36.95237025, 32.4785786 , 42.71365764, 33.11683157,\n",
       "       26.42770764, 38.47777017, 67.49763423, 34.40530437, 32.50954226,\n",
       "       54.53056878, 34.60803006, 36.37752416, 25.31405072, 28.28229836,\n",
       "       28.6944677 , 27.6496872 , 25.04922245, 47.38838802, 30.83372415,\n",
       "       25.93549179, 45.56889135, 40.28349859, 29.42654885, 40.48090306,\n",
       "       39.75646664, 41.44127208, 53.7918173 , 44.87525847, 39.41127944,\n",
       "       37.06453106, 35.37401542, 26.81451275, 57.96231008, 25.521319  ,\n",
       "       47.7629918 , 52.28409   , 54.24999302, 32.0754362 , 22.44732097,\n",
       "       44.26303163, 37.54676732, 62.07645855, 75.56519947, 22.05731884,\n",
       "       30.66989859, 36.88247891, 69.52414856, 58.46630664, 23.39043197,\n",
       "       45.08233908, 39.17719858, 45.29987239, 27.93127997, 41.22503962,\n",
       "       25.99600512, 34.81519201, 35.95992605, 23.75331444, 42.32731524,\n",
       "       50.33331371, 25.47386231, 38.35521766, 24.73445489, 34.77516682,\n",
       "       32.74562724, 41.48868292, 27.0061628 , 28.3376532 , 28.8118449 ,\n",
       "       44.92778874, 31.09488303, 24.50418156, 77.62102755, 28.00813984,\n",
       "       35.36151829, 34.55973555, 50.68629338, 38.62906494, 39.47259212,\n",
       "       26.18231603, 47.96309979, 44.31393345, 52.72230874, 45.23193323,\n",
       "       26.85652461, 43.88319446, 78.57428061, 32.07417686, 33.57335328,\n",
       "       28.18600443, 33.58237321, 46.32446021, 37.71354785, 47.47823423,\n",
       "       28.09640604, 39.67314768, 37.52956715, 31.21371115, 41.58712934,\n",
       "       24.82689893, 30.60713109, 22.78571791, 47.1407962 , 31.849466  ,\n",
       "       38.40128964, 38.2862018 , 26.10016158, 25.35840145, 31.10974864,\n",
       "       37.85127488, 44.13197158, 39.76475311, 29.7539773 , 28.76068431,\n",
       "       30.1905586 , 52.29015716, 61.04687577, 30.16029047, 30.51811123,\n",
       "       22.28269929, 51.46192637, 40.49183548, 25.31673361, 31.80555521,\n",
       "       32.96094715, 52.51923593, 53.44649999, 30.46313156, 51.20228107,\n",
       "       29.84592263, 33.47279394, 38.56007161, 53.11281596, 25.70612261,\n",
       "       28.67006368, 28.36457179, 49.28966078, 36.1071658 , 35.58064716,\n",
       "       39.02088242, 50.2686482 , 41.35188561, 36.39634429, 29.36068571,\n",
       "       59.76742703, 64.54209775, 35.85545996, 31.71592608, 33.5455022 ,\n",
       "       35.06363335, 39.62844077, 23.94478422, 28.76837612, 24.63497078,\n",
       "       57.91094511, 35.93632249, 45.03233624, 42.43335679, 42.72659712,\n",
       "       23.5951158 , 47.00642661, 47.31623101, 44.21899651, 39.79145768,\n",
       "       24.50145167, 38.04616728, 65.66976088, 53.84899836, 26.59637959,\n",
       "       32.71166939, 32.37074045, 40.38538324, 35.86823054, 32.88337308,\n",
       "       53.2719627 , 22.38631728, 64.37592353, 53.97114525, 48.93391983,\n",
       "       36.03338402, 31.87252209, 33.26635539, 48.36381439, 52.0182337 ,\n",
       "       30.09381298, 28.59757144, 29.95344551, 39.62407117, 25.08686669,\n",
       "       35.11803416, 28.37323481, 34.52219951, 28.59709042, 41.53209512,\n",
       "       45.37583094, 32.26668332, 33.7087083 , 46.4857022 , 33.99743578,\n",
       "       25.25269108, 59.89248472, 48.5003404 , 37.84603899, 43.58180474,\n",
       "       27.52758353, 29.79548514, 41.0514629 , 31.16553568, 46.83629854,\n",
       "       33.57087457, 27.47918696, 40.29139393, 29.29309851, 23.30917968,\n",
       "       58.11482835, 24.98250991, 60.42335615, 35.95264849, 46.34210498,\n",
       "       32.16610298, 54.57525935, 56.4300628 , 70.92615118, 48.82826802,\n",
       "       42.78211977, 35.46993982, 51.96758102, 33.67346769, 41.10990437,\n",
       "       53.84586487, 31.98823361, 27.61750838, 25.52767139, 37.86482397,\n",
       "       36.10145416, 24.24646131, 57.99919271, 33.25605739, 36.91137949,\n",
       "       36.91346325, 31.37608085, 35.66137519, 30.51496802, 27.48888821,\n",
       "       49.86511889, 34.28450608, 41.09148696, 42.91809224, 33.81008329,\n",
       "       29.72811044, 34.6474908 , 32.15908553, 43.18120049, 29.33881466,\n",
       "       52.35301506, 27.856976  , 29.24648311, 24.06288175, 25.36723301,\n",
       "       28.12165469, 37.59554543, 29.2467362 , 31.02905415, 33.12077868,\n",
       "       54.82835176, 27.60656508, 61.21570696, 27.96292827, 24.73340654,\n",
       "       31.33403589, 28.39031005, 39.71915265, 37.01278596, 33.42316163,\n",
       "       26.21021422, 32.52616806, 25.14429841, 30.20717664, 45.93838751,\n",
       "       33.16451013, 30.41156667, 38.04599039, 56.61452442, 34.16322608,\n",
       "       36.45525073, 44.27483839, 26.57741332, 58.59514224, 25.96443562,\n",
       "       23.39089203, 27.98253798, 30.13436412, 38.88724062, 44.1778358 ,\n",
       "       38.68624164, 32.1390381 , 33.10117337, 27.62602296, 26.99703112,\n",
       "       45.76303546, 28.29549609, 49.43097009, 27.11010666, 54.08369787,\n",
       "       33.54939291, 32.7665005 , 30.3141646 , 55.67147787, 26.35003153,\n",
       "       39.0540887 , 23.1748478 , 29.94482771, 25.37643835, 29.28639452,\n",
       "       28.13179253, 63.20202903, 65.24111708, 45.77717018, 38.11754351,\n",
       "       34.20506583, 35.42807094, 26.87345925, 41.97493163, 29.94481594,\n",
       "       31.4705561 , 25.58906096, 22.23232195, 32.82449237, 25.72923323,\n",
       "       42.26955669, 58.18814623, 24.29092866, 49.52238986, 57.22159835,\n",
       "       50.62783962, 28.70774582, 43.91109372, 45.0553451 , 26.55450714,\n",
       "       36.05605601, 48.60863275, 31.75828192, 29.10200127, 51.08536032,\n",
       "       31.28037405, 26.72700368, 39.33224664, 31.39817447, 28.69940528,\n",
       "       34.8118961 , 30.97229047, 32.29923579, 38.78890608, 54.43787932,\n",
       "       29.15759951, 43.66755655, 51.41515644, 59.13416627, 24.21056018,\n",
       "       26.18515658, 29.02204635, 30.5554861 , 32.83402681, 23.09515487,\n",
       "       56.84141706, 24.95121938, 29.42058154, 23.62867638, 29.59958799,\n",
       "       30.17030051, 32.66597081, 34.38635287, 39.43294066, 26.7715381 ,\n",
       "       25.19804001, 24.72478535, 36.22484281, 34.75147198, 38.86529496,\n",
       "       24.65076605, 38.45379364, 55.33651626, 26.17694501, 26.74378259,\n",
       "       25.23250768, 45.16398947, 25.73580054, 30.95229935, 38.77464212,\n",
       "       34.04378096, 32.87090067, 26.49397871, 27.29901239, 26.38927874,\n",
       "       49.72330354, 30.85593909, 48.88454931, 50.0536846 , 25.90102334,\n",
       "       34.79774494, 24.24108981, 25.87169051, 26.14900158, 27.71273359,\n",
       "       36.88632093, 48.16040214, 30.7787721 , 38.14934442, 38.17974513,\n",
       "       28.69345732, 43.44656998, 28.73743911, 31.37690552, 47.62783442,\n",
       "       38.73003625, 45.91311054, 27.2932222 , 29.28803029, 25.23736283,\n",
       "       29.31140275, 31.79242775, 26.96631007, 29.21036385, 34.98350928,\n",
       "       46.90260277, 69.71405633, 31.9931342 , 23.79671392, 28.4119249 ,\n",
       "       39.09078357, 29.37916397, 31.68497432, 58.52654423, 41.15712348,\n",
       "       27.78362369, 32.50542263, 32.71948566, 38.30698346, 34.57881432,\n",
       "       25.25424383, 32.41880085, 29.8088751 , 26.0942072 , 49.51310559,\n",
       "       25.4669226 , 27.30311417, 31.40508505, 26.91191714, 38.71284416,\n",
       "       47.17059943, 31.87697891, 48.37092248, 25.76257375, 37.45922491,\n",
       "       25.83979879, 44.61258679, 47.06861742, 33.18721223, 26.70268454,\n",
       "       28.41133647, 30.98661312, 24.8756954 , 46.57958047, 48.68454288,\n",
       "       31.51253907, 48.01293781, 27.70514855, 55.84771821, 54.07444024,\n",
       "       53.8860903 , 29.74266523, 38.94973429, 31.41265224, 51.85920075,\n",
       "       33.59957667, 30.69191561, 41.22182366, 30.01687825, 30.95380149,\n",
       "       26.50801802, 40.98307229, 40.58932552, 32.19367519, 26.0787878 ,\n",
       "       44.00725063, 59.18903055, 30.2544579 , 27.19769635, 28.69114737,\n",
       "       37.78448314, 30.62215945, 27.45529774, 41.66945324, 26.54908749,\n",
       "       29.38551345, 27.04830756, 27.14530125, 53.26747707, 31.62563894,\n",
       "       47.94375496, 34.29495405, 40.09812592, 44.53471903, 49.28281339,\n",
       "       30.55479342, 36.20419357, 29.52716527, 27.27269536, 25.1400254 ,\n",
       "       24.41413792, 27.58848245, 30.4064765 , 30.86385288, 32.76334773,\n",
       "       36.1426582 , 32.33411882, 29.93811423, 39.56226393, 28.01858256,\n",
       "       38.04905596, 35.05590259, 44.4895681 , 36.91694422, 37.71777248,\n",
       "       31.48517151, 41.26688157, 54.57727998, 61.66021233, 56.5995214 ,\n",
       "       48.41154859, 43.40690795, 72.0782573 , 41.04190629])"
      ]
     },
     "execution_count": 14,
     "metadata": {},
     "output_type": "execute_result"
    }
   ],
   "source": [
    "clf.decision_function(X)"
   ]
  },
  {
   "cell_type": "markdown",
   "metadata": {},
   "source": [
    "# EllEnv"
   ]
  },
  {
   "cell_type": "code",
   "execution_count": 15,
   "metadata": {},
   "outputs": [],
   "source": [
    "from sklearn.covariance import EllipticEnvelope"
   ]
  },
  {
   "cell_type": "code",
   "execution_count": 16,
   "metadata": {},
   "outputs": [
    {
     "data": {
      "text/plain": [
       "EllipticEnvelope(random_state=0)"
      ]
     },
     "execution_count": 16,
     "metadata": {},
     "output_type": "execute_result"
    }
   ],
   "source": [
    "ellenv = EllipticEnvelope(random_state=0)\n",
    "ellenv.fit(X)"
   ]
  },
  {
   "cell_type": "code",
   "execution_count": 17,
   "metadata": {},
   "outputs": [],
   "source": [
    "# predict returns 1 for an inlier and -1 for an outlier\n",
    "outliers = ellenv.predict(X)"
   ]
  },
  {
   "cell_type": "code",
   "execution_count": 18,
   "metadata": {},
   "outputs": [
    {
     "data": {
      "text/plain": [
       "(array([-1,  1]), array([ 57, 512]))"
      ]
     },
     "execution_count": 18,
     "metadata": {},
     "output_type": "execute_result"
    }
   ],
   "source": [
    "np.unique(outliers, return_counts=True)"
   ]
  },
  {
   "cell_type": "markdown",
   "metadata": {},
   "source": [
    "# kNN"
   ]
  },
  {
   "cell_type": "code",
   "execution_count": 19,
   "metadata": {},
   "outputs": [],
   "source": [
    "from pyod.models.knn import KNN"
   ]
  },
  {
   "cell_type": "code",
   "execution_count": 20,
   "metadata": {},
   "outputs": [
    {
     "data": {
      "text/plain": [
       "KNN(algorithm='auto', contamination=0.1, leaf_size=30, method='largest',\n",
       "  metric='minkowski', metric_params=None, n_jobs=1, n_neighbors=5, p=2,\n",
       "  radius=1.0)"
      ]
     },
     "execution_count": 20,
     "metadata": {},
     "output_type": "execute_result"
    }
   ],
   "source": [
    "clf = KNN(n_neighbors=5)\n",
    "clf.fit(X)"
   ]
  },
  {
   "cell_type": "code",
   "execution_count": 21,
   "metadata": {},
   "outputs": [
    {
     "data": {
      "text/plain": [
       "(array([0, 1]), array([516,  53]))"
      ]
     },
     "execution_count": 21,
     "metadata": {},
     "output_type": "execute_result"
    }
   ],
   "source": [
    "outliers = clf.predict(X)\n",
    "np.unique(outliers, return_counts=True)"
   ]
  },
  {
   "cell_type": "code",
   "execution_count": 22,
   "metadata": {},
   "outputs": [
    {
     "data": {
      "image/png": "[encoded data removed]",
      "text/plain": [
       "<Figure size 432x288 with 1 Axes>"
      ]
     },
     "metadata": {
      "needs_background": "light"
     },
     "output_type": "display_data"
    }
   ],
   "source": [
    "plt.hist(clf.decision_scores_, bins=20)\n",
    "plt.axvline(np.min(clf.decision_scores_[np.where(outliers==1)]), c='k')\n",
    "plt.show()"
   ]
  },
  {
   "cell_type": "code",
   "execution_count": null,
   "metadata": {},
   "outputs": [],
   "source": []
  },
  {
   "cell_type": "code",
   "execution_count": null,
   "metadata": {},
   "outputs": [],
   "source": []
  },
  {
   "cell_type": "code",
   "execution_count": null,
   "metadata": {},
   "outputs": [],
   "source": []
  },
  {
   "cell_type": "markdown",
   "metadata": {},
   "source": [
    "# LOF"
   ]
  },
  {
   "cell_type": "code",
   "execution_count": 23,
   "metadata": {},
   "outputs": [],
   "source": [
    "from sklearn.neighbors import LocalOutlierFactor\n",
    "from sklearn.model_selection import train_test_split"
   ]
  },
  {
   "cell_type": "code",
   "execution_count": 24,
   "metadata": {},
   "outputs": [],
   "source": [
    "X_train, X_test, y_train, y_test = train_test_split(X, y, test_size=0.3, random_state=0)"
   ]
  },
  {
   "cell_type": "code",
   "execution_count": 25,
   "metadata": {},
   "outputs": [],
   "source": [
    "clf = LocalOutlierFactor(n_neighbors=2) # , novelty=True\n",
    "clf.fit(X_train)\n",
    "\n",
    "y_pred = clf.fit_predict(X_test)"
   ]
  },
  {
   "cell_type": "code",
   "execution_count": 26,
   "metadata": {},
   "outputs": [
    {
     "data": {
      "text/plain": [
       "(array([-1,  1]), array([ 18, 153]))"
      ]
     },
     "execution_count": 26,
     "metadata": {},
     "output_type": "execute_result"
    }
   ],
   "source": [
    "np.unique(y_pred, return_counts=True)"
   ]
  },
  {
   "cell_type": "code",
   "execution_count": 27,
   "metadata": {},
   "outputs": [
    {
     "data": {
      "text/plain": [
       "(array([-1,  1]), array([ 35, 534]))"
      ]
     },
     "execution_count": 27,
     "metadata": {},
     "output_type": "execute_result"
    }
   ],
   "source": [
    "clf = LocalOutlierFactor(n_neighbors=2)\n",
    "outliers = clf.fit_predict(X)\n",
    "np.unique(outliers, return_counts=True)"
   ]
  },
  {
   "cell_type": "markdown",
   "metadata": {},
   "source": [
    "negative_outlier_factor_\n",
    "\n",
    "The opposite LOF of the training samples. The higher, the more normal. Inliers tend to have a LOF score close to 1 (negative_outlier_factor_ close to -1), while outliers tend to have a larger LOF score.\n",
    "\n",
    "The local outlier factor (LOF) of a sample captures its supposed ‘degree of abnormality’. It is the average of the ratio of the local reachability density of a sample and those of its k-nearest neighbors."
   ]
  },
  {
   "cell_type": "code",
   "execution_count": 28,
   "metadata": {},
   "outputs": [
    {
     "data": {
      "text/plain": [
       "array([-1.17088963, -1.27054811, -1.0379891 , -1.40450113, -1.3459017 ,\n",
       "       -1.11102946, -0.98133324, -1.14727934, -1.16595936, -1.52830635,\n",
       "       -0.99209184, -1.05930338, -1.18343086, -1.13398173, -1.18273203,\n",
       "       -1.11315805, -0.99416899, -1.01644245, -1.01632367, -1.09487154,\n",
       "       -0.99777014, -1.3951239 , -1.31882874, -1.02057605, -1.04123514,\n",
       "       -1.16603112, -1.10622341, -1.07385542, -1.34024895, -0.99758986,\n",
       "       -1.01152581, -1.1600516 , -1.04080259, -1.04609073, -1.01334539,\n",
       "       -1.22689119, -1.01952048, -1.31079361, -1.71925793, -1.00687848,\n",
       "       -1.10204609, -1.06262572, -1.91921259, -0.96563842, -1.03359158,\n",
       "       -1.1740867 , -0.91582589, -0.95227863, -1.05432483, -1.02500953,\n",
       "       -1.08960384, -1.02506489, -0.9944927 , -1.2766062 , -0.99416899,\n",
       "       -1.04669104, -1.09397173, -0.95399659, -1.01904535, -1.00845916,\n",
       "       -1.11447579, -1.10306155, -1.1445874 , -1.34134215, -1.05506534,\n",
       "       -1.04462495, -1.17521978, -1.18012186, -1.87780824, -1.03728716,\n",
       "       -0.99658956, -1.14856394, -1.1089868 , -1.12266376, -1.06925749,\n",
       "       -1.20329791, -1.78719694, -1.33465862, -1.33254482, -0.92647982,\n",
       "       -1.02099979, -1.01371693, -1.3779417 , -1.61381995, -1.08713708,\n",
       "       -0.97538874, -1.16943663, -1.5712975 , -1.0548025 , -1.25421923,\n",
       "       -0.90134864, -1.13398173, -1.27013879, -1.03473633, -0.96230118,\n",
       "       -1.01819797, -1.39870983, -1.36385214, -0.95973545, -1.08738043,\n",
       "       -1.06785995, -1.57398214, -1.04282501, -0.98562196, -1.01360721,\n",
       "       -1.2382182 , -1.0125988 , -1.02318288, -1.55634922, -1.15203427,\n",
       "       -1.37439949, -1.1981383 , -1.02412513, -1.00519909, -1.12887511,\n",
       "       -1.1513159 , -2.06438355, -1.02239199, -1.06402225, -1.69703006,\n",
       "       -0.99464294, -1.02823756, -1.50758961, -1.07218421, -0.96592163,\n",
       "       -0.99284035, -1.10855039, -1.01668896, -1.07096329, -1.11281547,\n",
       "       -0.99408793, -1.07211111, -1.20057568, -0.99638463, -1.07939521,\n",
       "       -1.05258804, -1.20475896, -0.91488972, -2.04197609, -1.28633848,\n",
       "       -1.24110209, -0.99045884, -0.97370184, -0.94808276, -0.99722372,\n",
       "       -1.15870192, -1.20870574, -1.05085321, -1.0241264 , -1.00132098,\n",
       "       -1.19886793, -1.03536599, -2.005906  , -0.99891781, -1.0909774 ,\n",
       "       -0.95521817, -1.0220856 , -1.73589576, -1.06979854, -1.08692176,\n",
       "       -0.97093613, -1.13334416, -1.02341806, -1.12216728, -1.29549513,\n",
       "       -1.00703666, -1.63606313, -1.0096335 , -1.04692786, -1.05123709,\n",
       "       -1.06057646, -1.01179962, -1.37733275, -1.06912094, -1.21361029,\n",
       "       -1.03730545, -1.08969194, -1.06229031, -1.39194723, -1.03117904,\n",
       "       -1.24100163, -1.16296525, -1.15041191, -1.1386776 , -1.01170249,\n",
       "       -0.93473739, -1.3359116 , -1.06104879, -1.08577586, -1.05307762,\n",
       "       -1.88857142, -1.20755689, -1.47246038, -1.08533724, -1.06806842,\n",
       "       -0.98882234, -0.97635384, -1.25356771, -0.99193868, -1.06544361,\n",
       "       -1.14163132, -1.18714972, -1.20406925, -1.51027064, -1.07623042,\n",
       "       -1.10481356, -1.06450586, -0.97921032, -1.22316708, -1.21363597,\n",
       "       -1.09086785, -1.02691293, -2.16232562, -2.06763963, -1.3894219 ,\n",
       "       -1.05175774, -1.03086142, -1.19355725, -1.05563617, -1.25875162,\n",
       "       -1.3852131 , -1.0044797 , -1.06450586, -1.04321323, -1.03286251,\n",
       "       -1.3602025 , -1.01311369, -0.97825241, -1.26028648, -1.19521454,\n",
       "       -1.25237117, -1.3209087 , -1.12777658, -1.02057978, -0.94465548,\n",
       "       -1.14433453, -1.01307165, -1.0007136 , -1.12561594, -1.32395749,\n",
       "       -0.92935693, -1.0474104 , -0.97364022, -1.32879868, -1.07492544,\n",
       "       -1.01248176, -1.18560252, -1.18938364, -1.17082161, -1.05374522,\n",
       "       -1.1625756 , -1.00822016, -1.26370502, -0.96536425, -1.11453265,\n",
       "       -0.95765832, -1.09246118, -1.34022899, -1.56399128, -1.28244919,\n",
       "       -1.04086462, -0.99209184, -1.27507589, -1.11925829, -0.99316905,\n",
       "       -1.40844431, -1.02713308, -1.15790886, -1.08713708, -1.01552416,\n",
       "       -1.03877779, -1.04185377, -1.01323808, -1.16744919, -1.01607049,\n",
       "       -1.15707194, -1.04319721, -1.43829598, -1.05526336, -1.30339389,\n",
       "       -1.28586538, -1.31676126, -1.05908736, -0.96735061, -0.97238983,\n",
       "       -1.02793348, -0.97869312, -1.14446326, -1.79400261, -1.04416917,\n",
       "       -1.13322563, -1.03816757, -1.09483979, -1.22807387, -1.06979854,\n",
       "       -1.17111798, -1.29061703, -1.03176571, -1.01518716, -1.0383606 ,\n",
       "       -1.13213329, -0.9640094 , -1.13581804, -1.12099902, -1.15053876,\n",
       "       -1.07602983, -1.0860971 , -1.13686246, -0.96703621, -1.04034136,\n",
       "       -1.17366652, -1.0342769 , -1.14506476, -1.26026476, -1.79752878,\n",
       "       -0.95779028, -1.01868993, -1.01905674, -0.98703012, -1.0091941 ,\n",
       "       -1.00490228, -1.01913718, -1.22100883, -1.54958236, -0.89017053,\n",
       "       -1.12037873, -1.12404549, -1.05656786, -0.96377961, -1.53162103,\n",
       "       -1.21336784, -1.17877179, -1.14855191, -1.1114474 , -0.99873308,\n",
       "       -1.12592409, -1.40967262, -1.02401497, -0.99846493, -1.00743597,\n",
       "       -1.02921639, -0.97239958, -0.91364653, -1.16416411, -0.9695804 ,\n",
       "       -1.05146346, -1.04930885, -1.24880645, -1.20389344, -1.26547513,\n",
       "       -0.96567918, -1.38256934, -1.14191696, -1.01598557, -1.34983637,\n",
       "       -1.04415522, -1.03177891, -1.00879348, -1.03048236, -1.13595122,\n",
       "       -0.99494285, -0.92701908, -1.00252509, -0.98839098, -1.03650912,\n",
       "       -1.04003097, -1.1033271 , -1.06095167, -1.17234821, -0.99104295,\n",
       "       -1.01740554, -0.96458662, -1.2966599 , -1.00425937, -0.98882234,\n",
       "       -1.1776263 , -1.00803768, -1.01775229, -1.27833005, -1.46282553,\n",
       "       -1.36177016, -1.14504659, -0.97869312, -1.00583215, -1.0152915 ,\n",
       "       -1.12470308, -1.06678802, -0.98972536, -1.65178911, -1.51155002,\n",
       "       -0.94783891, -1.46382235, -1.05298194, -1.18419636, -1.00154389,\n",
       "       -1.05446466, -1.11623939, -1.029147  , -1.40795011, -0.95158084,\n",
       "       -1.3948714 , -1.12945147, -1.06469971, -1.05278978, -1.19318312,\n",
       "       -1.02737793, -1.00728341, -1.14056582, -1.08349299, -1.07578077,\n",
       "       -1.10006408, -1.33377216, -1.42859297, -1.09566986, -1.74190491,\n",
       "       -1.03697165, -1.13059785, -1.16347438, -1.03770526, -1.12443176,\n",
       "       -1.1416915 , -1.23482026, -1.01659344, -0.97255044, -1.3315311 ,\n",
       "       -1.0818935 , -1.16114134, -0.97270093, -0.94612415, -1.00596668,\n",
       "       -1.06182998, -0.99514827, -1.34823306, -1.03584217, -0.92935693,\n",
       "       -0.98710975, -1.12799809, -1.1067812 , -1.01382568, -0.94037505,\n",
       "       -1.18256144, -1.32456379, -0.97153934, -1.77423976, -1.06141715,\n",
       "       -1.18978822, -0.97118566, -1.12289768, -1.07196434, -1.0213913 ,\n",
       "       -1.04451053, -1.4363495 , -0.91924743, -1.12619174, -1.02286651,\n",
       "       -1.19922824, -1.20829281, -1.04166983, -0.98254632, -1.22623159,\n",
       "       -1.29020336, -2.16232562, -1.04609327, -0.94045145, -1.06827253,\n",
       "       -1.32528926, -1.08950626, -1.07766346, -1.32555012, -1.18359568,\n",
       "       -1.03325901, -1.47507377, -0.98635792, -1.07621336, -1.07939123,\n",
       "       -1.0059072 , -1.07483   , -1.01286307, -1.03758817, -1.13524659,\n",
       "       -1.02691293, -0.94668564, -0.99777014, -1.0204098 , -1.29792428,\n",
       "       -1.25246448, -1.09751259, -1.03066023, -1.07242406, -2.21737314,\n",
       "       -0.9975185 , -1.72418918, -0.94633215, -1.12462382, -1.08405705,\n",
       "       -1.18475409, -1.01601675, -0.97622478, -0.96454525, -1.04760047,\n",
       "       -1.17442652, -1.00736523, -0.93474816, -1.1088092 , -1.44023043,\n",
       "       -1.44023043, -1.25292281, -1.19789247, -1.2244316 , -1.13554071,\n",
       "       -1.19712755, -1.12022637, -1.04055921, -0.99638463, -1.01188496,\n",
       "       -1.02654961, -1.08035746, -1.02736732, -1.46850754, -0.90984858,\n",
       "       -2.0435264 , -0.98176928, -1.08506613, -0.97632592, -1.04545383,\n",
       "       -1.14890544, -0.96925236, -1.14619459, -1.17028069, -1.11779105,\n",
       "       -1.02737793, -1.02506155, -1.07624456, -1.14525981, -0.97941721,\n",
       "       -0.98941945, -1.02917372, -1.18359568, -1.60469853, -1.46719197,\n",
       "       -0.99485043, -1.03871378, -1.04330442, -0.99520036, -1.22488764,\n",
       "       -1.07954784, -1.06122563, -1.11607441, -1.22457512, -1.12558596,\n",
       "       -1.15872485, -1.11527708, -0.89735138, -1.19409174, -1.10096998,\n",
       "       -1.23710794, -1.43845537, -1.16041233, -1.17116394, -1.01740928,\n",
       "       -1.16966827, -1.07708451, -1.31312135, -1.00325575, -1.34292437,\n",
       "       -1.25022578, -1.25245888, -1.18268847, -1.56959092])"
      ]
     },
     "execution_count": 28,
     "metadata": {},
     "output_type": "execute_result"
    }
   ],
   "source": [
    "clf.negative_outlier_factor_"
   ]
  },
  {
   "cell_type": "code",
   "execution_count": 29,
   "metadata": {},
   "outputs": [
    {
     "data": {
      "text/plain": [
       "(array([-1,  1]), array([ 35, 534]))"
      ]
     },
     "execution_count": 29,
     "metadata": {},
     "output_type": "execute_result"
    }
   ],
   "source": [
    "np.unique(outliers, return_counts=True)"
   ]
  },
  {
   "cell_type": "code",
   "execution_count": 30,
   "metadata": {
    "scrolled": true
   },
   "outputs": [
    {
     "data": {
      "image/png": "[encoded data removed]",
      "text/plain": [
       "<Figure size 432x288 with 1 Axes>"
      ]
     },
     "metadata": {
      "needs_background": "light"
     },
     "output_type": "display_data"
    }
   ],
   "source": [
    "plt.hist(clf.negative_outlier_factor_, bins=20)\n",
    "plt.axvline(np.min(clf.negative_outlier_factor_[np.where(outliers==1)]), c='k')\n",
    "plt.show()"
   ]
  },
  {
   "cell_type": "code",
   "execution_count": 31,
   "metadata": {},
   "outputs": [
    {
     "data": {
      "image/png": "[encoded data removed]",
      "text/plain": [
       "<Figure size 432x288 with 1 Axes>"
      ]
     },
     "metadata": {
      "needs_background": "light"
     },
     "output_type": "display_data"
    }
   ],
   "source": [
    "np.random.seed(42)\n",
    "\n",
    "# Generate train data\n",
    "X_inliers = 0.3 * np.random.randn(100, 2)\n",
    "X_inliers = np.r_[X_inliers + 2, X_inliers - 2]\n",
    "\n",
    "# Generate some outliers\n",
    "X_outliers = np.random.uniform(low=-4, high=4, size=(20, 2))\n",
    "Xa = np.r_[X_inliers, X_outliers]\n",
    "\n",
    "n_outliers = len(X_outliers)\n",
    "ground_truth = np.ones(len(Xa), dtype=int)\n",
    "ground_truth[-n_outliers:] = -1\n",
    "\n",
    "# fit the model for outlier detection (default)\n",
    "clf = LocalOutlierFactor(n_neighbors=3, contamination=0.01)\n",
    "# use fit_predict to compute the predicted labels of the training samples\n",
    "# (when LOF is used for outlier detection, the estimator has no predict,\n",
    "# decision_function and score_samples methods).\n",
    "y_pred = clf.fit_predict(Xa)\n",
    "n_errors = (y_pred != ground_truth).sum()\n",
    "X_scores = clf.negative_outlier_factor_\n",
    "\n",
    "plt.title(\"Local Outlier Factor (LOF)\")\n",
    "plt.scatter(Xa[:, 0], Xa[:, 1], color='k', s=3., label='Data points')\n",
    "# plot circles with radius proportional to the outlier scores\n",
    "radius = (X_scores.max() - X_scores) / (X_scores.max() - X_scores.min())\n",
    "plt.scatter(Xa[:, 0], Xa[:, 1], s=1000 * radius, edgecolors='r',\n",
    "            facecolors='none', label='Outlier scores')\n",
    "plt.axis('tight')\n",
    "plt.xlim((-5, 5))\n",
    "plt.ylim((-5, 5))\n",
    "plt.xlabel(\"prediction errors: %d\" % (n_errors))\n",
    "legend = plt.legend(loc='upper left')\n",
    "legend.legendHandles[0]._sizes = [10]\n",
    "legend.legendHandles[1]._sizes = [20]\n",
    "plt.show()"
   ]
  },
  {
   "cell_type": "code",
   "execution_count": 32,
   "metadata": {},
   "outputs": [],
   "source": [
    "from pyod.models.lof import LOF"
   ]
  },
  {
   "cell_type": "code",
   "execution_count": 33,
   "metadata": {},
   "outputs": [
    {
     "data": {
      "text/plain": [
       "LOF(algorithm='auto', contamination=0.1, leaf_size=30, metric='minkowski',\n",
       "  metric_params=None, n_jobs=1, n_neighbors=20, novelty=True, p=2)"
      ]
     },
     "execution_count": 33,
     "metadata": {},
     "output_type": "execute_result"
    }
   ],
   "source": [
    "clf = LOF()\n",
    "clf.fit(X)"
   ]
  },
  {
   "cell_type": "code",
   "execution_count": 34,
   "metadata": {},
   "outputs": [
    {
     "data": {
      "text/plain": [
       "(array([0, 1]), array([519,  50]))"
      ]
     },
     "execution_count": 34,
     "metadata": {},
     "output_type": "execute_result"
    }
   ],
   "source": [
    "outliers = clf.predict(X)\n",
    "np.unique(outliers, return_counts=True)"
   ]
  },
  {
   "cell_type": "code",
   "execution_count": 35,
   "metadata": {},
   "outputs": [
    {
     "data": {
      "image/png": "[encoded data removed]",
      "text/plain": [
       "<Figure size 432x288 with 1 Axes>"
      ]
     },
     "metadata": {
      "needs_background": "light"
     },
     "output_type": "display_data"
    }
   ],
   "source": [
    "plt.hist(clf.decision_scores_, bins=20)\n",
    "plt.axvline(np.min(clf.decision_scores_[np.where(outliers==1)]), c='k')\n",
    "plt.show()"
   ]
  },
  {
   "cell_type": "markdown",
   "metadata": {},
   "source": [
    "# COF"
   ]
  },
  {
   "cell_type": "code",
   "execution_count": 36,
   "metadata": {},
   "outputs": [],
   "source": [
    "from pyod.models.cof import COF"
   ]
  },
  {
   "cell_type": "code",
   "execution_count": 37,
   "metadata": {},
   "outputs": [
    {
     "data": {
      "text/plain": [
       "COF(contamination=0.1, method='fast', n_neighbors=None)"
      ]
     },
     "execution_count": 37,
     "metadata": {},
     "output_type": "execute_result"
    }
   ],
   "source": [
    "clf = COF()\n",
    "clf.fit(X)"
   ]
  },
  {
   "cell_type": "code",
   "execution_count": 38,
   "metadata": {},
   "outputs": [
    {
     "data": {
      "text/plain": [
       "(array([0, 1]), array([512,  57]))"
      ]
     },
     "execution_count": 38,
     "metadata": {},
     "output_type": "execute_result"
    }
   ],
   "source": [
    "outliers = clf.predict(X)\n",
    "np.unique(outliers, return_counts=True)"
   ]
  },
  {
   "cell_type": "code",
   "execution_count": 39,
   "metadata": {},
   "outputs": [
    {
     "data": {
      "image/png": "[encoded data removed]",
      "text/plain": [
       "<Figure size 432x288 with 1 Axes>"
      ]
     },
     "metadata": {
      "needs_background": "light"
     },
     "output_type": "display_data"
    }
   ],
   "source": [
    "plt.hist(clf.decision_scores_, bins=20)\n",
    "plt.axvline(np.min(clf.decision_scores_[np.where(outliers==1)]), c='k')\n",
    "plt.show()"
   ]
  },
  {
   "cell_type": "markdown",
   "metadata": {},
   "source": [
    "# DBSCAN"
   ]
  },
  {
   "cell_type": "code",
   "execution_count": 40,
   "metadata": {},
   "outputs": [],
   "source": [
    "from sklearn.cluster import DBSCAN"
   ]
  },
  {
   "cell_type": "code",
   "execution_count": 41,
   "metadata": {},
   "outputs": [
    {
     "data": {
      "text/plain": [
       "DBSCAN(eps=5, min_samples=10)"
      ]
     },
     "execution_count": 41,
     "metadata": {},
     "output_type": "execute_result"
    }
   ],
   "source": [
    "dbscan = DBSCAN(eps=5, min_samples=10)\n",
    "dbscan.fit(X)"
   ]
  },
  {
   "cell_type": "code",
   "execution_count": 42,
   "metadata": {},
   "outputs": [
    {
     "data": {
      "text/plain": [
       "(array([-1,  0]), array([ 24, 545]))"
      ]
     },
     "execution_count": 42,
     "metadata": {},
     "output_type": "execute_result"
    }
   ],
   "source": [
    "np.unique(dbscan.labels_, return_counts=True)"
   ]
  },
  {
   "cell_type": "code",
   "execution_count": 43,
   "metadata": {
    "scrolled": true
   },
   "outputs": [
    {
     "data": {
      "text/html": [
       "<div>\n",
       "<style scoped>\n",
       "    .dataframe tbody tr th:only-of-type {\n",
       "        vertical-align: middle;\n",
       "    }\n",
       "\n",
       "    .dataframe tbody tr th {\n",
       "        vertical-align: top;\n",
       "    }\n",
       "\n",
       "    .dataframe thead th {\n",
       "        text-align: right;\n",
       "    }\n",
       "</style>\n",
       "<table border=\"1\" class=\"dataframe\">\n",
       "  <thead>\n",
       "    <tr style=\"text-align: right;\">\n",
       "      <th></th>\n",
       "      <th>mean radius</th>\n",
       "      <th>mean texture</th>\n",
       "      <th>mean perimeter</th>\n",
       "      <th>mean area</th>\n",
       "      <th>mean smoothness</th>\n",
       "      <th>mean compactness</th>\n",
       "      <th>mean concavity</th>\n",
       "      <th>mean concave points</th>\n",
       "      <th>mean symmetry</th>\n",
       "      <th>mean fractal dimension</th>\n",
       "      <th>...</th>\n",
       "      <th>worst radius</th>\n",
       "      <th>worst texture</th>\n",
       "      <th>worst perimeter</th>\n",
       "      <th>worst area</th>\n",
       "      <th>worst smoothness</th>\n",
       "      <th>worst compactness</th>\n",
       "      <th>worst concavity</th>\n",
       "      <th>worst concave points</th>\n",
       "      <th>worst symmetry</th>\n",
       "      <th>worst fractal dimension</th>\n",
       "    </tr>\n",
       "  </thead>\n",
       "  <tbody>\n",
       "    <tr>\n",
       "      <th>3</th>\n",
       "      <td>11.420</td>\n",
       "      <td>20.38</td>\n",
       "      <td>77.58</td>\n",
       "      <td>386.1</td>\n",
       "      <td>0.14250</td>\n",
       "      <td>0.28390</td>\n",
       "      <td>0.24140</td>\n",
       "      <td>0.10520</td>\n",
       "      <td>0.2597</td>\n",
       "      <td>0.09744</td>\n",
       "      <td>...</td>\n",
       "      <td>14.910</td>\n",
       "      <td>26.50</td>\n",
       "      <td>98.87</td>\n",
       "      <td>567.7</td>\n",
       "      <td>0.20980</td>\n",
       "      <td>0.86630</td>\n",
       "      <td>0.6869</td>\n",
       "      <td>0.25750</td>\n",
       "      <td>0.6638</td>\n",
       "      <td>0.17300</td>\n",
       "    </tr>\n",
       "    <tr>\n",
       "      <th>9</th>\n",
       "      <td>12.460</td>\n",
       "      <td>24.04</td>\n",
       "      <td>83.97</td>\n",
       "      <td>475.9</td>\n",
       "      <td>0.11860</td>\n",
       "      <td>0.23960</td>\n",
       "      <td>0.22730</td>\n",
       "      <td>0.08543</td>\n",
       "      <td>0.2030</td>\n",
       "      <td>0.08243</td>\n",
       "      <td>...</td>\n",
       "      <td>15.090</td>\n",
       "      <td>40.68</td>\n",
       "      <td>97.65</td>\n",
       "      <td>711.4</td>\n",
       "      <td>0.18530</td>\n",
       "      <td>1.05800</td>\n",
       "      <td>1.1050</td>\n",
       "      <td>0.22100</td>\n",
       "      <td>0.4366</td>\n",
       "      <td>0.20750</td>\n",
       "    </tr>\n",
       "    <tr>\n",
       "      <th>12</th>\n",
       "      <td>19.170</td>\n",
       "      <td>24.80</td>\n",
       "      <td>132.40</td>\n",
       "      <td>1123.0</td>\n",
       "      <td>0.09740</td>\n",
       "      <td>0.24580</td>\n",
       "      <td>0.20650</td>\n",
       "      <td>0.11180</td>\n",
       "      <td>0.2397</td>\n",
       "      <td>0.07800</td>\n",
       "      <td>...</td>\n",
       "      <td>20.960</td>\n",
       "      <td>29.94</td>\n",
       "      <td>151.70</td>\n",
       "      <td>1332.0</td>\n",
       "      <td>0.10370</td>\n",
       "      <td>0.39030</td>\n",
       "      <td>0.3639</td>\n",
       "      <td>0.17670</td>\n",
       "      <td>0.3176</td>\n",
       "      <td>0.10230</td>\n",
       "    </tr>\n",
       "    <tr>\n",
       "      <th>42</th>\n",
       "      <td>19.070</td>\n",
       "      <td>24.81</td>\n",
       "      <td>128.30</td>\n",
       "      <td>1104.0</td>\n",
       "      <td>0.09081</td>\n",
       "      <td>0.21900</td>\n",
       "      <td>0.21070</td>\n",
       "      <td>0.09961</td>\n",
       "      <td>0.2310</td>\n",
       "      <td>0.06343</td>\n",
       "      <td>...</td>\n",
       "      <td>24.090</td>\n",
       "      <td>33.17</td>\n",
       "      <td>177.40</td>\n",
       "      <td>1651.0</td>\n",
       "      <td>0.12470</td>\n",
       "      <td>0.74440</td>\n",
       "      <td>0.7242</td>\n",
       "      <td>0.24930</td>\n",
       "      <td>0.4670</td>\n",
       "      <td>0.10380</td>\n",
       "    </tr>\n",
       "    <tr>\n",
       "      <th>68</th>\n",
       "      <td>9.029</td>\n",
       "      <td>17.33</td>\n",
       "      <td>58.79</td>\n",
       "      <td>250.5</td>\n",
       "      <td>0.10660</td>\n",
       "      <td>0.14130</td>\n",
       "      <td>0.31300</td>\n",
       "      <td>0.04375</td>\n",
       "      <td>0.2111</td>\n",
       "      <td>0.08046</td>\n",
       "      <td>...</td>\n",
       "      <td>10.310</td>\n",
       "      <td>22.65</td>\n",
       "      <td>65.50</td>\n",
       "      <td>324.7</td>\n",
       "      <td>0.14820</td>\n",
       "      <td>0.43650</td>\n",
       "      <td>1.2520</td>\n",
       "      <td>0.17500</td>\n",
       "      <td>0.4228</td>\n",
       "      <td>0.11750</td>\n",
       "    </tr>\n",
       "    <tr>\n",
       "      <th>71</th>\n",
       "      <td>8.888</td>\n",
       "      <td>14.64</td>\n",
       "      <td>58.79</td>\n",
       "      <td>244.0</td>\n",
       "      <td>0.09783</td>\n",
       "      <td>0.15310</td>\n",
       "      <td>0.08606</td>\n",
       "      <td>0.02872</td>\n",
       "      <td>0.1902</td>\n",
       "      <td>0.08980</td>\n",
       "      <td>...</td>\n",
       "      <td>9.733</td>\n",
       "      <td>15.67</td>\n",
       "      <td>62.56</td>\n",
       "      <td>284.4</td>\n",
       "      <td>0.12070</td>\n",
       "      <td>0.24360</td>\n",
       "      <td>0.1434</td>\n",
       "      <td>0.04786</td>\n",
       "      <td>0.2254</td>\n",
       "      <td>0.10840</td>\n",
       "    </tr>\n",
       "    <tr>\n",
       "      <th>78</th>\n",
       "      <td>20.180</td>\n",
       "      <td>23.97</td>\n",
       "      <td>143.70</td>\n",
       "      <td>1245.0</td>\n",
       "      <td>0.12860</td>\n",
       "      <td>0.34540</td>\n",
       "      <td>0.37540</td>\n",
       "      <td>0.16040</td>\n",
       "      <td>0.2906</td>\n",
       "      <td>0.08142</td>\n",
       "      <td>...</td>\n",
       "      <td>23.370</td>\n",
       "      <td>31.72</td>\n",
       "      <td>170.30</td>\n",
       "      <td>1623.0</td>\n",
       "      <td>0.16390</td>\n",
       "      <td>0.61640</td>\n",
       "      <td>0.7681</td>\n",
       "      <td>0.25080</td>\n",
       "      <td>0.5440</td>\n",
       "      <td>0.09964</td>\n",
       "    </tr>\n",
       "    <tr>\n",
       "      <th>83</th>\n",
       "      <td>19.100</td>\n",
       "      <td>26.29</td>\n",
       "      <td>129.10</td>\n",
       "      <td>1132.0</td>\n",
       "      <td>0.12150</td>\n",
       "      <td>0.17910</td>\n",
       "      <td>0.19370</td>\n",
       "      <td>0.14690</td>\n",
       "      <td>0.1634</td>\n",
       "      <td>0.07224</td>\n",
       "      <td>...</td>\n",
       "      <td>20.330</td>\n",
       "      <td>32.72</td>\n",
       "      <td>141.30</td>\n",
       "      <td>1298.0</td>\n",
       "      <td>0.13920</td>\n",
       "      <td>0.28170</td>\n",
       "      <td>0.2432</td>\n",
       "      <td>0.18410</td>\n",
       "      <td>0.2311</td>\n",
       "      <td>0.09203</td>\n",
       "    </tr>\n",
       "    <tr>\n",
       "      <th>108</th>\n",
       "      <td>22.270</td>\n",
       "      <td>19.67</td>\n",
       "      <td>152.80</td>\n",
       "      <td>1509.0</td>\n",
       "      <td>0.13260</td>\n",
       "      <td>0.27680</td>\n",
       "      <td>0.42640</td>\n",
       "      <td>0.18230</td>\n",
       "      <td>0.2556</td>\n",
       "      <td>0.07039</td>\n",
       "      <td>...</td>\n",
       "      <td>28.400</td>\n",
       "      <td>28.01</td>\n",
       "      <td>206.80</td>\n",
       "      <td>2360.0</td>\n",
       "      <td>0.17010</td>\n",
       "      <td>0.69970</td>\n",
       "      <td>0.9608</td>\n",
       "      <td>0.29100</td>\n",
       "      <td>0.4055</td>\n",
       "      <td>0.09789</td>\n",
       "    </tr>\n",
       "    <tr>\n",
       "      <th>122</th>\n",
       "      <td>24.250</td>\n",
       "      <td>20.20</td>\n",
       "      <td>166.20</td>\n",
       "      <td>1761.0</td>\n",
       "      <td>0.14470</td>\n",
       "      <td>0.28670</td>\n",
       "      <td>0.42680</td>\n",
       "      <td>0.20120</td>\n",
       "      <td>0.2655</td>\n",
       "      <td>0.06877</td>\n",
       "      <td>...</td>\n",
       "      <td>26.020</td>\n",
       "      <td>23.99</td>\n",
       "      <td>180.90</td>\n",
       "      <td>2073.0</td>\n",
       "      <td>0.16960</td>\n",
       "      <td>0.42440</td>\n",
       "      <td>0.5803</td>\n",
       "      <td>0.22480</td>\n",
       "      <td>0.3222</td>\n",
       "      <td>0.08009</td>\n",
       "    </tr>\n",
       "    <tr>\n",
       "      <th>138</th>\n",
       "      <td>14.950</td>\n",
       "      <td>17.57</td>\n",
       "      <td>96.85</td>\n",
       "      <td>678.1</td>\n",
       "      <td>0.11670</td>\n",
       "      <td>0.13050</td>\n",
       "      <td>0.15390</td>\n",
       "      <td>0.08624</td>\n",
       "      <td>0.1957</td>\n",
       "      <td>0.06216</td>\n",
       "      <td>...</td>\n",
       "      <td>18.550</td>\n",
       "      <td>21.43</td>\n",
       "      <td>121.40</td>\n",
       "      <td>971.4</td>\n",
       "      <td>0.14110</td>\n",
       "      <td>0.21640</td>\n",
       "      <td>0.3355</td>\n",
       "      <td>0.16670</td>\n",
       "      <td>0.3414</td>\n",
       "      <td>0.07147</td>\n",
       "    </tr>\n",
       "    <tr>\n",
       "      <th>152</th>\n",
       "      <td>9.731</td>\n",
       "      <td>15.34</td>\n",
       "      <td>63.78</td>\n",
       "      <td>300.2</td>\n",
       "      <td>0.10720</td>\n",
       "      <td>0.15990</td>\n",
       "      <td>0.41080</td>\n",
       "      <td>0.07857</td>\n",
       "      <td>0.2548</td>\n",
       "      <td>0.09296</td>\n",
       "      <td>...</td>\n",
       "      <td>11.020</td>\n",
       "      <td>19.49</td>\n",
       "      <td>71.04</td>\n",
       "      <td>380.5</td>\n",
       "      <td>0.12920</td>\n",
       "      <td>0.27720</td>\n",
       "      <td>0.8216</td>\n",
       "      <td>0.15710</td>\n",
       "      <td>0.3108</td>\n",
       "      <td>0.12590</td>\n",
       "    </tr>\n",
       "    <tr>\n",
       "      <th>176</th>\n",
       "      <td>9.904</td>\n",
       "      <td>18.06</td>\n",
       "      <td>64.60</td>\n",
       "      <td>302.4</td>\n",
       "      <td>0.09699</td>\n",
       "      <td>0.12940</td>\n",
       "      <td>0.13070</td>\n",
       "      <td>0.03716</td>\n",
       "      <td>0.1669</td>\n",
       "      <td>0.08116</td>\n",
       "      <td>...</td>\n",
       "      <td>11.260</td>\n",
       "      <td>24.39</td>\n",
       "      <td>73.07</td>\n",
       "      <td>390.2</td>\n",
       "      <td>0.13010</td>\n",
       "      <td>0.29500</td>\n",
       "      <td>0.3486</td>\n",
       "      <td>0.09910</td>\n",
       "      <td>0.2614</td>\n",
       "      <td>0.11620</td>\n",
       "    </tr>\n",
       "    <tr>\n",
       "      <th>190</th>\n",
       "      <td>14.220</td>\n",
       "      <td>23.12</td>\n",
       "      <td>94.37</td>\n",
       "      <td>609.9</td>\n",
       "      <td>0.10750</td>\n",
       "      <td>0.24130</td>\n",
       "      <td>0.19810</td>\n",
       "      <td>0.06618</td>\n",
       "      <td>0.2384</td>\n",
       "      <td>0.07542</td>\n",
       "      <td>...</td>\n",
       "      <td>15.740</td>\n",
       "      <td>37.18</td>\n",
       "      <td>106.40</td>\n",
       "      <td>762.4</td>\n",
       "      <td>0.15330</td>\n",
       "      <td>0.93270</td>\n",
       "      <td>0.8488</td>\n",
       "      <td>0.17720</td>\n",
       "      <td>0.5166</td>\n",
       "      <td>0.14460</td>\n",
       "    </tr>\n",
       "    <tr>\n",
       "      <th>192</th>\n",
       "      <td>9.720</td>\n",
       "      <td>18.22</td>\n",
       "      <td>60.73</td>\n",
       "      <td>288.1</td>\n",
       "      <td>0.06950</td>\n",
       "      <td>0.02344</td>\n",
       "      <td>0.00000</td>\n",
       "      <td>0.00000</td>\n",
       "      <td>0.1653</td>\n",
       "      <td>0.06447</td>\n",
       "      <td>...</td>\n",
       "      <td>9.968</td>\n",
       "      <td>20.83</td>\n",
       "      <td>62.25</td>\n",
       "      <td>303.8</td>\n",
       "      <td>0.07117</td>\n",
       "      <td>0.02729</td>\n",
       "      <td>0.0000</td>\n",
       "      <td>0.00000</td>\n",
       "      <td>0.1909</td>\n",
       "      <td>0.06559</td>\n",
       "    </tr>\n",
       "    <tr>\n",
       "      <th>212</th>\n",
       "      <td>28.110</td>\n",
       "      <td>18.47</td>\n",
       "      <td>188.50</td>\n",
       "      <td>2499.0</td>\n",
       "      <td>0.11420</td>\n",
       "      <td>0.15160</td>\n",
       "      <td>0.32010</td>\n",
       "      <td>0.15950</td>\n",
       "      <td>0.1648</td>\n",
       "      <td>0.05525</td>\n",
       "      <td>...</td>\n",
       "      <td>28.110</td>\n",
       "      <td>18.47</td>\n",
       "      <td>188.50</td>\n",
       "      <td>2499.0</td>\n",
       "      <td>0.11420</td>\n",
       "      <td>0.15160</td>\n",
       "      <td>0.3201</td>\n",
       "      <td>0.15950</td>\n",
       "      <td>0.1648</td>\n",
       "      <td>0.05525</td>\n",
       "    </tr>\n",
       "    <tr>\n",
       "      <th>213</th>\n",
       "      <td>17.420</td>\n",
       "      <td>25.56</td>\n",
       "      <td>114.50</td>\n",
       "      <td>948.0</td>\n",
       "      <td>0.10060</td>\n",
       "      <td>0.11460</td>\n",
       "      <td>0.16820</td>\n",
       "      <td>0.06597</td>\n",
       "      <td>0.1308</td>\n",
       "      <td>0.05866</td>\n",
       "      <td>...</td>\n",
       "      <td>18.070</td>\n",
       "      <td>28.07</td>\n",
       "      <td>120.40</td>\n",
       "      <td>1021.0</td>\n",
       "      <td>0.12430</td>\n",
       "      <td>0.17930</td>\n",
       "      <td>0.2803</td>\n",
       "      <td>0.10990</td>\n",
       "      <td>0.1603</td>\n",
       "      <td>0.06818</td>\n",
       "    </tr>\n",
       "    <tr>\n",
       "      <th>258</th>\n",
       "      <td>15.660</td>\n",
       "      <td>23.20</td>\n",
       "      <td>110.20</td>\n",
       "      <td>773.5</td>\n",
       "      <td>0.11090</td>\n",
       "      <td>0.31140</td>\n",
       "      <td>0.31760</td>\n",
       "      <td>0.13770</td>\n",
       "      <td>0.2495</td>\n",
       "      <td>0.08104</td>\n",
       "      <td>...</td>\n",
       "      <td>19.850</td>\n",
       "      <td>31.64</td>\n",
       "      <td>143.70</td>\n",
       "      <td>1226.0</td>\n",
       "      <td>0.15040</td>\n",
       "      <td>0.51720</td>\n",
       "      <td>0.6181</td>\n",
       "      <td>0.24620</td>\n",
       "      <td>0.3277</td>\n",
       "      <td>0.10190</td>\n",
       "    </tr>\n",
       "    <tr>\n",
       "      <th>288</th>\n",
       "      <td>11.260</td>\n",
       "      <td>19.96</td>\n",
       "      <td>73.72</td>\n",
       "      <td>394.1</td>\n",
       "      <td>0.08020</td>\n",
       "      <td>0.11810</td>\n",
       "      <td>0.09274</td>\n",
       "      <td>0.05588</td>\n",
       "      <td>0.2595</td>\n",
       "      <td>0.06233</td>\n",
       "      <td>...</td>\n",
       "      <td>11.860</td>\n",
       "      <td>22.33</td>\n",
       "      <td>78.27</td>\n",
       "      <td>437.6</td>\n",
       "      <td>0.10280</td>\n",
       "      <td>0.18430</td>\n",
       "      <td>0.1546</td>\n",
       "      <td>0.09314</td>\n",
       "      <td>0.2955</td>\n",
       "      <td>0.07009</td>\n",
       "    </tr>\n",
       "    <tr>\n",
       "      <th>290</th>\n",
       "      <td>14.410</td>\n",
       "      <td>19.73</td>\n",
       "      <td>96.03</td>\n",
       "      <td>651.0</td>\n",
       "      <td>0.08757</td>\n",
       "      <td>0.16760</td>\n",
       "      <td>0.13620</td>\n",
       "      <td>0.06602</td>\n",
       "      <td>0.1714</td>\n",
       "      <td>0.07192</td>\n",
       "      <td>...</td>\n",
       "      <td>15.770</td>\n",
       "      <td>22.13</td>\n",
       "      <td>101.70</td>\n",
       "      <td>767.3</td>\n",
       "      <td>0.09983</td>\n",
       "      <td>0.24720</td>\n",
       "      <td>0.2220</td>\n",
       "      <td>0.10210</td>\n",
       "      <td>0.2272</td>\n",
       "      <td>0.08799</td>\n",
       "    </tr>\n",
       "    <tr>\n",
       "      <th>314</th>\n",
       "      <td>8.597</td>\n",
       "      <td>18.60</td>\n",
       "      <td>54.09</td>\n",
       "      <td>221.2</td>\n",
       "      <td>0.10740</td>\n",
       "      <td>0.05847</td>\n",
       "      <td>0.00000</td>\n",
       "      <td>0.00000</td>\n",
       "      <td>0.2163</td>\n",
       "      <td>0.07359</td>\n",
       "      <td>...</td>\n",
       "      <td>8.952</td>\n",
       "      <td>22.44</td>\n",
       "      <td>56.65</td>\n",
       "      <td>240.1</td>\n",
       "      <td>0.13470</td>\n",
       "      <td>0.07767</td>\n",
       "      <td>0.0000</td>\n",
       "      <td>0.00000</td>\n",
       "      <td>0.3142</td>\n",
       "      <td>0.08116</td>\n",
       "    </tr>\n",
       "    <tr>\n",
       "      <th>461</th>\n",
       "      <td>27.420</td>\n",
       "      <td>26.27</td>\n",
       "      <td>186.90</td>\n",
       "      <td>2501.0</td>\n",
       "      <td>0.10840</td>\n",
       "      <td>0.19880</td>\n",
       "      <td>0.36350</td>\n",
       "      <td>0.16890</td>\n",
       "      <td>0.2061</td>\n",
       "      <td>0.05623</td>\n",
       "      <td>...</td>\n",
       "      <td>36.040</td>\n",
       "      <td>31.37</td>\n",
       "      <td>251.20</td>\n",
       "      <td>4254.0</td>\n",
       "      <td>0.13570</td>\n",
       "      <td>0.42560</td>\n",
       "      <td>0.6833</td>\n",
       "      <td>0.26250</td>\n",
       "      <td>0.2641</td>\n",
       "      <td>0.07427</td>\n",
       "    </tr>\n",
       "    <tr>\n",
       "      <th>504</th>\n",
       "      <td>9.268</td>\n",
       "      <td>12.87</td>\n",
       "      <td>61.49</td>\n",
       "      <td>248.7</td>\n",
       "      <td>0.16340</td>\n",
       "      <td>0.22390</td>\n",
       "      <td>0.09730</td>\n",
       "      <td>0.05252</td>\n",
       "      <td>0.2378</td>\n",
       "      <td>0.09502</td>\n",
       "      <td>...</td>\n",
       "      <td>10.280</td>\n",
       "      <td>16.38</td>\n",
       "      <td>69.05</td>\n",
       "      <td>300.2</td>\n",
       "      <td>0.19020</td>\n",
       "      <td>0.34410</td>\n",
       "      <td>0.2099</td>\n",
       "      <td>0.10250</td>\n",
       "      <td>0.3038</td>\n",
       "      <td>0.12520</td>\n",
       "    </tr>\n",
       "    <tr>\n",
       "      <th>505</th>\n",
       "      <td>9.676</td>\n",
       "      <td>13.14</td>\n",
       "      <td>64.12</td>\n",
       "      <td>272.5</td>\n",
       "      <td>0.12550</td>\n",
       "      <td>0.22040</td>\n",
       "      <td>0.11880</td>\n",
       "      <td>0.07038</td>\n",
       "      <td>0.2057</td>\n",
       "      <td>0.09575</td>\n",
       "      <td>...</td>\n",
       "      <td>10.600</td>\n",
       "      <td>18.04</td>\n",
       "      <td>69.47</td>\n",
       "      <td>328.1</td>\n",
       "      <td>0.20060</td>\n",
       "      <td>0.36630</td>\n",
       "      <td>0.2913</td>\n",
       "      <td>0.10750</td>\n",
       "      <td>0.2848</td>\n",
       "      <td>0.13640</td>\n",
       "    </tr>\n",
       "  </tbody>\n",
       "</table>\n",
       "<p>24 rows × 30 columns</p>\n",
       "</div>"
      ],
      "text/plain": [
       "     mean radius  mean texture  mean perimeter  mean area  mean smoothness  \\\n",
       "3         11.420         20.38           77.58      386.1          0.14250   \n",
       "9         12.460         24.04           83.97      475.9          0.11860   \n",
       "12        19.170         24.80          132.40     1123.0          0.09740   \n",
       "42        19.070         24.81          128.30     1104.0          0.09081   \n",
       "68         9.029         17.33           58.79      250.5          0.10660   \n",
       "71         8.888         14.64           58.79      244.0          0.09783   \n",
       "78        20.180         23.97          143.70     1245.0          0.12860   \n",
       "83        19.100         26.29          129.10     1132.0          0.12150   \n",
       "108       22.270         19.67          152.80     1509.0          0.13260   \n",
       "122       24.250         20.20          166.20     1761.0          0.14470   \n",
       "138       14.950         17.57           96.85      678.1          0.11670   \n",
       "152        9.731         15.34           63.78      300.2          0.10720   \n",
       "176        9.904         18.06           64.60      302.4          0.09699   \n",
       "190       14.220         23.12           94.37      609.9          0.10750   \n",
       "192        9.720         18.22           60.73      288.1          0.06950   \n",
       "212       28.110         18.47          188.50     2499.0          0.11420   \n",
       "213       17.420         25.56          114.50      948.0          0.10060   \n",
       "258       15.660         23.20          110.20      773.5          0.11090   \n",
       "288       11.260         19.96           73.72      394.1          0.08020   \n",
       "290       14.410         19.73           96.03      651.0          0.08757   \n",
       "314        8.597         18.60           54.09      221.2          0.10740   \n",
       "461       27.420         26.27          186.90     2501.0          0.10840   \n",
       "504        9.268         12.87           61.49      248.7          0.16340   \n",
       "505        9.676         13.14           64.12      272.5          0.12550   \n",
       "\n",
       "     mean compactness  mean concavity  mean concave points  mean symmetry  \\\n",
       "3             0.28390         0.24140              0.10520         0.2597   \n",
       "9             0.23960         0.22730              0.08543         0.2030   \n",
       "12            0.24580         0.20650              0.11180         0.2397   \n",
       "42            0.21900         0.21070              0.09961         0.2310   \n",
       "68            0.14130         0.31300              0.04375         0.2111   \n",
       "71            0.15310         0.08606              0.02872         0.1902   \n",
       "78            0.34540         0.37540              0.16040         0.2906   \n",
       "83            0.17910         0.19370              0.14690         0.1634   \n",
       "108           0.27680         0.42640              0.18230         0.2556   \n",
       "122           0.28670         0.42680              0.20120         0.2655   \n",
       "138           0.13050         0.15390              0.08624         0.1957   \n",
       "152           0.15990         0.41080              0.07857         0.2548   \n",
       "176           0.12940         0.13070              0.03716         0.1669   \n",
       "190           0.24130         0.19810              0.06618         0.2384   \n",
       "192           0.02344         0.00000              0.00000         0.1653   \n",
       "212           0.15160         0.32010              0.15950         0.1648   \n",
       "213           0.11460         0.16820              0.06597         0.1308   \n",
       "258           0.31140         0.31760              0.13770         0.2495   \n",
       "288           0.11810         0.09274              0.05588         0.2595   \n",
       "290           0.16760         0.13620              0.06602         0.1714   \n",
       "314           0.05847         0.00000              0.00000         0.2163   \n",
       "461           0.19880         0.36350              0.16890         0.2061   \n",
       "504           0.22390         0.09730              0.05252         0.2378   \n",
       "505           0.22040         0.11880              0.07038         0.2057   \n",
       "\n",
       "     mean fractal dimension  ...  worst radius  worst texture  \\\n",
       "3                   0.09744  ...        14.910          26.50   \n",
       "9                   0.08243  ...        15.090          40.68   \n",
       "12                  0.07800  ...        20.960          29.94   \n",
       "42                  0.06343  ...        24.090          33.17   \n",
       "68                  0.08046  ...        10.310          22.65   \n",
       "71                  0.08980  ...         9.733          15.67   \n",
       "78                  0.08142  ...        23.370          31.72   \n",
       "83                  0.07224  ...        20.330          32.72   \n",
       "108                 0.07039  ...        28.400          28.01   \n",
       "122                 0.06877  ...        26.020          23.99   \n",
       "138                 0.06216  ...        18.550          21.43   \n",
       "152                 0.09296  ...        11.020          19.49   \n",
       "176                 0.08116  ...        11.260          24.39   \n",
       "190                 0.07542  ...        15.740          37.18   \n",
       "192                 0.06447  ...         9.968          20.83   \n",
       "212                 0.05525  ...        28.110          18.47   \n",
       "213                 0.05866  ...        18.070          28.07   \n",
       "258                 0.08104  ...        19.850          31.64   \n",
       "288                 0.06233  ...        11.860          22.33   \n",
       "290                 0.07192  ...        15.770          22.13   \n",
       "314                 0.07359  ...         8.952          22.44   \n",
       "461                 0.05623  ...        36.040          31.37   \n",
       "504                 0.09502  ...        10.280          16.38   \n",
       "505                 0.09575  ...        10.600          18.04   \n",
       "\n",
       "     worst perimeter  worst area  worst smoothness  worst compactness  \\\n",
       "3              98.87       567.7           0.20980            0.86630   \n",
       "9              97.65       711.4           0.18530            1.05800   \n",
       "12            151.70      1332.0           0.10370            0.39030   \n",
       "42            177.40      1651.0           0.12470            0.74440   \n",
       "68             65.50       324.7           0.14820            0.43650   \n",
       "71             62.56       284.4           0.12070            0.24360   \n",
       "78            170.30      1623.0           0.16390            0.61640   \n",
       "83            141.30      1298.0           0.13920            0.28170   \n",
       "108           206.80      2360.0           0.17010            0.69970   \n",
       "122           180.90      2073.0           0.16960            0.42440   \n",
       "138           121.40       971.4           0.14110            0.21640   \n",
       "152            71.04       380.5           0.12920            0.27720   \n",
       "176            73.07       390.2           0.13010            0.29500   \n",
       "190           106.40       762.4           0.15330            0.93270   \n",
       "192            62.25       303.8           0.07117            0.02729   \n",
       "212           188.50      2499.0           0.11420            0.15160   \n",
       "213           120.40      1021.0           0.12430            0.17930   \n",
       "258           143.70      1226.0           0.15040            0.51720   \n",
       "288            78.27       437.6           0.10280            0.18430   \n",
       "290           101.70       767.3           0.09983            0.24720   \n",
       "314            56.65       240.1           0.13470            0.07767   \n",
       "461           251.20      4254.0           0.13570            0.42560   \n",
       "504            69.05       300.2           0.19020            0.34410   \n",
       "505            69.47       328.1           0.20060            0.36630   \n",
       "\n",
       "     worst concavity  worst concave points  worst symmetry  \\\n",
       "3             0.6869               0.25750          0.6638   \n",
       "9             1.1050               0.22100          0.4366   \n",
       "12            0.3639               0.17670          0.3176   \n",
       "42            0.7242               0.24930          0.4670   \n",
       "68            1.2520               0.17500          0.4228   \n",
       "71            0.1434               0.04786          0.2254   \n",
       "78            0.7681               0.25080          0.5440   \n",
       "83            0.2432               0.18410          0.2311   \n",
       "108           0.9608               0.29100          0.4055   \n",
       "122           0.5803               0.22480          0.3222   \n",
       "138           0.3355               0.16670          0.3414   \n",
       "152           0.8216               0.15710          0.3108   \n",
       "176           0.3486               0.09910          0.2614   \n",
       "190           0.8488               0.17720          0.5166   \n",
       "192           0.0000               0.00000          0.1909   \n",
       "212           0.3201               0.15950          0.1648   \n",
       "213           0.2803               0.10990          0.1603   \n",
       "258           0.6181               0.24620          0.3277   \n",
       "288           0.1546               0.09314          0.2955   \n",
       "290           0.2220               0.10210          0.2272   \n",
       "314           0.0000               0.00000          0.3142   \n",
       "461           0.6833               0.26250          0.2641   \n",
       "504           0.2099               0.10250          0.3038   \n",
       "505           0.2913               0.10750          0.2848   \n",
       "\n",
       "     worst fractal dimension  \n",
       "3                    0.17300  \n",
       "9                    0.20750  \n",
       "12                   0.10230  \n",
       "42                   0.10380  \n",
       "68                   0.11750  \n",
       "71                   0.10840  \n",
       "78                   0.09964  \n",
       "83                   0.09203  \n",
       "108                  0.09789  \n",
       "122                  0.08009  \n",
       "138                  0.07147  \n",
       "152                  0.12590  \n",
       "176                  0.11620  \n",
       "190                  0.14460  \n",
       "192                  0.06559  \n",
       "212                  0.05525  \n",
       "213                  0.06818  \n",
       "258                  0.10190  \n",
       "288                  0.07009  \n",
       "290                  0.08799  \n",
       "314                  0.08116  \n",
       "461                  0.07427  \n",
       "504                  0.12520  \n",
       "505                  0.13640  \n",
       "\n",
       "[24 rows x 30 columns]"
      ]
     },
     "execution_count": 43,
     "metadata": {},
     "output_type": "execute_result"
    }
   ],
   "source": [
    "df.loc[np.where(dbscan.labels_==-1)]"
   ]
  },
  {
   "cell_type": "markdown",
   "metadata": {},
   "source": [
    "# CBLOF"
   ]
  },
  {
   "cell_type": "code",
   "execution_count": 44,
   "metadata": {},
   "outputs": [],
   "source": [
    "from pyod.models.cblof import CBLOF"
   ]
  },
  {
   "cell_type": "code",
   "execution_count": 45,
   "metadata": {},
   "outputs": [
    {
     "data": {
      "text/plain": [
       "CBLOF(alpha=0.9, beta=5, check_estimator=False, clustering_estimator=None,\n",
       "   contamination=0.1, n_clusters=8, n_jobs=None, random_state=None,\n",
       "   use_weights=False)"
      ]
     },
     "execution_count": 45,
     "metadata": {},
     "output_type": "execute_result"
    }
   ],
   "source": [
    "clf = CBLOF()  # problem with my KMeans does not run\n",
    "clf.fit(X)"
   ]
  },
  {
   "cell_type": "code",
   "execution_count": 46,
   "metadata": {},
   "outputs": [
    {
     "data": {
      "text/plain": [
       "(array([0, 1]), array([512,  57]))"
      ]
     },
     "execution_count": 46,
     "metadata": {},
     "output_type": "execute_result"
    }
   ],
   "source": [
    "outliers = clf.predict(X)\n",
    "np.unique(outliers, return_counts=True)"
   ]
  },
  {
   "cell_type": "code",
   "execution_count": 47,
   "metadata": {},
   "outputs": [
    {
     "data": {
      "image/png": "[encoded data removed]",
      "text/plain": [
       "<Figure size 432x288 with 1 Axes>"
      ]
     },
     "metadata": {
      "needs_background": "light"
     },
     "output_type": "display_data"
    }
   ],
   "source": [
    "plt.hist(clf.decision_scores_, bins=20)\n",
    "plt.axvline(np.min(clf.decision_scores_[np.where(outliers==1)]), c='k')\n",
    "plt.show()"
   ]
  },
  {
   "cell_type": "markdown",
   "metadata": {},
   "source": [
    "# ABOD"
   ]
  },
  {
   "cell_type": "code",
   "execution_count": 48,
   "metadata": {},
   "outputs": [],
   "source": [
    "from pyod.models.abod import ABOD"
   ]
  },
  {
   "cell_type": "code",
   "execution_count": 49,
   "metadata": {},
   "outputs": [
    {
     "data": {
      "text/plain": [
       "ABOD(contamination=0.1, method='fast', n_neighbors=5)"
      ]
     },
     "execution_count": 49,
     "metadata": {},
     "output_type": "execute_result"
    }
   ],
   "source": [
    "clf = ABOD()\n",
    "clf.fit(X)"
   ]
  },
  {
   "cell_type": "code",
   "execution_count": 50,
   "metadata": {},
   "outputs": [
    {
     "data": {
      "text/plain": [
       "(array([0, 1]), array([507,  62]))"
      ]
     },
     "execution_count": 50,
     "metadata": {},
     "output_type": "execute_result"
    }
   ],
   "source": [
    "outliers = clf.predict(X)\n",
    "np.unique(outliers, return_counts=True)"
   ]
  },
  {
   "cell_type": "code",
   "execution_count": 51,
   "metadata": {},
   "outputs": [
    {
     "data": {
      "image/png": "[encoded data removed]",
      "text/plain": [
       "<Figure size 432x288 with 1 Axes>"
      ]
     },
     "metadata": {
      "needs_background": "light"
     },
     "output_type": "display_data"
    }
   ],
   "source": [
    "plt.hist(clf.decision_scores_, bins=20)\n",
    "plt.axvline(np.min(clf.decision_scores_[np.where(outliers==1)]), c='k')\n",
    "plt.show()"
   ]
  },
  {
   "cell_type": "markdown",
   "metadata": {},
   "source": [
    "# LODA"
   ]
  },
  {
   "cell_type": "code",
   "execution_count": 52,
   "metadata": {},
   "outputs": [],
   "source": [
    "from pyod.models.loda import LODA"
   ]
  },
  {
   "cell_type": "code",
   "execution_count": 53,
   "metadata": {},
   "outputs": [
    {
     "data": {
      "text/plain": [
       "LODA(contamination=0.1, n_bins=10, n_random_cuts=100)"
      ]
     },
     "execution_count": 53,
     "metadata": {},
     "output_type": "execute_result"
    }
   ],
   "source": [
    "clf = LODA()\n",
    "clf.fit(X)"
   ]
  },
  {
   "cell_type": "code",
   "execution_count": 54,
   "metadata": {},
   "outputs": [
    {
     "data": {
      "text/plain": [
       "(array([0, 1]), array([512,  57]))"
      ]
     },
     "execution_count": 54,
     "metadata": {},
     "output_type": "execute_result"
    }
   ],
   "source": [
    "outliers = clf.predict(X)\n",
    "np.unique(outliers, return_counts=True)"
   ]
  },
  {
   "cell_type": "code",
   "execution_count": 55,
   "metadata": {},
   "outputs": [
    {
     "data": {
      "image/png": "[encoded data removed]",
      "text/plain": [
       "<Figure size 432x288 with 1 Axes>"
      ]
     },
     "metadata": {
      "needs_background": "light"
     },
     "output_type": "display_data"
    }
   ],
   "source": [
    "plt.hist(clf.decision_scores_, bins=20)\n",
    "plt.axvline(np.min(clf.decision_scores_[np.where(outliers==1)]), c='k')\n",
    "plt.show()"
   ]
  },
  {
   "cell_type": "code",
   "execution_count": null,
   "metadata": {},
   "outputs": [],
   "source": []
  },
  {
   "cell_type": "markdown",
   "metadata": {},
   "source": [
    "# Isolation Forest"
   ]
  },
  {
   "cell_type": "code",
   "execution_count": 56,
   "metadata": {},
   "outputs": [],
   "source": [
    "from sklearn.ensemble import IsolationForest\n",
    "from sklearn.model_selection import train_test_split"
   ]
  },
  {
   "cell_type": "code",
   "execution_count": 57,
   "metadata": {},
   "outputs": [],
   "source": [
    "X_train, X_test, y_train, y_test = train_test_split(X, y, test_size=0.3, random_state=0)"
   ]
  },
  {
   "cell_type": "code",
   "execution_count": 58,
   "metadata": {},
   "outputs": [
    {
     "data": {
      "text/plain": [
       "IsolationForest(random_state=0)"
      ]
     },
     "execution_count": 58,
     "metadata": {},
     "output_type": "execute_result"
    }
   ],
   "source": [
    "clf = IsolationForest(random_state=0)\n",
    "clf.fit(X_train)"
   ]
  },
  {
   "cell_type": "code",
   "execution_count": 59,
   "metadata": {},
   "outputs": [],
   "source": [
    "outliers = clf.predict(X_test)"
   ]
  },
  {
   "cell_type": "code",
   "execution_count": 60,
   "metadata": {},
   "outputs": [
    {
     "data": {
      "text/plain": [
       "(array([-1,  1]), array([ 17, 154]))"
      ]
     },
     "execution_count": 60,
     "metadata": {},
     "output_type": "execute_result"
    }
   ],
   "source": [
    "np.unique(outliers, return_counts=True)"
   ]
  },
  {
   "cell_type": "code",
   "execution_count": 61,
   "metadata": {},
   "outputs": [],
   "source": [
    "from pyod.models.iforest import IsolationForest"
   ]
  },
  {
   "cell_type": "code",
   "execution_count": 62,
   "metadata": {},
   "outputs": [
    {
     "data": {
      "text/plain": [
       "IsolationForest()"
      ]
     },
     "execution_count": 62,
     "metadata": {},
     "output_type": "execute_result"
    }
   ],
   "source": [
    "clf = IsolationForest()\n",
    "clf.fit(X)"
   ]
  },
  {
   "cell_type": "code",
   "execution_count": 63,
   "metadata": {},
   "outputs": [
    {
     "data": {
      "text/plain": [
       "(array([-1,  1]), array([ 56, 513]))"
      ]
     },
     "execution_count": 63,
     "metadata": {},
     "output_type": "execute_result"
    }
   ],
   "source": [
    "outliers = clf.predict(X)\n",
    "np.unique(outliers, return_counts=True)"
   ]
  },
  {
   "cell_type": "code",
   "execution_count": 64,
   "metadata": {},
   "outputs": [
    {
     "data": {
      "image/png": "[encoded data removed]",
      "text/plain": [
       "<Figure size 432x288 with 1 Axes>"
      ]
     },
     "metadata": {
      "needs_background": "light"
     },
     "output_type": "display_data"
    }
   ],
   "source": [
    "plt.hist(clf.decision_function(X), bins=20)\n",
    "plt.axvline(np.min(clf.decision_function(X)[np.where(outliers==1)]), c='k')\n",
    "plt.show()"
   ]
  },
  {
   "cell_type": "code",
   "execution_count": 65,
   "metadata": {},
   "outputs": [],
   "source": [
    "# Combination: https://pyod.readthedocs.io/en/latest/example.html"
   ]
  },
  {
   "cell_type": "markdown",
   "metadata": {},
   "source": [
    "# Example RkNN"
   ]
  },
  {
   "cell_type": "code",
   "execution_count": 66,
   "metadata": {},
   "outputs": [],
   "source": [
    "%matplotlib inline\n",
    "\n",
    "import numpy as np\n",
    "import pandas as pd\n",
    "import seaborn as sns\n",
    "import matplotlib.pyplot as plt\n"
   ]
  },
  {
   "cell_type": "code",
   "execution_count": 67,
   "metadata": {},
   "outputs": [
    {
     "data": {
      "image/png": "[encoded data removed]",
      "text/plain": [
       "<Figure size 432x288 with 1 Axes>"
      ]
     },
     "metadata": {
      "needs_background": "light"
     },
     "output_type": "display_data"
    }
   ],
   "source": [
    "D = np.array([\n",
    "    [2, 2],\n",
    "    [2, 4],\n",
    "    [3, 3],\n",
    "    [4, 2],\n",
    "    [5, 3],\n",
    "])\n",
    "\n",
    "\n",
    "plt.scatter(D[:, 0], D[:, 1])\n",
    "for d, l in zip(D, ['A', 'B', 'C', 'D', 'E']):\n",
    "    plt.text(d[0], d[1], l)\n",
    "plt.xlim([0, 6])\n",
    "plt.ylim([0, 6])\n",
    "plt.show()"
   ]
  },
  {
   "cell_type": "code",
   "execution_count": 68,
   "metadata": {},
   "outputs": [],
   "source": [
    "from scipy.spatial.distance import pdist, squareform"
   ]
  },
  {
   "cell_type": "code",
   "execution_count": 69,
   "metadata": {},
   "outputs": [
    {
     "data": {
      "text/plain": [
       "array([[inf,  2.,  2.,  2.,  4.],\n",
       "       [ 2., inf,  2.,  4.,  4.],\n",
       "       [ 2.,  2., inf,  2.,  2.],\n",
       "       [ 2.,  4.,  2., inf,  2.],\n",
       "       [ 4.,  4.,  2.,  2., inf]])"
      ]
     },
     "execution_count": 69,
     "metadata": {},
     "output_type": "execute_result"
    }
   ],
   "source": [
    "dist = squareform(pdist(D, 'cityblock'))\n",
    "for i in range(len(dist)):\n",
    "    dist[i, i] = np.inf\n",
    "dist"
   ]
  },
  {
   "cell_type": "code",
   "execution_count": 70,
   "metadata": {},
   "outputs": [
    {
     "data": {
      "text/plain": [
       "array([[1, 2, 3],\n",
       "       [0, 2, 3],\n",
       "       [0, 1, 3],\n",
       "       [0, 2, 4],\n",
       "       [2, 3, 0]])"
      ]
     },
     "execution_count": 70,
     "metadata": {},
     "output_type": "execute_result"
    }
   ],
   "source": [
    "k = 3\n",
    "knn = np.argsort(dist, axis=1)[:, :k]\n",
    "knn"
   ]
  },
  {
   "cell_type": "code",
   "execution_count": 71,
   "metadata": {},
   "outputs": [
    {
     "data": {
      "text/plain": [
       "array([[0., 1., 1., 1., 1.],\n",
       "       [1., 0., 1., 0., 0.],\n",
       "       [1., 1., 0., 1., 1.],\n",
       "       [1., 1., 1., 0., 1.],\n",
       "       [0., 0., 0., 1., 0.]])"
      ]
     },
     "execution_count": 71,
     "metadata": {},
     "output_type": "execute_result"
    }
   ],
   "source": [
    "Rknn = np.zeros((len(dist), len(dist)))\n",
    "for i in range(len(dist)):\n",
    "    for j in knn[i]:\n",
    "        Rknn[j][i] = 1\n",
    "Rknn"
   ]
  },
  {
   "cell_type": "code",
   "execution_count": 72,
   "metadata": {},
   "outputs": [
    {
     "data": {
      "text/plain": [
       "array([[4.],\n",
       "       [2.],\n",
       "       [4.],\n",
       "       [4.],\n",
       "       [1.]])"
      ]
     },
     "execution_count": 72,
     "metadata": {},
     "output_type": "execute_result"
    }
   ],
   "source": [
    "Rknn_count = np.sum(Rknn, axis=1)\n",
    "Rknn_count.reshape(-1,1)"
   ]
  },
  {
   "cell_type": "code",
   "execution_count": null,
   "metadata": {},
   "outputs": [],
   "source": []
  },
  {
   "cell_type": "markdown",
   "metadata": {},
   "source": [
    "# Grubbs Test"
   ]
  },
  {
   "cell_type": "code",
   "execution_count": 73,
   "metadata": {},
   "outputs": [],
   "source": [
    "# https://pypi.org/project/outlier_utils/"
   ]
  },
  {
   "cell_type": "code",
   "execution_count": 74,
   "metadata": {},
   "outputs": [],
   "source": [
    "import numpy as np\n",
    "from scipy import stats"
   ]
  },
  {
   "cell_type": "code",
   "execution_count": 75,
   "metadata": {},
   "outputs": [],
   "source": [
    "data = np.array([5, 15, 15, 14, 19, 17, 16, 20, 22, 8, 21, 28, 11, 9])"
   ]
  },
  {
   "cell_type": "code",
   "execution_count": 76,
   "metadata": {},
   "outputs": [],
   "source": [
    "alpha = 0.95"
   ]
  },
  {
   "cell_type": "code",
   "execution_count": 77,
   "metadata": {},
   "outputs": [],
   "source": [
    "n = len(data)"
   ]
  },
  {
   "cell_type": "code",
   "execution_count": 78,
   "metadata": {},
   "outputs": [
    {
     "data": {
      "text/plain": [
       "14"
      ]
     },
     "execution_count": 78,
     "metadata": {},
     "output_type": "execute_result"
    }
   ],
   "source": [
    "n"
   ]
  },
  {
   "cell_type": "code",
   "execution_count": 79,
   "metadata": {},
   "outputs": [],
   "source": [
    "significance_level = alpha / (2*n)  #alpha / n"
   ]
  },
  {
   "cell_type": "code",
   "execution_count": 80,
   "metadata": {},
   "outputs": [
    {
     "data": {
      "text/plain": [
       "0.9660714285714286"
      ]
     },
     "execution_count": 80,
     "metadata": {},
     "output_type": "execute_result"
    }
   ],
   "source": [
    "1-significance_level"
   ]
  },
  {
   "cell_type": "code",
   "execution_count": 81,
   "metadata": {},
   "outputs": [],
   "source": [
    "t = stats.t.isf(significance_level, n-2, 2)"
   ]
  },
  {
   "cell_type": "code",
   "execution_count": 82,
   "metadata": {},
   "outputs": [
    {
     "data": {
      "text/plain": [
       "4.006660107102302"
      ]
     },
     "execution_count": 82,
     "metadata": {},
     "output_type": "execute_result"
    }
   ],
   "source": [
    "t"
   ]
  },
  {
   "cell_type": "code",
   "execution_count": 83,
   "metadata": {},
   "outputs": [],
   "source": [
    "g_test = ((n-1) / np.sqrt(n)) * (np.sqrt(t**2 / (n-2 + t**2)))"
   ]
  },
  {
   "cell_type": "code",
   "execution_count": 84,
   "metadata": {},
   "outputs": [
    {
     "data": {
      "text/plain": [
       "2.6282680955893514"
      ]
     },
     "execution_count": 84,
     "metadata": {},
     "output_type": "execute_result"
    }
   ],
   "source": [
    "g_test"
   ]
  },
  {
   "cell_type": "code",
   "execution_count": 85,
   "metadata": {},
   "outputs": [],
   "source": [
    "relative_values = abs(data - data.mean())\n",
    "index = relative_values.argmax()\n",
    "value = relative_values[index]"
   ]
  },
  {
   "cell_type": "code",
   "execution_count": 86,
   "metadata": {},
   "outputs": [
    {
     "data": {
      "text/plain": [
       "(11, 12.285714285714286)"
      ]
     },
     "execution_count": 86,
     "metadata": {},
     "output_type": "execute_result"
    }
   ],
   "source": [
    "index, value"
   ]
  },
  {
   "cell_type": "code",
   "execution_count": 87,
   "metadata": {},
   "outputs": [],
   "source": [
    "g = value / data.std()"
   ]
  },
  {
   "cell_type": "code",
   "execution_count": 88,
   "metadata": {},
   "outputs": [
    {
     "data": {
      "text/plain": [
       "(2.066448124728515, 2.6282680955893514)"
      ]
     },
     "execution_count": 88,
     "metadata": {},
     "output_type": "execute_result"
    }
   ],
   "source": [
    "g, g_test"
   ]
  },
  {
   "cell_type": "code",
   "execution_count": 89,
   "metadata": {},
   "outputs": [
    {
     "name": "stdout",
     "output_type": "stream",
     "text": [
      "inlier\n"
     ]
    }
   ],
   "source": [
    "if g > g_test:\n",
    "    print('outlier')\n",
    "else:\n",
    "    print('inlier')"
   ]
  },
  {
   "cell_type": "code",
   "execution_count": null,
   "metadata": {},
   "outputs": [],
   "source": []
  },
  {
   "cell_type": "code",
   "execution_count": 90,
   "metadata": {},
   "outputs": [
    {
     "data": {
      "text/plain": [
       "2.7637694574478893"
      ]
     },
     "execution_count": 90,
     "metadata": {},
     "output_type": "execute_result"
    }
   ],
   "source": [
    "stats.t.isf(0.01, 10)"
   ]
  },
  {
   "cell_type": "code",
   "execution_count": 91,
   "metadata": {},
   "outputs": [
    {
     "data": {
      "text/plain": [
       "2.364217365904738"
      ]
     },
     "execution_count": 91,
     "metadata": {},
     "output_type": "execute_result"
    }
   ],
   "source": [
    "stats.t.isf(0.01, 100)"
   ]
  },
  {
   "cell_type": "code",
   "execution_count": 92,
   "metadata": {},
   "outputs": [
    {
     "data": {
      "text/plain": [
       "2.33008267475551"
      ]
     },
     "execution_count": 92,
     "metadata": {},
     "output_type": "execute_result"
    }
   ],
   "source": [
    "stats.t.isf(0.01, 1000)"
   ]
  },
  {
   "cell_type": "code",
   "execution_count": 93,
   "metadata": {},
   "outputs": [
    {
     "data": {
      "text/plain": [
       "4.143700494046624"
      ]
     },
     "execution_count": 93,
     "metadata": {},
     "output_type": "execute_result"
    }
   ],
   "source": [
    "stats.t.isf(0.001, 10)"
   ]
  },
  {
   "cell_type": "code",
   "execution_count": 94,
   "metadata": {},
   "outputs": [
    {
     "data": {
      "text/plain": [
       "4.143700494046624"
      ]
     },
     "execution_count": 94,
     "metadata": {},
     "output_type": "execute_result"
    }
   ],
   "source": [
    "stats.t.isf(0.001, 10)"
   ]
  },
  {
   "cell_type": "code",
   "execution_count": 95,
   "metadata": {},
   "outputs": [
    {
     "data": {
      "text/plain": [
       "3.1737394889844106"
      ]
     },
     "execution_count": 95,
     "metadata": {},
     "output_type": "execute_result"
    }
   ],
   "source": [
    "stats.t.isf(0.001, 100)"
   ]
  },
  {
   "cell_type": "code",
   "execution_count": 96,
   "metadata": {},
   "outputs": [
    {
     "data": {
      "text/plain": [
       "3.098402163912876"
      ]
     },
     "execution_count": 96,
     "metadata": {},
     "output_type": "execute_result"
    }
   ],
   "source": [
    "stats.t.isf(0.001, 1000)"
   ]
  },
  {
   "cell_type": "code",
   "execution_count": null,
   "metadata": {},
   "outputs": [],
   "source": []
  },
  {
   "cell_type": "code",
   "execution_count": 97,
   "metadata": {},
   "outputs": [
    {
     "data": {
      "text/plain": [
       "4.364217365904738"
      ]
     },
     "execution_count": 97,
     "metadata": {},
     "output_type": "execute_result"
    }
   ],
   "source": [
    "stats.t.isf(0.01, 100, 2)"
   ]
  },
  {
   "cell_type": "code",
   "execution_count": null,
   "metadata": {},
   "outputs": [],
   "source": []
  },
  {
   "cell_type": "code",
   "execution_count": null,
   "metadata": {},
   "outputs": [],
   "source": []
  },
  {
   "cell_type": "markdown",
   "metadata": {},
   "source": [
    "# Likelihood Appraoch"
   ]
  },
  {
   "cell_type": "code",
   "execution_count": 98,
   "metadata": {},
   "outputs": [],
   "source": [
    "import numpy as np\n",
    "from scipy import stats"
   ]
  },
  {
   "cell_type": "code",
   "execution_count": 99,
   "metadata": {},
   "outputs": [],
   "source": [
    "data = np.array([100, 5, 14, 15, 15, 14, 19, 17, 16, 20, 22, 8, 21, 28, 11, 9, 50])"
   ]
  },
  {
   "cell_type": "code",
   "execution_count": 100,
   "metadata": {},
   "outputs": [],
   "source": [
    "def norm_dist(x, mu, sigma):\n",
    "    return 1/(np.sqrt(2*np.pi)*sigma) * np.e**(-((x-mu)**2)/(2*sigma**2))\n",
    "              \n",
    "def unif_dist(x, n):\n",
    "    return 1/n"
   ]
  },
  {
   "cell_type": "code",
   "execution_count": 101,
   "metadata": {},
   "outputs": [],
   "source": [
    "M = np.copy(data)\n",
    "A = list()\n",
    "muM = np.mean(M)\n",
    "sigmaM = np.std(M)"
   ]
  },
  {
   "cell_type": "code",
   "execution_count": 102,
   "metadata": {},
   "outputs": [
    {
     "data": {
      "text/plain": [
       "0.017323544875621277"
      ]
     },
     "execution_count": 102,
     "metadata": {},
     "output_type": "execute_result"
    }
   ],
   "source": [
    "norm_dist(15, muM, sigmaM)"
   ]
  },
  {
   "cell_type": "code",
   "execution_count": 103,
   "metadata": {},
   "outputs": [],
   "source": [
    "M = np.copy(data)\n",
    "A = []\n",
    "lambda_par = 0.3\n",
    "\n",
    "muM = np.mean(M)\n",
    "sigmaM = np.std(M)\n",
    "sizeA = len(A)\n",
    "\n",
    "sumM = np.sum([norm_dist(x, muM, sigmaM) for x in M])\n",
    "\n",
    "sumA = np.sum([unif_dist(x, sizeA) for x in A])\n",
    "\n",
    "ll = (len(M) * np.log(1-lambda_par) + sumM + len(A) * np.log(lambda_par) + sumA)"
   ]
  },
  {
   "cell_type": "code",
   "execution_count": 104,
   "metadata": {},
   "outputs": [
    {
     "name": "stdout",
     "output_type": "stream",
     "text": [
      "0 0.3977128481343115 outlier\n",
      "1 0.13457765542953126 inlier\n",
      "2 0.12934931124330795 inlier\n",
      "3 0.1290276899776579 inlier\n",
      "4 0.1290276899776579 inlier\n",
      "5 0.12934931124330795 inlier\n",
      "6 0.12833240056265893 inlier\n",
      "7 0.1285594628732225 inlier\n",
      "8 0.12876398097943031 inlier\n",
      "9 0.12831168680625638 inlier\n",
      "10 0.12845932478202648 inlier\n",
      "11 0.13240735661756986 inlier\n",
      "12 0.12835381788710265 inlier\n",
      "13 0.13043326305691316 inlier\n",
      "14 0.13064686254892344 inlier\n",
      "15 0.13177222116900822 inlier\n",
      "16 0.15497943889092447 inlier\n"
     ]
    }
   ],
   "source": [
    "M = np.copy(data)\n",
    "A = []\n",
    "c = 0.2\n",
    "for i, x in enumerate(data):\n",
    "    A.append(x)\n",
    "    M = np.array([xo for j, xo in enumerate(data) if i!=j])\n",
    "    muM = np.mean(M)\n",
    "    sigmaM = np.std(M)\n",
    "    sizeA = len(A)\n",
    "    sumM = np.sum([norm_dist(x, muM, sigmaM) for x in M])\n",
    "    sumA = np.sum([unif_dist(x, sizeA) for x in A])\n",
    "    ll_xi = (len(M) * np.log(1-lambda_par) + sumM + len(A) * np.log(lambda_par) + sumA)\n",
    "    delta_ll = abs(ll - ll_xi)\n",
    "    print(i, delta_ll, 'outlier' if delta_ll > c else 'inlier')\n",
    "    M = np.copy(data)\n",
    "    A = list()"
   ]
  },
  {
   "cell_type": "code",
   "execution_count": 105,
   "metadata": {},
   "outputs": [
    {
     "data": {
      "text/plain": [
       "[]"
      ]
     },
     "execution_count": 105,
     "metadata": {},
     "output_type": "execute_result"
    }
   ],
   "source": [
    "A"
   ]
  },
  {
   "cell_type": "markdown",
   "metadata": {},
   "source": [
    "# Deviation Based"
   ]
  },
  {
   "cell_type": "code",
   "execution_count": 106,
   "metadata": {},
   "outputs": [],
   "source": [
    "data = np.array([100, 5, 14, 15, 14, 19, 17, 16, 20, 22, 8, 21, 28, 11, 9, 50])"
   ]
  },
  {
   "cell_type": "code",
   "execution_count": 107,
   "metadata": {},
   "outputs": [],
   "source": [
    "def sf(x, X):\n",
    "    idx = list(X).index(x)\n",
    "    X1 = np.array([x1 for i, x1 in enumerate(X) if i != idx])\n",
    "    return np.abs(np.var(X) - np.var(X1))"
   ]
  },
  {
   "cell_type": "code",
   "execution_count": 108,
   "metadata": {},
   "outputs": [
    {
     "name": "stdout",
     "output_type": "stream",
     "text": [
      "0 387.96303819444444\n",
      "1 9.770295138888969\n",
      "2 27.130295138888755\n",
      "3 28.348072916666638\n",
      "4 27.130295138888755\n",
      "5 31.79696180555561\n",
      "6 30.35696180555567\n",
      "7 29.423628472222276\n",
      "8 32.30362847222216\n",
      "9 32.89029513888886\n",
      "10 16.836961805555575\n",
      "11 32.66807291666669\n",
      "12 31.236961805555552\n",
      "13 22.623628472222208\n",
      "14 18.908072916666697\n",
      "15 18.62970486111118\n"
     ]
    }
   ],
   "source": [
    "for i, x in enumerate(data):\n",
    "    print(i, sf(x, data))"
   ]
  },
  {
   "cell_type": "code",
   "execution_count": 109,
   "metadata": {},
   "outputs": [
    {
     "data": {
      "text/plain": [
       "494.55859375"
      ]
     },
     "execution_count": 109,
     "metadata": {},
     "output_type": "execute_result"
    }
   ],
   "source": [
    "np.var(data)"
   ]
  },
  {
   "cell_type": "code",
   "execution_count": null,
   "metadata": {},
   "outputs": [],
   "source": []
  },
  {
   "cell_type": "code",
   "execution_count": null,
   "metadata": {},
   "outputs": [],
   "source": []
  }
 ],
 "metadata": {
  "kernelspec": {
   "display_name": "Python 3 (ipykernel)",
   "language": "python",
   "name": "python3"
  },
  "language_info": {
   "codemirror_mode": {
    "name": "ipython",
    "version": 3
   },
   "file_extension": ".py",
   "mimetype": "text/x-python",
   "name": "python",
   "nbconvert_exporter": "python",
   "pygments_lexer": "ipython3",
   "version": "3.9.12"
  }
 },
 "nbformat": 4,
 "nbformat_minor": 2
}
