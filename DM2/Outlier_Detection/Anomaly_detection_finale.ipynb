{
 "cells": [
  {
   "cell_type": "markdown",
   "metadata": {},
   "source": [
    "# ***ATTENZIONE***\n",
    "In tutto il notebook gli outliers sono stati indicati con -1 all interno del dataset, gli inlier con 1."
   ]
  },
  {
   "cell_type": "code",
   "execution_count": 1,
   "metadata": {},
   "outputs": [],
   "source": [
    "#pip install numpy==1.21"
   ]
  },
  {
   "cell_type": "code",
   "execution_count": 2,
   "metadata": {},
   "outputs": [],
   "source": [
    "%matplotlib inline\n",
    "\n",
    "import numpy as np\n",
    "import pandas as pd\n",
    "import seaborn as sns\n",
    "import matplotlib.pyplot as plt\n",
    "from scipy import stats\n",
    "\n",
    "from collections import Counter\n",
    "from collections import defaultdict\n",
    "from sklearn.feature_selection import SelectKBest\n",
    "\n",
    "from sklearn.preprocessing import StandardScaler\n",
    "\n",
    "from pyod.models.hbos import HBOS\n",
    "\n",
    "from sklearn.covariance import EllipticEnvelope\n",
    "\n",
    "from pyod.models.knn import KNN\n",
    "\n",
    "from sklearn.neighbors import LocalOutlierFactor\n",
    "\n",
    "from pyod.models.cof import COF\n",
    "\n",
    "from sklearn.cluster import DBSCAN\n",
    "\n",
    "from pyod.models.cblof import CBLOF\n",
    "\n",
    "from pyod.models.abod import ABOD\n",
    "\n",
    "from pyod.models.loda import LODA\n",
    "\n",
    "from sklearn.ensemble import IsolationForest\n",
    "from pyod.models.iforest import IsolationForest"
   ]
  },
  {
   "cell_type": "code",
   "execution_count": 3,
   "metadata": {},
   "outputs": [],
   "source": [
    "df_train=pd.read_csv(\"../ravdess_features_train_pulito.csv\")\n",
    "df_test=pd.read_csv(\"../ravdess_features_test_pulito.csv\")\n",
    "\n",
    "df_train[\"emotion\"]=df_train[\"emotion\"].replace([\"fearful\", \"angry\", \"happy\", \"surprised\", \"neutral\", \"calm\", \"sad\", \"disgust\"],[0,1,2,3,4,5,6,7])\n",
    "df_train[\"emotional_intensity\"]=df_train[\"emotional_intensity\"].replace([\"normal\", \"strong\"],[0,1])\n",
    "df_train[\"sex\"]=df_train[\"sex\"].replace([\"M\", \"F\"],[0,1])\n",
    "df_train[\"statement\"]=df_train[\"statement\"].replace([\"Dogs are sitting by the door\", \"Kids are talking by the door\"],[0,1])\n",
    "df_train[\"vocal_channel\"]=df_train[\"vocal_channel\"].replace([\"speech\", \"song\"],[0,1])\n",
    "y_train=df_train.emotion.values\n",
    "X_train=df_train.drop(columns=[\"emotion\"]).values\n",
    "\n",
    "df_test[\"emotion\"]=df_test[\"emotion\"].replace([\"fearful\", \"angry\", \"happy\", \"surprised\", \"neutral\", \"calm\", \"sad\", \"disgust\"],[0,1,2,3,4,5,6,7])\n",
    "df_test[\"emotional_intensity\"]=df_test[\"emotional_intensity\"].replace([\"normal\", \"strong\"],[0,1])\n",
    "df_test[\"sex\"]=df_test[\"sex\"].replace([\"M\", \"F\"],[0,1])\n",
    "df_test[\"statement\"]=df_test[\"statement\"].replace([\"Dogs are sitting by the door\", \"Kids are talking by the door\"],[0,1])\n",
    "df_test[\"vocal_channel\"]=df_test[\"vocal_channel\"].replace([\"speech\", \"song\"],[0,1])\n",
    "y_test=df_test.emotion.values\n",
    "X_test=df_test.drop(columns=[\"emotion\"]).values"
   ]
  },
  {
   "cell_type": "code",
   "execution_count": 4,
   "metadata": {},
   "outputs": [],
   "source": [
    "frames = [df_train, df_test]\n",
    "df = pd.concat(frames, ignore_index=True)\n",
    "X = df.drop(columns=[\"emotion\"]).values\n",
    "X_unscaled = df.drop(columns=[\"emotion\"]).values\n",
    "y=df.emotion.values"
   ]
  },
  {
   "cell_type": "code",
   "execution_count": 5,
   "metadata": {},
   "outputs": [],
   "source": [
    "sel = SelectKBest(k=108)\n",
    "X = sel.fit_transform(X, y)"
   ]
  },
  {
   "cell_type": "code",
   "execution_count": 6,
   "metadata": {},
   "outputs": [
    {
     "data": {
      "text/html": [
       "<div>\n",
       "<style scoped>\n",
       "    .dataframe tbody tr th:only-of-type {\n",
       "        vertical-align: middle;\n",
       "    }\n",
       "\n",
       "    .dataframe tbody tr th {\n",
       "        vertical-align: top;\n",
       "    }\n",
       "\n",
       "    .dataframe thead th {\n",
       "        text-align: right;\n",
       "    }\n",
       "</style>\n",
       "<table border=\"1\" class=\"dataframe\">\n",
       "  <thead>\n",
       "    <tr style=\"text-align: right;\">\n",
       "      <th></th>\n",
       "      <th>vocal_channel</th>\n",
       "      <th>sex</th>\n",
       "      <th>mean</th>\n",
       "      <th>std</th>\n",
       "      <th>min</th>\n",
       "      <th>max</th>\n",
       "      <th>q01</th>\n",
       "      <th>q75</th>\n",
       "      <th>q95</th>\n",
       "      <th>lag1_mean</th>\n",
       "      <th>...</th>\n",
       "      <th>mfcc_std_w3</th>\n",
       "      <th>mfcc_max_w3</th>\n",
       "      <th>mfcc_q01_w3</th>\n",
       "      <th>mfcc_kur_w3</th>\n",
       "      <th>stft_skew_w3</th>\n",
       "      <th>std_w4</th>\n",
       "      <th>min_w4</th>\n",
       "      <th>lag1_std_w4</th>\n",
       "      <th>lag1_min_w4</th>\n",
       "      <th>zc_skew_w4</th>\n",
       "    </tr>\n",
       "  </thead>\n",
       "  <tbody>\n",
       "    <tr>\n",
       "      <th>0</th>\n",
       "      <td>0.0</td>\n",
       "      <td>0.0</td>\n",
       "      <td>9.150000e-07</td>\n",
       "      <td>0.004001</td>\n",
       "      <td>-0.038422</td>\n",
       "      <td>0.040588</td>\n",
       "      <td>-0.012586</td>\n",
       "      <td>0.0</td>\n",
       "      <td>0.005676</td>\n",
       "      <td>0.000000e+00</td>\n",
       "      <td>...</td>\n",
       "      <td>147.423418</td>\n",
       "      <td>240.630021</td>\n",
       "      <td>-734.485522</td>\n",
       "      <td>14.901427</td>\n",
       "      <td>0.288573</td>\n",
       "      <td>0.000013</td>\n",
       "      <td>-0.000122</td>\n",
       "      <td>0.000011</td>\n",
       "      <td>-0.000061</td>\n",
       "      <td>3.922259</td>\n",
       "    </tr>\n",
       "    <tr>\n",
       "      <th>1</th>\n",
       "      <td>0.0</td>\n",
       "      <td>0.0</td>\n",
       "      <td>7.137790e-07</td>\n",
       "      <td>0.004283</td>\n",
       "      <td>-0.042603</td>\n",
       "      <td>0.048157</td>\n",
       "      <td>-0.013550</td>\n",
       "      <td>0.0</td>\n",
       "      <td>0.005920</td>\n",
       "      <td>0.000000e+00</td>\n",
       "      <td>...</td>\n",
       "      <td>144.564137</td>\n",
       "      <td>222.035063</td>\n",
       "      <td>-698.629767</td>\n",
       "      <td>14.429526</td>\n",
       "      <td>0.513204</td>\n",
       "      <td>0.000018</td>\n",
       "      <td>-0.000244</td>\n",
       "      <td>0.000010</td>\n",
       "      <td>-0.000061</td>\n",
       "      <td>4.613060</td>\n",
       "    </tr>\n",
       "    <tr>\n",
       "      <th>2</th>\n",
       "      <td>0.0</td>\n",
       "      <td>0.0</td>\n",
       "      <td>9.554485e-07</td>\n",
       "      <td>0.005084</td>\n",
       "      <td>-0.037018</td>\n",
       "      <td>0.058472</td>\n",
       "      <td>-0.015822</td>\n",
       "      <td>0.0</td>\n",
       "      <td>0.007263</td>\n",
       "      <td>-3.888704e-10</td>\n",
       "      <td>...</td>\n",
       "      <td>144.489909</td>\n",
       "      <td>231.626338</td>\n",
       "      <td>-698.875743</td>\n",
       "      <td>14.459248</td>\n",
       "      <td>0.474012</td>\n",
       "      <td>0.000012</td>\n",
       "      <td>-0.000122</td>\n",
       "      <td>0.000009</td>\n",
       "      <td>-0.000092</td>\n",
       "      <td>5.079725</td>\n",
       "    </tr>\n",
       "    <tr>\n",
       "      <th>3</th>\n",
       "      <td>0.0</td>\n",
       "      <td>0.0</td>\n",
       "      <td>9.176213e-07</td>\n",
       "      <td>0.004886</td>\n",
       "      <td>-0.036652</td>\n",
       "      <td>0.062683</td>\n",
       "      <td>-0.014923</td>\n",
       "      <td>0.0</td>\n",
       "      <td>0.006470</td>\n",
       "      <td>-2.005743e-10</td>\n",
       "      <td>...</td>\n",
       "      <td>144.062098</td>\n",
       "      <td>218.239004</td>\n",
       "      <td>-699.412515</td>\n",
       "      <td>14.314860</td>\n",
       "      <td>0.239217</td>\n",
       "      <td>0.000024</td>\n",
       "      <td>-0.000244</td>\n",
       "      <td>0.000015</td>\n",
       "      <td>-0.000092</td>\n",
       "      <td>3.369546</td>\n",
       "    </tr>\n",
       "    <tr>\n",
       "      <th>4</th>\n",
       "      <td>0.0</td>\n",
       "      <td>0.0</td>\n",
       "      <td>8.108948e-07</td>\n",
       "      <td>0.002956</td>\n",
       "      <td>-0.026245</td>\n",
       "      <td>0.026215</td>\n",
       "      <td>-0.009399</td>\n",
       "      <td>0.0</td>\n",
       "      <td>0.004242</td>\n",
       "      <td>-1.797605e-10</td>\n",
       "      <td>...</td>\n",
       "      <td>144.892061</td>\n",
       "      <td>229.730841</td>\n",
       "      <td>-690.419475</td>\n",
       "      <td>13.218938</td>\n",
       "      <td>0.575065</td>\n",
       "      <td>0.000023</td>\n",
       "      <td>-0.000305</td>\n",
       "      <td>0.000013</td>\n",
       "      <td>-0.000061</td>\n",
       "      <td>3.937357</td>\n",
       "    </tr>\n",
       "  </tbody>\n",
       "</table>\n",
       "<p>5 rows × 108 columns</p>\n",
       "</div>"
      ],
      "text/plain": [
       "   vocal_channel  sex          mean       std       min       max       q01  \\\n",
       "0            0.0  0.0  9.150000e-07  0.004001 -0.038422  0.040588 -0.012586   \n",
       "1            0.0  0.0  7.137790e-07  0.004283 -0.042603  0.048157 -0.013550   \n",
       "2            0.0  0.0  9.554485e-07  0.005084 -0.037018  0.058472 -0.015822   \n",
       "3            0.0  0.0  9.176213e-07  0.004886 -0.036652  0.062683 -0.014923   \n",
       "4            0.0  0.0  8.108948e-07  0.002956 -0.026245  0.026215 -0.009399   \n",
       "\n",
       "   q75       q95     lag1_mean  ...  mfcc_std_w3  mfcc_max_w3  mfcc_q01_w3  \\\n",
       "0  0.0  0.005676  0.000000e+00  ...   147.423418   240.630021  -734.485522   \n",
       "1  0.0  0.005920  0.000000e+00  ...   144.564137   222.035063  -698.629767   \n",
       "2  0.0  0.007263 -3.888704e-10  ...   144.489909   231.626338  -698.875743   \n",
       "3  0.0  0.006470 -2.005743e-10  ...   144.062098   218.239004  -699.412515   \n",
       "4  0.0  0.004242 -1.797605e-10  ...   144.892061   229.730841  -690.419475   \n",
       "\n",
       "   mfcc_kur_w3  stft_skew_w3    std_w4    min_w4  lag1_std_w4  lag1_min_w4  \\\n",
       "0    14.901427      0.288573  0.000013 -0.000122     0.000011    -0.000061   \n",
       "1    14.429526      0.513204  0.000018 -0.000244     0.000010    -0.000061   \n",
       "2    14.459248      0.474012  0.000012 -0.000122     0.000009    -0.000092   \n",
       "3    14.314860      0.239217  0.000024 -0.000244     0.000015    -0.000092   \n",
       "4    13.218938      0.575065  0.000023 -0.000305     0.000013    -0.000061   \n",
       "\n",
       "   zc_skew_w4  \n",
       "0    3.922259  \n",
       "1    4.613060  \n",
       "2    5.079725  \n",
       "3    3.369546  \n",
       "4    3.937357  \n",
       "\n",
       "[5 rows x 108 columns]"
      ]
     },
     "execution_count": 6,
     "metadata": {},
     "output_type": "execute_result"
    }
   ],
   "source": [
    "features = sel.get_feature_names_out()\n",
    "features = ([s.replace(\"x\", \"\") for s in features])\n",
    "df.T.iloc[features].T.head()"
   ]
  },
  {
   "cell_type": "code",
   "execution_count": 7,
   "metadata": {},
   "outputs": [
    {
     "data": {
      "text/plain": [
       "(2452, 108)"
      ]
     },
     "execution_count": 7,
     "metadata": {},
     "output_type": "execute_result"
    }
   ],
   "source": [
    "X.shape"
   ]
  },
  {
   "cell_type": "code",
   "execution_count": 8,
   "metadata": {},
   "outputs": [],
   "source": [
    "scl = StandardScaler()\n",
    "X = scl.fit_transform(X)"
   ]
  },
  {
   "cell_type": "markdown",
   "metadata": {},
   "source": [
    "# Visual Based"
   ]
  },
  {
   "cell_type": "markdown",
   "metadata": {},
   "source": [
    "## HBOS"
   ]
  },
  {
   "cell_type": "code",
   "execution_count": 9,
   "metadata": {},
   "outputs": [
    {
     "data": {
      "text/plain": [
       "array([ 51.05939133,  47.26402508,  53.96083564, ..., 150.39595341,\n",
       "       159.6243074 , 197.13622337])"
      ]
     },
     "execution_count": 9,
     "metadata": {},
     "output_type": "execute_result"
    }
   ],
   "source": [
    "clf = HBOS(n_bins=20)\n",
    "clf.fit(X)\n",
    "clf.decision_scores_"
   ]
  },
  {
   "cell_type": "code",
   "execution_count": 10,
   "metadata": {},
   "outputs": [
    {
     "name": "stdout",
     "output_type": "stream",
     "text": [
      "(array([0, 1]), array([2206,  246]))\n",
      "0.100326264274062\n"
     ]
    }
   ],
   "source": [
    "outliers = clf.predict(X)\n",
    "print(np.unique(outliers, return_counts=True))\n",
    "print(np.unique(outliers, return_counts=True)[1][1]/len(X))"
   ]
  },
  {
   "cell_type": "code",
   "execution_count": 11,
   "metadata": {},
   "outputs": [
    {
     "data": {
      "text/plain": [
       "array([1, 1, 1, ..., 1, 1, 1])"
      ]
     },
     "execution_count": 11,
     "metadata": {},
     "output_type": "execute_result"
    }
   ],
   "source": [
    "for i in range(len(outliers)):\n",
    "    if outliers[i] == 1:\n",
    "        outliers[i] = -1\n",
    "    else:\n",
    "        outliers[i] = 1\n",
    "outliers"
   ]
  },
  {
   "cell_type": "code",
   "execution_count": 12,
   "metadata": {},
   "outputs": [
    {
     "data": {
      "image/png": "[encoded data removed]",
      "text/plain": [
       "<Figure size 432x288 with 1 Axes>"
      ]
     },
     "metadata": {
      "needs_background": "light"
     },
     "output_type": "display_data"
    }
   ],
   "source": [
    "plt.hist(clf.decision_scores_, bins=\"auto\")\n",
    "plt.axvline(np.min(clf.decision_scores_[np.where(outliers==-1)]), c='k')\n",
    "plt.show()"
   ]
  },
  {
   "cell_type": "markdown",
   "metadata": {},
   "source": [
    "# Depth Based"
   ]
  },
  {
   "cell_type": "markdown",
   "metadata": {},
   "source": [
    "## Elliptic Envelope"
   ]
  },
  {
   "cell_type": "code",
   "execution_count": 13,
   "metadata": {},
   "outputs": [
    {
     "name": "stderr",
     "output_type": "stream",
     "text": [
      "/Users/jacopogneri/opt/anaconda3/lib/python3.9/site-packages/sklearn/covariance/_robust_covariance.py:738: UserWarning: The covariance matrix associated to your dataset is not full rank\n",
      "  warnings.warn(\n",
      "/Users/jacopogneri/opt/anaconda3/lib/python3.9/site-packages/sklearn/covariance/_robust_covariance.py:183: RuntimeWarning: Determinant has increased; this should not happen: log(det) > log(previous_det) (-705.090765875564102 > -705.260015475310865). You may want to try with a higher value of support_fraction (current value: 0.523).\n",
      "  warnings.warn(\n",
      "/Users/jacopogneri/opt/anaconda3/lib/python3.9/site-packages/sklearn/covariance/_robust_covariance.py:183: RuntimeWarning: Determinant has increased; this should not happen: log(det) > log(previous_det) (-703.510183526128685 > -704.225130835047707). You may want to try with a higher value of support_fraction (current value: 0.523).\n",
      "  warnings.warn(\n",
      "/Users/jacopogneri/opt/anaconda3/lib/python3.9/site-packages/sklearn/covariance/_robust_covariance.py:183: RuntimeWarning: Determinant has increased; this should not happen: log(det) > log(previous_det) (-703.580260888629141 > -704.497651773229904). You may want to try with a higher value of support_fraction (current value: 0.523).\n",
      "  warnings.warn(\n",
      "/Users/jacopogneri/opt/anaconda3/lib/python3.9/site-packages/sklearn/covariance/_robust_covariance.py:183: RuntimeWarning: Determinant has increased; this should not happen: log(det) > log(previous_det) (-705.407447095446287 > -705.426128720384099). You may want to try with a higher value of support_fraction (current value: 0.522).\n",
      "  warnings.warn(\n"
     ]
    }
   ],
   "source": [
    "ellenv = EllipticEnvelope(random_state=0)\n",
    "ellenv.fit(X)\n",
    "outliers = ellenv.predict(X)"
   ]
  },
  {
   "cell_type": "code",
   "execution_count": 14,
   "metadata": {},
   "outputs": [
    {
     "data": {
      "text/plain": [
       "(array([-1,  1]), array([ 246, 2206]))"
      ]
     },
     "execution_count": 14,
     "metadata": {},
     "output_type": "execute_result"
    }
   ],
   "source": [
    "np.unique(outliers, return_counts=True)"
   ]
  },
  {
   "cell_type": "code",
   "execution_count": 15,
   "metadata": {},
   "outputs": [],
   "source": [
    "#df[\"outliers_elliptic_envelope\"] = outliers"
   ]
  },
  {
   "cell_type": "code",
   "execution_count": 16,
   "metadata": {},
   "outputs": [],
   "source": [
    "#df.iloc[np.where(df.outliers_elliptic_envelope == -1)].head()"
   ]
  },
  {
   "cell_type": "markdown",
   "metadata": {},
   "source": [
    "# Distance Based"
   ]
  },
  {
   "cell_type": "markdown",
   "metadata": {},
   "source": [
    "## KNN"
   ]
  },
  {
   "cell_type": "code",
   "execution_count": 17,
   "metadata": {},
   "outputs": [
    {
     "data": {
      "text/plain": [
       "(array([0, 1]), array([2280,  172]))"
      ]
     },
     "execution_count": 17,
     "metadata": {},
     "output_type": "execute_result"
    }
   ],
   "source": [
    "clf = KNN(n_neighbors=2, method=\"largest\", p=2, n_jobs=-1)\n",
    "clf.fit(X)\n",
    "outliers = clf.predict(X)\n",
    "np.unique(outliers, return_counts=True)"
   ]
  },
  {
   "cell_type": "code",
   "execution_count": 18,
   "metadata": {},
   "outputs": [
    {
     "data": {
      "text/plain": [
       "array([1, 1, 1, ..., 1, 1, 1])"
      ]
     },
     "execution_count": 18,
     "metadata": {},
     "output_type": "execute_result"
    }
   ],
   "source": [
    "for i in range(len(outliers)):\n",
    "    if outliers[i] == 0:\n",
    "        outliers[i] = 1\n",
    "    else:\n",
    "        outliers[i] = -1\n",
    "outliers"
   ]
  },
  {
   "cell_type": "code",
   "execution_count": 19,
   "metadata": {},
   "outputs": [],
   "source": [
    "#df[\"outliers_knn\"] = outliers"
   ]
  },
  {
   "cell_type": "code",
   "execution_count": 20,
   "metadata": {},
   "outputs": [],
   "source": [
    "#df.iloc[np.where(df.outliers_knn == -1)].head()"
   ]
  },
  {
   "cell_type": "code",
   "execution_count": 21,
   "metadata": {},
   "outputs": [
    {
     "data": {
      "text/plain": [
       "'\\noutliers_list_knn = []\\nfor i in range(2,50):\\n    clf = KNN(n_neighbors=i, method=\"largest\", p=2, n_jobs=-1)\\n    clf.fit(X)\\n    outliers = clf.predict(X)\\n    outliers_list_knn.append(np.unique(outliers, return_counts=True)[1][1])\\n\\nplt.scatter(x=np.arange(2,50), y=outliers_list_knn)\\nplt.show()\\n'"
      ]
     },
     "execution_count": 21,
     "metadata": {},
     "output_type": "execute_result"
    }
   ],
   "source": [
    "'''\n",
    "outliers_list_knn = []\n",
    "for i in range(2,50):\n",
    "    clf = KNN(n_neighbors=i, method=\"largest\", p=2, n_jobs=-1)\n",
    "    clf.fit(X)\n",
    "    outliers = clf.predict(X)\n",
    "    outliers_list_knn.append(np.unique(outliers, return_counts=True)[1][1])\n",
    "\n",
    "plt.scatter(x=np.arange(2,50), y=outliers_list_knn)\n",
    "plt.show()\n",
    "'''\n",
    "#tempo di esecuzione circa 2 minuti"
   ]
  },
  {
   "cell_type": "code",
   "execution_count": 22,
   "metadata": {},
   "outputs": [
    {
     "data": {
      "image/png": "[encoded data removed]",
      "text/plain": [
       "<Figure size 432x288 with 1 Axes>"
      ]
     },
     "metadata": {
      "needs_background": "light"
     },
     "output_type": "display_data"
    }
   ],
   "source": [
    "plt.hist(clf.decision_scores_, bins=20)\n",
    "plt.axvline(np.min(clf.decision_scores_[np.where(outliers==-1)]), c='k')\n",
    "plt.show()"
   ]
  },
  {
   "cell_type": "markdown",
   "metadata": {},
   "source": [
    "# Density Based"
   ]
  },
  {
   "cell_type": "markdown",
   "metadata": {},
   "source": [
    "## LOF"
   ]
  },
  {
   "cell_type": "code",
   "execution_count": 23,
   "metadata": {},
   "outputs": [
    {
     "data": {
      "text/plain": [
       "'\\noutliers_list_lof = []\\nfor i in range(1,300):\\n    clf = LocalOutlierFactor(n_neighbors=i, novelty = False)\\n    clf.fit(X)\\n    outliers = clf.fit_predict(X)\\n    outliers_list_lof.append(np.unique(outliers, return_counts=True)[1][0])\\n\\nplt.scatter(x=np.arange(1,300), y=outliers_list_lof)\\nplt.show()\\n'"
      ]
     },
     "execution_count": 23,
     "metadata": {},
     "output_type": "execute_result"
    }
   ],
   "source": [
    "'''\n",
    "outliers_list_lof = []\n",
    "for i in range(1,300):\n",
    "    clf = LocalOutlierFactor(n_neighbors=i, novelty = False)\n",
    "    clf.fit(X)\n",
    "    outliers = clf.fit_predict(X)\n",
    "    outliers_list_lof.append(np.unique(outliers, return_counts=True)[1][0])\n",
    "\n",
    "plt.scatter(x=np.arange(1,300), y=outliers_list_lof)\n",
    "plt.show()\n",
    "'''\n",
    "#tempo di esecuzione circa 2m40s. Minimo per n_neighbor=3 con 64 outliers"
   ]
  },
  {
   "cell_type": "code",
   "execution_count": 24,
   "metadata": {},
   "outputs": [
    {
     "data": {
      "text/plain": [
       "(array([-1,  1]), array([  43, 2409]))"
      ]
     },
     "execution_count": 24,
     "metadata": {},
     "output_type": "execute_result"
    }
   ],
   "source": [
    "clf = LocalOutlierFactor(n_neighbors=3, novelty = False, n_jobs=-1)\n",
    "clf.fit(X)\n",
    "outliers = clf.fit_predict(X)\n",
    "np.unique(outliers, return_counts=True)"
   ]
  },
  {
   "cell_type": "code",
   "execution_count": 25,
   "metadata": {},
   "outputs": [
    {
     "data": {
      "text/plain": [
       "array([1990, 2392,  899,  352,  234, 1970, 1981, 1879,  935, 1067,  698,\n",
       "       2057, 1968, 1882,  815, 2375,  589, 1982, 1957, 1765, 2227, 1845,\n",
       "       1815,  546])"
      ]
     },
     "execution_count": 25,
     "metadata": {},
     "output_type": "execute_result"
    }
   ],
   "source": [
    "NLOF = clf.negative_outlier_factor_ #the higher the more normal\n",
    "ind = np.argpartition(NLOF, int(len(df)*0.01))[:int(len(df)*0.01)] # indice dei top 1% outliers\n",
    "ind"
   ]
  },
  {
   "cell_type": "code",
   "execution_count": 26,
   "metadata": {},
   "outputs": [
    {
     "name": "stderr",
     "output_type": "stream",
     "text": [
      "/var/folders/5p/ssqpg4td2mn8_4_dm85f8n5m0000gn/T/ipykernel_6357/4215259980.py:6: SettingWithCopyWarning: \n",
      "A value is trying to be set on a copy of a slice from a DataFrame\n",
      "\n",
      "See the caveats in the documentation: https://pandas.pydata.org/pandas-docs/stable/user_guide/indexing.html#returning-a-view-versus-a-copy\n",
      "  df[\"outliers_LOF\"][i] = 1\n",
      "/var/folders/5p/ssqpg4td2mn8_4_dm85f8n5m0000gn/T/ipykernel_6357/4215259980.py:4: SettingWithCopyWarning: \n",
      "A value is trying to be set on a copy of a slice from a DataFrame\n",
      "\n",
      "See the caveats in the documentation: https://pandas.pydata.org/pandas-docs/stable/user_guide/indexing.html#returning-a-view-versus-a-copy\n",
      "  df[\"outliers_LOF\"][i] = -1\n"
     ]
    }
   ],
   "source": [
    "df[\"outliers_LOF\"] = 0\n",
    "for i in range(len(df)):\n",
    "    if i in ind:\n",
    "        df[\"outliers_LOF\"][i] = -1\n",
    "    else:\n",
    "        df[\"outliers_LOF\"][i] = 1"
   ]
  },
  {
   "cell_type": "code",
   "execution_count": 27,
   "metadata": {},
   "outputs": [
    {
     "data": {
      "text/html": [
       "<div>\n",
       "<style scoped>\n",
       "    .dataframe tbody tr th:only-of-type {\n",
       "        vertical-align: middle;\n",
       "    }\n",
       "\n",
       "    .dataframe tbody tr th {\n",
       "        vertical-align: top;\n",
       "    }\n",
       "\n",
       "    .dataframe thead th {\n",
       "        text-align: right;\n",
       "    }\n",
       "</style>\n",
       "<table border=\"1\" class=\"dataframe\">\n",
       "  <thead>\n",
       "    <tr style=\"text-align: right;\">\n",
       "      <th></th>\n",
       "      <th>vocal_channel</th>\n",
       "      <th>emotion</th>\n",
       "      <th>emotional_intensity</th>\n",
       "      <th>statement</th>\n",
       "      <th>sex</th>\n",
       "      <th>frame_count</th>\n",
       "      <th>sum</th>\n",
       "      <th>mean</th>\n",
       "      <th>std</th>\n",
       "      <th>min</th>\n",
       "      <th>...</th>\n",
       "      <th>stft_std_w4</th>\n",
       "      <th>stft_min_w4</th>\n",
       "      <th>stft_q01_w4</th>\n",
       "      <th>stft_q05_w4</th>\n",
       "      <th>stft_q25_w4</th>\n",
       "      <th>stft_q50_w4</th>\n",
       "      <th>stft_q75_w4</th>\n",
       "      <th>stft_kur_w4</th>\n",
       "      <th>stft_skew_w4</th>\n",
       "      <th>outliers_LOF</th>\n",
       "    </tr>\n",
       "  </thead>\n",
       "  <tbody>\n",
       "    <tr>\n",
       "      <th>234</th>\n",
       "      <td>0</td>\n",
       "      <td>6</td>\n",
       "      <td>1</td>\n",
       "      <td>0</td>\n",
       "      <td>0</td>\n",
       "      <td>166566</td>\n",
       "      <td>-1.252472</td>\n",
       "      <td>-7.519373e-06</td>\n",
       "      <td>0.032619</td>\n",
       "      <td>-0.360992</td>\n",
       "      <td>...</td>\n",
       "      <td>0.240487</td>\n",
       "      <td>0.034541</td>\n",
       "      <td>0.074704</td>\n",
       "      <td>0.218413</td>\n",
       "      <td>0.597664</td>\n",
       "      <td>0.792696</td>\n",
       "      <td>0.924666</td>\n",
       "      <td>0.156586</td>\n",
       "      <td>-0.969812</td>\n",
       "      <td>-1</td>\n",
       "    </tr>\n",
       "    <tr>\n",
       "      <th>352</th>\n",
       "      <td>0</td>\n",
       "      <td>0</td>\n",
       "      <td>1</td>\n",
       "      <td>1</td>\n",
       "      <td>1</td>\n",
       "      <td>188989</td>\n",
       "      <td>-0.173004</td>\n",
       "      <td>-9.154192e-07</td>\n",
       "      <td>0.041938</td>\n",
       "      <td>-0.357300</td>\n",
       "      <td>...</td>\n",
       "      <td>0.297645</td>\n",
       "      <td>0.026015</td>\n",
       "      <td>0.050132</td>\n",
       "      <td>0.074913</td>\n",
       "      <td>0.186668</td>\n",
       "      <td>0.375093</td>\n",
       "      <td>0.677906</td>\n",
       "      <td>-0.977898</td>\n",
       "      <td>0.520642</td>\n",
       "      <td>-1</td>\n",
       "    </tr>\n",
       "    <tr>\n",
       "      <th>546</th>\n",
       "      <td>0</td>\n",
       "      <td>6</td>\n",
       "      <td>1</td>\n",
       "      <td>0</td>\n",
       "      <td>1</td>\n",
       "      <td>221020</td>\n",
       "      <td>0.617218</td>\n",
       "      <td>2.792589e-06</td>\n",
       "      <td>0.015362</td>\n",
       "      <td>-0.233215</td>\n",
       "      <td>...</td>\n",
       "      <td>0.255465</td>\n",
       "      <td>0.012430</td>\n",
       "      <td>0.033260</td>\n",
       "      <td>0.111236</td>\n",
       "      <td>0.496639</td>\n",
       "      <td>0.676464</td>\n",
       "      <td>0.838886</td>\n",
       "      <td>-0.282704</td>\n",
       "      <td>-0.614345</td>\n",
       "      <td>-1</td>\n",
       "    </tr>\n",
       "    <tr>\n",
       "      <th>589</th>\n",
       "      <td>1</td>\n",
       "      <td>5</td>\n",
       "      <td>1</td>\n",
       "      <td>1</td>\n",
       "      <td>1</td>\n",
       "      <td>304304</td>\n",
       "      <td>-0.247406</td>\n",
       "      <td>-8.130225e-07</td>\n",
       "      <td>0.007213</td>\n",
       "      <td>-0.038147</td>\n",
       "      <td>...</td>\n",
       "      <td>0.244130</td>\n",
       "      <td>0.000000</td>\n",
       "      <td>0.000000</td>\n",
       "      <td>0.000000</td>\n",
       "      <td>0.000000</td>\n",
       "      <td>0.000000</td>\n",
       "      <td>0.007891</td>\n",
       "      <td>7.127631</td>\n",
       "      <td>2.880807</td>\n",
       "      <td>-1</td>\n",
       "    </tr>\n",
       "    <tr>\n",
       "      <th>698</th>\n",
       "      <td>1</td>\n",
       "      <td>2</td>\n",
       "      <td>0</td>\n",
       "      <td>0</td>\n",
       "      <td>0</td>\n",
       "      <td>208208</td>\n",
       "      <td>-3.728546</td>\n",
       "      <td>-1.790779e-05</td>\n",
       "      <td>0.007680</td>\n",
       "      <td>-0.058197</td>\n",
       "      <td>...</td>\n",
       "      <td>0.263412</td>\n",
       "      <td>0.032913</td>\n",
       "      <td>0.049182</td>\n",
       "      <td>0.114918</td>\n",
       "      <td>0.705369</td>\n",
       "      <td>0.851904</td>\n",
       "      <td>0.961261</td>\n",
       "      <td>1.077045</td>\n",
       "      <td>-1.457242</td>\n",
       "      <td>-1</td>\n",
       "    </tr>\n",
       "    <tr>\n",
       "      <th>815</th>\n",
       "      <td>1</td>\n",
       "      <td>6</td>\n",
       "      <td>1</td>\n",
       "      <td>0</td>\n",
       "      <td>1</td>\n",
       "      <td>238638</td>\n",
       "      <td>-0.353271</td>\n",
       "      <td>-1.480366e-06</td>\n",
       "      <td>0.013606</td>\n",
       "      <td>-0.137970</td>\n",
       "      <td>...</td>\n",
       "      <td>0.281130</td>\n",
       "      <td>0.033783</td>\n",
       "      <td>0.059296</td>\n",
       "      <td>0.115940</td>\n",
       "      <td>0.317708</td>\n",
       "      <td>0.539619</td>\n",
       "      <td>0.792487</td>\n",
       "      <td>-1.158128</td>\n",
       "      <td>0.075584</td>\n",
       "      <td>-1</td>\n",
       "    </tr>\n",
       "    <tr>\n",
       "      <th>899</th>\n",
       "      <td>1</td>\n",
       "      <td>5</td>\n",
       "      <td>0</td>\n",
       "      <td>0</td>\n",
       "      <td>0</td>\n",
       "      <td>235435</td>\n",
       "      <td>-0.222931</td>\n",
       "      <td>-9.468894e-07</td>\n",
       "      <td>0.009356</td>\n",
       "      <td>-0.055695</td>\n",
       "      <td>...</td>\n",
       "      <td>0.312810</td>\n",
       "      <td>0.006918</td>\n",
       "      <td>0.011874</td>\n",
       "      <td>0.031803</td>\n",
       "      <td>0.363612</td>\n",
       "      <td>0.663677</td>\n",
       "      <td>0.848071</td>\n",
       "      <td>-0.990703</td>\n",
       "      <td>-0.503741</td>\n",
       "      <td>-1</td>\n",
       "    </tr>\n",
       "    <tr>\n",
       "      <th>935</th>\n",
       "      <td>1</td>\n",
       "      <td>0</td>\n",
       "      <td>1</td>\n",
       "      <td>0</td>\n",
       "      <td>0</td>\n",
       "      <td>198598</td>\n",
       "      <td>-0.564178</td>\n",
       "      <td>-2.840806e-06</td>\n",
       "      <td>0.014016</td>\n",
       "      <td>-0.138062</td>\n",
       "      <td>...</td>\n",
       "      <td>0.291799</td>\n",
       "      <td>0.013814</td>\n",
       "      <td>0.025942</td>\n",
       "      <td>0.098914</td>\n",
       "      <td>0.371273</td>\n",
       "      <td>0.672929</td>\n",
       "      <td>0.866585</td>\n",
       "      <td>-1.051031</td>\n",
       "      <td>-0.422723</td>\n",
       "      <td>-1</td>\n",
       "    </tr>\n",
       "    <tr>\n",
       "      <th>1067</th>\n",
       "      <td>0</td>\n",
       "      <td>6</td>\n",
       "      <td>1</td>\n",
       "      <td>0</td>\n",
       "      <td>0</td>\n",
       "      <td>160160</td>\n",
       "      <td>-0.385742</td>\n",
       "      <td>-2.408480e-06</td>\n",
       "      <td>0.015684</td>\n",
       "      <td>-0.158112</td>\n",
       "      <td>...</td>\n",
       "      <td>0.276639</td>\n",
       "      <td>0.006583</td>\n",
       "      <td>0.011082</td>\n",
       "      <td>0.046899</td>\n",
       "      <td>0.578094</td>\n",
       "      <td>0.785651</td>\n",
       "      <td>0.931819</td>\n",
       "      <td>0.465945</td>\n",
       "      <td>-1.140579</td>\n",
       "      <td>-1</td>\n",
       "    </tr>\n",
       "    <tr>\n",
       "      <th>1765</th>\n",
       "      <td>1</td>\n",
       "      <td>0</td>\n",
       "      <td>1</td>\n",
       "      <td>1</td>\n",
       "      <td>0</td>\n",
       "      <td>211411</td>\n",
       "      <td>-26.329529</td>\n",
       "      <td>-1.245419e-04</td>\n",
       "      <td>0.038981</td>\n",
       "      <td>-0.369354</td>\n",
       "      <td>...</td>\n",
       "      <td>0.301387</td>\n",
       "      <td>0.024696</td>\n",
       "      <td>0.042141</td>\n",
       "      <td>0.075505</td>\n",
       "      <td>0.206936</td>\n",
       "      <td>0.409403</td>\n",
       "      <td>0.736794</td>\n",
       "      <td>-1.174018</td>\n",
       "      <td>0.378637</td>\n",
       "      <td>-1</td>\n",
       "    </tr>\n",
       "    <tr>\n",
       "      <th>1815</th>\n",
       "      <td>0</td>\n",
       "      <td>7</td>\n",
       "      <td>0</td>\n",
       "      <td>0</td>\n",
       "      <td>1</td>\n",
       "      <td>209810</td>\n",
       "      <td>-0.048676</td>\n",
       "      <td>-2.319982e-07</td>\n",
       "      <td>0.014174</td>\n",
       "      <td>-0.110901</td>\n",
       "      <td>...</td>\n",
       "      <td>0.276378</td>\n",
       "      <td>0.046858</td>\n",
       "      <td>0.074199</td>\n",
       "      <td>0.124742</td>\n",
       "      <td>0.307750</td>\n",
       "      <td>0.526850</td>\n",
       "      <td>0.756648</td>\n",
       "      <td>-1.104861</td>\n",
       "      <td>0.149706</td>\n",
       "      <td>-1</td>\n",
       "    </tr>\n",
       "    <tr>\n",
       "      <th>1845</th>\n",
       "      <td>0</td>\n",
       "      <td>2</td>\n",
       "      <td>1</td>\n",
       "      <td>1</td>\n",
       "      <td>0</td>\n",
       "      <td>182582</td>\n",
       "      <td>2.497498</td>\n",
       "      <td>1.367877e-05</td>\n",
       "      <td>0.014532</td>\n",
       "      <td>-0.110443</td>\n",
       "      <td>...</td>\n",
       "      <td>0.288599</td>\n",
       "      <td>0.059205</td>\n",
       "      <td>0.077647</td>\n",
       "      <td>0.135758</td>\n",
       "      <td>0.357265</td>\n",
       "      <td>0.652672</td>\n",
       "      <td>0.870744</td>\n",
       "      <td>-1.246041</td>\n",
       "      <td>-0.265643</td>\n",
       "      <td>-1</td>\n",
       "    </tr>\n",
       "    <tr>\n",
       "      <th>1879</th>\n",
       "      <td>0</td>\n",
       "      <td>7</td>\n",
       "      <td>1</td>\n",
       "      <td>0</td>\n",
       "      <td>0</td>\n",
       "      <td>237037</td>\n",
       "      <td>13.372803</td>\n",
       "      <td>5.641652e-05</td>\n",
       "      <td>0.029130</td>\n",
       "      <td>-0.271332</td>\n",
       "      <td>...</td>\n",
       "      <td>0.293255</td>\n",
       "      <td>0.015299</td>\n",
       "      <td>0.061684</td>\n",
       "      <td>0.119690</td>\n",
       "      <td>0.415602</td>\n",
       "      <td>0.743020</td>\n",
       "      <td>0.916029</td>\n",
       "      <td>-1.005820</td>\n",
       "      <td>-0.558678</td>\n",
       "      <td>-1</td>\n",
       "    </tr>\n",
       "    <tr>\n",
       "      <th>1882</th>\n",
       "      <td>0</td>\n",
       "      <td>3</td>\n",
       "      <td>0</td>\n",
       "      <td>0</td>\n",
       "      <td>0</td>\n",
       "      <td>196996</td>\n",
       "      <td>0.307953</td>\n",
       "      <td>1.563244e-06</td>\n",
       "      <td>0.004184</td>\n",
       "      <td>-0.035309</td>\n",
       "      <td>...</td>\n",
       "      <td>0.231272</td>\n",
       "      <td>0.095721</td>\n",
       "      <td>0.195977</td>\n",
       "      <td>0.275010</td>\n",
       "      <td>0.504595</td>\n",
       "      <td>0.698000</td>\n",
       "      <td>0.892643</td>\n",
       "      <td>-0.950706</td>\n",
       "      <td>-0.308089</td>\n",
       "      <td>-1</td>\n",
       "    </tr>\n",
       "    <tr>\n",
       "      <th>1957</th>\n",
       "      <td>0</td>\n",
       "      <td>6</td>\n",
       "      <td>1</td>\n",
       "      <td>1</td>\n",
       "      <td>1</td>\n",
       "      <td>203403</td>\n",
       "      <td>-0.182556</td>\n",
       "      <td>-8.975096e-07</td>\n",
       "      <td>0.024459</td>\n",
       "      <td>-0.198792</td>\n",
       "      <td>...</td>\n",
       "      <td>0.257225</td>\n",
       "      <td>0.044434</td>\n",
       "      <td>0.095968</td>\n",
       "      <td>0.150847</td>\n",
       "      <td>0.402054</td>\n",
       "      <td>0.628425</td>\n",
       "      <td>0.809733</td>\n",
       "      <td>-0.944341</td>\n",
       "      <td>-0.209751</td>\n",
       "      <td>-1</td>\n",
       "    </tr>\n",
       "    <tr>\n",
       "      <th>1968</th>\n",
       "      <td>0</td>\n",
       "      <td>0</td>\n",
       "      <td>0</td>\n",
       "      <td>1</td>\n",
       "      <td>1</td>\n",
       "      <td>182583</td>\n",
       "      <td>-0.023407</td>\n",
       "      <td>-1.281991e-07</td>\n",
       "      <td>0.003232</td>\n",
       "      <td>-0.027893</td>\n",
       "      <td>...</td>\n",
       "      <td>0.184835</td>\n",
       "      <td>0.208924</td>\n",
       "      <td>0.242260</td>\n",
       "      <td>0.406722</td>\n",
       "      <td>0.603179</td>\n",
       "      <td>0.735519</td>\n",
       "      <td>0.873871</td>\n",
       "      <td>-0.414364</td>\n",
       "      <td>-0.416587</td>\n",
       "      <td>-1</td>\n",
       "    </tr>\n",
       "    <tr>\n",
       "      <th>1970</th>\n",
       "      <td>0</td>\n",
       "      <td>0</td>\n",
       "      <td>0</td>\n",
       "      <td>0</td>\n",
       "      <td>1</td>\n",
       "      <td>188989</td>\n",
       "      <td>-0.033478</td>\n",
       "      <td>-1.771414e-07</td>\n",
       "      <td>0.002568</td>\n",
       "      <td>-0.029388</td>\n",
       "      <td>...</td>\n",
       "      <td>0.190223</td>\n",
       "      <td>0.205461</td>\n",
       "      <td>0.260984</td>\n",
       "      <td>0.361970</td>\n",
       "      <td>0.580081</td>\n",
       "      <td>0.725100</td>\n",
       "      <td>0.856680</td>\n",
       "      <td>-0.551498</td>\n",
       "      <td>-0.356765</td>\n",
       "      <td>-1</td>\n",
       "    </tr>\n",
       "    <tr>\n",
       "      <th>1981</th>\n",
       "      <td>0</td>\n",
       "      <td>7</td>\n",
       "      <td>1</td>\n",
       "      <td>1</td>\n",
       "      <td>1</td>\n",
       "      <td>196996</td>\n",
       "      <td>-0.065430</td>\n",
       "      <td>-3.321371e-07</td>\n",
       "      <td>0.010828</td>\n",
       "      <td>-0.143372</td>\n",
       "      <td>...</td>\n",
       "      <td>0.225121</td>\n",
       "      <td>0.025413</td>\n",
       "      <td>0.074310</td>\n",
       "      <td>0.190557</td>\n",
       "      <td>0.567597</td>\n",
       "      <td>0.715386</td>\n",
       "      <td>0.849348</td>\n",
       "      <td>0.385228</td>\n",
       "      <td>-0.799395</td>\n",
       "      <td>-1</td>\n",
       "    </tr>\n",
       "    <tr>\n",
       "      <th>1982</th>\n",
       "      <td>0</td>\n",
       "      <td>7</td>\n",
       "      <td>1</td>\n",
       "      <td>0</td>\n",
       "      <td>1</td>\n",
       "      <td>227427</td>\n",
       "      <td>-0.023865</td>\n",
       "      <td>-1.049337e-07</td>\n",
       "      <td>0.015268</td>\n",
       "      <td>-0.136780</td>\n",
       "      <td>...</td>\n",
       "      <td>0.277021</td>\n",
       "      <td>0.002342</td>\n",
       "      <td>0.009726</td>\n",
       "      <td>0.079009</td>\n",
       "      <td>0.435994</td>\n",
       "      <td>0.637567</td>\n",
       "      <td>0.818444</td>\n",
       "      <td>-0.664261</td>\n",
       "      <td>-0.462724</td>\n",
       "      <td>-1</td>\n",
       "    </tr>\n",
       "    <tr>\n",
       "      <th>1990</th>\n",
       "      <td>0</td>\n",
       "      <td>3</td>\n",
       "      <td>1</td>\n",
       "      <td>0</td>\n",
       "      <td>1</td>\n",
       "      <td>169769</td>\n",
       "      <td>0.068176</td>\n",
       "      <td>4.015826e-07</td>\n",
       "      <td>0.016805</td>\n",
       "      <td>-0.139832</td>\n",
       "      <td>...</td>\n",
       "      <td>0.235612</td>\n",
       "      <td>0.090575</td>\n",
       "      <td>0.146202</td>\n",
       "      <td>0.204178</td>\n",
       "      <td>0.488685</td>\n",
       "      <td>0.680544</td>\n",
       "      <td>0.828485</td>\n",
       "      <td>-0.684416</td>\n",
       "      <td>-0.395424</td>\n",
       "      <td>-1</td>\n",
       "    </tr>\n",
       "    <tr>\n",
       "      <th>2057</th>\n",
       "      <td>0</td>\n",
       "      <td>6</td>\n",
       "      <td>0</td>\n",
       "      <td>1</td>\n",
       "      <td>0</td>\n",
       "      <td>221021</td>\n",
       "      <td>-0.133820</td>\n",
       "      <td>-6.054609e-07</td>\n",
       "      <td>0.004420</td>\n",
       "      <td>-0.031097</td>\n",
       "      <td>...</td>\n",
       "      <td>0.227171</td>\n",
       "      <td>0.026558</td>\n",
       "      <td>0.058534</td>\n",
       "      <td>0.245733</td>\n",
       "      <td>0.581153</td>\n",
       "      <td>0.744762</td>\n",
       "      <td>0.881645</td>\n",
       "      <td>0.261467</td>\n",
       "      <td>-0.846605</td>\n",
       "      <td>-1</td>\n",
       "    </tr>\n",
       "    <tr>\n",
       "      <th>2227</th>\n",
       "      <td>1</td>\n",
       "      <td>6</td>\n",
       "      <td>1</td>\n",
       "      <td>0</td>\n",
       "      <td>1</td>\n",
       "      <td>278679</td>\n",
       "      <td>0.545593</td>\n",
       "      <td>1.957784e-06</td>\n",
       "      <td>0.035341</td>\n",
       "      <td>-0.203247</td>\n",
       "      <td>...</td>\n",
       "      <td>0.334385</td>\n",
       "      <td>0.000253</td>\n",
       "      <td>0.000763</td>\n",
       "      <td>0.003317</td>\n",
       "      <td>0.202706</td>\n",
       "      <td>0.572781</td>\n",
       "      <td>0.806359</td>\n",
       "      <td>-1.255066</td>\n",
       "      <td>-0.226746</td>\n",
       "      <td>-1</td>\n",
       "    </tr>\n",
       "    <tr>\n",
       "      <th>2375</th>\n",
       "      <td>0</td>\n",
       "      <td>6</td>\n",
       "      <td>1</td>\n",
       "      <td>0</td>\n",
       "      <td>1</td>\n",
       "      <td>224224</td>\n",
       "      <td>0.087250</td>\n",
       "      <td>3.891187e-07</td>\n",
       "      <td>0.004579</td>\n",
       "      <td>-0.041351</td>\n",
       "      <td>...</td>\n",
       "      <td>0.256323</td>\n",
       "      <td>0.009076</td>\n",
       "      <td>0.024134</td>\n",
       "      <td>0.099124</td>\n",
       "      <td>0.485072</td>\n",
       "      <td>0.653754</td>\n",
       "      <td>0.814645</td>\n",
       "      <td>-0.333555</td>\n",
       "      <td>-0.520380</td>\n",
       "      <td>-1</td>\n",
       "    </tr>\n",
       "    <tr>\n",
       "      <th>2392</th>\n",
       "      <td>0</td>\n",
       "      <td>7</td>\n",
       "      <td>0</td>\n",
       "      <td>1</td>\n",
       "      <td>1</td>\n",
       "      <td>206606</td>\n",
       "      <td>-0.088348</td>\n",
       "      <td>-4.276177e-07</td>\n",
       "      <td>0.008534</td>\n",
       "      <td>-0.073273</td>\n",
       "      <td>...</td>\n",
       "      <td>0.258014</td>\n",
       "      <td>0.030374</td>\n",
       "      <td>0.068499</td>\n",
       "      <td>0.139029</td>\n",
       "      <td>0.419990</td>\n",
       "      <td>0.604489</td>\n",
       "      <td>0.804686</td>\n",
       "      <td>-0.870196</td>\n",
       "      <td>-0.189680</td>\n",
       "      <td>-1</td>\n",
       "    </tr>\n",
       "  </tbody>\n",
       "</table>\n",
       "<p>24 rows × 378 columns</p>\n",
       "</div>"
      ],
      "text/plain": [
       "      vocal_channel  emotion  emotional_intensity  statement  sex  \\\n",
       "234               0        6                    1          0    0   \n",
       "352               0        0                    1          1    1   \n",
       "546               0        6                    1          0    1   \n",
       "589               1        5                    1          1    1   \n",
       "698               1        2                    0          0    0   \n",
       "815               1        6                    1          0    1   \n",
       "899               1        5                    0          0    0   \n",
       "935               1        0                    1          0    0   \n",
       "1067              0        6                    1          0    0   \n",
       "1765              1        0                    1          1    0   \n",
       "1815              0        7                    0          0    1   \n",
       "1845              0        2                    1          1    0   \n",
       "1879              0        7                    1          0    0   \n",
       "1882              0        3                    0          0    0   \n",
       "1957              0        6                    1          1    1   \n",
       "1968              0        0                    0          1    1   \n",
       "1970              0        0                    0          0    1   \n",
       "1981              0        7                    1          1    1   \n",
       "1982              0        7                    1          0    1   \n",
       "1990              0        3                    1          0    1   \n",
       "2057              0        6                    0          1    0   \n",
       "2227              1        6                    1          0    1   \n",
       "2375              0        6                    1          0    1   \n",
       "2392              0        7                    0          1    1   \n",
       "\n",
       "      frame_count        sum          mean       std       min  ...  \\\n",
       "234        166566  -1.252472 -7.519373e-06  0.032619 -0.360992  ...   \n",
       "352        188989  -0.173004 -9.154192e-07  0.041938 -0.357300  ...   \n",
       "546        221020   0.617218  2.792589e-06  0.015362 -0.233215  ...   \n",
       "589        304304  -0.247406 -8.130225e-07  0.007213 -0.038147  ...   \n",
       "698        208208  -3.728546 -1.790779e-05  0.007680 -0.058197  ...   \n",
       "815        238638  -0.353271 -1.480366e-06  0.013606 -0.137970  ...   \n",
       "899        235435  -0.222931 -9.468894e-07  0.009356 -0.055695  ...   \n",
       "935        198598  -0.564178 -2.840806e-06  0.014016 -0.138062  ...   \n",
       "1067       160160  -0.385742 -2.408480e-06  0.015684 -0.158112  ...   \n",
       "1765       211411 -26.329529 -1.245419e-04  0.038981 -0.369354  ...   \n",
       "1815       209810  -0.048676 -2.319982e-07  0.014174 -0.110901  ...   \n",
       "1845       182582   2.497498  1.367877e-05  0.014532 -0.110443  ...   \n",
       "1879       237037  13.372803  5.641652e-05  0.029130 -0.271332  ...   \n",
       "1882       196996   0.307953  1.563244e-06  0.004184 -0.035309  ...   \n",
       "1957       203403  -0.182556 -8.975096e-07  0.024459 -0.198792  ...   \n",
       "1968       182583  -0.023407 -1.281991e-07  0.003232 -0.027893  ...   \n",
       "1970       188989  -0.033478 -1.771414e-07  0.002568 -0.029388  ...   \n",
       "1981       196996  -0.065430 -3.321371e-07  0.010828 -0.143372  ...   \n",
       "1982       227427  -0.023865 -1.049337e-07  0.015268 -0.136780  ...   \n",
       "1990       169769   0.068176  4.015826e-07  0.016805 -0.139832  ...   \n",
       "2057       221021  -0.133820 -6.054609e-07  0.004420 -0.031097  ...   \n",
       "2227       278679   0.545593  1.957784e-06  0.035341 -0.203247  ...   \n",
       "2375       224224   0.087250  3.891187e-07  0.004579 -0.041351  ...   \n",
       "2392       206606  -0.088348 -4.276177e-07  0.008534 -0.073273  ...   \n",
       "\n",
       "      stft_std_w4  stft_min_w4  stft_q01_w4  stft_q05_w4  stft_q25_w4  \\\n",
       "234      0.240487     0.034541     0.074704     0.218413     0.597664   \n",
       "352      0.297645     0.026015     0.050132     0.074913     0.186668   \n",
       "546      0.255465     0.012430     0.033260     0.111236     0.496639   \n",
       "589      0.244130     0.000000     0.000000     0.000000     0.000000   \n",
       "698      0.263412     0.032913     0.049182     0.114918     0.705369   \n",
       "815      0.281130     0.033783     0.059296     0.115940     0.317708   \n",
       "899      0.312810     0.006918     0.011874     0.031803     0.363612   \n",
       "935      0.291799     0.013814     0.025942     0.098914     0.371273   \n",
       "1067     0.276639     0.006583     0.011082     0.046899     0.578094   \n",
       "1765     0.301387     0.024696     0.042141     0.075505     0.206936   \n",
       "1815     0.276378     0.046858     0.074199     0.124742     0.307750   \n",
       "1845     0.288599     0.059205     0.077647     0.135758     0.357265   \n",
       "1879     0.293255     0.015299     0.061684     0.119690     0.415602   \n",
       "1882     0.231272     0.095721     0.195977     0.275010     0.504595   \n",
       "1957     0.257225     0.044434     0.095968     0.150847     0.402054   \n",
       "1968     0.184835     0.208924     0.242260     0.406722     0.603179   \n",
       "1970     0.190223     0.205461     0.260984     0.361970     0.580081   \n",
       "1981     0.225121     0.025413     0.074310     0.190557     0.567597   \n",
       "1982     0.277021     0.002342     0.009726     0.079009     0.435994   \n",
       "1990     0.235612     0.090575     0.146202     0.204178     0.488685   \n",
       "2057     0.227171     0.026558     0.058534     0.245733     0.581153   \n",
       "2227     0.334385     0.000253     0.000763     0.003317     0.202706   \n",
       "2375     0.256323     0.009076     0.024134     0.099124     0.485072   \n",
       "2392     0.258014     0.030374     0.068499     0.139029     0.419990   \n",
       "\n",
       "      stft_q50_w4  stft_q75_w4  stft_kur_w4  stft_skew_w4  outliers_LOF  \n",
       "234      0.792696     0.924666     0.156586     -0.969812            -1  \n",
       "352      0.375093     0.677906    -0.977898      0.520642            -1  \n",
       "546      0.676464     0.838886    -0.282704     -0.614345            -1  \n",
       "589      0.000000     0.007891     7.127631      2.880807            -1  \n",
       "698      0.851904     0.961261     1.077045     -1.457242            -1  \n",
       "815      0.539619     0.792487    -1.158128      0.075584            -1  \n",
       "899      0.663677     0.848071    -0.990703     -0.503741            -1  \n",
       "935      0.672929     0.866585    -1.051031     -0.422723            -1  \n",
       "1067     0.785651     0.931819     0.465945     -1.140579            -1  \n",
       "1765     0.409403     0.736794    -1.174018      0.378637            -1  \n",
       "1815     0.526850     0.756648    -1.104861      0.149706            -1  \n",
       "1845     0.652672     0.870744    -1.246041     -0.265643            -1  \n",
       "1879     0.743020     0.916029    -1.005820     -0.558678            -1  \n",
       "1882     0.698000     0.892643    -0.950706     -0.308089            -1  \n",
       "1957     0.628425     0.809733    -0.944341     -0.209751            -1  \n",
       "1968     0.735519     0.873871    -0.414364     -0.416587            -1  \n",
       "1970     0.725100     0.856680    -0.551498     -0.356765            -1  \n",
       "1981     0.715386     0.849348     0.385228     -0.799395            -1  \n",
       "1982     0.637567     0.818444    -0.664261     -0.462724            -1  \n",
       "1990     0.680544     0.828485    -0.684416     -0.395424            -1  \n",
       "2057     0.744762     0.881645     0.261467     -0.846605            -1  \n",
       "2227     0.572781     0.806359    -1.255066     -0.226746            -1  \n",
       "2375     0.653754     0.814645    -0.333555     -0.520380            -1  \n",
       "2392     0.604489     0.804686    -0.870196     -0.189680            -1  \n",
       "\n",
       "[24 rows x 378 columns]"
      ]
     },
     "execution_count": 27,
     "metadata": {},
     "output_type": "execute_result"
    }
   ],
   "source": [
    "df.iloc[np.where(df.outliers_LOF == -1)]"
   ]
  },
  {
   "cell_type": "code",
   "execution_count": 28,
   "metadata": {},
   "outputs": [
    {
     "data": {
      "image/png": "[encoded data removed]",
      "text/plain": [
       "<Figure size 432x288 with 1 Axes>"
      ]
     },
     "metadata": {
      "needs_background": "light"
     },
     "output_type": "display_data"
    }
   ],
   "source": [
    "plt.hist(clf.negative_outlier_factor_, bins=\"auto\")\n",
    "plt.axvline(np.min(clf.negative_outlier_factor_[np.where(outliers==1)]), c='k')\n",
    "plt.show()"
   ]
  },
  {
   "cell_type": "markdown",
   "metadata": {},
   "source": [
    "## COF"
   ]
  },
  {
   "cell_type": "code",
   "execution_count": 29,
   "metadata": {},
   "outputs": [
    {
     "data": {
      "text/plain": [
       "(array([0, 1]), array([2206,  246]))"
      ]
     },
     "execution_count": 29,
     "metadata": {},
     "output_type": "execute_result"
    }
   ],
   "source": [
    "clf = COF(n_neighbors=5)\n",
    "clf.fit(X)\n",
    "outliers = clf.predict(X)\n",
    "np.unique(outliers, return_counts=True)"
   ]
  },
  {
   "cell_type": "code",
   "execution_count": 30,
   "metadata": {},
   "outputs": [
    {
     "data": {
      "text/plain": [
       "array([1, 1, 1, ..., 1, 1, 1])"
      ]
     },
     "execution_count": 30,
     "metadata": {},
     "output_type": "execute_result"
    }
   ],
   "source": [
    "for i in range(len(outliers)):\n",
    "    if outliers[i] == 0:\n",
    "        outliers[i] = 1\n",
    "    else:\n",
    "        outliers[i] = -1\n",
    "outliers"
   ]
  },
  {
   "cell_type": "code",
   "execution_count": 31,
   "metadata": {},
   "outputs": [],
   "source": [
    "#df[\"outliers_cof\"] = outliers"
   ]
  },
  {
   "cell_type": "code",
   "execution_count": 32,
   "metadata": {},
   "outputs": [],
   "source": [
    "#df.iloc[np.where(df.outliers_cof == -1)]"
   ]
  },
  {
   "cell_type": "code",
   "execution_count": 33,
   "metadata": {},
   "outputs": [
    {
     "data": {
      "image/png": "[encoded data removed]",
      "text/plain": [
       "<Figure size 432x288 with 1 Axes>"
      ]
     },
     "metadata": {
      "needs_background": "light"
     },
     "output_type": "display_data"
    }
   ],
   "source": [
    "plt.hist(clf.decision_scores_, bins=20)\n",
    "plt.axvline(np.min(clf.decision_scores_[np.where(outliers==-1)]), c='k')\n",
    "plt.show()"
   ]
  },
  {
   "cell_type": "markdown",
   "metadata": {},
   "source": [
    "# Cluster Based"
   ]
  },
  {
   "cell_type": "markdown",
   "metadata": {},
   "source": [
    "## DBSCAN"
   ]
  },
  {
   "cell_type": "code",
   "execution_count": 34,
   "metadata": {},
   "outputs": [
    {
     "data": {
      "text/plain": [
       "(array([   1,    2,    3,    4,    7,    8,   11,   24,   48,   71,  100,\n",
       "         151,  242,  349,  592, 1336, 2413, 2452]),\n",
       " array([1, 1, 2, 1, 1, 1, 1, 1, 1, 1, 1, 1, 1, 1, 1, 1, 1, 1]))"
      ]
     },
     "execution_count": 34,
     "metadata": {},
     "output_type": "execute_result"
    }
   ],
   "source": [
    "outliers=[]\n",
    "for i in range(1,20):    \n",
    "    dbscan = DBSCAN(eps=i, min_samples=5)\n",
    "    dbscan.fit(X)\n",
    "    outliers.append((dbscan.labels_==-1).sum())\n",
    "np.unique(outliers, return_counts=True)"
   ]
  },
  {
   "cell_type": "code",
   "execution_count": 35,
   "metadata": {},
   "outputs": [
    {
     "data": {
      "image/png": "[encoded data removed]",
      "text/plain": [
       "<Figure size 432x288 with 1 Axes>"
      ]
     },
     "metadata": {
      "needs_background": "light"
     },
     "output_type": "display_data"
    }
   ],
   "source": [
    "plt.scatter(x=range(1,20), y=outliers, s=10)\n",
    "plt.xlabel(\"eps\")\n",
    "plt.ylabel(\"outliers\")\n",
    "plt.title(\"min_samples=5\")\n",
    "plt.show()"
   ]
  },
  {
   "cell_type": "markdown",
   "metadata": {},
   "source": [
    "## CBLOF"
   ]
  },
  {
   "cell_type": "code",
   "execution_count": 36,
   "metadata": {},
   "outputs": [
    {
     "name": "stdout",
     "output_type": "stream",
     "text": [
      "(array([0, 1]), array([2206,  246]))\n",
      "(array([0, 1]), array([2206,  246]))\n",
      "(array([0, 1]), array([2206,  246]))\n",
      "(array([0, 1]), array([2206,  246]))\n",
      "(array([0, 1]), array([2206,  246]))\n",
      "(array([0, 1]), array([2206,  246]))\n",
      "(array([0, 1]), array([2206,  246]))\n",
      "(array([0, 1]), array([2206,  246]))\n",
      "(array([0, 1]), array([2206,  246]))\n",
      "(array([0, 1]), array([2206,  246]))\n",
      "(array([0, 1]), array([2206,  246]))\n",
      "(array([0, 1]), array([2206,  246]))\n",
      "(array([0, 1]), array([2206,  246]))\n",
      "(array([0, 1]), array([2206,  246]))\n",
      "(array([0, 1]), array([2206,  246]))\n",
      "(array([0, 1]), array([2206,  246]))\n",
      "(array([0, 1]), array([2206,  246]))\n",
      "(array([0, 1]), array([2206,  246]))\n",
      "(array([0, 1]), array([2206,  246]))\n",
      "(array([0, 1]), array([2206,  246]))\n",
      "(array([0, 1]), array([2206,  246]))\n",
      "(array([0, 1]), array([2206,  246]))\n",
      "(array([0, 1]), array([2206,  246]))\n",
      "(array([0, 1]), array([2206,  246]))\n",
      "(array([0, 1]), array([2206,  246]))\n",
      "(array([0, 1]), array([2206,  246]))\n",
      "(array([0, 1]), array([2206,  246]))\n"
     ]
    }
   ],
   "source": [
    "\n",
    "outliers_list_cblof = []\n",
    "for i in range(3,30):\n",
    "    clf = CBLOF(n_clusters=i, alpha=0.5, beta=3)\n",
    "    clf.fit(X)\n",
    "    outliers = clf.predict(X)\n",
    "    print(np.unique(outliers, return_counts=True))\n",
    "    outliers_list_cblof.append(np.unique(outliers, return_counts=True)[1][1])\n",
    "\n",
    "#len(outliers_list_cblof)\n",
    "#outliers_list_cblof"
   ]
  },
  {
   "cell_type": "code",
   "execution_count": 37,
   "metadata": {},
   "outputs": [
    {
     "data": {
      "text/plain": [
       "array([1704, 1594, 1966,  658,  241,  240, 1801,  346, 1075,  243, 1757,\n",
       "       1803, 1878, 1964, 2026, 2234, 1975,  563, 1862,  234,  659, 1283,\n",
       "       1861,   35])"
      ]
     },
     "execution_count": 37,
     "metadata": {},
     "output_type": "execute_result"
    }
   ],
   "source": [
    "OS = clf.decision_scores_ #the lower the more normal\n",
    "ind = np.argpartition(OS, -int(len(df)*0.01))[-int(len(df)*0.01):] # indice dei top 1% outliers\n",
    "ind"
   ]
  },
  {
   "cell_type": "code",
   "execution_count": 38,
   "metadata": {},
   "outputs": [
    {
     "name": "stderr",
     "output_type": "stream",
     "text": [
      "/var/folders/5p/ssqpg4td2mn8_4_dm85f8n5m0000gn/T/ipykernel_6357/3000840312.py:6: SettingWithCopyWarning: \n",
      "A value is trying to be set on a copy of a slice from a DataFrame\n",
      "\n",
      "See the caveats in the documentation: https://pandas.pydata.org/pandas-docs/stable/user_guide/indexing.html#returning-a-view-versus-a-copy\n",
      "  df[\"outliers_CBLOF\"][i] = 1\n",
      "/var/folders/5p/ssqpg4td2mn8_4_dm85f8n5m0000gn/T/ipykernel_6357/3000840312.py:4: SettingWithCopyWarning: \n",
      "A value is trying to be set on a copy of a slice from a DataFrame\n",
      "\n",
      "See the caveats in the documentation: https://pandas.pydata.org/pandas-docs/stable/user_guide/indexing.html#returning-a-view-versus-a-copy\n",
      "  df[\"outliers_CBLOF\"][i] = -1\n"
     ]
    }
   ],
   "source": [
    "df[\"outliers_CBLOF\"] = 0\n",
    "for i in range(len(df)):\n",
    "    if i in ind:\n",
    "        df[\"outliers_CBLOF\"][i] = -1\n",
    "    else:\n",
    "        df[\"outliers_CBLOF\"][i] = 1"
   ]
  },
  {
   "cell_type": "code",
   "execution_count": 39,
   "metadata": {},
   "outputs": [
    {
     "data": {
      "text/html": [
       "<div>\n",
       "<style scoped>\n",
       "    .dataframe tbody tr th:only-of-type {\n",
       "        vertical-align: middle;\n",
       "    }\n",
       "\n",
       "    .dataframe tbody tr th {\n",
       "        vertical-align: top;\n",
       "    }\n",
       "\n",
       "    .dataframe thead th {\n",
       "        text-align: right;\n",
       "    }\n",
       "</style>\n",
       "<table border=\"1\" class=\"dataframe\">\n",
       "  <thead>\n",
       "    <tr style=\"text-align: right;\">\n",
       "      <th></th>\n",
       "      <th>vocal_channel</th>\n",
       "      <th>emotion</th>\n",
       "      <th>emotional_intensity</th>\n",
       "      <th>statement</th>\n",
       "      <th>sex</th>\n",
       "      <th>frame_count</th>\n",
       "      <th>sum</th>\n",
       "      <th>mean</th>\n",
       "      <th>std</th>\n",
       "      <th>min</th>\n",
       "      <th>...</th>\n",
       "      <th>stft_min_w4</th>\n",
       "      <th>stft_q01_w4</th>\n",
       "      <th>stft_q05_w4</th>\n",
       "      <th>stft_q25_w4</th>\n",
       "      <th>stft_q50_w4</th>\n",
       "      <th>stft_q75_w4</th>\n",
       "      <th>stft_kur_w4</th>\n",
       "      <th>stft_skew_w4</th>\n",
       "      <th>outliers_LOF</th>\n",
       "      <th>outliers_CBLOF</th>\n",
       "    </tr>\n",
       "  </thead>\n",
       "  <tbody>\n",
       "    <tr>\n",
       "      <th>35</th>\n",
       "      <td>0</td>\n",
       "      <td>1</td>\n",
       "      <td>1</td>\n",
       "      <td>0</td>\n",
       "      <td>0</td>\n",
       "      <td>213013</td>\n",
       "      <td>-9.211029</td>\n",
       "      <td>-0.000043</td>\n",
       "      <td>0.149701</td>\n",
       "      <td>-0.971649</td>\n",
       "      <td>...</td>\n",
       "      <td>0.035675</td>\n",
       "      <td>0.070545</td>\n",
       "      <td>0.122659</td>\n",
       "      <td>0.292612</td>\n",
       "      <td>0.484957</td>\n",
       "      <td>0.751114</td>\n",
       "      <td>-1.098503</td>\n",
       "      <td>0.225204</td>\n",
       "      <td>1</td>\n",
       "      <td>-1</td>\n",
       "    </tr>\n",
       "    <tr>\n",
       "      <th>234</th>\n",
       "      <td>0</td>\n",
       "      <td>6</td>\n",
       "      <td>1</td>\n",
       "      <td>0</td>\n",
       "      <td>0</td>\n",
       "      <td>166566</td>\n",
       "      <td>-1.252472</td>\n",
       "      <td>-0.000008</td>\n",
       "      <td>0.032619</td>\n",
       "      <td>-0.360992</td>\n",
       "      <td>...</td>\n",
       "      <td>0.034541</td>\n",
       "      <td>0.074704</td>\n",
       "      <td>0.218413</td>\n",
       "      <td>0.597664</td>\n",
       "      <td>0.792696</td>\n",
       "      <td>0.924666</td>\n",
       "      <td>0.156586</td>\n",
       "      <td>-0.969812</td>\n",
       "      <td>-1</td>\n",
       "      <td>-1</td>\n",
       "    </tr>\n",
       "    <tr>\n",
       "      <th>240</th>\n",
       "      <td>0</td>\n",
       "      <td>1</td>\n",
       "      <td>1</td>\n",
       "      <td>1</td>\n",
       "      <td>0</td>\n",
       "      <td>211411</td>\n",
       "      <td>-4.979034</td>\n",
       "      <td>-0.000024</td>\n",
       "      <td>0.089317</td>\n",
       "      <td>-0.963928</td>\n",
       "      <td>...</td>\n",
       "      <td>0.066911</td>\n",
       "      <td>0.108532</td>\n",
       "      <td>0.232051</td>\n",
       "      <td>0.517947</td>\n",
       "      <td>0.706479</td>\n",
       "      <td>0.873016</td>\n",
       "      <td>-0.566148</td>\n",
       "      <td>-0.498224</td>\n",
       "      <td>1</td>\n",
       "      <td>-1</td>\n",
       "    </tr>\n",
       "    <tr>\n",
       "      <th>241</th>\n",
       "      <td>0</td>\n",
       "      <td>1</td>\n",
       "      <td>1</td>\n",
       "      <td>1</td>\n",
       "      <td>0</td>\n",
       "      <td>211412</td>\n",
       "      <td>7.284607</td>\n",
       "      <td>0.000034</td>\n",
       "      <td>0.087604</td>\n",
       "      <td>-0.998810</td>\n",
       "      <td>...</td>\n",
       "      <td>0.029732</td>\n",
       "      <td>0.119145</td>\n",
       "      <td>0.266537</td>\n",
       "      <td>0.520887</td>\n",
       "      <td>0.692956</td>\n",
       "      <td>0.856511</td>\n",
       "      <td>-0.483418</td>\n",
       "      <td>-0.449991</td>\n",
       "      <td>1</td>\n",
       "      <td>-1</td>\n",
       "    </tr>\n",
       "    <tr>\n",
       "      <th>243</th>\n",
       "      <td>0</td>\n",
       "      <td>1</td>\n",
       "      <td>1</td>\n",
       "      <td>0</td>\n",
       "      <td>0</td>\n",
       "      <td>216216</td>\n",
       "      <td>-0.476227</td>\n",
       "      <td>-0.000002</td>\n",
       "      <td>0.104572</td>\n",
       "      <td>-0.944122</td>\n",
       "      <td>...</td>\n",
       "      <td>0.078238</td>\n",
       "      <td>0.115917</td>\n",
       "      <td>0.221915</td>\n",
       "      <td>0.466304</td>\n",
       "      <td>0.629270</td>\n",
       "      <td>0.809098</td>\n",
       "      <td>-0.688100</td>\n",
       "      <td>-0.164156</td>\n",
       "      <td>1</td>\n",
       "      <td>-1</td>\n",
       "    </tr>\n",
       "  </tbody>\n",
       "</table>\n",
       "<p>5 rows × 379 columns</p>\n",
       "</div>"
      ],
      "text/plain": [
       "     vocal_channel  emotion  emotional_intensity  statement  sex  frame_count  \\\n",
       "35               0        1                    1          0    0       213013   \n",
       "234              0        6                    1          0    0       166566   \n",
       "240              0        1                    1          1    0       211411   \n",
       "241              0        1                    1          1    0       211412   \n",
       "243              0        1                    1          0    0       216216   \n",
       "\n",
       "          sum      mean       std       min  ...  stft_min_w4  stft_q01_w4  \\\n",
       "35  -9.211029 -0.000043  0.149701 -0.971649  ...     0.035675     0.070545   \n",
       "234 -1.252472 -0.000008  0.032619 -0.360992  ...     0.034541     0.074704   \n",
       "240 -4.979034 -0.000024  0.089317 -0.963928  ...     0.066911     0.108532   \n",
       "241  7.284607  0.000034  0.087604 -0.998810  ...     0.029732     0.119145   \n",
       "243 -0.476227 -0.000002  0.104572 -0.944122  ...     0.078238     0.115917   \n",
       "\n",
       "     stft_q05_w4  stft_q25_w4  stft_q50_w4  stft_q75_w4  stft_kur_w4  \\\n",
       "35      0.122659     0.292612     0.484957     0.751114    -1.098503   \n",
       "234     0.218413     0.597664     0.792696     0.924666     0.156586   \n",
       "240     0.232051     0.517947     0.706479     0.873016    -0.566148   \n",
       "241     0.266537     0.520887     0.692956     0.856511    -0.483418   \n",
       "243     0.221915     0.466304     0.629270     0.809098    -0.688100   \n",
       "\n",
       "     stft_skew_w4  outliers_LOF  outliers_CBLOF  \n",
       "35       0.225204             1              -1  \n",
       "234     -0.969812            -1              -1  \n",
       "240     -0.498224             1              -1  \n",
       "241     -0.449991             1              -1  \n",
       "243     -0.164156             1              -1  \n",
       "\n",
       "[5 rows x 379 columns]"
      ]
     },
     "execution_count": 39,
     "metadata": {},
     "output_type": "execute_result"
    }
   ],
   "source": [
    "df.iloc[np.where(df.outliers_CBLOF == -1)].head()"
   ]
  },
  {
   "cell_type": "code",
   "execution_count": 40,
   "metadata": {},
   "outputs": [
    {
     "data": {
      "text/plain": [
       "array([0, 0, 0, ..., 0, 0, 0])"
      ]
     },
     "execution_count": 40,
     "metadata": {},
     "output_type": "execute_result"
    }
   ],
   "source": [
    "outliers"
   ]
  },
  {
   "cell_type": "code",
   "execution_count": 41,
   "metadata": {},
   "outputs": [
    {
     "data": {
      "image/png": "[encoded data removed]",
      "text/plain": [
       "<Figure size 432x288 with 1 Axes>"
      ]
     },
     "metadata": {
      "needs_background": "light"
     },
     "output_type": "display_data"
    }
   ],
   "source": [
    "plt.hist(clf.decision_scores_, bins=\"auto\")\n",
    "plt.axvline(np.min(clf.decision_scores_[np.where(outliers==1)]), c='k')\n",
    "plt.show()"
   ]
  },
  {
   "cell_type": "markdown",
   "metadata": {},
   "source": [
    "# Angle Based"
   ]
  },
  {
   "cell_type": "markdown",
   "metadata": {},
   "source": [
    "## ABOD"
   ]
  },
  {
   "cell_type": "code",
   "execution_count": 42,
   "metadata": {},
   "outputs": [
    {
     "name": "stderr",
     "output_type": "stream",
     "text": [
      "/Users/jacopogneri/opt/anaconda3/lib/python3.9/site-packages/numpy/core/fromnumeric.py:3723: RuntimeWarning: Degrees of freedom <= 0 for slice\n",
      "  return _methods._var(a, axis=axis, dtype=dtype, out=out, ddof=ddof,\n",
      "/Users/jacopogneri/opt/anaconda3/lib/python3.9/site-packages/numpy/core/_methods.py:222: RuntimeWarning: invalid value encountered in true_divide\n",
      "  arrmean = um.true_divide(arrmean, div, out=arrmean, casting='unsafe',\n",
      "/Users/jacopogneri/opt/anaconda3/lib/python3.9/site-packages/numpy/core/_methods.py:254: RuntimeWarning: invalid value encountered in double_scalars\n",
      "  ret = ret.dtype.type(ret / rcount)\n"
     ]
    },
    {
     "name": "stdout",
     "output_type": "stream",
     "text": [
      "(array([0, 1]), array([   2, 2450]))\n",
      "(array([0, 1]), array([2073,  379]))\n",
      "(array([0, 1]), array([2178,  274]))\n",
      "(array([0, 1]), array([2198,  254]))\n",
      "(array([0, 1]), array([2201,  251]))\n",
      "(array([0, 1]), array([2204,  248]))\n",
      "(array([0, 1]), array([2208,  244]))\n",
      "(array([0, 1]), array([2207,  245]))\n",
      "(array([0, 1]), array([2217,  235]))\n",
      "(array([0, 1]), array([2213,  239]))\n",
      "(array([0, 1]), array([2213,  239]))\n",
      "(array([0, 1]), array([2214,  238]))\n"
     ]
    },
    {
     "data": {
      "image/png": "[encoded data removed]",
      "text/plain": [
       "<Figure size 432x288 with 1 Axes>"
      ]
     },
     "metadata": {
      "needs_background": "light"
     },
     "output_type": "display_data"
    }
   ],
   "source": [
    "\n",
    "outliers_list_abod = []\n",
    "for i in range(3,15):\n",
    "    clf = ABOD(n_neighbors=i)\n",
    "    clf.fit(X)\n",
    "    outliers = clf.predict(X)\n",
    "    outliers_list_abod.append(np.unique(outliers, return_counts=True)[1][1])\n",
    "    print(np.unique(outliers, return_counts=True))\n",
    "    \n",
    "plt.scatter(x=np.arange(3,15), y=outliers_list_abod)\n",
    "plt.show()\n"
   ]
  },
  {
   "cell_type": "code",
   "execution_count": 43,
   "metadata": {},
   "outputs": [
    {
     "data": {
      "text/plain": [
       "(array([0, 1]), array([2214,  238]))"
      ]
     },
     "execution_count": 43,
     "metadata": {},
     "output_type": "execute_result"
    }
   ],
   "source": [
    "np.unique(outliers, return_counts=True)"
   ]
  },
  {
   "cell_type": "code",
   "execution_count": 44,
   "metadata": {},
   "outputs": [
    {
     "data": {
      "text/plain": [
       "array([1757,  761,  241, 1878, 1975, 1964, 2025, 2024,  555,  554, 2027,\n",
       "       1031,  346, 1075,  658,  563, 2026,  243, 1283,  659,   35, 1861,\n",
       "       1862,  234])"
      ]
     },
     "execution_count": 44,
     "metadata": {},
     "output_type": "execute_result"
    }
   ],
   "source": [
    "OS = clf.decision_scores_ #the lower the more normal\n",
    "ind = np.argpartition(OS, -int(len(df)*0.01))[-int(len(df)*0.01):] # indice dei top 1% outliers\n",
    "ind"
   ]
  },
  {
   "cell_type": "code",
   "execution_count": 45,
   "metadata": {},
   "outputs": [
    {
     "data": {
      "text/plain": [
       "2452"
      ]
     },
     "execution_count": 45,
     "metadata": {},
     "output_type": "execute_result"
    }
   ],
   "source": [
    "num = np.argpartition(OS, -int(len(df)*1))[-int(len(df)*1):] # indice dei top 1% outliers\n",
    "len(num)"
   ]
  },
  {
   "cell_type": "code",
   "execution_count": 46,
   "metadata": {},
   "outputs": [
    {
     "name": "stderr",
     "output_type": "stream",
     "text": [
      "/var/folders/5p/ssqpg4td2mn8_4_dm85f8n5m0000gn/T/ipykernel_6357/3807823159.py:6: SettingWithCopyWarning: \n",
      "A value is trying to be set on a copy of a slice from a DataFrame\n",
      "\n",
      "See the caveats in the documentation: https://pandas.pydata.org/pandas-docs/stable/user_guide/indexing.html#returning-a-view-versus-a-copy\n",
      "  df[\"outliers_ABOD\"][i] = 1\n",
      "/var/folders/5p/ssqpg4td2mn8_4_dm85f8n5m0000gn/T/ipykernel_6357/3807823159.py:4: SettingWithCopyWarning: \n",
      "A value is trying to be set on a copy of a slice from a DataFrame\n",
      "\n",
      "See the caveats in the documentation: https://pandas.pydata.org/pandas-docs/stable/user_guide/indexing.html#returning-a-view-versus-a-copy\n",
      "  df[\"outliers_ABOD\"][i] = -1\n"
     ]
    }
   ],
   "source": [
    "df[\"outliers_ABOD\"] = 0\n",
    "for i in range(len(df)):\n",
    "    if i in ind:\n",
    "        df[\"outliers_ABOD\"][i] = -1\n",
    "    else:\n",
    "        df[\"outliers_ABOD\"][i] = 1"
   ]
  },
  {
   "cell_type": "code",
   "execution_count": 47,
   "metadata": {},
   "outputs": [
    {
     "data": {
      "text/html": [
       "<div>\n",
       "<style scoped>\n",
       "    .dataframe tbody tr th:only-of-type {\n",
       "        vertical-align: middle;\n",
       "    }\n",
       "\n",
       "    .dataframe tbody tr th {\n",
       "        vertical-align: top;\n",
       "    }\n",
       "\n",
       "    .dataframe thead th {\n",
       "        text-align: right;\n",
       "    }\n",
       "</style>\n",
       "<table border=\"1\" class=\"dataframe\">\n",
       "  <thead>\n",
       "    <tr style=\"text-align: right;\">\n",
       "      <th></th>\n",
       "      <th>vocal_channel</th>\n",
       "      <th>emotion</th>\n",
       "      <th>emotional_intensity</th>\n",
       "      <th>statement</th>\n",
       "      <th>sex</th>\n",
       "      <th>frame_count</th>\n",
       "      <th>sum</th>\n",
       "      <th>mean</th>\n",
       "      <th>std</th>\n",
       "      <th>min</th>\n",
       "      <th>...</th>\n",
       "      <th>stft_q01_w4</th>\n",
       "      <th>stft_q05_w4</th>\n",
       "      <th>stft_q25_w4</th>\n",
       "      <th>stft_q50_w4</th>\n",
       "      <th>stft_q75_w4</th>\n",
       "      <th>stft_kur_w4</th>\n",
       "      <th>stft_skew_w4</th>\n",
       "      <th>outliers_LOF</th>\n",
       "      <th>outliers_CBLOF</th>\n",
       "      <th>outliers_ABOD</th>\n",
       "    </tr>\n",
       "  </thead>\n",
       "  <tbody>\n",
       "    <tr>\n",
       "      <th>35</th>\n",
       "      <td>0</td>\n",
       "      <td>1</td>\n",
       "      <td>1</td>\n",
       "      <td>0</td>\n",
       "      <td>0</td>\n",
       "      <td>213013</td>\n",
       "      <td>-9.211029</td>\n",
       "      <td>-4.324163e-05</td>\n",
       "      <td>0.149701</td>\n",
       "      <td>-0.971649</td>\n",
       "      <td>...</td>\n",
       "      <td>0.070545</td>\n",
       "      <td>0.122659</td>\n",
       "      <td>0.292612</td>\n",
       "      <td>0.484957</td>\n",
       "      <td>0.751114</td>\n",
       "      <td>-1.098503</td>\n",
       "      <td>0.225204</td>\n",
       "      <td>1</td>\n",
       "      <td>-1</td>\n",
       "      <td>-1</td>\n",
       "    </tr>\n",
       "    <tr>\n",
       "      <th>234</th>\n",
       "      <td>0</td>\n",
       "      <td>6</td>\n",
       "      <td>1</td>\n",
       "      <td>0</td>\n",
       "      <td>0</td>\n",
       "      <td>166566</td>\n",
       "      <td>-1.252472</td>\n",
       "      <td>-7.519373e-06</td>\n",
       "      <td>0.032619</td>\n",
       "      <td>-0.360992</td>\n",
       "      <td>...</td>\n",
       "      <td>0.074704</td>\n",
       "      <td>0.218413</td>\n",
       "      <td>0.597664</td>\n",
       "      <td>0.792696</td>\n",
       "      <td>0.924666</td>\n",
       "      <td>0.156586</td>\n",
       "      <td>-0.969812</td>\n",
       "      <td>-1</td>\n",
       "      <td>-1</td>\n",
       "      <td>-1</td>\n",
       "    </tr>\n",
       "    <tr>\n",
       "      <th>241</th>\n",
       "      <td>0</td>\n",
       "      <td>1</td>\n",
       "      <td>1</td>\n",
       "      <td>1</td>\n",
       "      <td>0</td>\n",
       "      <td>211412</td>\n",
       "      <td>7.284607</td>\n",
       "      <td>3.445692e-05</td>\n",
       "      <td>0.087604</td>\n",
       "      <td>-0.998810</td>\n",
       "      <td>...</td>\n",
       "      <td>0.119145</td>\n",
       "      <td>0.266537</td>\n",
       "      <td>0.520887</td>\n",
       "      <td>0.692956</td>\n",
       "      <td>0.856511</td>\n",
       "      <td>-0.483418</td>\n",
       "      <td>-0.449991</td>\n",
       "      <td>1</td>\n",
       "      <td>-1</td>\n",
       "      <td>-1</td>\n",
       "    </tr>\n",
       "    <tr>\n",
       "      <th>243</th>\n",
       "      <td>0</td>\n",
       "      <td>1</td>\n",
       "      <td>1</td>\n",
       "      <td>0</td>\n",
       "      <td>0</td>\n",
       "      <td>216216</td>\n",
       "      <td>-0.476227</td>\n",
       "      <td>-2.202551e-06</td>\n",
       "      <td>0.104572</td>\n",
       "      <td>-0.944122</td>\n",
       "      <td>...</td>\n",
       "      <td>0.115917</td>\n",
       "      <td>0.221915</td>\n",
       "      <td>0.466304</td>\n",
       "      <td>0.629270</td>\n",
       "      <td>0.809098</td>\n",
       "      <td>-0.688100</td>\n",
       "      <td>-0.164156</td>\n",
       "      <td>1</td>\n",
       "      <td>-1</td>\n",
       "      <td>-1</td>\n",
       "    </tr>\n",
       "    <tr>\n",
       "      <th>346</th>\n",
       "      <td>0</td>\n",
       "      <td>1</td>\n",
       "      <td>1</td>\n",
       "      <td>0</td>\n",
       "      <td>1</td>\n",
       "      <td>177777</td>\n",
       "      <td>-0.004974</td>\n",
       "      <td>-2.798093e-08</td>\n",
       "      <td>0.072248</td>\n",
       "      <td>-0.862366</td>\n",
       "      <td>...</td>\n",
       "      <td>0.289735</td>\n",
       "      <td>0.371105</td>\n",
       "      <td>0.554598</td>\n",
       "      <td>0.702927</td>\n",
       "      <td>0.851481</td>\n",
       "      <td>-0.856788</td>\n",
       "      <td>-0.147625</td>\n",
       "      <td>1</td>\n",
       "      <td>-1</td>\n",
       "      <td>-1</td>\n",
       "    </tr>\n",
       "    <tr>\n",
       "      <th>554</th>\n",
       "      <td>0</td>\n",
       "      <td>1</td>\n",
       "      <td>1</td>\n",
       "      <td>0</td>\n",
       "      <td>1</td>\n",
       "      <td>213013</td>\n",
       "      <td>0.785797</td>\n",
       "      <td>3.688963e-06</td>\n",
       "      <td>0.091451</td>\n",
       "      <td>-0.633057</td>\n",
       "      <td>...</td>\n",
       "      <td>0.016566</td>\n",
       "      <td>0.041669</td>\n",
       "      <td>0.294650</td>\n",
       "      <td>0.659654</td>\n",
       "      <td>0.854806</td>\n",
       "      <td>-1.151544</td>\n",
       "      <td>-0.429745</td>\n",
       "      <td>1</td>\n",
       "      <td>1</td>\n",
       "      <td>-1</td>\n",
       "    </tr>\n",
       "    <tr>\n",
       "      <th>555</th>\n",
       "      <td>0</td>\n",
       "      <td>1</td>\n",
       "      <td>1</td>\n",
       "      <td>0</td>\n",
       "      <td>1</td>\n",
       "      <td>214614</td>\n",
       "      <td>0.211212</td>\n",
       "      <td>9.841490e-07</td>\n",
       "      <td>0.088013</td>\n",
       "      <td>-0.676880</td>\n",
       "      <td>...</td>\n",
       "      <td>0.063484</td>\n",
       "      <td>0.114294</td>\n",
       "      <td>0.292658</td>\n",
       "      <td>0.588257</td>\n",
       "      <td>0.806210</td>\n",
       "      <td>-1.262910</td>\n",
       "      <td>-0.082460</td>\n",
       "      <td>1</td>\n",
       "      <td>1</td>\n",
       "      <td>-1</td>\n",
       "    </tr>\n",
       "    <tr>\n",
       "      <th>563</th>\n",
       "      <td>0</td>\n",
       "      <td>0</td>\n",
       "      <td>1</td>\n",
       "      <td>0</td>\n",
       "      <td>1</td>\n",
       "      <td>179379</td>\n",
       "      <td>-0.203125</td>\n",
       "      <td>-1.132379e-06</td>\n",
       "      <td>0.121231</td>\n",
       "      <td>-0.727966</td>\n",
       "      <td>...</td>\n",
       "      <td>0.027173</td>\n",
       "      <td>0.050573</td>\n",
       "      <td>0.133121</td>\n",
       "      <td>0.250091</td>\n",
       "      <td>0.519727</td>\n",
       "      <td>-0.175535</td>\n",
       "      <td>1.000085</td>\n",
       "      <td>1</td>\n",
       "      <td>-1</td>\n",
       "      <td>-1</td>\n",
       "    </tr>\n",
       "    <tr>\n",
       "      <th>658</th>\n",
       "      <td>0</td>\n",
       "      <td>1</td>\n",
       "      <td>1</td>\n",
       "      <td>0</td>\n",
       "      <td>0</td>\n",
       "      <td>184184</td>\n",
       "      <td>-6.383972</td>\n",
       "      <td>-3.466084e-05</td>\n",
       "      <td>0.120286</td>\n",
       "      <td>-0.976166</td>\n",
       "      <td>...</td>\n",
       "      <td>0.168465</td>\n",
       "      <td>0.339421</td>\n",
       "      <td>0.667964</td>\n",
       "      <td>0.808485</td>\n",
       "      <td>0.929470</td>\n",
       "      <td>0.928971</td>\n",
       "      <td>-1.099596</td>\n",
       "      <td>1</td>\n",
       "      <td>-1</td>\n",
       "      <td>-1</td>\n",
       "    </tr>\n",
       "    <tr>\n",
       "      <th>659</th>\n",
       "      <td>0</td>\n",
       "      <td>1</td>\n",
       "      <td>1</td>\n",
       "      <td>0</td>\n",
       "      <td>0</td>\n",
       "      <td>208208</td>\n",
       "      <td>2.806671</td>\n",
       "      <td>1.348013e-05</td>\n",
       "      <td>0.096210</td>\n",
       "      <td>-0.763763</td>\n",
       "      <td>...</td>\n",
       "      <td>0.146228</td>\n",
       "      <td>0.348227</td>\n",
       "      <td>0.740867</td>\n",
       "      <td>0.877829</td>\n",
       "      <td>0.969386</td>\n",
       "      <td>1.752002</td>\n",
       "      <td>-1.479197</td>\n",
       "      <td>1</td>\n",
       "      <td>-1</td>\n",
       "      <td>-1</td>\n",
       "    </tr>\n",
       "    <tr>\n",
       "      <th>761</th>\n",
       "      <td>0</td>\n",
       "      <td>1</td>\n",
       "      <td>1</td>\n",
       "      <td>1</td>\n",
       "      <td>1</td>\n",
       "      <td>180981</td>\n",
       "      <td>-9.155212</td>\n",
       "      <td>-5.058659e-05</td>\n",
       "      <td>0.095456</td>\n",
       "      <td>-0.971954</td>\n",
       "      <td>...</td>\n",
       "      <td>0.062108</td>\n",
       "      <td>0.090848</td>\n",
       "      <td>0.178485</td>\n",
       "      <td>0.340185</td>\n",
       "      <td>0.620128</td>\n",
       "      <td>-0.683081</td>\n",
       "      <td>0.711933</td>\n",
       "      <td>1</td>\n",
       "      <td>1</td>\n",
       "      <td>-1</td>\n",
       "    </tr>\n",
       "    <tr>\n",
       "      <th>1031</th>\n",
       "      <td>1</td>\n",
       "      <td>1</td>\n",
       "      <td>1</td>\n",
       "      <td>0</td>\n",
       "      <td>1</td>\n",
       "      <td>219420</td>\n",
       "      <td>0.905365</td>\n",
       "      <td>4.126174e-06</td>\n",
       "      <td>0.091933</td>\n",
       "      <td>-0.561218</td>\n",
       "      <td>...</td>\n",
       "      <td>0.057735</td>\n",
       "      <td>0.115003</td>\n",
       "      <td>0.300764</td>\n",
       "      <td>0.485258</td>\n",
       "      <td>0.705538</td>\n",
       "      <td>-0.879540</td>\n",
       "      <td>0.303456</td>\n",
       "      <td>1</td>\n",
       "      <td>1</td>\n",
       "      <td>-1</td>\n",
       "    </tr>\n",
       "    <tr>\n",
       "      <th>1075</th>\n",
       "      <td>0</td>\n",
       "      <td>1</td>\n",
       "      <td>1</td>\n",
       "      <td>0</td>\n",
       "      <td>0</td>\n",
       "      <td>180981</td>\n",
       "      <td>8.481720</td>\n",
       "      <td>4.686525e-05</td>\n",
       "      <td>0.104275</td>\n",
       "      <td>-0.939880</td>\n",
       "      <td>...</td>\n",
       "      <td>0.158532</td>\n",
       "      <td>0.233603</td>\n",
       "      <td>0.446191</td>\n",
       "      <td>0.639846</td>\n",
       "      <td>0.833141</td>\n",
       "      <td>-0.955430</td>\n",
       "      <td>-0.104207</td>\n",
       "      <td>1</td>\n",
       "      <td>-1</td>\n",
       "      <td>-1</td>\n",
       "    </tr>\n",
       "    <tr>\n",
       "      <th>1283</th>\n",
       "      <td>0</td>\n",
       "      <td>1</td>\n",
       "      <td>1</td>\n",
       "      <td>0</td>\n",
       "      <td>0</td>\n",
       "      <td>200200</td>\n",
       "      <td>-3.701965</td>\n",
       "      <td>-1.849134e-05</td>\n",
       "      <td>0.152168</td>\n",
       "      <td>-0.970276</td>\n",
       "      <td>...</td>\n",
       "      <td>0.067709</td>\n",
       "      <td>0.084612</td>\n",
       "      <td>0.142245</td>\n",
       "      <td>0.236722</td>\n",
       "      <td>0.456975</td>\n",
       "      <td>-0.232426</td>\n",
       "      <td>1.119447</td>\n",
       "      <td>1</td>\n",
       "      <td>-1</td>\n",
       "      <td>-1</td>\n",
       "    </tr>\n",
       "    <tr>\n",
       "      <th>1757</th>\n",
       "      <td>1</td>\n",
       "      <td>1</td>\n",
       "      <td>1</td>\n",
       "      <td>1</td>\n",
       "      <td>0</td>\n",
       "      <td>229029</td>\n",
       "      <td>-23.250671</td>\n",
       "      <td>-1.015185e-04</td>\n",
       "      <td>0.095393</td>\n",
       "      <td>-0.654694</td>\n",
       "      <td>...</td>\n",
       "      <td>0.469374</td>\n",
       "      <td>0.569491</td>\n",
       "      <td>0.747112</td>\n",
       "      <td>0.871273</td>\n",
       "      <td>0.970319</td>\n",
       "      <td>-0.304517</td>\n",
       "      <td>-0.751093</td>\n",
       "      <td>1</td>\n",
       "      <td>-1</td>\n",
       "      <td>-1</td>\n",
       "    </tr>\n",
       "    <tr>\n",
       "      <th>1861</th>\n",
       "      <td>0</td>\n",
       "      <td>1</td>\n",
       "      <td>1</td>\n",
       "      <td>1</td>\n",
       "      <td>0</td>\n",
       "      <td>230630</td>\n",
       "      <td>2.317932</td>\n",
       "      <td>1.005044e-05</td>\n",
       "      <td>0.104134</td>\n",
       "      <td>-0.743408</td>\n",
       "      <td>...</td>\n",
       "      <td>0.035690</td>\n",
       "      <td>0.076902</td>\n",
       "      <td>0.421371</td>\n",
       "      <td>0.662068</td>\n",
       "      <td>0.843215</td>\n",
       "      <td>-0.823847</td>\n",
       "      <td>-0.488190</td>\n",
       "      <td>1</td>\n",
       "      <td>-1</td>\n",
       "      <td>-1</td>\n",
       "    </tr>\n",
       "    <tr>\n",
       "      <th>1862</th>\n",
       "      <td>0</td>\n",
       "      <td>1</td>\n",
       "      <td>1</td>\n",
       "      <td>0</td>\n",
       "      <td>0</td>\n",
       "      <td>208208</td>\n",
       "      <td>-0.817017</td>\n",
       "      <td>-3.924040e-06</td>\n",
       "      <td>0.140110</td>\n",
       "      <td>-0.998810</td>\n",
       "      <td>...</td>\n",
       "      <td>0.077248</td>\n",
       "      <td>0.135924</td>\n",
       "      <td>0.290052</td>\n",
       "      <td>0.474520</td>\n",
       "      <td>0.729635</td>\n",
       "      <td>-1.037921</td>\n",
       "      <td>0.325624</td>\n",
       "      <td>1</td>\n",
       "      <td>-1</td>\n",
       "      <td>-1</td>\n",
       "    </tr>\n",
       "    <tr>\n",
       "      <th>1878</th>\n",
       "      <td>0</td>\n",
       "      <td>7</td>\n",
       "      <td>1</td>\n",
       "      <td>0</td>\n",
       "      <td>0</td>\n",
       "      <td>235435</td>\n",
       "      <td>-1.745026</td>\n",
       "      <td>-7.411921e-06</td>\n",
       "      <td>0.035706</td>\n",
       "      <td>-0.355957</td>\n",
       "      <td>...</td>\n",
       "      <td>0.068139</td>\n",
       "      <td>0.170543</td>\n",
       "      <td>0.395513</td>\n",
       "      <td>0.632849</td>\n",
       "      <td>0.850511</td>\n",
       "      <td>-1.119659</td>\n",
       "      <td>-0.179695</td>\n",
       "      <td>1</td>\n",
       "      <td>-1</td>\n",
       "      <td>-1</td>\n",
       "    </tr>\n",
       "    <tr>\n",
       "      <th>1964</th>\n",
       "      <td>0</td>\n",
       "      <td>1</td>\n",
       "      <td>1</td>\n",
       "      <td>1</td>\n",
       "      <td>1</td>\n",
       "      <td>198599</td>\n",
       "      <td>0.315552</td>\n",
       "      <td>1.588889e-06</td>\n",
       "      <td>0.034097</td>\n",
       "      <td>-0.488007</td>\n",
       "      <td>...</td>\n",
       "      <td>0.146866</td>\n",
       "      <td>0.254523</td>\n",
       "      <td>0.573684</td>\n",
       "      <td>0.735749</td>\n",
       "      <td>0.871912</td>\n",
       "      <td>-0.126321</td>\n",
       "      <td>-0.704039</td>\n",
       "      <td>1</td>\n",
       "      <td>-1</td>\n",
       "      <td>-1</td>\n",
       "    </tr>\n",
       "    <tr>\n",
       "      <th>1975</th>\n",
       "      <td>0</td>\n",
       "      <td>0</td>\n",
       "      <td>1</td>\n",
       "      <td>0</td>\n",
       "      <td>1</td>\n",
       "      <td>187388</td>\n",
       "      <td>-4.495575</td>\n",
       "      <td>-2.399073e-05</td>\n",
       "      <td>0.125805</td>\n",
       "      <td>-0.987640</td>\n",
       "      <td>...</td>\n",
       "      <td>0.102817</td>\n",
       "      <td>0.158811</td>\n",
       "      <td>0.307604</td>\n",
       "      <td>0.465524</td>\n",
       "      <td>0.662508</td>\n",
       "      <td>-0.645622</td>\n",
       "      <td>0.541835</td>\n",
       "      <td>1</td>\n",
       "      <td>-1</td>\n",
       "      <td>-1</td>\n",
       "    </tr>\n",
       "    <tr>\n",
       "      <th>2024</th>\n",
       "      <td>1</td>\n",
       "      <td>1</td>\n",
       "      <td>1</td>\n",
       "      <td>1</td>\n",
       "      <td>1</td>\n",
       "      <td>217818</td>\n",
       "      <td>-0.678925</td>\n",
       "      <td>-3.116935e-06</td>\n",
       "      <td>0.114889</td>\n",
       "      <td>-0.616730</td>\n",
       "      <td>...</td>\n",
       "      <td>0.014092</td>\n",
       "      <td>0.039456</td>\n",
       "      <td>0.399029</td>\n",
       "      <td>0.712763</td>\n",
       "      <td>0.854215</td>\n",
       "      <td>-0.793384</td>\n",
       "      <td>-0.711244</td>\n",
       "      <td>1</td>\n",
       "      <td>1</td>\n",
       "      <td>-1</td>\n",
       "    </tr>\n",
       "    <tr>\n",
       "      <th>2025</th>\n",
       "      <td>1</td>\n",
       "      <td>1</td>\n",
       "      <td>1</td>\n",
       "      <td>1</td>\n",
       "      <td>1</td>\n",
       "      <td>217817</td>\n",
       "      <td>-0.129700</td>\n",
       "      <td>-5.954526e-07</td>\n",
       "      <td>0.091525</td>\n",
       "      <td>-0.618561</td>\n",
       "      <td>...</td>\n",
       "      <td>0.027162</td>\n",
       "      <td>0.110785</td>\n",
       "      <td>0.330770</td>\n",
       "      <td>0.521825</td>\n",
       "      <td>0.750513</td>\n",
       "      <td>-0.942620</td>\n",
       "      <td>0.095565</td>\n",
       "      <td>1</td>\n",
       "      <td>1</td>\n",
       "      <td>-1</td>\n",
       "    </tr>\n",
       "    <tr>\n",
       "      <th>2026</th>\n",
       "      <td>1</td>\n",
       "      <td>1</td>\n",
       "      <td>1</td>\n",
       "      <td>0</td>\n",
       "      <td>1</td>\n",
       "      <td>217818</td>\n",
       "      <td>0.193146</td>\n",
       "      <td>8.867300e-07</td>\n",
       "      <td>0.118097</td>\n",
       "      <td>-0.732819</td>\n",
       "      <td>...</td>\n",
       "      <td>0.038701</td>\n",
       "      <td>0.150658</td>\n",
       "      <td>0.335886</td>\n",
       "      <td>0.511515</td>\n",
       "      <td>0.725642</td>\n",
       "      <td>-0.893517</td>\n",
       "      <td>0.201854</td>\n",
       "      <td>1</td>\n",
       "      <td>-1</td>\n",
       "      <td>-1</td>\n",
       "    </tr>\n",
       "    <tr>\n",
       "      <th>2027</th>\n",
       "      <td>1</td>\n",
       "      <td>1</td>\n",
       "      <td>1</td>\n",
       "      <td>0</td>\n",
       "      <td>1</td>\n",
       "      <td>219419</td>\n",
       "      <td>0.656555</td>\n",
       "      <td>2.992244e-06</td>\n",
       "      <td>0.108406</td>\n",
       "      <td>-0.730164</td>\n",
       "      <td>...</td>\n",
       "      <td>0.028092</td>\n",
       "      <td>0.066683</td>\n",
       "      <td>0.198253</td>\n",
       "      <td>0.374620</td>\n",
       "      <td>0.637012</td>\n",
       "      <td>-0.790393</td>\n",
       "      <td>0.590203</td>\n",
       "      <td>1</td>\n",
       "      <td>1</td>\n",
       "      <td>-1</td>\n",
       "    </tr>\n",
       "  </tbody>\n",
       "</table>\n",
       "<p>24 rows × 380 columns</p>\n",
       "</div>"
      ],
      "text/plain": [
       "      vocal_channel  emotion  emotional_intensity  statement  sex  \\\n",
       "35                0        1                    1          0    0   \n",
       "234               0        6                    1          0    0   \n",
       "241               0        1                    1          1    0   \n",
       "243               0        1                    1          0    0   \n",
       "346               0        1                    1          0    1   \n",
       "554               0        1                    1          0    1   \n",
       "555               0        1                    1          0    1   \n",
       "563               0        0                    1          0    1   \n",
       "658               0        1                    1          0    0   \n",
       "659               0        1                    1          0    0   \n",
       "761               0        1                    1          1    1   \n",
       "1031              1        1                    1          0    1   \n",
       "1075              0        1                    1          0    0   \n",
       "1283              0        1                    1          0    0   \n",
       "1757              1        1                    1          1    0   \n",
       "1861              0        1                    1          1    0   \n",
       "1862              0        1                    1          0    0   \n",
       "1878              0        7                    1          0    0   \n",
       "1964              0        1                    1          1    1   \n",
       "1975              0        0                    1          0    1   \n",
       "2024              1        1                    1          1    1   \n",
       "2025              1        1                    1          1    1   \n",
       "2026              1        1                    1          0    1   \n",
       "2027              1        1                    1          0    1   \n",
       "\n",
       "      frame_count        sum          mean       std       min  ...  \\\n",
       "35         213013  -9.211029 -4.324163e-05  0.149701 -0.971649  ...   \n",
       "234        166566  -1.252472 -7.519373e-06  0.032619 -0.360992  ...   \n",
       "241        211412   7.284607  3.445692e-05  0.087604 -0.998810  ...   \n",
       "243        216216  -0.476227 -2.202551e-06  0.104572 -0.944122  ...   \n",
       "346        177777  -0.004974 -2.798093e-08  0.072248 -0.862366  ...   \n",
       "554        213013   0.785797  3.688963e-06  0.091451 -0.633057  ...   \n",
       "555        214614   0.211212  9.841490e-07  0.088013 -0.676880  ...   \n",
       "563        179379  -0.203125 -1.132379e-06  0.121231 -0.727966  ...   \n",
       "658        184184  -6.383972 -3.466084e-05  0.120286 -0.976166  ...   \n",
       "659        208208   2.806671  1.348013e-05  0.096210 -0.763763  ...   \n",
       "761        180981  -9.155212 -5.058659e-05  0.095456 -0.971954  ...   \n",
       "1031       219420   0.905365  4.126174e-06  0.091933 -0.561218  ...   \n",
       "1075       180981   8.481720  4.686525e-05  0.104275 -0.939880  ...   \n",
       "1283       200200  -3.701965 -1.849134e-05  0.152168 -0.970276  ...   \n",
       "1757       229029 -23.250671 -1.015185e-04  0.095393 -0.654694  ...   \n",
       "1861       230630   2.317932  1.005044e-05  0.104134 -0.743408  ...   \n",
       "1862       208208  -0.817017 -3.924040e-06  0.140110 -0.998810  ...   \n",
       "1878       235435  -1.745026 -7.411921e-06  0.035706 -0.355957  ...   \n",
       "1964       198599   0.315552  1.588889e-06  0.034097 -0.488007  ...   \n",
       "1975       187388  -4.495575 -2.399073e-05  0.125805 -0.987640  ...   \n",
       "2024       217818  -0.678925 -3.116935e-06  0.114889 -0.616730  ...   \n",
       "2025       217817  -0.129700 -5.954526e-07  0.091525 -0.618561  ...   \n",
       "2026       217818   0.193146  8.867300e-07  0.118097 -0.732819  ...   \n",
       "2027       219419   0.656555  2.992244e-06  0.108406 -0.730164  ...   \n",
       "\n",
       "      stft_q01_w4  stft_q05_w4  stft_q25_w4  stft_q50_w4  stft_q75_w4  \\\n",
       "35       0.070545     0.122659     0.292612     0.484957     0.751114   \n",
       "234      0.074704     0.218413     0.597664     0.792696     0.924666   \n",
       "241      0.119145     0.266537     0.520887     0.692956     0.856511   \n",
       "243      0.115917     0.221915     0.466304     0.629270     0.809098   \n",
       "346      0.289735     0.371105     0.554598     0.702927     0.851481   \n",
       "554      0.016566     0.041669     0.294650     0.659654     0.854806   \n",
       "555      0.063484     0.114294     0.292658     0.588257     0.806210   \n",
       "563      0.027173     0.050573     0.133121     0.250091     0.519727   \n",
       "658      0.168465     0.339421     0.667964     0.808485     0.929470   \n",
       "659      0.146228     0.348227     0.740867     0.877829     0.969386   \n",
       "761      0.062108     0.090848     0.178485     0.340185     0.620128   \n",
       "1031     0.057735     0.115003     0.300764     0.485258     0.705538   \n",
       "1075     0.158532     0.233603     0.446191     0.639846     0.833141   \n",
       "1283     0.067709     0.084612     0.142245     0.236722     0.456975   \n",
       "1757     0.469374     0.569491     0.747112     0.871273     0.970319   \n",
       "1861     0.035690     0.076902     0.421371     0.662068     0.843215   \n",
       "1862     0.077248     0.135924     0.290052     0.474520     0.729635   \n",
       "1878     0.068139     0.170543     0.395513     0.632849     0.850511   \n",
       "1964     0.146866     0.254523     0.573684     0.735749     0.871912   \n",
       "1975     0.102817     0.158811     0.307604     0.465524     0.662508   \n",
       "2024     0.014092     0.039456     0.399029     0.712763     0.854215   \n",
       "2025     0.027162     0.110785     0.330770     0.521825     0.750513   \n",
       "2026     0.038701     0.150658     0.335886     0.511515     0.725642   \n",
       "2027     0.028092     0.066683     0.198253     0.374620     0.637012   \n",
       "\n",
       "      stft_kur_w4  stft_skew_w4  outliers_LOF  outliers_CBLOF  outliers_ABOD  \n",
       "35      -1.098503      0.225204             1              -1             -1  \n",
       "234      0.156586     -0.969812            -1              -1             -1  \n",
       "241     -0.483418     -0.449991             1              -1             -1  \n",
       "243     -0.688100     -0.164156             1              -1             -1  \n",
       "346     -0.856788     -0.147625             1              -1             -1  \n",
       "554     -1.151544     -0.429745             1               1             -1  \n",
       "555     -1.262910     -0.082460             1               1             -1  \n",
       "563     -0.175535      1.000085             1              -1             -1  \n",
       "658      0.928971     -1.099596             1              -1             -1  \n",
       "659      1.752002     -1.479197             1              -1             -1  \n",
       "761     -0.683081      0.711933             1               1             -1  \n",
       "1031    -0.879540      0.303456             1               1             -1  \n",
       "1075    -0.955430     -0.104207             1              -1             -1  \n",
       "1283    -0.232426      1.119447             1              -1             -1  \n",
       "1757    -0.304517     -0.751093             1              -1             -1  \n",
       "1861    -0.823847     -0.488190             1              -1             -1  \n",
       "1862    -1.037921      0.325624             1              -1             -1  \n",
       "1878    -1.119659     -0.179695             1              -1             -1  \n",
       "1964    -0.126321     -0.704039             1              -1             -1  \n",
       "1975    -0.645622      0.541835             1              -1             -1  \n",
       "2024    -0.793384     -0.711244             1               1             -1  \n",
       "2025    -0.942620      0.095565             1               1             -1  \n",
       "2026    -0.893517      0.201854             1              -1             -1  \n",
       "2027    -0.790393      0.590203             1               1             -1  \n",
       "\n",
       "[24 rows x 380 columns]"
      ]
     },
     "execution_count": 47,
     "metadata": {},
     "output_type": "execute_result"
    }
   ],
   "source": [
    "df.iloc[np.where(df.outliers_ABOD == -1)]"
   ]
  },
  {
   "cell_type": "code",
   "execution_count": 48,
   "metadata": {},
   "outputs": [
    {
     "data": {
      "text/plain": [
       "'plt.hist(clf.decision_scores_, bins=\"auto\")\\nplt.axvline(np.min(clf.decision_scores_[np.where(outliers==1)]), c=\\'k\\')\\nplt.xlim((-3e-5,0.2e-5))\\nplt.show()'"
      ]
     },
     "execution_count": 48,
     "metadata": {},
     "output_type": "execute_result"
    }
   ],
   "source": [
    "'''plt.hist(clf.decision_scores_, bins=\"auto\")\n",
    "plt.axvline(np.min(clf.decision_scores_[np.where(outliers==1)]), c='k')\n",
    "plt.xlim((-3e-5,0.2e-5))\n",
    "plt.show()'''"
   ]
  },
  {
   "cell_type": "markdown",
   "metadata": {},
   "source": [
    "# Ensemble Based"
   ]
  },
  {
   "cell_type": "markdown",
   "metadata": {},
   "source": [
    "## LODA"
   ]
  },
  {
   "cell_type": "code",
   "execution_count": 49,
   "metadata": {},
   "outputs": [
    {
     "name": "stdout",
     "output_type": "stream",
     "text": [
      "(array([0, 1]), array([2450,    2]))\n",
      "(array([0, 1]), array([2228,  224]))\n",
      "(array([0, 1]), array([2229,  223]))\n",
      "(array([0, 1]), array([2206,  246]))\n",
      "(array([0, 1]), array([2232,  220]))\n",
      "(array([0, 1]), array([2213,  239]))\n",
      "(array([0, 1]), array([2206,  246]))\n",
      "(array([0, 1]), array([2214,  238]))\n",
      "(array([0, 1]), array([2206,  246]))\n",
      "(array([0, 1]), array([2206,  246]))\n",
      "(array([0, 1]), array([2206,  246]))\n",
      "(array([0, 1]), array([2206,  246]))\n",
      "(array([0, 1]), array([2206,  246]))\n",
      "(array([0, 1]), array([2218,  234]))\n",
      "(array([0, 1]), array([2212,  240]))\n",
      "(array([0, 1]), array([2207,  245]))\n",
      "(array([0, 1]), array([2207,  245]))\n",
      "(array([0, 1]), array([2206,  246]))\n",
      "(array([0, 1]), array([2206,  246]))\n",
      "(array([0, 1]), array([2206,  246]))\n",
      "(array([0, 1]), array([2206,  246]))\n",
      "(array([0, 1]), array([2206,  246]))\n",
      "(array([0, 1]), array([2206,  246]))\n",
      "(array([0, 1]), array([2206,  246]))\n",
      "(array([0, 1]), array([2206,  246]))\n",
      "(array([0, 1]), array([2206,  246]))\n",
      "(array([0, 1]), array([2206,  246]))\n",
      "(array([0, 1]), array([2206,  246]))\n",
      "(array([0, 1]), array([2206,  246]))\n"
     ]
    }
   ],
   "source": [
    "\n",
    "outliers_list_loda = []\n",
    "for i in range(1,30):\n",
    "    clf = LODA(n_bins=\"auto\", n_random_cuts=i)\n",
    "    clf.fit(X)\n",
    "    outliers = clf.predict(X)\n",
    "    outliers_list_loda.append(np.unique(outliers, return_counts=True)[1][1])\n",
    "    print(np.unique(outliers, return_counts=True))"
   ]
  },
  {
   "cell_type": "code",
   "execution_count": 50,
   "metadata": {},
   "outputs": [
    {
     "data": {
      "image/png": "[encoded data removed]",
      "text/plain": [
       "<Figure size 432x288 with 1 Axes>"
      ]
     },
     "metadata": {
      "needs_background": "light"
     },
     "output_type": "display_data"
    }
   ],
   "source": [
    "plt.scatter(x=np.arange(1,30), y=outliers_list_loda)\n",
    "plt.show()"
   ]
  },
  {
   "cell_type": "code",
   "execution_count": 51,
   "metadata": {},
   "outputs": [
    {
     "data": {
      "text/plain": [
       "array([ 240, 2234,  241, 1801,  242, 1029,  553,  555, 1075,   35,  554,\n",
       "       2027, 2026, 1861, 2024, 1030, 1031,  658, 2235,  659, 1283,  243,\n",
       "       1862, 2025])"
      ]
     },
     "execution_count": 51,
     "metadata": {},
     "output_type": "execute_result"
    }
   ],
   "source": [
    "OS = clf.decision_scores_ #the lower the more normal\n",
    "ind = np.argpartition(OS, -int(len(df)*0.01))[-int(len(df)*0.01):] # indice dei top 1% outliers\n",
    "ind"
   ]
  },
  {
   "cell_type": "code",
   "execution_count": 52,
   "metadata": {},
   "outputs": [
    {
     "name": "stderr",
     "output_type": "stream",
     "text": [
      "/var/folders/5p/ssqpg4td2mn8_4_dm85f8n5m0000gn/T/ipykernel_6357/825742444.py:6: SettingWithCopyWarning: \n",
      "A value is trying to be set on a copy of a slice from a DataFrame\n",
      "\n",
      "See the caveats in the documentation: https://pandas.pydata.org/pandas-docs/stable/user_guide/indexing.html#returning-a-view-versus-a-copy\n",
      "  df[\"outliers_LODA\"][i] = 1\n",
      "/var/folders/5p/ssqpg4td2mn8_4_dm85f8n5m0000gn/T/ipykernel_6357/825742444.py:4: SettingWithCopyWarning: \n",
      "A value is trying to be set on a copy of a slice from a DataFrame\n",
      "\n",
      "See the caveats in the documentation: https://pandas.pydata.org/pandas-docs/stable/user_guide/indexing.html#returning-a-view-versus-a-copy\n",
      "  df[\"outliers_LODA\"][i] = -1\n"
     ]
    },
    {
     "ename": "KeyboardInterrupt",
     "evalue": "",
     "output_type": "error",
     "traceback": [
      "\u001b[0;31m---------------------------------------------------------------------------\u001b[0m",
      "\u001b[0;31mKeyboardInterrupt\u001b[0m                         Traceback (most recent call last)",
      "Input \u001b[0;32mIn [52]\u001b[0m, in \u001b[0;36m<cell line: 2>\u001b[0;34m()\u001b[0m\n\u001b[1;32m      4\u001b[0m     df[\u001b[38;5;124m\"\u001b[39m\u001b[38;5;124moutliers_LODA\u001b[39m\u001b[38;5;124m\"\u001b[39m][i] \u001b[38;5;241m=\u001b[39m \u001b[38;5;241m-\u001b[39m\u001b[38;5;241m1\u001b[39m\n\u001b[1;32m      5\u001b[0m \u001b[38;5;28;01melse\u001b[39;00m:\n\u001b[0;32m----> 6\u001b[0m     df[\u001b[38;5;124m\"\u001b[39m\u001b[38;5;124moutliers_LODA\u001b[39m\u001b[38;5;124m\"\u001b[39m][i] \u001b[38;5;241m=\u001b[39m \u001b[38;5;241m1\u001b[39m\n",
      "File \u001b[0;32m~/opt/anaconda3/lib/python3.9/site-packages/pandas/core/series.py:1075\u001b[0m, in \u001b[0;36mSeries.__setitem__\u001b[0;34m(self, key, value)\u001b[0m\n\u001b[1;32m   1073\u001b[0m check_deprecated_indexers(key)\n\u001b[1;32m   1074\u001b[0m key \u001b[38;5;241m=\u001b[39m com\u001b[38;5;241m.\u001b[39mapply_if_callable(key, \u001b[38;5;28mself\u001b[39m)\n\u001b[0;32m-> 1075\u001b[0m cacher_needs_updating \u001b[38;5;241m=\u001b[39m \u001b[38;5;28;43mself\u001b[39;49m\u001b[38;5;241;43m.\u001b[39;49m\u001b[43m_check_is_chained_assignment_possible\u001b[49m\u001b[43m(\u001b[49m\u001b[43m)\u001b[49m\n\u001b[1;32m   1077\u001b[0m \u001b[38;5;28;01mif\u001b[39;00m key \u001b[38;5;129;01mis\u001b[39;00m \u001b[38;5;28mEllipsis\u001b[39m:\n\u001b[1;32m   1078\u001b[0m     key \u001b[38;5;241m=\u001b[39m \u001b[38;5;28mslice\u001b[39m(\u001b[38;5;28;01mNone\u001b[39;00m)\n",
      "File \u001b[0;32m~/opt/anaconda3/lib/python3.9/site-packages/pandas/core/series.py:1256\u001b[0m, in \u001b[0;36mSeries._check_is_chained_assignment_possible\u001b[0;34m(self)\u001b[0m\n\u001b[1;32m   1254\u001b[0m     ref \u001b[38;5;241m=\u001b[39m \u001b[38;5;28mself\u001b[39m\u001b[38;5;241m.\u001b[39m_get_cacher()\n\u001b[1;32m   1255\u001b[0m     \u001b[38;5;28;01mif\u001b[39;00m ref \u001b[38;5;129;01mis\u001b[39;00m \u001b[38;5;129;01mnot\u001b[39;00m \u001b[38;5;28;01mNone\u001b[39;00m \u001b[38;5;129;01mand\u001b[39;00m ref\u001b[38;5;241m.\u001b[39m_is_mixed_type:\n\u001b[0;32m-> 1256\u001b[0m         \u001b[38;5;28;43mself\u001b[39;49m\u001b[38;5;241;43m.\u001b[39;49m\u001b[43m_check_setitem_copy\u001b[49m\u001b[43m(\u001b[49m\u001b[43mt\u001b[49m\u001b[38;5;241;43m=\u001b[39;49m\u001b[38;5;124;43m\"\u001b[39;49m\u001b[38;5;124;43mreferent\u001b[39;49m\u001b[38;5;124;43m\"\u001b[39;49m\u001b[43m,\u001b[49m\u001b[43m \u001b[49m\u001b[43mforce\u001b[49m\u001b[38;5;241;43m=\u001b[39;49m\u001b[38;5;28;43;01mTrue\u001b[39;49;00m\u001b[43m)\u001b[49m\n\u001b[1;32m   1257\u001b[0m     \u001b[38;5;28;01mreturn\u001b[39;00m \u001b[38;5;28;01mTrue\u001b[39;00m\n\u001b[1;32m   1258\u001b[0m \u001b[38;5;28;01mreturn\u001b[39;00m \u001b[38;5;28msuper\u001b[39m()\u001b[38;5;241m.\u001b[39m_check_is_chained_assignment_possible()\n",
      "File \u001b[0;32m~/opt/anaconda3/lib/python3.9/site-packages/pandas/core/generic.py:4018\u001b[0m, in \u001b[0;36mNDFrame._check_setitem_copy\u001b[0;34m(self, t, force)\u001b[0m\n\u001b[1;32m   4016\u001b[0m     \u001b[38;5;28;01mraise\u001b[39;00m com\u001b[38;5;241m.\u001b[39mSettingWithCopyError(t)\n\u001b[1;32m   4017\u001b[0m \u001b[38;5;28;01melif\u001b[39;00m value \u001b[38;5;241m==\u001b[39m \u001b[38;5;124m\"\u001b[39m\u001b[38;5;124mwarn\u001b[39m\u001b[38;5;124m\"\u001b[39m:\n\u001b[0;32m-> 4018\u001b[0m     warnings\u001b[38;5;241m.\u001b[39mwarn(t, com\u001b[38;5;241m.\u001b[39mSettingWithCopyWarning, stacklevel\u001b[38;5;241m=\u001b[39m\u001b[43mfind_stack_level\u001b[49m\u001b[43m(\u001b[49m\u001b[43m)\u001b[49m)\n",
      "File \u001b[0;32m~/opt/anaconda3/lib/python3.9/site-packages/pandas/util/_exceptions.py:32\u001b[0m, in \u001b[0;36mfind_stack_level\u001b[0;34m()\u001b[0m\n\u001b[1;32m     27\u001b[0m \u001b[38;5;28;01mdef\u001b[39;00m \u001b[38;5;21mfind_stack_level\u001b[39m() \u001b[38;5;241m-\u001b[39m\u001b[38;5;241m>\u001b[39m \u001b[38;5;28mint\u001b[39m:\n\u001b[1;32m     28\u001b[0m     \u001b[38;5;124;03m\"\"\"\u001b[39;00m\n\u001b[1;32m     29\u001b[0m \u001b[38;5;124;03m    Find the first place in the stack that is not inside pandas\u001b[39;00m\n\u001b[1;32m     30\u001b[0m \u001b[38;5;124;03m    (tests notwithstanding).\u001b[39;00m\n\u001b[1;32m     31\u001b[0m \u001b[38;5;124;03m    \"\"\"\u001b[39;00m\n\u001b[0;32m---> 32\u001b[0m     stack \u001b[38;5;241m=\u001b[39m \u001b[43minspect\u001b[49m\u001b[38;5;241;43m.\u001b[39;49m\u001b[43mstack\u001b[49m\u001b[43m(\u001b[49m\u001b[43m)\u001b[49m\n\u001b[1;32m     34\u001b[0m     \u001b[38;5;28;01mimport\u001b[39;00m \u001b[38;5;21;01mpandas\u001b[39;00m \u001b[38;5;28;01mas\u001b[39;00m \u001b[38;5;21;01mpd\u001b[39;00m\n\u001b[1;32m     36\u001b[0m     pkg_dir \u001b[38;5;241m=\u001b[39m os\u001b[38;5;241m.\u001b[39mpath\u001b[38;5;241m.\u001b[39mdirname(pd\u001b[38;5;241m.\u001b[39m\u001b[38;5;18m__file__\u001b[39m)\n",
      "File \u001b[0;32m~/opt/anaconda3/lib/python3.9/inspect.py:1554\u001b[0m, in \u001b[0;36mstack\u001b[0;34m(context)\u001b[0m\n\u001b[1;32m   1552\u001b[0m \u001b[38;5;28;01mdef\u001b[39;00m \u001b[38;5;21mstack\u001b[39m(context\u001b[38;5;241m=\u001b[39m\u001b[38;5;241m1\u001b[39m):\n\u001b[1;32m   1553\u001b[0m     \u001b[38;5;124;03m\"\"\"Return a list of records for the stack above the caller's frame.\"\"\"\u001b[39;00m\n\u001b[0;32m-> 1554\u001b[0m     \u001b[38;5;28;01mreturn\u001b[39;00m \u001b[43mgetouterframes\u001b[49m\u001b[43m(\u001b[49m\u001b[43msys\u001b[49m\u001b[38;5;241;43m.\u001b[39;49m\u001b[43m_getframe\u001b[49m\u001b[43m(\u001b[49m\u001b[38;5;241;43m1\u001b[39;49m\u001b[43m)\u001b[49m\u001b[43m,\u001b[49m\u001b[43m \u001b[49m\u001b[43mcontext\u001b[49m\u001b[43m)\u001b[49m\n",
      "File \u001b[0;32m~/opt/anaconda3/lib/python3.9/inspect.py:1531\u001b[0m, in \u001b[0;36mgetouterframes\u001b[0;34m(frame, context)\u001b[0m\n\u001b[1;32m   1529\u001b[0m framelist \u001b[38;5;241m=\u001b[39m []\n\u001b[1;32m   1530\u001b[0m \u001b[38;5;28;01mwhile\u001b[39;00m frame:\n\u001b[0;32m-> 1531\u001b[0m     frameinfo \u001b[38;5;241m=\u001b[39m (frame,) \u001b[38;5;241m+\u001b[39m \u001b[43mgetframeinfo\u001b[49m\u001b[43m(\u001b[49m\u001b[43mframe\u001b[49m\u001b[43m,\u001b[49m\u001b[43m \u001b[49m\u001b[43mcontext\u001b[49m\u001b[43m)\u001b[49m\n\u001b[1;32m   1532\u001b[0m     framelist\u001b[38;5;241m.\u001b[39mappend(FrameInfo(\u001b[38;5;241m*\u001b[39mframeinfo))\n\u001b[1;32m   1533\u001b[0m     frame \u001b[38;5;241m=\u001b[39m frame\u001b[38;5;241m.\u001b[39mf_back\n",
      "File \u001b[0;32m~/opt/anaconda3/lib/python3.9/inspect.py:1501\u001b[0m, in \u001b[0;36mgetframeinfo\u001b[0;34m(frame, context)\u001b[0m\n\u001b[1;32m   1498\u001b[0m \u001b[38;5;28;01mif\u001b[39;00m \u001b[38;5;129;01mnot\u001b[39;00m isframe(frame):\n\u001b[1;32m   1499\u001b[0m     \u001b[38;5;28;01mraise\u001b[39;00m \u001b[38;5;167;01mTypeError\u001b[39;00m(\u001b[38;5;124m'\u001b[39m\u001b[38;5;132;01m{!r}\u001b[39;00m\u001b[38;5;124m is not a frame or traceback object\u001b[39m\u001b[38;5;124m'\u001b[39m\u001b[38;5;241m.\u001b[39mformat(frame))\n\u001b[0;32m-> 1501\u001b[0m filename \u001b[38;5;241m=\u001b[39m \u001b[43mgetsourcefile\u001b[49m\u001b[43m(\u001b[49m\u001b[43mframe\u001b[49m\u001b[43m)\u001b[49m \u001b[38;5;129;01mor\u001b[39;00m getfile(frame)\n\u001b[1;32m   1502\u001b[0m \u001b[38;5;28;01mif\u001b[39;00m context \u001b[38;5;241m>\u001b[39m \u001b[38;5;241m0\u001b[39m:\n\u001b[1;32m   1503\u001b[0m     start \u001b[38;5;241m=\u001b[39m lineno \u001b[38;5;241m-\u001b[39m \u001b[38;5;241m1\u001b[39m \u001b[38;5;241m-\u001b[39m context\u001b[38;5;241m/\u001b[39m\u001b[38;5;241m/\u001b[39m\u001b[38;5;241m2\u001b[39m\n",
      "File \u001b[0;32m~/opt/anaconda3/lib/python3.9/inspect.py:703\u001b[0m, in \u001b[0;36mgetsourcefile\u001b[0;34m(object)\u001b[0m\n\u001b[1;32m    700\u001b[0m \u001b[38;5;28;01mif\u001b[39;00m \u001b[38;5;28many\u001b[39m(filename\u001b[38;5;241m.\u001b[39mendswith(s) \u001b[38;5;28;01mfor\u001b[39;00m s \u001b[38;5;129;01min\u001b[39;00m all_bytecode_suffixes):\n\u001b[1;32m    701\u001b[0m     filename \u001b[38;5;241m=\u001b[39m (os\u001b[38;5;241m.\u001b[39mpath\u001b[38;5;241m.\u001b[39msplitext(filename)[\u001b[38;5;241m0\u001b[39m] \u001b[38;5;241m+\u001b[39m\n\u001b[1;32m    702\u001b[0m                 importlib\u001b[38;5;241m.\u001b[39mmachinery\u001b[38;5;241m.\u001b[39mSOURCE_SUFFIXES[\u001b[38;5;241m0\u001b[39m])\n\u001b[0;32m--> 703\u001b[0m \u001b[38;5;28;01melif\u001b[39;00m \u001b[38;5;28;43many\u001b[39;49m\u001b[43m(\u001b[49m\u001b[43mfilename\u001b[49m\u001b[38;5;241;43m.\u001b[39;49m\u001b[43mendswith\u001b[49m\u001b[43m(\u001b[49m\u001b[43ms\u001b[49m\u001b[43m)\u001b[49m\u001b[43m \u001b[49m\u001b[38;5;28;43;01mfor\u001b[39;49;00m\u001b[43m \u001b[49m\u001b[43ms\u001b[49m\u001b[43m \u001b[49m\u001b[38;5;129;43;01min\u001b[39;49;00m\n\u001b[1;32m    704\u001b[0m \u001b[43m             \u001b[49m\u001b[43mimportlib\u001b[49m\u001b[38;5;241;43m.\u001b[39;49m\u001b[43mmachinery\u001b[49m\u001b[38;5;241;43m.\u001b[39;49m\u001b[43mEXTENSION_SUFFIXES\u001b[49m\u001b[43m)\u001b[49m:\n\u001b[1;32m    705\u001b[0m     \u001b[38;5;28;01mreturn\u001b[39;00m \u001b[38;5;28;01mNone\u001b[39;00m\n\u001b[1;32m    706\u001b[0m \u001b[38;5;28;01mif\u001b[39;00m os\u001b[38;5;241m.\u001b[39mpath\u001b[38;5;241m.\u001b[39mexists(filename):\n",
      "File \u001b[0;32m~/opt/anaconda3/lib/python3.9/inspect.py:703\u001b[0m, in \u001b[0;36m<genexpr>\u001b[0;34m(.0)\u001b[0m\n\u001b[1;32m    700\u001b[0m \u001b[38;5;28;01mif\u001b[39;00m \u001b[38;5;28many\u001b[39m(filename\u001b[38;5;241m.\u001b[39mendswith(s) \u001b[38;5;28;01mfor\u001b[39;00m s \u001b[38;5;129;01min\u001b[39;00m all_bytecode_suffixes):\n\u001b[1;32m    701\u001b[0m     filename \u001b[38;5;241m=\u001b[39m (os\u001b[38;5;241m.\u001b[39mpath\u001b[38;5;241m.\u001b[39msplitext(filename)[\u001b[38;5;241m0\u001b[39m] \u001b[38;5;241m+\u001b[39m\n\u001b[1;32m    702\u001b[0m                 importlib\u001b[38;5;241m.\u001b[39mmachinery\u001b[38;5;241m.\u001b[39mSOURCE_SUFFIXES[\u001b[38;5;241m0\u001b[39m])\n\u001b[0;32m--> 703\u001b[0m \u001b[38;5;28;01melif\u001b[39;00m \u001b[38;5;28many\u001b[39m(filename\u001b[38;5;241m.\u001b[39mendswith(s) \u001b[38;5;28;01mfor\u001b[39;00m s \u001b[38;5;129;01min\u001b[39;00m\n\u001b[1;32m    704\u001b[0m              importlib\u001b[38;5;241m.\u001b[39mmachinery\u001b[38;5;241m.\u001b[39mEXTENSION_SUFFIXES):\n\u001b[1;32m    705\u001b[0m     \u001b[38;5;28;01mreturn\u001b[39;00m \u001b[38;5;28;01mNone\u001b[39;00m\n\u001b[1;32m    706\u001b[0m \u001b[38;5;28;01mif\u001b[39;00m os\u001b[38;5;241m.\u001b[39mpath\u001b[38;5;241m.\u001b[39mexists(filename):\n",
      "\u001b[0;31mKeyboardInterrupt\u001b[0m: "
     ]
    }
   ],
   "source": [
    "df[\"outliers_LODA\"] = 0\n",
    "for i in range(len(df)):\n",
    "    if i in ind:\n",
    "        df[\"outliers_LODA\"][i] = -1\n",
    "    else:\n",
    "        df[\"outliers_LODA\"][i] = 1"
   ]
  },
  {
   "cell_type": "code",
   "execution_count": null,
   "metadata": {},
   "outputs": [],
   "source": [
    "df.iloc[np.where(df.outliers_LODA == -1)]"
   ]
  },
  {
   "cell_type": "code",
   "execution_count": null,
   "metadata": {},
   "outputs": [],
   "source": [
    "plt.hist(clf.decision_scores_, bins=20)\n",
    "plt.axvline(np.min(clf.decision_scores_[np.where(outliers==1)]), c='k')\n",
    "plt.show()"
   ]
  },
  {
   "cell_type": "markdown",
   "metadata": {},
   "source": [
    "# Model Based"
   ]
  },
  {
   "cell_type": "markdown",
   "metadata": {},
   "source": [
    "## Isolation Forest"
   ]
  },
  {
   "cell_type": "code",
   "execution_count": null,
   "metadata": {},
   "outputs": [],
   "source": [
    "'''\n",
    "outliers_list_isoforest = []\n",
    "for i in range(1,110):\n",
    "    clf = IsolationForest(random_state=0, n_jobs=-1, n_estimators=i)\n",
    "    clf.fit(X_train)\n",
    "    outliers = clf.predict(X_test)\n",
    "    outliers_list_isoforest.append(np.unique(outliers, return_counts=True)[1][0])\n",
    "\n",
    "plt.scatter(x=np.arange(1,110), y=outliers_list_isoforest)\n",
    "plt.show()\n",
    "'''"
   ]
  },
  {
   "cell_type": "code",
   "execution_count": null,
   "metadata": {},
   "outputs": [],
   "source": [
    "outliers_list_isoforest = []\n",
    "for i in range(1,60):\n",
    "    clf = IsolationForest(random_state=0, n_jobs=-1, n_estimators=i)\n",
    "    clf.fit(X)\n",
    "    outliers = clf.predict(X)\n",
    "    outliers_list_isoforest.append(np.unique(outliers, return_counts=True)[1][0])\n",
    "    print(np.unique(outliers, return_counts=True))\n",
    "    \n",
    "plt.scatter(x=np.arange(1,60), y=outliers_list_isoforest)\n",
    "plt.show()"
   ]
  },
  {
   "cell_type": "code",
   "execution_count": null,
   "metadata": {},
   "outputs": [],
   "source": [
    "plt.scatter(x=np.arange(0,len(clf.decision_function(X))), y=clf.decision_function(X))\n",
    "plt.scatter(x=np.arange(0,len(clf.score_samples(X))), y=clf.score_samples(X))\n",
    "plt.show()\n",
    "# questo vuol dire che le due funzioni vogliono dire la stessa cosa, ma decision_function è centrato attorno a zero"
   ]
  },
  {
   "cell_type": "code",
   "execution_count": null,
   "metadata": {},
   "outputs": [],
   "source": [
    "clf = IsolationForest(random_state=0, n_jobs=-1, n_estimators=35)\n",
    "clf.fit(X)\n",
    "outliers = clf.predict(X)\n",
    "print(np.unique(outliers, return_counts=True))"
   ]
  },
  {
   "cell_type": "code",
   "execution_count": null,
   "metadata": {},
   "outputs": [],
   "source": [
    "OS = clf.decision_function(X) #the higher the more normal\n",
    "ind = np.argpartition(OS, int(len(df)*0.01))[:int(len(df)*0.01)] # indice dei top 1% outliers\n",
    "ind"
   ]
  },
  {
   "cell_type": "code",
   "execution_count": null,
   "metadata": {},
   "outputs": [],
   "source": [
    "OS, OS[35], OS[np.where(OS < 0)] #Outliers have decision_function values less than 0"
   ]
  },
  {
   "cell_type": "code",
   "execution_count": null,
   "metadata": {},
   "outputs": [],
   "source": [
    "df[\"outliers_ISOFOREST\"] = 0\n",
    "for i in range(len(df)):\n",
    "    if i in ind:\n",
    "        df[\"outliers_ISOFOREST\"][i] = -1\n",
    "    else:\n",
    "        df[\"outliers_ISOFOREST\"][i] = 1"
   ]
  },
  {
   "cell_type": "code",
   "execution_count": null,
   "metadata": {},
   "outputs": [],
   "source": [
    "df.iloc[np.where(df.outliers_ISOFOREST == -1)].head()"
   ]
  },
  {
   "cell_type": "markdown",
   "metadata": {},
   "source": [
    "# Statistical approach"
   ]
  },
  {
   "cell_type": "markdown",
   "metadata": {},
   "source": [
    "## Grubb's test"
   ]
  },
  {
   "cell_type": "code",
   "execution_count": null,
   "metadata": {},
   "outputs": [],
   "source": [
    "len(X)"
   ]
  },
  {
   "cell_type": "code",
   "execution_count": null,
   "metadata": {},
   "outputs": [],
   "source": [
    "n = X.shape[0]\n",
    "data = []\n",
    "feature = 93\n",
    "for i in range(X.shape[0]):\n",
    "    data.append(X_unscaled[i][feature])\n",
    "print(len(data))"
   ]
  },
  {
   "cell_type": "code",
   "execution_count": null,
   "metadata": {},
   "outputs": [],
   "source": [
    "data = np.array(data)"
   ]
  },
  {
   "cell_type": "code",
   "execution_count": null,
   "metadata": {},
   "outputs": [],
   "source": [
    "alpha = 0.95\n",
    "significance_level = alpha/(2*n)\n",
    "1-significance_level"
   ]
  },
  {
   "cell_type": "code",
   "execution_count": null,
   "metadata": {},
   "outputs": [],
   "source": [
    "t = stats.t.isf(significance_level, n-2, 2)\n",
    "t"
   ]
  },
  {
   "cell_type": "code",
   "execution_count": null,
   "metadata": {},
   "outputs": [],
   "source": [
    "g_test = ((n-1) / np.sqrt(n)) * (np.sqrt(t**2 / (n-2 + t**2)))\n",
    "g_test"
   ]
  },
  {
   "cell_type": "code",
   "execution_count": null,
   "metadata": {},
   "outputs": [],
   "source": [
    "relative_values = abs(data - data.mean())\n",
    "index = relative_values.argmax()\n",
    "value = relative_values[index]"
   ]
  },
  {
   "cell_type": "code",
   "execution_count": null,
   "metadata": {},
   "outputs": [],
   "source": [
    "g = value/data.std()"
   ]
  },
  {
   "cell_type": "code",
   "execution_count": null,
   "metadata": {},
   "outputs": [],
   "source": [
    "if g > g_test:\n",
    "    print('outlier')\n",
    "else:\n",
    "    print('inlier')"
   ]
  },
  {
   "cell_type": "markdown",
   "metadata": {},
   "source": [
    "## Likelihood Approach"
   ]
  },
  {
   "cell_type": "code",
   "execution_count": null,
   "metadata": {},
   "outputs": [],
   "source": [
    "def norm_dist(x, mu, sigma):\n",
    "    return 1/(np.sqrt(2*np.pi)*sigma) * np.e**(-((x-mu)**2)/(2*sigma**2))\n",
    "              \n",
    "def unif_dist(x, n):\n",
    "    return 1/n"
   ]
  },
  {
   "cell_type": "code",
   "execution_count": null,
   "metadata": {},
   "outputs": [],
   "source": [
    "data = []\n",
    "feature = 187\n",
    "for i in range(X.shape[0]):\n",
    "    data.append(X_unscaled[i][feature])\n",
    "print(len(data))"
   ]
  },
  {
   "cell_type": "code",
   "execution_count": null,
   "metadata": {},
   "outputs": [],
   "source": [
    "M = np.copy(data)\n",
    "A = []\n",
    "lambda_par = 0.3\n",
    "\n",
    "muM = np.mean(M)\n",
    "sigmaM = np.std(M)\n",
    "sizeA = len(A)\n",
    "\n",
    "sumM = np.sum([norm_dist(x, muM, sigmaM) for x in M])\n",
    "\n",
    "sumA = np.sum([unif_dist(x, sizeA) for x in A])\n",
    "\n",
    "ll = (len(M) * np.log(1-lambda_par) + sumM + len(A) * np.log(lambda_par) + sumA)"
   ]
  },
  {
   "cell_type": "code",
   "execution_count": null,
   "metadata": {},
   "outputs": [],
   "source": [
    "M = np.copy(data)\n",
    "A = []\n",
    "c = 13656\n",
    "for i, x in enumerate(data):\n",
    "    A.append(x)\n",
    "    M = np.array([xo for j, xo in enumerate(data) if i!=j])\n",
    "    muM = np.mean(M)\n",
    "    sigmaM = np.std(M)\n",
    "    sizeA = len(A)\n",
    "    sumM = np.sum([norm_dist(x, muM, sigmaM) for x in M])\n",
    "    sumA = np.sum([unif_dist(x, sizeA) for x in A])\n",
    "    ll_xi = (len(M) * np.log(1-lambda_par) + sumM + len(A) * np.log(lambda_par) + sumA)\n",
    "    delta_ll = abs(ll - ll_xi)\n",
    "    print(i, delta_ll, 'outlier' if delta_ll > c else 'inlier')\n",
    "    M = np.copy(data)\n",
    "    A = list()"
   ]
  },
  {
   "cell_type": "markdown",
   "metadata": {},
   "source": [
    "# Deviation Based"
   ]
  },
  {
   "cell_type": "code",
   "execution_count": null,
   "metadata": {},
   "outputs": [],
   "source": [
    "def sf(x, X):\n",
    "    idx = list(X).index(x)\n",
    "    X1 = np.array([x1 for i, x1 in enumerate(X) if i != idx])\n",
    "    return np.abs(np.var(X) - np.var(X1))"
   ]
  },
  {
   "cell_type": "code",
   "execution_count": null,
   "metadata": {},
   "outputs": [],
   "source": [
    "for i, x in enumerate(data):\n",
    "    print(i, sf(x, data))"
   ]
  },
  {
   "cell_type": "code",
   "execution_count": null,
   "metadata": {},
   "outputs": [],
   "source": [
    "np.var(data)"
   ]
  },
  {
   "cell_type": "markdown",
   "metadata": {},
   "source": [
    "# Outliers Visualization through Dimensionality Reduction"
   ]
  },
  {
   "cell_type": "code",
   "execution_count": null,
   "metadata": {},
   "outputs": [],
   "source": [
    "df"
   ]
  },
  {
   "cell_type": "markdown",
   "metadata": {},
   "source": [
    "## ISOMAP"
   ]
  },
  {
   "cell_type": "code",
   "execution_count": null,
   "metadata": {},
   "outputs": [],
   "source": [
    "from sklearn.manifold import Isomap"
   ]
  },
  {
   "cell_type": "code",
   "execution_count": null,
   "metadata": {},
   "outputs": [],
   "source": [
    "iso = Isomap(n_components=2, n_jobs=-1)\n",
    "X_iso = iso.fit_transform(X)\n",
    "X_iso.shape"
   ]
  },
  {
   "cell_type": "markdown",
   "metadata": {},
   "source": [
    "### LOF"
   ]
  },
  {
   "cell_type": "code",
   "execution_count": null,
   "metadata": {},
   "outputs": [],
   "source": [
    "plt.scatter(X_iso[np.where(df.outliers_LOF == -1), 0], X_iso[np.where(df.outliers_LOF == -1), 1], edgecolor='k', alpha=1, label = \"outliers\", color = \"red\", zorder=2)\n",
    "plt.scatter(X_iso[np.where(df.outliers_LOF == 1), 0], X_iso[np.where(df.outliers_LOF == 1), 1], edgecolor='k', alpha=0.3, label = \"inliers\", color = \"lightblue\", zorder=1)\n",
    "plt.legend()\n",
    "plt.show()"
   ]
  },
  {
   "cell_type": "markdown",
   "metadata": {},
   "source": [
    "### CBLOF"
   ]
  },
  {
   "cell_type": "code",
   "execution_count": null,
   "metadata": {},
   "outputs": [],
   "source": [
    "plt.scatter(X_iso[np.where(df.outliers_CBLOF == -1), 0], X_iso[np.where(df.outliers_CBLOF == -1), 1], edgecolor='k', alpha=1, label = \"outliers\", color = \"red\")\n",
    "plt.scatter(X_iso[np.where(df.outliers_CBLOF == 1), 0], X_iso[np.where(df.outliers_CBLOF == 1), 1], edgecolor='k', alpha=0.3, label = \"inliers\", color = \"lightblue\")\n",
    "plt.legend()\n",
    "plt.show()"
   ]
  },
  {
   "cell_type": "markdown",
   "metadata": {},
   "source": [
    "### ABOD"
   ]
  },
  {
   "cell_type": "code",
   "execution_count": null,
   "metadata": {},
   "outputs": [],
   "source": [
    "plt.scatter(X_iso[np.where(df.outliers_ABOD == -1), 0], X_iso[np.where(df.outliers_ABOD == -1), 1], edgecolor='k', alpha=1, label = \"outliers\", color = \"red\")\n",
    "plt.scatter(X_iso[np.where(df.outliers_ABOD == 1), 0], X_iso[np.where(df.outliers_ABOD == 1), 1], edgecolor='k', alpha=0.3, label = \"inliers\", color = \"lightblue\")\n",
    "plt.legend()\n",
    "plt.show()"
   ]
  },
  {
   "cell_type": "markdown",
   "metadata": {},
   "source": [
    "### LODA"
   ]
  },
  {
   "cell_type": "code",
   "execution_count": null,
   "metadata": {},
   "outputs": [],
   "source": [
    "plt.scatter(X_iso[np.where(df.outliers_LODA == -1), 0], X_iso[np.where(df.outliers_LODA == -1), 1], edgecolor='k', alpha=1, label = \"outliers\", color = \"red\")\n",
    "plt.scatter(X_iso[np.where(df.outliers_LODA == 1), 0], X_iso[np.where(df.outliers_LODA == 1), 1], edgecolor='k', alpha=0.3, label = \"inliers\", color = \"lightblue\")\n",
    "plt.legend()\n",
    "plt.show()"
   ]
  },
  {
   "cell_type": "markdown",
   "metadata": {},
   "source": [
    "### ISOFOREST"
   ]
  },
  {
   "cell_type": "code",
   "execution_count": null,
   "metadata": {},
   "outputs": [],
   "source": [
    "plt.scatter(X_iso[np.where(df.outliers_ISOFOREST == -1), 0], X_iso[np.where(df.outliers_ISOFOREST == -1), 1], edgecolor='k', alpha=1, label = \"outliers\", color = \"red\")\n",
    "plt.scatter(X_iso[np.where(df.outliers_ISOFOREST == 1), 0], X_iso[np.where(df.outliers_ISOFOREST == 1), 1], edgecolor='k', alpha=0.3, label = \"inliers\", color = \"lightblue\")\n",
    "plt.legend()\n",
    "plt.show()"
   ]
  },
  {
   "cell_type": "markdown",
   "metadata": {},
   "source": [
    "## T-SNE"
   ]
  },
  {
   "cell_type": "code",
   "execution_count": null,
   "metadata": {},
   "outputs": [],
   "source": [
    "from sklearn.manifold import TSNE"
   ]
  },
  {
   "cell_type": "code",
   "execution_count": null,
   "metadata": {},
   "outputs": [],
   "source": [
    "tsne = TSNE(n_components=2, learning_rate=\"auto\", init=\"pca\", n_jobs=-1)\n",
    "X_tsne = tsne.fit_transform(X)\n",
    "X_tsne.shape"
   ]
  },
  {
   "cell_type": "markdown",
   "metadata": {},
   "source": [
    "### LOF"
   ]
  },
  {
   "cell_type": "code",
   "execution_count": null,
   "metadata": {},
   "outputs": [],
   "source": [
    "plt.scatter(X_tsne[np.where(df.outliers_LODA == -1), 0], X_tsne[np.where(df.outliers_LODA == -1), 1], edgecolor='k', alpha=1, label = \"outliers\", color = \"red\")\n",
    "plt.scatter(X_tsne[np.where(df.outliers_LODA == 1), 0], X_tsne[np.where(df.outliers_LODA == 1), 1], edgecolor='k', alpha=0.3, label = \"inliers\", color = \"lightblue\")\n",
    "plt.legend()\n",
    "plt.show()"
   ]
  },
  {
   "cell_type": "markdown",
   "metadata": {},
   "source": [
    "### CBLOF"
   ]
  },
  {
   "cell_type": "code",
   "execution_count": null,
   "metadata": {},
   "outputs": [],
   "source": [
    "plt.scatter(X_tsne[np.where(df.outliers_CBLOF == -1), 0], X_tsne[np.where(df.outliers_CBLOF == -1), 1], edgecolor='k', alpha=1, label = \"outliers\", color = \"red\")\n",
    "plt.scatter(X_tsne[np.where(df.outliers_CBLOF == 1), 0], X_tsne[np.where(df.outliers_CBLOF == 1), 1], edgecolor='k', alpha=0.3, label = \"inliers\", color = \"lightblue\")\n",
    "plt.legend()\n",
    "plt.show()"
   ]
  },
  {
   "cell_type": "markdown",
   "metadata": {},
   "source": [
    "### ABOD"
   ]
  },
  {
   "cell_type": "code",
   "execution_count": null,
   "metadata": {},
   "outputs": [],
   "source": [
    "plt.scatter(X_tsne[np.where(df.outliers_ABOD == -1), 0], X_tsne[np.where(df.outliers_ABOD == -1), 1], edgecolor='k', alpha=1, label = \"outliers\", color = \"red\")\n",
    "plt.scatter(X_tsne[np.where(df.outliers_ABOD == 1), 0], X_tsne[np.where(df.outliers_ABOD == 1), 1], edgecolor='k', alpha=0.3, label = \"inliers\", color = \"lightblue\")\n",
    "plt.legend()\n",
    "plt.show()"
   ]
  },
  {
   "cell_type": "markdown",
   "metadata": {},
   "source": [
    "### LODA"
   ]
  },
  {
   "cell_type": "code",
   "execution_count": null,
   "metadata": {},
   "outputs": [],
   "source": [
    "plt.scatter(X_tsne[np.where(df.outliers_LODA == -1), 0], X_tsne[np.where(df.outliers_LODA == -1), 1], edgecolor='k', alpha=1, label = \"outliers\", color = \"red\")\n",
    "plt.scatter(X_tsne[np.where(df.outliers_LODA == 1), 0], X_tsne[np.where(df.outliers_LODA == 1), 1], edgecolor='k', alpha=0.3, label = \"inliers\", color = \"lightblue\")\n",
    "plt.legend()\n",
    "plt.show()"
   ]
  },
  {
   "cell_type": "markdown",
   "metadata": {},
   "source": [
    "### ISOFOREST"
   ]
  },
  {
   "cell_type": "code",
   "execution_count": null,
   "metadata": {},
   "outputs": [],
   "source": [
    "plt.scatter(X_tsne[np.where(df.outliers_ISOFOREST == -1), 0], X_tsne[np.where(df.outliers_ISOFOREST == -1), 1], edgecolor='k', alpha=1, label = \"outliers\", color = \"red\")\n",
    "plt.scatter(X_tsne[np.where(df.outliers_ISOFOREST == 1), 0], X_tsne[np.where(df.outliers_ISOFOREST == 1), 1], edgecolor='k', alpha=0.3, label = \"inliers\", color = \"lightblue\")\n",
    "plt.legend()\n",
    "plt.show()"
   ]
  },
  {
   "cell_type": "markdown",
   "metadata": {},
   "source": [
    "## Multi Dimensional Scaling"
   ]
  },
  {
   "cell_type": "code",
   "execution_count": null,
   "metadata": {},
   "outputs": [],
   "source": [
    "from sklearn.manifold import MDS"
   ]
  },
  {
   "cell_type": "code",
   "execution_count": null,
   "metadata": {},
   "outputs": [],
   "source": [
    "mds = MDS(n_components=2, n_jobs=-1) #, normalized_stress='auto') # shoudl run as sammon mapping\n",
    "X_mds = mds.fit_transform(X)\n",
    "X_mds.shape"
   ]
  },
  {
   "cell_type": "markdown",
   "metadata": {},
   "source": [
    "### LOF"
   ]
  },
  {
   "cell_type": "code",
   "execution_count": null,
   "metadata": {},
   "outputs": [],
   "source": [
    "plt.scatter(X_mds[np.where(df.outliers_LOF == -1), 0], X_mds[np.where(df.outliers_LOF == -1), 1], edgecolor='k', alpha=1, label = \"outliers\", color = \"red\", zorder=2)\n",
    "plt.scatter(X_mds[np.where(df.outliers_LOF == 1), 0], X_mds[np.where(df.outliers_LOF == 1), 1], edgecolor='k', alpha=0.3, label = \"inliers\", color = \"lightblue\", zorder=1)\n",
    "plt.legend()\n",
    "plt.show()"
   ]
  },
  {
   "cell_type": "markdown",
   "metadata": {},
   "source": [
    "### CBLOF"
   ]
  },
  {
   "cell_type": "code",
   "execution_count": null,
   "metadata": {},
   "outputs": [],
   "source": [
    "plt.scatter(X_mds[np.where(df.outliers_CBLOF == -1), 0], X_mds[np.where(df.outliers_CBLOF == -1), 1], edgecolor='k', alpha=1, label = \"outliers\", color = \"red\")\n",
    "plt.scatter(X_mds[np.where(df.outliers_CBLOF == 1), 0], X_mds[np.where(df.outliers_CBLOF == 1), 1], edgecolor='k', alpha=0.3, label = \"inliers\", color = \"lightblue\")\n",
    "plt.legend()\n",
    "plt.show()"
   ]
  },
  {
   "cell_type": "markdown",
   "metadata": {},
   "source": [
    "### ABOD"
   ]
  },
  {
   "cell_type": "code",
   "execution_count": null,
   "metadata": {},
   "outputs": [],
   "source": [
    "plt.scatter(X_mds[np.where(df.outliers_ABOD == -1), 0], X_mds[np.where(df.outliers_ABOD == -1), 1], edgecolor='k', alpha=1, label = \"outliers\", color = \"red\")\n",
    "plt.scatter(X_mds[np.where(df.outliers_ABOD == 1), 0], X_mds[np.where(df.outliers_ABOD == 1), 1], edgecolor='k', alpha=0.3, label = \"inliers\", color = \"lightblue\")\n",
    "plt.legend()\n",
    "plt.show()"
   ]
  },
  {
   "cell_type": "markdown",
   "metadata": {},
   "source": [
    "### LODA"
   ]
  },
  {
   "cell_type": "code",
   "execution_count": null,
   "metadata": {},
   "outputs": [],
   "source": [
    "plt.scatter(X_mds[np.where(df.outliers_LODA == -1), 0], X_mds[np.where(df.outliers_LODA == -1), 1], edgecolor='k', alpha=1, label = \"outliers\", color = \"red\")\n",
    "plt.scatter(X_mds[np.where(df.outliers_LODA == 1), 0], X_mds[np.where(df.outliers_LODA == 1), 1], edgecolor='k', alpha=0.3, label = \"inliers\", color = \"lightblue\")\n",
    "plt.legend()\n",
    "plt.show()"
   ]
  },
  {
   "cell_type": "markdown",
   "metadata": {},
   "source": [
    "### ISOFOREST"
   ]
  },
  {
   "cell_type": "code",
   "execution_count": null,
   "metadata": {},
   "outputs": [],
   "source": [
    "plt.scatter(X_mds[np.where(df.outliers_ISOFOREST == -1), 0], X_mds[np.where(df.outliers_ISOFOREST == -1), 1], edgecolor='k', alpha=1, label = \"outliers\", color = \"red\")\n",
    "plt.scatter(X_mds[np.where(df.outliers_ISOFOREST == 1), 0], X_mds[np.where(df.outliers_ISOFOREST == 1), 1], edgecolor='k', alpha=0.3, label = \"inliers\", color = \"lightblue\")\n",
    "plt.legend()\n",
    "plt.show()"
   ]
  },
  {
   "cell_type": "markdown",
   "metadata": {},
   "source": [
    "## Principal Component Analysis"
   ]
  },
  {
   "cell_type": "code",
   "execution_count": null,
   "metadata": {},
   "outputs": [],
   "source": [
    "from sklearn.decomposition import PCA"
   ]
  },
  {
   "cell_type": "code",
   "execution_count": null,
   "metadata": {},
   "outputs": [],
   "source": [
    "pca = PCA(n_components=2)\n",
    "pca.fit(X)\n",
    "X_pca = pca.transform(X)"
   ]
  },
  {
   "cell_type": "markdown",
   "metadata": {},
   "source": [
    "### LOF"
   ]
  },
  {
   "cell_type": "code",
   "execution_count": null,
   "metadata": {},
   "outputs": [],
   "source": [
    "plt.scatter(X_pca[np.where(df.outliers_LOF == -1), 0], X_pca[np.where(df.outliers_LOF == -1), 1], edgecolor='k', alpha=1, label = \"outliers\", color = \"red\")\n",
    "plt.scatter(X_pca[np.where(df.outliers_LOF == 1), 0], X_pca[np.where(df.outliers_LOF == 1), 1], edgecolor='k', alpha=0.3, label = \"inliers\", color = \"lightblue\")\n",
    "plt.legend()\n",
    "plt.show()"
   ]
  },
  {
   "cell_type": "markdown",
   "metadata": {},
   "source": [
    "### CBLOF"
   ]
  },
  {
   "cell_type": "code",
   "execution_count": null,
   "metadata": {},
   "outputs": [],
   "source": [
    "plt.scatter(X_pca[np.where(df.outliers_CBLOF == -1), 0], X_pca[np.where(df.outliers_CBLOF == -1), 1], edgecolor='k', alpha=1, label = \"outliers\", color = \"red\")\n",
    "plt.scatter(X_pca[np.where(df.outliers_CBLOF == 1), 0], X_pca[np.where(df.outliers_CBLOF == 1), 1], edgecolor='k', alpha=0.3, label = \"inliers\", color = \"lightblue\")\n",
    "plt.legend()\n",
    "plt.show()"
   ]
  },
  {
   "cell_type": "markdown",
   "metadata": {},
   "source": [
    "### ABOD"
   ]
  },
  {
   "cell_type": "code",
   "execution_count": null,
   "metadata": {},
   "outputs": [],
   "source": [
    "plt.scatter(X_pca[np.where(df.outliers_ABOD == -1), 0], X_pca[np.where(df.outliers_ABOD == -1), 1], edgecolor='k', alpha=1, label = \"outliers\", color = \"red\")\n",
    "plt.scatter(X_pca[np.where(df.outliers_ABOD == 1), 0], X_pca[np.where(df.outliers_ABOD == 1), 1], edgecolor='k', alpha=0.3, label = \"inliers\", color = \"lightblue\")\n",
    "plt.legend()\n",
    "plt.show()"
   ]
  },
  {
   "cell_type": "markdown",
   "metadata": {},
   "source": [
    "### LODA"
   ]
  },
  {
   "cell_type": "code",
   "execution_count": null,
   "metadata": {},
   "outputs": [],
   "source": [
    "plt.scatter(X_pca[np.where(df.outliers_LODA == -1), 0], X_pca[np.where(df.outliers_LODA == -1), 1], edgecolor='k', alpha=1, label = \"outliers\", color = \"red\")\n",
    "plt.scatter(X_pca[np.where(df.outliers_LODA == 1), 0], X_pca[np.where(df.outliers_LODA == 1), 1], edgecolor='k', alpha=0.3, label = \"inliers\", color = \"lightblue\")\n",
    "plt.legend()\n",
    "plt.show()"
   ]
  },
  {
   "cell_type": "markdown",
   "metadata": {},
   "source": [
    "### ISOFOREST"
   ]
  },
  {
   "cell_type": "code",
   "execution_count": null,
   "metadata": {},
   "outputs": [],
   "source": [
    "plt.scatter(X_pca[np.where(df.outliers_ISOFOREST == -1), 0], X_pca[np.where(df.outliers_ISOFOREST == -1), 1], edgecolor='k', alpha=1, label = \"outliers\", color = \"red\")\n",
    "plt.scatter(X_pca[np.where(df.outliers_ISOFOREST == 1), 0], X_pca[np.where(df.outliers_ISOFOREST == 1), 1], edgecolor='k', alpha=0.3, label = \"inliers\", color = \"lightblue\")\n",
    "plt.legend()\n",
    "plt.show()"
   ]
  },
  {
   "cell_type": "markdown",
   "metadata": {},
   "source": [
    "## Outliers Dropout"
   ]
  },
  {
   "cell_type": "code",
   "execution_count": null,
   "metadata": {},
   "outputs": [],
   "source": [
    "df.head()"
   ]
  },
  {
   "cell_type": "code",
   "execution_count": null,
   "metadata": {},
   "outputs": [],
   "source": [
    "df[\"majority_voting_outlier\"] = df.iloc[:,-5:].mode(axis=\"columns\")[0] #majority voting dei 5 outlier score"
   ]
  },
  {
   "cell_type": "code",
   "execution_count": null,
   "metadata": {},
   "outputs": [],
   "source": [
    "df.drop(index=df.iloc[np.where(df.majority_voting_outlier == -1)].index) # dataframe privo degli outliers trovati"
   ]
  },
  {
   "cell_type": "code",
   "execution_count": null,
   "metadata": {},
   "outputs": [],
   "source": [
    "#df.to_csv(\"ravdess_features_outlierless.csv\", index=False)"
   ]
  },
  {
   "cell_type": "code",
   "execution_count": null,
   "metadata": {},
   "outputs": [],
   "source": [
    "outliers_idx = df.loc[df.majority_voting_outlier == -1].index\n",
    "outliers_idx"
   ]
  },
  {
   "cell_type": "code",
   "execution_count": null,
   "metadata": {},
   "outputs": [],
   "source": [
    "len(df_train)"
   ]
  },
  {
   "cell_type": "code",
   "execution_count": null,
   "metadata": {},
   "outputs": [],
   "source": [
    "list = [df.drop(columns=df.columns[-6:]).iloc[1861] == df_test.iloc[33]]"
   ]
  },
  {
   "cell_type": "code",
   "execution_count": null,
   "metadata": {},
   "outputs": [],
   "source": [
    "list = [df.drop(columns=df.columns[-6:]).iloc[1861] == df_test.iloc[33]]\n",
    "count = 0\n",
    "for i in range(len(list)):\n",
    "    if list[0][i] == \"False\":\n",
    "        count = count + 1\n",
    "count"
   ]
  },
  {
   "cell_type": "code",
   "execution_count": null,
   "metadata": {},
   "outputs": [],
   "source": [
    "print(1861-len(df_train))\n",
    "print(1862-len(df_train))\n",
    "print(1966-len(df_train))\n",
    "print(2024-len(df_train))\n",
    "print(2025-len(df_train))\n",
    "print(2026-len(df_train))\n",
    "print(2027-len(df_train))"
   ]
  },
  {
   "cell_type": "code",
   "execution_count": null,
   "metadata": {},
   "outputs": [],
   "source": [
    "df.iloc[outliers_idx]"
   ]
  }
 ],
 "metadata": {
  "kernelspec": {
   "display_name": "Python 3 (ipykernel)",
   "language": "python",
   "name": "python3"
  },
  "language_info": {
   "codemirror_mode": {
    "name": "ipython",
    "version": 3
   },
   "file_extension": ".py",
   "mimetype": "text/x-python",
   "name": "python",
   "nbconvert_exporter": "python",
   "pygments_lexer": "ipython3",
   "version": "3.9.12"
  }
 },
 "nbformat": 4,
 "nbformat_minor": 2
}
