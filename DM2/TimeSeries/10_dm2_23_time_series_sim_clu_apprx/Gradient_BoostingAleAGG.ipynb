{
 "cells": [
  {
   "cell_type": "code",
   "execution_count": 1,
   "metadata": {},
   "outputs": [],
   "source": [
    "%matplotlib inline\n",
    "\n",
    "import numpy as np\n",
    "import pandas as pd\n",
    "import matplotlib.pyplot as plt\n",
    "\n",
    "from collections import defaultdict\n",
    "\n",
    "from sklearn.ensemble import GradientBoostingClassifier, GradientBoostingRegressor, HistGradientBoostingClassifier\n",
    "from xgboost import XGBClassifier\n",
    "import xgboost as xgb\n",
    "from lightgbm import LGBMClassifier\n",
    "from catboost import CatBoostClassifier\n",
    "\n",
    "from sklearn.metrics import accuracy_score, f1_score, classification_report\n",
    "from sklearn.metrics import roc_curve, auc, roc_auc_score\n",
    "\n",
    "from sklearn.model_selection import RandomizedSearchCV, GridSearchCV, RepeatedStratifiedKFold\n",
    "from sklearn.feature_selection import SelectKBest"
   ]
  },
  {
   "cell_type": "code",
   "execution_count": 2,
   "metadata": {},
   "outputs": [],
   "source": [
    "df_train=pd.read_csv(\"ravdess_features_train.csv\")\n",
    "df_test=pd.read_csv(\"ravdess_features_test.csv\")"
   ]
  },
  {
   "cell_type": "code",
   "execution_count": 3,
   "metadata": {},
   "outputs": [],
   "source": [
    "df_train[\"emotion\"]=df_train[\"emotion\"].replace([\"fearful\", \"angry\", \"happy\", \"surprised\", \"neutral\", \"calm\", \"sad\", \"disgust\"],[0,1,2,3,4,5,6,7])\n",
    "df_train[\"emotional_intensity\"]=df_train[\"emotional_intensity\"].replace([\"normal\", \"strong\"],[0,1])\n",
    "df_train[\"sex\"]=df_train[\"sex\"].replace([\"M\", \"F\"],[0,1])\n",
    "df_train[\"statement\"]=df_train[\"statement\"].replace([\"Dogs are sitting by the door\", \"Kids are talking by the door\"],[0,1])\n",
    "df_train[\"vocal_channel\"]=df_train[\"vocal_channel\"].replace([\"speech\", \"song\"],[0,1])\n",
    "\n",
    "df_test[\"emotion\"]=df_test[\"emotion\"].replace([\"fearful\", \"angry\", \"happy\", \"surprised\", \"neutral\", \"calm\", \"sad\", \"disgust\"],[0,1,2,3,4,5,6,7])\n",
    "df_test[\"emotional_intensity\"]=df_test[\"emotional_intensity\"].replace([\"normal\", \"strong\"],[0,1])\n",
    "df_test[\"sex\"]=df_test[\"sex\"].replace([\"M\", \"F\"],[0,1])\n",
    "df_test[\"statement\"]=df_test[\"statement\"].replace([\"Dogs are sitting by the door\", \"Kids are talking by the door\"],[0,1])\n",
    "df_test[\"vocal_channel\"]=df_test[\"vocal_channel\"].replace([\"speech\", \"song\"],[0,1])"
   ]
  },
  {
   "cell_type": "code",
   "execution_count": 4,
   "metadata": {},
   "outputs": [],
   "source": [
    "df_train.drop(axis=\"index\", labels=[35,243,451,554,563,658,659,1031,1075,1283], inplace=True)\n",
    "X_train=df_train.drop(columns=[\"emotion\"]).values\n",
    "y_train=df_train.emotion.values\n",
    "\n",
    "df_test.drop(axis=\"index\", labels=[33,34,138,196,197,198,199], inplace=True)\n",
    "X_test=df_test.drop(columns=[\"emotion\"]).values\n",
    "y_test=df_test.emotion.values"
   ]
  },
  {
   "cell_type": "code",
   "execution_count": 5,
   "metadata": {},
   "outputs": [
    {
     "name": "stderr",
     "output_type": "stream",
     "text": [
      "c:\\ProgramData\\Anaconda3\\lib\\site-packages\\sklearn\\feature_selection\\_univariate_selection.py:112: UserWarning: Features [108] are constant.\n",
      "  warnings.warn(\"Features %s are constant.\" % constant_features_idx, UserWarning)\n",
      "c:\\ProgramData\\Anaconda3\\lib\\site-packages\\sklearn\\feature_selection\\_univariate_selection.py:113: RuntimeWarning: invalid value encountered in divide\n",
      "  f = msb / msw\n"
     ]
    }
   ],
   "source": [
    "sel = SelectKBest(k=108)\n",
    "X_train = sel.fit_transform(X_train, y_train)\n",
    "X_test = sel.transform(X_test)"
   ]
  },
  {
   "cell_type": "markdown",
   "metadata": {},
   "source": [
    "# XGBoost"
   ]
  },
  {
   "cell_type": "markdown",
   "metadata": {},
   "source": [
    "### Parametri importanti:\n",
    "\n",
    "- #### General parameters:\n",
    "    \n",
    "    - booster: gbtree, gblinear or dart. default gbtree.\n",
    "\n",
    "\n",
    "- #### Booster parameters:\n",
    "\n",
    "    - eta: learning rate. [0,$\\infty$], tipically 0.01-0.2;\n",
    "    - gamma: min_split_loss. The larger the more conservative;\n",
    "    - max_depth: tipically 3-10;\n",
    "    - min_child_weight: prevent the model from learning very specific relations. [0,$\\infty$];\n",
    "    - subsample: denotes the fraction of observations to be randomly sampled for each tree. Tipically 0.5-1;\n",
    "    - reg_lambda: L2 regularization;\n",
    "    \n",
    "\n",
    "- #### Learning task parameters:\n",
    "\n",
    "    - objective: [multi:softmax, multi:softprob];\n",
    "    - eval_metric: [merror, mlogloss]\n",
    "\n",
    "Nota: enable_categorical non ha alcun effetto, almeno sulle variabili binarie che abbiamo noi.\n"
   ]
  },
  {
   "cell_type": "code",
   "execution_count": 6,
   "metadata": {},
   "outputs": [],
   "source": [
    "#XGBClassifier?"
   ]
  },
  {
   "cell_type": "code",
   "execution_count": 6,
   "metadata": {},
   "outputs": [
    {
     "name": "stdout",
     "output_type": "stream",
     "text": [
      "Accuracy 0.4246353322528363\n",
      "F1-score [0.26666667 0.56074766 0.39393939 0.53571429 0.32989691 0.53266332\n",
      " 0.2754491  0.41071429]\n",
      "              precision    recall  f1-score   support\n",
      "\n",
      "           0       0.46      0.19      0.27        96\n",
      "           1       0.48      0.67      0.56        89\n",
      "           2       0.38      0.41      0.39        96\n",
      "           3       0.47      0.62      0.54        48\n",
      "           4       0.33      0.33      0.33        48\n",
      "           5       0.51      0.55      0.53        96\n",
      "           6       0.32      0.24      0.28        96\n",
      "           7       0.36      0.48      0.41        48\n",
      "\n",
      "    accuracy                           0.42       617\n",
      "   macro avg       0.41      0.44      0.41       617\n",
      "weighted avg       0.42      0.42      0.41       617\n",
      "\n"
     ]
    }
   ],
   "source": [
    "clf = XGBClassifier(objective='multi:softmax',\n",
    "                    booster=\"gbtree\",\n",
    "                    max_depth = 6,\n",
    "                    learning_rate = 1.0,\n",
    "                    gamma = 0.0,\n",
    "                    reg_lambda = 1,\n",
    "                    tree_method='approx', # 'approx'\n",
    "                    random_state=42,\n",
    "                    nthread=-1,\n",
    "                    eval_metric=\"mlogloss\"\n",
    "                   )\n",
    "clf.fit(X_train, y_train)\n",
    "\n",
    "y_pred = clf.predict(X_test)\n",
    "\n",
    "print('Accuracy %s' % accuracy_score(y_test, y_pred))\n",
    "print('F1-score %s' % f1_score(y_test, y_pred, average=None))\n",
    "print(classification_report(y_test, y_pred))"
   ]
  },
  {
   "cell_type": "code",
   "execution_count": 7,
   "metadata": {},
   "outputs": [
    {
     "data": {
      "image/png": "[encoded data removed]",
      "text/plain": [
       "<Figure size 640x480 with 1 Axes>"
      ]
     },
     "metadata": {},
     "output_type": "display_data"
    },
    {
     "data": {
      "text/plain": [
       "<Figure size 1600x1200 with 0 Axes>"
      ]
     },
     "metadata": {},
     "output_type": "display_data"
    }
   ],
   "source": [
    "xgb.plot_importance(clf, max_num_features=15)\n",
    "plt.figure(figsize = (16, 12))\n",
    "plt.show()"
   ]
  },
  {
   "cell_type": "code",
   "execution_count": 8,
   "metadata": {},
   "outputs": [
    {
     "data": {
      "text/plain": [
       "RandomizedSearchCV(cv=RepeatedStratifiedKFold(n_repeats=5, n_splits=3, random_state=0),\n",
       "                   estimator=XGBClassifier(base_score=None, booster=None,\n",
       "                                           callbacks=None,\n",
       "                                           colsample_bylevel=None,\n",
       "                                           colsample_bynode=None,\n",
       "                                           colsample_bytree=None,\n",
       "                                           early_stopping_rounds=None,\n",
       "                                           enable_categorical=False,\n",
       "                                           eval_metric=None, feature_types=None,\n",
       "                                           gamma=None, gpu_id=None,\n",
       "                                           grow_policy=None,\n",
       "                                           im...\n",
       "                                        'gamma': [0.0, 0.5, 1.0, 1.5, 2.0],\n",
       "                                        'max_depth': [3, 6, 8, 10],\n",
       "                                        'min_child_weight': [1.0, 2.0, 3.0, 4.0,\n",
       "                                                             5.0, 6.0, 7.0,\n",
       "                                                             8.0],\n",
       "                                        'objective': ['multi:softmax',\n",
       "                                                      'multi:softprob'],\n",
       "                                        'reg_lambda': [0.5, 1.5555555555555556,\n",
       "                                                       2.611111111111111,\n",
       "                                                       3.666666666666667,\n",
       "                                                       4.722222222222222,\n",
       "                                                       5.777777777777778,\n",
       "                                                       6.833333333333334,\n",
       "                                                       7.888888888888889,\n",
       "                                                       8.944444444444445,\n",
       "                                                       10.0],\n",
       "                                        'subsample': [0.5, 0.625, 0.75, 0.875,\n",
       "                                                      1.0]})"
      ]
     },
     "execution_count": 8,
     "metadata": {},
     "output_type": "execute_result"
    }
   ],
   "source": [
    "\n",
    "param_list = {\n",
    "    \"booster\": [\"gbtree\", \"dart\"],\n",
    "    \"eta\": [x for x in np.linspace(0.01,0.2,num=int(0.2/0.01))],\n",
    "    \"gamma\": [x for x in np.linspace(0,2,num=5)],\n",
    "    \"max_depth\": [3,6,8,10],\n",
    "    \"min_child_weight\": [x for x in np.linspace(1,8,num=8)],\n",
    "    \"subsample\": [x for x in np.linspace(0.5,1,num=5)],\n",
    "    \"reg_lambda\": [x for x in np.linspace(0.5,10,num=10)],\n",
    "    \"objective\": [\"multi:softmax\", \"multi:softprob\"],\n",
    "    \"eval_metric\": [\"merror\", \"mlogloss\"]\n",
    "             }\n",
    "\n",
    "grid_xgboost = RandomizedSearchCV(XGBClassifier(nthread=-1),\n",
    "                    param_distributions=param_list,\n",
    "                    cv=RepeatedStratifiedKFold(random_state=0, n_splits=3, n_repeats=5),\n",
    "                    n_jobs=-1,\n",
    "                    n_iter=300)\n",
    "grid_xgboost.fit(X_train, y_train)\n"
   ]
  },
  {
   "cell_type": "code",
   "execution_count": 9,
   "metadata": {},
   "outputs": [
    {
     "data": {
      "text/plain": [
       "{'subsample': 0.75,\n",
       " 'reg_lambda': 7.888888888888889,\n",
       " 'objective': 'multi:softmax',\n",
       " 'min_child_weight': 3.0,\n",
       " 'max_depth': 6,\n",
       " 'gamma': 0.0,\n",
       " 'eval_metric': 'mlogloss',\n",
       " 'eta': 0.19,\n",
       " 'booster': 'gbtree'}"
      ]
     },
     "execution_count": 9,
     "metadata": {},
     "output_type": "execute_result"
    }
   ],
   "source": [
    "grid_xgboost.best_params_"
   ]
  },
  {
   "cell_type": "markdown",
   "metadata": {},
   "source": [
    "Best params model complete (only OD): {'subsample': 0.875,\n",
    " 'reg_lambda': 0.5,\n",
    " 'objective': 'multi:softmax',\n",
    " 'min_child_weight': 4.0,\n",
    " 'max_depth': 8,\n",
    " 'gamma': 0.5,\n",
    " 'eval_metric': 'mlogloss',\n",
    " 'eta': 0.12,\n",
    " 'booster': 'dart'}\n",
    "\n",
    "Best params model with FS and OD: {'subsample': 0.75,\n",
    " 'reg_lambda': 7.888888888888889,\n",
    " 'objective': 'multi:softmax',\n",
    " 'min_child_weight': 3.0,\n",
    " 'max_depth': 6,\n",
    " 'gamma': 0.0,\n",
    " 'eval_metric': 'mlogloss',\n",
    " 'eta': 0.19,\n",
    " 'booster': 'gbtree'}"
   ]
  },
  {
   "cell_type": "code",
   "execution_count": 11,
   "metadata": {},
   "outputs": [],
   "source": [
    "eval_set = [(X_train, y_train), (X_test, y_test)]"
   ]
  },
  {
   "cell_type": "code",
   "execution_count": 26,
   "metadata": {},
   "outputs": [
    {
     "name": "stdout",
     "output_type": "stream",
     "text": [
      "[0]\tvalidation_0-mlogloss:2.00253\tvalidation_1-mlogloss:2.00865\n",
      "[1]\tvalidation_0-mlogloss:1.93623\tvalidation_1-mlogloss:1.95160\n",
      "[2]\tvalidation_0-mlogloss:1.87540\tvalidation_1-mlogloss:1.89466\n",
      "[3]\tvalidation_0-mlogloss:1.82381\tvalidation_1-mlogloss:1.84489\n",
      "[4]\tvalidation_0-mlogloss:1.78185\tvalidation_1-mlogloss:1.80555\n",
      "[5]\tvalidation_0-mlogloss:1.74146\tvalidation_1-mlogloss:1.77321\n",
      "[6]\tvalidation_0-mlogloss:1.70985\tvalidation_1-mlogloss:1.74513\n",
      "[7]\tvalidation_0-mlogloss:1.68176\tvalidation_1-mlogloss:1.72116\n",
      "[8]\tvalidation_0-mlogloss:1.64894\tvalidation_1-mlogloss:1.69265\n",
      "[9]\tvalidation_0-mlogloss:1.62241\tvalidation_1-mlogloss:1.67085\n",
      "[10]\tvalidation_0-mlogloss:1.59879\tvalidation_1-mlogloss:1.64957\n",
      "[11]\tvalidation_0-mlogloss:1.57519\tvalidation_1-mlogloss:1.62759\n",
      "[12]\tvalidation_0-mlogloss:1.55535\tvalidation_1-mlogloss:1.61337\n",
      "[13]\tvalidation_0-mlogloss:1.53732\tvalidation_1-mlogloss:1.60498\n",
      "[14]\tvalidation_0-mlogloss:1.51770\tvalidation_1-mlogloss:1.59091\n",
      "[15]\tvalidation_0-mlogloss:1.50192\tvalidation_1-mlogloss:1.58166\n",
      "[16]\tvalidation_0-mlogloss:1.48917\tvalidation_1-mlogloss:1.57559\n",
      "[17]\tvalidation_0-mlogloss:1.47483\tvalidation_1-mlogloss:1.56433\n",
      "[18]\tvalidation_0-mlogloss:1.46186\tvalidation_1-mlogloss:1.55100\n",
      "[19]\tvalidation_0-mlogloss:1.45120\tvalidation_1-mlogloss:1.54480\n",
      "[20]\tvalidation_0-mlogloss:1.44033\tvalidation_1-mlogloss:1.53904\n",
      "[21]\tvalidation_0-mlogloss:1.42942\tvalidation_1-mlogloss:1.53304\n",
      "[22]\tvalidation_0-mlogloss:1.41967\tvalidation_1-mlogloss:1.53077\n",
      "[23]\tvalidation_0-mlogloss:1.41036\tvalidation_1-mlogloss:1.52735\n",
      "[24]\tvalidation_0-mlogloss:1.40046\tvalidation_1-mlogloss:1.52196\n",
      "[25]\tvalidation_0-mlogloss:1.39000\tvalidation_1-mlogloss:1.51526\n",
      "[26]\tvalidation_0-mlogloss:1.38035\tvalidation_1-mlogloss:1.51083\n",
      "[27]\tvalidation_0-mlogloss:1.37273\tvalidation_1-mlogloss:1.50910\n",
      "[28]\tvalidation_0-mlogloss:1.36418\tvalidation_1-mlogloss:1.50494\n",
      "[29]\tvalidation_0-mlogloss:1.35668\tvalidation_1-mlogloss:1.50310\n",
      "[30]\tvalidation_0-mlogloss:1.34718\tvalidation_1-mlogloss:1.49933\n",
      "[31]\tvalidation_0-mlogloss:1.34024\tvalidation_1-mlogloss:1.49594\n",
      "[32]\tvalidation_0-mlogloss:1.33211\tvalidation_1-mlogloss:1.49462\n",
      "[33]\tvalidation_0-mlogloss:1.32495\tvalidation_1-mlogloss:1.49265\n",
      "[34]\tvalidation_0-mlogloss:1.31665\tvalidation_1-mlogloss:1.48703\n",
      "[35]\tvalidation_0-mlogloss:1.30983\tvalidation_1-mlogloss:1.48140\n",
      "[36]\tvalidation_0-mlogloss:1.30304\tvalidation_1-mlogloss:1.47944\n",
      "[37]\tvalidation_0-mlogloss:1.29752\tvalidation_1-mlogloss:1.47674\n",
      "[38]\tvalidation_0-mlogloss:1.29196\tvalidation_1-mlogloss:1.47555\n",
      "[39]\tvalidation_0-mlogloss:1.28574\tvalidation_1-mlogloss:1.47505\n",
      "[40]\tvalidation_0-mlogloss:1.27945\tvalidation_1-mlogloss:1.47384\n",
      "[41]\tvalidation_0-mlogloss:1.27423\tvalidation_1-mlogloss:1.47284\n",
      "[42]\tvalidation_0-mlogloss:1.26892\tvalidation_1-mlogloss:1.47129\n",
      "[43]\tvalidation_0-mlogloss:1.26386\tvalidation_1-mlogloss:1.47008\n",
      "[44]\tvalidation_0-mlogloss:1.25818\tvalidation_1-mlogloss:1.47132\n",
      "[45]\tvalidation_0-mlogloss:1.25384\tvalidation_1-mlogloss:1.47080\n",
      "[46]\tvalidation_0-mlogloss:1.24849\tvalidation_1-mlogloss:1.46979\n",
      "[47]\tvalidation_0-mlogloss:1.24399\tvalidation_1-mlogloss:1.47196\n",
      "[48]\tvalidation_0-mlogloss:1.23981\tvalidation_1-mlogloss:1.47375\n",
      "[49]\tvalidation_0-mlogloss:1.23453\tvalidation_1-mlogloss:1.47413\n",
      "[50]\tvalidation_0-mlogloss:1.22984\tvalidation_1-mlogloss:1.47093\n",
      "[51]\tvalidation_0-mlogloss:1.22457\tvalidation_1-mlogloss:1.46912\n",
      "[52]\tvalidation_0-mlogloss:1.22059\tvalidation_1-mlogloss:1.46891\n",
      "[53]\tvalidation_0-mlogloss:1.21606\tvalidation_1-mlogloss:1.46806\n",
      "[54]\tvalidation_0-mlogloss:1.21072\tvalidation_1-mlogloss:1.46667\n",
      "[55]\tvalidation_0-mlogloss:1.20678\tvalidation_1-mlogloss:1.46614\n",
      "[56]\tvalidation_0-mlogloss:1.20246\tvalidation_1-mlogloss:1.46408\n",
      "[57]\tvalidation_0-mlogloss:1.19823\tvalidation_1-mlogloss:1.46477\n",
      "[58]\tvalidation_0-mlogloss:1.19495\tvalidation_1-mlogloss:1.46325\n",
      "[59]\tvalidation_0-mlogloss:1.19114\tvalidation_1-mlogloss:1.46488\n",
      "[60]\tvalidation_0-mlogloss:1.18735\tvalidation_1-mlogloss:1.46652\n",
      "[61]\tvalidation_0-mlogloss:1.18336\tvalidation_1-mlogloss:1.46576\n",
      "[62]\tvalidation_0-mlogloss:1.18021\tvalidation_1-mlogloss:1.46699\n",
      "[63]\tvalidation_0-mlogloss:1.17670\tvalidation_1-mlogloss:1.46737\n",
      "[64]\tvalidation_0-mlogloss:1.17236\tvalidation_1-mlogloss:1.46602\n",
      "[65]\tvalidation_0-mlogloss:1.16750\tvalidation_1-mlogloss:1.46518\n",
      "[66]\tvalidation_0-mlogloss:1.16434\tvalidation_1-mlogloss:1.46521\n",
      "[67]\tvalidation_0-mlogloss:1.16140\tvalidation_1-mlogloss:1.46622\n",
      "Accuracy 0.4213938411669368\n",
      "F1-score [0.31428571 0.5        0.41747573 0.48739496 0.16129032 0.57740586\n",
      " 0.27906977 0.36956522]\n",
      "              precision    recall  f1-score   support\n",
      "\n",
      "           0       0.50      0.23      0.31        96\n",
      "           1       0.44      0.57      0.50        89\n",
      "           2       0.39      0.45      0.42        96\n",
      "           3       0.41      0.60      0.49        48\n",
      "           4       0.36      0.10      0.16        48\n",
      "           5       0.48      0.72      0.58        96\n",
      "           6       0.32      0.25      0.28        96\n",
      "           7       0.39      0.35      0.37        48\n",
      "\n",
      "    accuracy                           0.42       617\n",
      "   macro avg       0.41      0.41      0.39       617\n",
      "weighted avg       0.42      0.42      0.40       617\n",
      "\n"
     ]
    }
   ],
   "source": [
    "clf = XGBClassifier(objective='multi:softmax',\n",
    "                    booster=\"gbtree\",\n",
    "                    max_depth = 6,\n",
    "                    gamma = 0,\n",
    "                    eta=0.19,\n",
    "                    reg_lambda = 7.9,\n",
    "                    min_child_weight=3,\n",
    "                    random_state=42,\n",
    "                    nthread=-1,\n",
    "                    subsample=0.75,\n",
    "                    eval_metric=\"mlogloss\",\n",
    "                    n_estimators=500,\n",
    "                    early_stopping_rounds=10\n",
    "                   )\n",
    "clf.fit(X_train, y_train, eval_set=eval_set)\n",
    "\n",
    "y_pred = clf.predict(X_test)\n",
    "\n",
    "print('Accuracy %s' % accuracy_score(y_test, y_pred))\n",
    "print('F1-score %s' % f1_score(y_test, y_pred, average=None))\n",
    "print(classification_report(y_test, y_pred))"
   ]
  },
  {
   "cell_type": "code",
   "execution_count": 27,
   "metadata": {},
   "outputs": [],
   "source": [
    "results = clf.evals_result_\n",
    "epochs = len(results['validation_0']['mlogloss'])\n",
    "x_axis = range(0, epochs)"
   ]
  },
  {
   "cell_type": "code",
   "execution_count": 28,
   "metadata": {},
   "outputs": [
    {
     "data": {
      "image/png": "[encoded data removed]",
      "text/plain": [
       "<Figure size 640x480 with 1 Axes>"
      ]
     },
     "metadata": {},
     "output_type": "display_data"
    }
   ],
   "source": [
    "fig, ax = plt.subplots()\n",
    "ax.plot(x_axis, results['validation_0']['mlogloss'], label='Train')\n",
    "ax.plot(x_axis, results['validation_1']['mlogloss'], label='Test')\n",
    "ax.legend()\n",
    "plt.ylabel('Logloss')\n",
    "plt.xlabel(\"epochs\")\n",
    "plt.title('XGBoost Logloss')\n",
    "plt.show()"
   ]
  },
  {
   "cell_type": "code",
   "execution_count": null,
   "metadata": {},
   "outputs": [
    {
     "name": "stdout",
     "output_type": "stream",
     "text": [
      "Fitting 15 folds for each of 300 candidates, totalling 4500 fits\n"
     ]
    }
   ],
   "source": [
    "'''\n",
    "param_list = {\n",
    "    \"booster\": [\"dart\"],\n",
    "    \"eta\": [0.12],\n",
    "    \"gamma\": [x for x in np.linspace(0,0.5,num=100)],\n",
    "    \"max_depth\": [3,6,8,10],\n",
    "    \"min_child_weight\": [x for x in np.linspace(1,8,num=8)],\n",
    "    \"subsample\": [0.875],\n",
    "    \"reg_lambda\": [x for x in np.linspace(0,0.5,num=100)],\n",
    "    \"objective\": [\"multi:softmax\", \"multi:softprob\"],\n",
    "    \"eval_metric\": [\"mlogloss\"]\n",
    "             }\n",
    "\n",
    "grid_xgboost = RandomizedSearchCV(XGBClassifier(nthread=-1),\n",
    "                    param_distributions=param_list,\n",
    "                    cv=RepeatedStratifiedKFold(random_state=0, n_splits=3, n_repeats=5),\n",
    "                    n_jobs=-1,\n",
    "                    n_iter=300,\n",
    "                    verbose=4)\n",
    "grid_xgboost.fit(X_train, y_train)\n",
    "'''"
   ]
  },
  {
   "cell_type": "code",
   "execution_count": null,
   "metadata": {},
   "outputs": [
    {
     "data": {
      "text/plain": [
       "{'subsample': 0.875,\n",
       " 'reg_lambda': 0.030303030303030304,\n",
       " 'objective': 'multi:softprob',\n",
       " 'min_child_weight': 4.0,\n",
       " 'max_depth': 10,\n",
       " 'gamma': 0.16161616161616163,\n",
       " 'eval_metric': 'mlogloss',\n",
       " 'eta': 0.12,\n",
       " 'booster': 'dart'}"
      ]
     },
     "execution_count": 19,
     "metadata": {},
     "output_type": "execute_result"
    }
   ],
   "source": [
    "#grid_xgboost.best_params_"
   ]
  },
  {
   "cell_type": "markdown",
   "metadata": {},
   "source": [
    "New best params: {'subsample': 0.875,\n",
    " 'reg_lambda': 0.030303030303030304,\n",
    " 'objective': 'multi:softprob',\n",
    " 'min_child_weight': 4.0,\n",
    " 'max_depth': 10,\n",
    " 'gamma': 0.16161616161616163,\n",
    " 'eval_metric': 'mlogloss',\n",
    " 'eta': 0.12,\n",
    " 'booster': 'dart'}"
   ]
  },
  {
   "cell_type": "code",
   "execution_count": null,
   "metadata": {},
   "outputs": [
    {
     "name": "stdout",
     "output_type": "stream",
     "text": [
      "[0]\tvalidation_0-mlogloss:1.86001\tvalidation_1-mlogloss:1.97455\n",
      "[1]\tvalidation_0-mlogloss:1.67741\tvalidation_1-mlogloss:1.88408\n",
      "[2]\tvalidation_0-mlogloss:1.52416\tvalidation_1-mlogloss:1.82645\n",
      "[3]\tvalidation_0-mlogloss:1.39189\tvalidation_1-mlogloss:1.77270\n",
      "[4]\tvalidation_0-mlogloss:1.27117\tvalidation_1-mlogloss:1.71806\n",
      "[5]\tvalidation_0-mlogloss:1.16630\tvalidation_1-mlogloss:1.68126\n",
      "[6]\tvalidation_0-mlogloss:1.07217\tvalidation_1-mlogloss:1.65355\n",
      "[7]\tvalidation_0-mlogloss:0.98823\tvalidation_1-mlogloss:1.62354\n",
      "[8]\tvalidation_0-mlogloss:0.91143\tvalidation_1-mlogloss:1.59535\n",
      "[9]\tvalidation_0-mlogloss:0.84406\tvalidation_1-mlogloss:1.57021\n",
      "[10]\tvalidation_0-mlogloss:0.78108\tvalidation_1-mlogloss:1.54770\n",
      "[11]\tvalidation_0-mlogloss:0.72568\tvalidation_1-mlogloss:1.53147\n",
      "[12]\tvalidation_0-mlogloss:0.67215\tvalidation_1-mlogloss:1.51313\n",
      "[13]\tvalidation_0-mlogloss:0.62710\tvalidation_1-mlogloss:1.49919\n",
      "[14]\tvalidation_0-mlogloss:0.58603\tvalidation_1-mlogloss:1.48833\n",
      "[15]\tvalidation_0-mlogloss:0.54713\tvalidation_1-mlogloss:1.47678\n",
      "[16]\tvalidation_0-mlogloss:0.51203\tvalidation_1-mlogloss:1.46308\n",
      "[17]\tvalidation_0-mlogloss:0.47880\tvalidation_1-mlogloss:1.45658\n",
      "[18]\tvalidation_0-mlogloss:0.44845\tvalidation_1-mlogloss:1.44846\n",
      "[19]\tvalidation_0-mlogloss:0.42016\tvalidation_1-mlogloss:1.43910\n",
      "[20]\tvalidation_0-mlogloss:0.39456\tvalidation_1-mlogloss:1.43331\n",
      "[21]\tvalidation_0-mlogloss:0.37175\tvalidation_1-mlogloss:1.42615\n",
      "[22]\tvalidation_0-mlogloss:0.35028\tvalidation_1-mlogloss:1.41945\n",
      "[23]\tvalidation_0-mlogloss:0.33098\tvalidation_1-mlogloss:1.41169\n",
      "[24]\tvalidation_0-mlogloss:0.31399\tvalidation_1-mlogloss:1.40704\n",
      "[25]\tvalidation_0-mlogloss:0.29712\tvalidation_1-mlogloss:1.40177\n",
      "[26]\tvalidation_0-mlogloss:0.28102\tvalidation_1-mlogloss:1.39782\n",
      "[27]\tvalidation_0-mlogloss:0.26734\tvalidation_1-mlogloss:1.39723\n",
      "[28]\tvalidation_0-mlogloss:0.25349\tvalidation_1-mlogloss:1.39530\n",
      "[29]\tvalidation_0-mlogloss:0.24051\tvalidation_1-mlogloss:1.39110\n",
      "[30]\tvalidation_0-mlogloss:0.22877\tvalidation_1-mlogloss:1.38601\n",
      "[31]\tvalidation_0-mlogloss:0.21759\tvalidation_1-mlogloss:1.38079\n",
      "[32]\tvalidation_0-mlogloss:0.20715\tvalidation_1-mlogloss:1.37541\n",
      "[33]\tvalidation_0-mlogloss:0.19716\tvalidation_1-mlogloss:1.37520\n",
      "[34]\tvalidation_0-mlogloss:0.18816\tvalidation_1-mlogloss:1.37312\n",
      "[35]\tvalidation_0-mlogloss:0.17955\tvalidation_1-mlogloss:1.36885\n",
      "[36]\tvalidation_0-mlogloss:0.17221\tvalidation_1-mlogloss:1.36662\n",
      "[37]\tvalidation_0-mlogloss:0.16470\tvalidation_1-mlogloss:1.36462\n",
      "[38]\tvalidation_0-mlogloss:0.15790\tvalidation_1-mlogloss:1.36296\n",
      "[39]\tvalidation_0-mlogloss:0.15137\tvalidation_1-mlogloss:1.36142\n",
      "[40]\tvalidation_0-mlogloss:0.14536\tvalidation_1-mlogloss:1.35976\n",
      "[41]\tvalidation_0-mlogloss:0.13935\tvalidation_1-mlogloss:1.35786\n",
      "[42]\tvalidation_0-mlogloss:0.13412\tvalidation_1-mlogloss:1.35799\n",
      "[43]\tvalidation_0-mlogloss:0.12895\tvalidation_1-mlogloss:1.35808\n",
      "[44]\tvalidation_0-mlogloss:0.12444\tvalidation_1-mlogloss:1.35956\n",
      "[45]\tvalidation_0-mlogloss:0.11994\tvalidation_1-mlogloss:1.36144\n",
      "[46]\tvalidation_0-mlogloss:0.11546\tvalidation_1-mlogloss:1.35894\n",
      "[47]\tvalidation_0-mlogloss:0.11160\tvalidation_1-mlogloss:1.36074\n",
      "[48]\tvalidation_0-mlogloss:0.10795\tvalidation_1-mlogloss:1.35999\n",
      "[49]\tvalidation_0-mlogloss:0.10441\tvalidation_1-mlogloss:1.35706\n",
      "[50]\tvalidation_0-mlogloss:0.10122\tvalidation_1-mlogloss:1.35753\n",
      "[51]\tvalidation_0-mlogloss:0.09821\tvalidation_1-mlogloss:1.35815\n",
      "[52]\tvalidation_0-mlogloss:0.09527\tvalidation_1-mlogloss:1.35696\n",
      "[53]\tvalidation_0-mlogloss:0.09258\tvalidation_1-mlogloss:1.35718\n",
      "[54]\tvalidation_0-mlogloss:0.09007\tvalidation_1-mlogloss:1.35459\n",
      "[55]\tvalidation_0-mlogloss:0.08770\tvalidation_1-mlogloss:1.35381\n",
      "[56]\tvalidation_0-mlogloss:0.08523\tvalidation_1-mlogloss:1.35513\n",
      "[57]\tvalidation_0-mlogloss:0.08308\tvalidation_1-mlogloss:1.35527\n",
      "[58]\tvalidation_0-mlogloss:0.08106\tvalidation_1-mlogloss:1.35373\n",
      "[59]\tvalidation_0-mlogloss:0.07906\tvalidation_1-mlogloss:1.35621\n",
      "[60]\tvalidation_0-mlogloss:0.07718\tvalidation_1-mlogloss:1.35568\n",
      "[61]\tvalidation_0-mlogloss:0.07520\tvalidation_1-mlogloss:1.35651\n",
      "[62]\tvalidation_0-mlogloss:0.07343\tvalidation_1-mlogloss:1.35851\n",
      "[63]\tvalidation_0-mlogloss:0.07177\tvalidation_1-mlogloss:1.35911\n",
      "[64]\tvalidation_0-mlogloss:0.07027\tvalidation_1-mlogloss:1.35894\n",
      "[65]\tvalidation_0-mlogloss:0.06874\tvalidation_1-mlogloss:1.36166\n",
      "[66]\tvalidation_0-mlogloss:0.06727\tvalidation_1-mlogloss:1.36323\n",
      "[67]\tvalidation_0-mlogloss:0.06588\tvalidation_1-mlogloss:1.36481\n",
      "[68]\tvalidation_0-mlogloss:0.06454\tvalidation_1-mlogloss:1.36446\n",
      "Accuracy 0.5089141004862237\n",
      "F1-score [0.39455782 0.69124424 0.42328042 0.4040404  0.44       0.66\n",
      " 0.34355828 0.57142857]\n",
      "              precision    recall  f1-score   support\n",
      "\n",
      "           0       0.57      0.30      0.39        96\n",
      "           1       0.59      0.84      0.69        89\n",
      "           2       0.43      0.42      0.42        96\n",
      "           3       0.39      0.42      0.40        48\n",
      "           4       0.42      0.46      0.44        48\n",
      "           5       0.63      0.69      0.66        96\n",
      "           6       0.42      0.29      0.34        96\n",
      "           7       0.48      0.71      0.57        48\n",
      "\n",
      "    accuracy                           0.51       617\n",
      "   macro avg       0.49      0.52      0.49       617\n",
      "weighted avg       0.50      0.51      0.49       617\n",
      "\n"
     ]
    }
   ],
   "source": [
    "clf = XGBClassifier(objective='multi:softprob',\n",
    "                    booster=\"dart\",\n",
    "                    max_depth = 10,\n",
    "                    gamma = 0.16161616161616163,\n",
    "                    eta=0.12,\n",
    "                    reg_lambda = 0.030303030303030304,\n",
    "                    min_child_weight=4,\n",
    "                    random_state=42,\n",
    "                    nthread=-1,\n",
    "                    subsample=0.875,\n",
    "                    eval_metric=\"mlogloss\",\n",
    "                    early_stopping_rounds=10\n",
    "                   )\n",
    "clf.fit(X_train, y_train, eval_set=eval_set)\n",
    "\n",
    "y_pred = clf.predict(X_test)\n",
    "\n",
    "print('Accuracy %s' % accuracy_score(y_test, y_pred))\n",
    "print('F1-score %s' % f1_score(y_test, y_pred, average=None))\n",
    "print(classification_report(y_test, y_pred))"
   ]
  },
  {
   "cell_type": "code",
   "execution_count": null,
   "metadata": {},
   "outputs": [],
   "source": [
    "results = clf.evals_result_\n",
    "epochs = len(results['validation_0']['mlogloss'])\n",
    "x_axis = range(0, epochs)"
   ]
  },
  {
   "cell_type": "code",
   "execution_count": null,
   "metadata": {},
   "outputs": [
    {
     "data": {
      "image/png": "[encoded data removed]",
      "text/plain": [
       "<Figure size 640x480 with 1 Axes>"
      ]
     },
     "metadata": {},
     "output_type": "display_data"
    }
   ],
   "source": [
    "fig, ax = plt.subplots()\n",
    "ax.plot(x_axis, results['validation_0']['mlogloss'], label='Train')\n",
    "ax.plot(x_axis, results['validation_1']['mlogloss'], label='Test')\n",
    "ax.legend()\n",
    "plt.ylabel('Logloss')\n",
    "plt.xlabel(\"epochs\")\n",
    "plt.title('XGBoost Logloss')\n",
    "plt.show()"
   ]
  }
 ],
 "metadata": {
  "kernelspec": {
   "display_name": "Python 3 (ipykernel)",
   "language": "python",
   "name": "python3"
  },
  "language_info": {
   "codemirror_mode": {
    "name": "ipython",
    "version": 3
   },
   "file_extension": ".py",
   "mimetype": "text/x-python",
   "name": "python",
   "nbconvert_exporter": "python",
   "pygments_lexer": "ipython3",
   "version": "3.9.12"
  }
 },
 "nbformat": 4,
 "nbformat_minor": 2
}
