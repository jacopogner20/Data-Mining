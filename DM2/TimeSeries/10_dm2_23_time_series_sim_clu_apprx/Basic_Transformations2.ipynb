{
 "cells": [
  {
   "cell_type": "code",
   "execution_count": 1,
   "metadata": {},
   "outputs": [],
   "source": [
    "import numpy as np\n",
    "import pandas as pd\n",
    "import matplotlib.pyplot as plt\n",
    "#import librosa\n",
    "from IPython.display import Audio \n",
    "from collections import defaultdict"
   ]
  },
  {
   "cell_type": "code",
   "execution_count": 38,
   "metadata": {},
   "outputs": [],
   "source": [
    "from mpl_toolkits import mplot3d\n",
    "from collections import defaultdict\n",
    "from scipy.stats.stats import pearsonr\n",
    "from scipy.stats import shapiro\n",
    "from scipy.stats import normaltest\n",
    "from pandas.plotting import parallel_coordinates\n",
    "from kneed import KneeLocator"
   ]
  },
  {
   "cell_type": "code",
   "execution_count": 2,
   "metadata": {},
   "outputs": [
    {
     "name": "stdout",
     "output_type": "stream",
     "text": [
      "(1828, 304304) (624, 304304)\n",
      "(1828, 9) (624, 9)\n"
     ]
    }
   ],
   "source": [
    "X_train = np.load(\"RavdessAudioOnlyNumpy__X_train.npy\")\n",
    "X_test = np.load(\"RavdessAudioOnlyNumpy__X_test.npy\")\n",
    "y_train=pd.read_csv(\"RavdessAudioOnlyNumpy__Y_train.csv\")\n",
    "y_test=pd.read_csv(\"RavdessAudioOnlyNumpy__Y_test.csv\")\n",
    "print(X_train.shape, X_test.shape)\n",
    "print(y_train.shape, y_test.shape)"
   ]
  },
  {
   "cell_type": "code",
   "execution_count": 3,
   "metadata": {},
   "outputs": [],
   "source": [
    "X_train[np.isnan(X_train)] = 0\n",
    "X_test[np.isnan(X_test)] = 0"
   ]
  },
  {
   "cell_type": "code",
   "execution_count": 4,
   "metadata": {},
   "outputs": [],
   "source": [
    "df_train=pd.DataFrame(X_train)\n",
    "df_test=pd.DataFrame(X_test)"
   ]
  },
  {
   "cell_type": "markdown",
   "metadata": {},
   "source": [
    "## Transformations"
   ]
  },
  {
   "cell_type": "code",
   "execution_count": 5,
   "metadata": {},
   "outputs": [],
   "source": [
    "from tslearn.preprocessing import TimeSeriesScalerMeanVariance\n",
    "from scipy.signal import decimate"
   ]
  },
  {
   "cell_type": "code",
   "execution_count": 6,
   "metadata": {},
   "outputs": [
    {
     "data": {
      "text/plain": [
       "'\\nX_train_decimated=decimate(X_train,axis=1,q=8)\\nX_test_decimated=decimate(X_test,axis=1,q=8)\\nnp.save(\"RavdessAudioOnlyNumpy__X_train_decimated.npy\",X_train_decimated)\\nnp.save(\"RavdessAudioOnlyNumpy__X_test_decimated.npy\",X_test_decimated)\\n'"
      ]
     },
     "execution_count": 6,
     "metadata": {},
     "output_type": "execute_result"
    }
   ],
   "source": [
    "'''\n",
    "X_train_decimated=decimate(X_train,axis=1,q=8)\n",
    "X_test_decimated=decimate(X_test,axis=1,q=8)\n",
    "np.save(\"RavdessAudioOnlyNumpy__X_train_decimated.npy\",X_train_decimated)\n",
    "np.save(\"RavdessAudioOnlyNumpy__X_test_decimated.npy\",X_test_decimated)\n",
    "'''"
   ]
  },
  {
   "cell_type": "code",
   "execution_count": 7,
   "metadata": {},
   "outputs": [],
   "source": [
    "X_train_decimated = np.load(\"RavdessAudioOnlyNumpy__X_train_decimated.npy\")\n",
    "X_test_decimated = np.load(\"RavdessAudioOnlyNumpy__X_test_decimated.npy\")"
   ]
  },
  {
   "cell_type": "code",
   "execution_count": 8,
   "metadata": {},
   "outputs": [],
   "source": [
    "df_train_decimated=pd.DataFrame(X_train_decimated)\n",
    "df_test_decimated=pd.DataFrame(X_test_decimated)"
   ]
  },
  {
   "cell_type": "code",
   "execution_count": 9,
   "metadata": {},
   "outputs": [],
   "source": [
    "scaler = TimeSeriesScalerMeanVariance(mu=0, std=1)"
   ]
  },
  {
   "cell_type": "code",
   "execution_count": 10,
   "metadata": {},
   "outputs": [],
   "source": [
    "X_train_decimated_scaled=scaler.fit_transform(X_train_decimated)\n",
    "X_test_decimated_scaled=scaler.transform(X_test_decimated)"
   ]
  },
  {
   "cell_type": "code",
   "execution_count": 11,
   "metadata": {},
   "outputs": [],
   "source": [
    "X_train_decimated_scaled=X_train_decimated_scaled[:,:,0]\n",
    "X_test_decimated_scaled=X_test_decimated_scaled[:,:,0]"
   ]
  },
  {
   "cell_type": "code",
   "execution_count": 12,
   "metadata": {},
   "outputs": [],
   "source": [
    "np.save(\"RavdessAudioOnlyNumpy__X_train_decimated_scaled.npy\",X_train_decimated_scaled)\n",
    "np.save(\"RavdessAudioOnlyNumpy__X_test_decimated_scaled.npy\",X_test_decimated_scaled)"
   ]
  },
  {
   "cell_type": "code",
   "execution_count": 13,
   "metadata": {},
   "outputs": [],
   "source": [
    "df_train_decimated_scaled=pd.DataFrame(X_train_decimated_scaled)\n",
    "df_test_decimated_scaled=pd.DataFrame(X_test_decimated_scaled)"
   ]
  },
  {
   "cell_type": "markdown",
   "metadata": {},
   "source": [
    "Confronting the transformations"
   ]
  },
  {
   "cell_type": "code",
   "execution_count": 14,
   "metadata": {},
   "outputs": [
    {
     "data": {
      "image/png": "[encoded data removed]",
      "text/plain": [
       "<Figure size 1080x360 with 3 Axes>"
      ]
     },
     "metadata": {
      "needs_background": "light"
     },
     "output_type": "display_data"
    }
   ],
   "source": [
    "fig, (ax1, ax2, ax3) = plt.subplots(1, 3, figsize=(15,5))\n",
    "ax1.plot(df_train.iloc[0])\n",
    "ax2.plot(df_train_decimated.iloc[0])\n",
    "ax3.plot(df_train_decimated_scaled.iloc[0])\n",
    "plt.show()"
   ]
  },
  {
   "cell_type": "code",
   "execution_count": 15,
   "metadata": {},
   "outputs": [
    {
     "data": {
      "text/plain": [
       "(4.7676194334037675e-07, 4.7130478586277917e-07, -2.825998700912553e-18)"
      ]
     },
     "execution_count": 15,
     "metadata": {},
     "output_type": "execute_result"
    }
   ],
   "source": [
    "df_train.iloc[0].mean(), df_train_decimated.iloc[0].mean(), df_train_decimated_scaled.iloc[0].mean()"
   ]
  },
  {
   "cell_type": "code",
   "execution_count": 16,
   "metadata": {},
   "outputs": [
    {
     "data": {
      "text/plain": [
       "(0.002887818716104438, 0.002834538741339087, 1.0000131450095302)"
      ]
     },
     "execution_count": 16,
     "metadata": {},
     "output_type": "execute_result"
    }
   ],
   "source": [
    "df_train.iloc[0].std(), df_train_decimated.iloc[0].std(), df_train_decimated_scaled.iloc[0].std()"
   ]
  },
  {
   "cell_type": "markdown",
   "metadata": {},
   "source": [
    "## Rolling Window"
   ]
  },
  {
   "cell_type": "code",
   "execution_count": 17,
   "metadata": {},
   "outputs": [],
   "source": [
    "window=10\n",
    "df_train_decimated_scaled_smoothed=df_train_decimated_scaled.T.rolling(window=window).mean()\n",
    "df_test_decimated_scaled_smoothed=df_test_decimated_scaled.T.rolling(window=window).mean()"
   ]
  },
  {
   "cell_type": "code",
   "execution_count": 18,
   "metadata": {},
   "outputs": [],
   "source": [
    "df_train_decimated_scaled_smoothed=df_train_decimated_scaled_smoothed.T\n",
    "df_train_decimated_scaled_smoothed=df_train_decimated_scaled_smoothed.iloc[:,(window-1):]"
   ]
  },
  {
   "cell_type": "code",
   "execution_count": 19,
   "metadata": {},
   "outputs": [
    {
     "data": {
      "image/png": "[encoded data removed]",
      "text/plain": [
       "<Figure size 432x288 with 1 Axes>"
      ]
     },
     "metadata": {
      "needs_background": "light"
     },
     "output_type": "display_data"
    }
   ],
   "source": [
    "df_train_decimated_scaled_smoothed.iloc[0].plot(label=\"smoothed\")\n",
    "df_test_decimated_scaled.iloc[0].plot(zorder=1,label=\"original\")\n",
    "plt.legend()\n",
    "plt.show()"
   ]
  },
  {
   "cell_type": "code",
   "execution_count": 20,
   "metadata": {},
   "outputs": [
    {
     "data": {
      "text/html": [
       "<div>\n",
       "<style scoped>\n",
       "    .dataframe tbody tr th:only-of-type {\n",
       "        vertical-align: middle;\n",
       "    }\n",
       "\n",
       "    .dataframe tbody tr th {\n",
       "        vertical-align: top;\n",
       "    }\n",
       "\n",
       "    .dataframe thead th {\n",
       "        text-align: right;\n",
       "    }\n",
       "</style>\n",
       "<table border=\"1\" class=\"dataframe\">\n",
       "  <thead>\n",
       "    <tr style=\"text-align: right;\">\n",
       "      <th></th>\n",
       "      <th>9</th>\n",
       "      <th>10</th>\n",
       "      <th>11</th>\n",
       "      <th>12</th>\n",
       "      <th>13</th>\n",
       "      <th>14</th>\n",
       "      <th>15</th>\n",
       "      <th>16</th>\n",
       "      <th>17</th>\n",
       "      <th>18</th>\n",
       "      <th>...</th>\n",
       "      <th>38028</th>\n",
       "      <th>38029</th>\n",
       "      <th>38030</th>\n",
       "      <th>38031</th>\n",
       "      <th>38032</th>\n",
       "      <th>38033</th>\n",
       "      <th>38034</th>\n",
       "      <th>38035</th>\n",
       "      <th>38036</th>\n",
       "      <th>38037</th>\n",
       "    </tr>\n",
       "  </thead>\n",
       "  <tbody>\n",
       "    <tr>\n",
       "      <th>0</th>\n",
       "      <td>0.000289</td>\n",
       "      <td>0.000379</td>\n",
       "      <td>0.000370</td>\n",
       "      <td>0.000356</td>\n",
       "      <td>0.000390</td>\n",
       "      <td>0.000325</td>\n",
       "      <td>0.000232</td>\n",
       "      <td>0.000231</td>\n",
       "      <td>0.000132</td>\n",
       "      <td>0.000016</td>\n",
       "      <td>...</td>\n",
       "      <td>-0.000166</td>\n",
       "      <td>-0.000166</td>\n",
       "      <td>-0.000166</td>\n",
       "      <td>-0.000166</td>\n",
       "      <td>-0.000166</td>\n",
       "      <td>-0.000166</td>\n",
       "      <td>-0.000166</td>\n",
       "      <td>-0.000166</td>\n",
       "      <td>-0.000166</td>\n",
       "      <td>-0.000166</td>\n",
       "    </tr>\n",
       "    <tr>\n",
       "      <th>1</th>\n",
       "      <td>-0.001549</td>\n",
       "      <td>-0.001508</td>\n",
       "      <td>-0.001488</td>\n",
       "      <td>-0.001139</td>\n",
       "      <td>-0.000854</td>\n",
       "      <td>-0.000850</td>\n",
       "      <td>-0.000703</td>\n",
       "      <td>-0.000570</td>\n",
       "      <td>-0.000464</td>\n",
       "      <td>-0.000178</td>\n",
       "      <td>...</td>\n",
       "      <td>-0.000122</td>\n",
       "      <td>-0.000122</td>\n",
       "      <td>-0.000122</td>\n",
       "      <td>-0.000122</td>\n",
       "      <td>-0.000122</td>\n",
       "      <td>-0.000122</td>\n",
       "      <td>-0.000122</td>\n",
       "      <td>-0.000122</td>\n",
       "      <td>-0.000122</td>\n",
       "      <td>-0.000122</td>\n",
       "    </tr>\n",
       "    <tr>\n",
       "      <th>2</th>\n",
       "      <td>0.006718</td>\n",
       "      <td>0.006332</td>\n",
       "      <td>0.005853</td>\n",
       "      <td>0.005480</td>\n",
       "      <td>0.005004</td>\n",
       "      <td>0.004120</td>\n",
       "      <td>0.003993</td>\n",
       "      <td>0.004159</td>\n",
       "      <td>0.003558</td>\n",
       "      <td>0.002787</td>\n",
       "      <td>...</td>\n",
       "      <td>-0.000137</td>\n",
       "      <td>-0.000137</td>\n",
       "      <td>-0.000137</td>\n",
       "      <td>-0.000137</td>\n",
       "      <td>-0.000137</td>\n",
       "      <td>-0.000137</td>\n",
       "      <td>-0.000137</td>\n",
       "      <td>-0.000137</td>\n",
       "      <td>-0.000137</td>\n",
       "      <td>-0.000137</td>\n",
       "    </tr>\n",
       "    <tr>\n",
       "      <th>3</th>\n",
       "      <td>0.003412</td>\n",
       "      <td>0.002562</td>\n",
       "      <td>0.002495</td>\n",
       "      <td>0.001385</td>\n",
       "      <td>0.000774</td>\n",
       "      <td>0.000978</td>\n",
       "      <td>0.000623</td>\n",
       "      <td>0.000016</td>\n",
       "      <td>-0.000069</td>\n",
       "      <td>0.000008</td>\n",
       "      <td>...</td>\n",
       "      <td>-0.000135</td>\n",
       "      <td>-0.000135</td>\n",
       "      <td>-0.000135</td>\n",
       "      <td>-0.000135</td>\n",
       "      <td>-0.000135</td>\n",
       "      <td>-0.000135</td>\n",
       "      <td>-0.000135</td>\n",
       "      <td>-0.000135</td>\n",
       "      <td>-0.000135</td>\n",
       "      <td>-0.000135</td>\n",
       "    </tr>\n",
       "    <tr>\n",
       "      <th>4</th>\n",
       "      <td>0.000980</td>\n",
       "      <td>-0.000405</td>\n",
       "      <td>-0.000194</td>\n",
       "      <td>-0.000248</td>\n",
       "      <td>-0.000234</td>\n",
       "      <td>-0.000209</td>\n",
       "      <td>-0.000223</td>\n",
       "      <td>-0.000200</td>\n",
       "      <td>-0.000208</td>\n",
       "      <td>-0.000190</td>\n",
       "      <td>...</td>\n",
       "      <td>-0.000206</td>\n",
       "      <td>-0.000206</td>\n",
       "      <td>-0.000206</td>\n",
       "      <td>-0.000206</td>\n",
       "      <td>-0.000206</td>\n",
       "      <td>-0.000206</td>\n",
       "      <td>-0.000206</td>\n",
       "      <td>-0.000206</td>\n",
       "      <td>-0.000206</td>\n",
       "      <td>-0.000206</td>\n",
       "    </tr>\n",
       "    <tr>\n",
       "      <th>...</th>\n",
       "      <td>...</td>\n",
       "      <td>...</td>\n",
       "      <td>...</td>\n",
       "      <td>...</td>\n",
       "      <td>...</td>\n",
       "      <td>...</td>\n",
       "      <td>...</td>\n",
       "      <td>...</td>\n",
       "      <td>...</td>\n",
       "      <td>...</td>\n",
       "      <td>...</td>\n",
       "      <td>...</td>\n",
       "      <td>...</td>\n",
       "      <td>...</td>\n",
       "      <td>...</td>\n",
       "      <td>...</td>\n",
       "      <td>...</td>\n",
       "      <td>...</td>\n",
       "      <td>...</td>\n",
       "      <td>...</td>\n",
       "      <td>...</td>\n",
       "    </tr>\n",
       "    <tr>\n",
       "      <th>1823</th>\n",
       "      <td>0.000130</td>\n",
       "      <td>0.000129</td>\n",
       "      <td>0.000129</td>\n",
       "      <td>0.000131</td>\n",
       "      <td>0.000127</td>\n",
       "      <td>0.000133</td>\n",
       "      <td>0.000124</td>\n",
       "      <td>0.000135</td>\n",
       "      <td>0.000124</td>\n",
       "      <td>0.000037</td>\n",
       "      <td>...</td>\n",
       "      <td>0.000129</td>\n",
       "      <td>0.000129</td>\n",
       "      <td>0.000129</td>\n",
       "      <td>0.000129</td>\n",
       "      <td>0.000129</td>\n",
       "      <td>0.000129</td>\n",
       "      <td>0.000129</td>\n",
       "      <td>0.000129</td>\n",
       "      <td>0.000129</td>\n",
       "      <td>0.000129</td>\n",
       "    </tr>\n",
       "    <tr>\n",
       "      <th>1824</th>\n",
       "      <td>-0.000055</td>\n",
       "      <td>-0.000119</td>\n",
       "      <td>-0.000149</td>\n",
       "      <td>-0.000160</td>\n",
       "      <td>-0.000273</td>\n",
       "      <td>-0.000395</td>\n",
       "      <td>-0.000459</td>\n",
       "      <td>-0.000516</td>\n",
       "      <td>-0.000519</td>\n",
       "      <td>-0.000521</td>\n",
       "      <td>...</td>\n",
       "      <td>0.000072</td>\n",
       "      <td>0.000072</td>\n",
       "      <td>0.000072</td>\n",
       "      <td>0.000072</td>\n",
       "      <td>0.000072</td>\n",
       "      <td>0.000072</td>\n",
       "      <td>0.000072</td>\n",
       "      <td>0.000072</td>\n",
       "      <td>0.000072</td>\n",
       "      <td>0.000072</td>\n",
       "    </tr>\n",
       "    <tr>\n",
       "      <th>1825</th>\n",
       "      <td>0.000097</td>\n",
       "      <td>0.000094</td>\n",
       "      <td>0.000096</td>\n",
       "      <td>0.000098</td>\n",
       "      <td>0.000057</td>\n",
       "      <td>0.000037</td>\n",
       "      <td>0.000046</td>\n",
       "      <td>0.000041</td>\n",
       "      <td>0.000042</td>\n",
       "      <td>0.000044</td>\n",
       "      <td>...</td>\n",
       "      <td>0.000095</td>\n",
       "      <td>0.000095</td>\n",
       "      <td>0.000095</td>\n",
       "      <td>0.000095</td>\n",
       "      <td>0.000095</td>\n",
       "      <td>0.000095</td>\n",
       "      <td>0.000095</td>\n",
       "      <td>0.000095</td>\n",
       "      <td>0.000095</td>\n",
       "      <td>0.000095</td>\n",
       "    </tr>\n",
       "    <tr>\n",
       "      <th>1826</th>\n",
       "      <td>0.000031</td>\n",
       "      <td>0.000031</td>\n",
       "      <td>0.000031</td>\n",
       "      <td>0.000031</td>\n",
       "      <td>0.000031</td>\n",
       "      <td>0.000031</td>\n",
       "      <td>0.000031</td>\n",
       "      <td>0.000031</td>\n",
       "      <td>0.000031</td>\n",
       "      <td>0.000031</td>\n",
       "      <td>...</td>\n",
       "      <td>0.000031</td>\n",
       "      <td>0.000031</td>\n",
       "      <td>0.000031</td>\n",
       "      <td>0.000031</td>\n",
       "      <td>0.000031</td>\n",
       "      <td>0.000031</td>\n",
       "      <td>0.000031</td>\n",
       "      <td>0.000031</td>\n",
       "      <td>0.000031</td>\n",
       "      <td>0.000031</td>\n",
       "    </tr>\n",
       "    <tr>\n",
       "      <th>1827</th>\n",
       "      <td>-0.000139</td>\n",
       "      <td>-0.000138</td>\n",
       "      <td>-0.000085</td>\n",
       "      <td>-0.000076</td>\n",
       "      <td>-0.000072</td>\n",
       "      <td>-0.000079</td>\n",
       "      <td>-0.000071</td>\n",
       "      <td>0.000049</td>\n",
       "      <td>0.000110</td>\n",
       "      <td>0.000090</td>\n",
       "      <td>...</td>\n",
       "      <td>0.000095</td>\n",
       "      <td>0.000095</td>\n",
       "      <td>0.000095</td>\n",
       "      <td>0.000095</td>\n",
       "      <td>0.000095</td>\n",
       "      <td>0.000095</td>\n",
       "      <td>0.000095</td>\n",
       "      <td>0.000095</td>\n",
       "      <td>0.000095</td>\n",
       "      <td>0.000095</td>\n",
       "    </tr>\n",
       "  </tbody>\n",
       "</table>\n",
       "<p>1828 rows × 38029 columns</p>\n",
       "</div>"
      ],
      "text/plain": [
       "         9         10        11        12        13        14        15     \\\n",
       "0     0.000289  0.000379  0.000370  0.000356  0.000390  0.000325  0.000232   \n",
       "1    -0.001549 -0.001508 -0.001488 -0.001139 -0.000854 -0.000850 -0.000703   \n",
       "2     0.006718  0.006332  0.005853  0.005480  0.005004  0.004120  0.003993   \n",
       "3     0.003412  0.002562  0.002495  0.001385  0.000774  0.000978  0.000623   \n",
       "4     0.000980 -0.000405 -0.000194 -0.000248 -0.000234 -0.000209 -0.000223   \n",
       "...        ...       ...       ...       ...       ...       ...       ...   \n",
       "1823  0.000130  0.000129  0.000129  0.000131  0.000127  0.000133  0.000124   \n",
       "1824 -0.000055 -0.000119 -0.000149 -0.000160 -0.000273 -0.000395 -0.000459   \n",
       "1825  0.000097  0.000094  0.000096  0.000098  0.000057  0.000037  0.000046   \n",
       "1826  0.000031  0.000031  0.000031  0.000031  0.000031  0.000031  0.000031   \n",
       "1827 -0.000139 -0.000138 -0.000085 -0.000076 -0.000072 -0.000079 -0.000071   \n",
       "\n",
       "         16        17        18     ...     38028     38029     38030  \\\n",
       "0     0.000231  0.000132  0.000016  ... -0.000166 -0.000166 -0.000166   \n",
       "1    -0.000570 -0.000464 -0.000178  ... -0.000122 -0.000122 -0.000122   \n",
       "2     0.004159  0.003558  0.002787  ... -0.000137 -0.000137 -0.000137   \n",
       "3     0.000016 -0.000069  0.000008  ... -0.000135 -0.000135 -0.000135   \n",
       "4    -0.000200 -0.000208 -0.000190  ... -0.000206 -0.000206 -0.000206   \n",
       "...        ...       ...       ...  ...       ...       ...       ...   \n",
       "1823  0.000135  0.000124  0.000037  ...  0.000129  0.000129  0.000129   \n",
       "1824 -0.000516 -0.000519 -0.000521  ...  0.000072  0.000072  0.000072   \n",
       "1825  0.000041  0.000042  0.000044  ...  0.000095  0.000095  0.000095   \n",
       "1826  0.000031  0.000031  0.000031  ...  0.000031  0.000031  0.000031   \n",
       "1827  0.000049  0.000110  0.000090  ...  0.000095  0.000095  0.000095   \n",
       "\n",
       "         38031     38032     38033     38034     38035     38036     38037  \n",
       "0    -0.000166 -0.000166 -0.000166 -0.000166 -0.000166 -0.000166 -0.000166  \n",
       "1    -0.000122 -0.000122 -0.000122 -0.000122 -0.000122 -0.000122 -0.000122  \n",
       "2    -0.000137 -0.000137 -0.000137 -0.000137 -0.000137 -0.000137 -0.000137  \n",
       "3    -0.000135 -0.000135 -0.000135 -0.000135 -0.000135 -0.000135 -0.000135  \n",
       "4    -0.000206 -0.000206 -0.000206 -0.000206 -0.000206 -0.000206 -0.000206  \n",
       "...        ...       ...       ...       ...       ...       ...       ...  \n",
       "1823  0.000129  0.000129  0.000129  0.000129  0.000129  0.000129  0.000129  \n",
       "1824  0.000072  0.000072  0.000072  0.000072  0.000072  0.000072  0.000072  \n",
       "1825  0.000095  0.000095  0.000095  0.000095  0.000095  0.000095  0.000095  \n",
       "1826  0.000031  0.000031  0.000031  0.000031  0.000031  0.000031  0.000031  \n",
       "1827  0.000095  0.000095  0.000095  0.000095  0.000095  0.000095  0.000095  \n",
       "\n",
       "[1828 rows x 38029 columns]"
      ]
     },
     "execution_count": 20,
     "metadata": {},
     "output_type": "execute_result"
    }
   ],
   "source": [
    "df_train_decimated_scaled_smoothed"
   ]
  },
  {
   "cell_type": "markdown",
   "metadata": {},
   "source": [
    "## Fourier Transform"
   ]
  },
  {
   "cell_type": "code",
   "execution_count": 21,
   "metadata": {},
   "outputs": [],
   "source": [
    "from pyts.approximation import DiscreteFourierTransform"
   ]
  },
  {
   "cell_type": "code",
   "execution_count": 22,
   "metadata": {},
   "outputs": [],
   "source": [
    "n_coefs=16384\n",
    "dft = DiscreteFourierTransform(n_coefs=n_coefs)"
   ]
  },
  {
   "cell_type": "code",
   "execution_count": 23,
   "metadata": {},
   "outputs": [],
   "source": [
    "X_train_decimated_scaled_ft=dft.fit_transform(X_train_decimated_scaled)\n",
    "X_test_decimated_scaled_ft=dft.transform(X_test_decimated_scaled)"
   ]
  },
  {
   "cell_type": "code",
   "execution_count": 24,
   "metadata": {},
   "outputs": [],
   "source": [
    "# code derived from https://pyts.readthedocs.io/en/stable/auto_examples/approximation/plot_dft.html\n",
    "def dft_inverse_trasform(X_dft, n_coefs, n_timestamps):\n",
    "    # Compute the inverse transformation\n",
    "    n_samples = X_dft.shape[0]\n",
    "    if n_coefs % 2 == 0:\n",
    "        real_idx = np.arange(1, n_coefs, 2)\n",
    "        imag_idx = np.arange(2, n_coefs, 2)\n",
    "        X_dft_new = np.c_[\n",
    "            X_dft[:, :1],\n",
    "            X_dft[:, real_idx] + 1j * np.c_[X_dft[:, imag_idx],\n",
    "                                            np.zeros((n_samples, ))]\n",
    "        ]\n",
    "    else:\n",
    "        real_idx = np.arange(1, n_coefs, 2)\n",
    "        imag_idx = np.arange(2, n_coefs + 1, 2)\n",
    "        X_dft_new = np.c_[\n",
    "            X_dft[:, :1],\n",
    "            X_dft[:, real_idx] + 1j * X_dft[:, imag_idx]\n",
    "        ]\n",
    "    X_irfft = np.fft.irfft(X_dft_new, n_timestamps)\n",
    "    return X_irfft"
   ]
  },
  {
   "cell_type": "code",
   "execution_count": 25,
   "metadata": {},
   "outputs": [
    {
     "data": {
      "text/plain": [
       "(16384,)"
      ]
     },
     "execution_count": 25,
     "metadata": {},
     "output_type": "execute_result"
    }
   ],
   "source": [
    "X_train_decimated_scaled_ft[0].shape"
   ]
  },
  {
   "cell_type": "code",
   "execution_count": 26,
   "metadata": {},
   "outputs": [],
   "source": [
    "X_train_decimated_scaled_ft_inv=dft_inverse_trasform(X_train_decimated_scaled_ft, n_coefs=n_coefs, n_timestamps=len(X_train_decimated_scaled[0]))\n",
    "X_test_decimated_scaled_ft_inv=dft_inverse_trasform(X_test_decimated_scaled_ft, n_coefs=n_coefs, n_timestamps=len(X_test_decimated_scaled[0]))"
   ]
  },
  {
   "cell_type": "code",
   "execution_count": 27,
   "metadata": {},
   "outputs": [
    {
     "data": {
      "text/plain": [
       "((1828, 38038), (1828, 38038))"
      ]
     },
     "execution_count": 27,
     "metadata": {},
     "output_type": "execute_result"
    }
   ],
   "source": [
    "X_train_decimated_scaled_ft_inv.shape, X_train_decimated_scaled.shape"
   ]
  },
  {
   "cell_type": "code",
   "execution_count": 28,
   "metadata": {},
   "outputs": [
    {
     "data": {
      "text/plain": [
       "((624, 38038), (624, 38038))"
      ]
     },
     "execution_count": 28,
     "metadata": {},
     "output_type": "execute_result"
    }
   ],
   "source": [
    "X_test_decimated_scaled_ft_inv.shape, X_test_decimated_scaled.shape"
   ]
  },
  {
   "cell_type": "code",
   "execution_count": 29,
   "metadata": {},
   "outputs": [],
   "source": [
    "df_train_decimated_scaled_ft_inv=pd.DataFrame(X_train_decimated_scaled_ft_inv)\n",
    "df_test_decimated_scaled_ft_inv=pd.DataFrame(X_test_decimated_scaled_ft_inv)"
   ]
  },
  {
   "cell_type": "code",
   "execution_count": 30,
   "metadata": {},
   "outputs": [
    {
     "data": {
      "image/png": "[encoded data removed]",
      "text/plain": [
       "<Figure size 432x288 with 1 Axes>"
      ]
     },
     "metadata": {
      "needs_background": "light"
     },
     "output_type": "display_data"
    }
   ],
   "source": [
    "df_train_decimated_scaled_ft_inv.iloc[0].plot(label=\"ft\")\n",
    "df_train_decimated_scaled_smoothed.iloc[0].plot(label=\"smoothed\")\n",
    "df_train_decimated_scaled.iloc[0].plot(zorder=0,label=\"original\")\n",
    "plt.legend()\n",
    "plt.show()"
   ]
  },
  {
   "cell_type": "code",
   "execution_count": 31,
   "metadata": {},
   "outputs": [],
   "source": [
    "np.save(\"RavdessAudioOnlyNumpy__X_train_decimated_scaled_ft.npy\",X_train_decimated_scaled_ft_inv)\n",
    "np.save(\"RavdessAudioOnlyNumpy__X_test_decimated_scaled_ft.npy\",X_test_decimated_scaled_ft_inv)"
   ]
  },
  {
   "cell_type": "markdown",
   "metadata": {},
   "source": [
    "## Dealing with the zeros"
   ]
  },
  {
   "cell_type": "code",
   "execution_count": 32,
   "metadata": {},
   "outputs": [],
   "source": [
    "df_train_decimated_scaled_denoised=df_train_decimated_scaled[abs(df_train_decimated_scaled) > 0.1]"
   ]
  },
  {
   "cell_type": "code",
   "execution_count": 33,
   "metadata": {},
   "outputs": [
    {
     "data": {
      "image/png": "[encoded data removed]",
      "text/plain": [
       "<Figure size 432x288 with 1 Axes>"
      ]
     },
     "metadata": {
      "needs_background": "light"
     },
     "output_type": "display_data"
    }
   ],
   "source": [
    "df_train_decimated_scaled_denoised.iloc[0].plot()\n",
    "plt.show()"
   ]
  },
  {
   "cell_type": "markdown",
   "metadata": {},
   "source": [
    "# Clustering"
   ]
  },
  {
   "cell_type": "code",
   "execution_count": 34,
   "metadata": {},
   "outputs": [],
   "source": [
    "from tslearn.clustering import TimeSeriesKMeans"
   ]
  },
  {
   "cell_type": "code",
   "execution_count": 39,
   "metadata": {},
   "outputs": [
    {
     "data": {
      "text/plain": [
       "TimeSeriesKMeans(max_iter=5, random_state=0)"
      ]
     },
     "execution_count": 39,
     "metadata": {},
     "output_type": "execute_result"
    }
   ],
   "source": [
    "km = TimeSeriesKMeans(n_clusters=3, metric=\"euclidean\", \n",
    "                      max_iter=5, random_state=0)\n",
    "km.fit(np.squeeze(df_train_decimated_scaled_denoised).T)"
   ]
  },
  {
   "cell_type": "code",
   "execution_count": 40,
   "metadata": {},
   "outputs": [
    {
     "data": {
      "text/plain": [
       "array([0, 0, 0, ..., 0, 0, 0])"
      ]
     },
     "execution_count": 40,
     "metadata": {},
     "output_type": "execute_result"
    }
   ],
   "source": [
    "km.labels_"
   ]
  },
  {
   "cell_type": "code",
   "execution_count": 42,
   "metadata": {},
   "outputs": [
    {
     "data": {
      "text/plain": [
       "inf"
      ]
     },
     "execution_count": 42,
     "metadata": {},
     "output_type": "execute_result"
    }
   ],
   "source": [
    "km.inertia_"
   ]
  },
  {
   "cell_type": "code",
   "execution_count": 41,
   "metadata": {},
   "outputs": [
    {
     "ename": "ValueError",
     "evalue": "cannot reshape array of size 0 into shape (0,newaxis)",
     "output_type": "error",
     "traceback": [
      "\u001b[0;31m---------------------------------------------------------------------------\u001b[0m",
      "\u001b[0;31mValueError\u001b[0m                                Traceback (most recent call last)",
      "Input \u001b[0;32mIn [41]\u001b[0m, in \u001b[0;36m<cell line: 3>\u001b[0;34m()\u001b[0m\n\u001b[1;32m      1\u001b[0m kmeans \u001b[38;5;241m=\u001b[39m TimeSeriesKMeans(n_clusters\u001b[38;5;241m=\u001b[39m\u001b[38;5;241m5\u001b[39m, metric\u001b[38;5;241m=\u001b[39m\u001b[38;5;124m\"\u001b[39m\u001b[38;5;124meuclidean\u001b[39m\u001b[38;5;124m\"\u001b[39m, \n\u001b[1;32m      2\u001b[0m                       max_iter\u001b[38;5;241m=\u001b[39m\u001b[38;5;241m5\u001b[39m, random_state\u001b[38;5;241m=\u001b[39m\u001b[38;5;241m0\u001b[39m)\n\u001b[0;32m----> 3\u001b[0m \u001b[43mkmeans\u001b[49m\u001b[38;5;241;43m.\u001b[39;49m\u001b[43mfit\u001b[49m\u001b[43m(\u001b[49m\u001b[43mnp\u001b[49m\u001b[38;5;241;43m.\u001b[39;49m\u001b[43msqueeze\u001b[49m\u001b[43m(\u001b[49m\u001b[43mdf_train_decimated_scaled_denoised\u001b[49m\u001b[43m)\u001b[49m\u001b[38;5;241;43m.\u001b[39;49m\u001b[43mT\u001b[49m\u001b[43m)\u001b[49m\n\u001b[1;32m      4\u001b[0m hist, bins \u001b[38;5;241m=\u001b[39m np\u001b[38;5;241m.\u001b[39mhistogram(kmeans\u001b[38;5;241m.\u001b[39mlabels_, bins\u001b[38;5;241m=\u001b[39m\u001b[38;5;28mrange\u001b[39m(\u001b[38;5;241m0\u001b[39m, \u001b[38;5;28mlen\u001b[39m(\u001b[38;5;28mset\u001b[39m(kmeans\u001b[38;5;241m.\u001b[39mlabels_)) \u001b[38;5;241m+\u001b[39m \u001b[38;5;241m1\u001b[39m))\n\u001b[1;32m      5\u001b[0m \u001b[38;5;28mprint\u001b[39m(\u001b[38;5;124m'\u001b[39m\u001b[38;5;124mlabels\u001b[39m\u001b[38;5;124m'\u001b[39m, \u001b[38;5;28mdict\u001b[39m(\u001b[38;5;28mzip\u001b[39m(bins, hist)))\n",
      "File \u001b[0;32m~/opt/anaconda3/lib/python3.9/site-packages/tslearn/clustering/kmeans.py:780\u001b[0m, in \u001b[0;36mTimeSeriesKMeans.fit\u001b[0;34m(self, X, y)\u001b[0m\n\u001b[1;32m    778\u001b[0m     \u001b[38;5;28mprint\u001b[39m(\u001b[38;5;124m\"\u001b[39m\u001b[38;5;124mInit \u001b[39m\u001b[38;5;132;01m%d\u001b[39;00m\u001b[38;5;124m\"\u001b[39m \u001b[38;5;241m%\u001b[39m (n_successful \u001b[38;5;241m+\u001b[39m \u001b[38;5;241m1\u001b[39m))\n\u001b[1;32m    779\u001b[0m n_attempts \u001b[38;5;241m+\u001b[39m\u001b[38;5;241m=\u001b[39m \u001b[38;5;241m1\u001b[39m\n\u001b[0;32m--> 780\u001b[0m \u001b[38;5;28;43mself\u001b[39;49m\u001b[38;5;241;43m.\u001b[39;49m\u001b[43m_fit_one_init\u001b[49m\u001b[43m(\u001b[49m\u001b[43mX_\u001b[49m\u001b[43m,\u001b[49m\u001b[43m \u001b[49m\u001b[43mx_squared_norms\u001b[49m\u001b[43m,\u001b[49m\u001b[43m \u001b[49m\u001b[43mrs\u001b[49m\u001b[43m)\u001b[49m\n\u001b[1;32m    781\u001b[0m \u001b[38;5;28;01mif\u001b[39;00m \u001b[38;5;28mself\u001b[39m\u001b[38;5;241m.\u001b[39minertia_ \u001b[38;5;241m<\u001b[39m min_inertia:\n\u001b[1;32m    782\u001b[0m     best_correct_centroids \u001b[38;5;241m=\u001b[39m \u001b[38;5;28mself\u001b[39m\u001b[38;5;241m.\u001b[39mcluster_centers_\u001b[38;5;241m.\u001b[39mcopy()\n",
      "File \u001b[0;32m~/opt/anaconda3/lib/python3.9/site-packages/tslearn/clustering/kmeans.py:658\u001b[0m, in \u001b[0;36mTimeSeriesKMeans._fit_one_init\u001b[0;34m(self, X, x_squared_norms, rs)\u001b[0m\n\u001b[1;32m    655\u001b[0m \u001b[38;5;28;01melse\u001b[39;00m:\n\u001b[1;32m    656\u001b[0m     \u001b[38;5;28;01mraise\u001b[39;00m \u001b[38;5;167;01mValueError\u001b[39;00m(\u001b[38;5;124m\"\u001b[39m\u001b[38;5;124mValue \u001b[39m\u001b[38;5;132;01m%r\u001b[39;00m\u001b[38;5;124m for parameter \u001b[39m\u001b[38;5;124m'\u001b[39m\u001b[38;5;124minit\u001b[39m\u001b[38;5;124m'\u001b[39m\u001b[38;5;124m\"\u001b[39m\n\u001b[1;32m    657\u001b[0m                      \u001b[38;5;124m\"\u001b[39m\u001b[38;5;124mis invalid\u001b[39m\u001b[38;5;124m\"\u001b[39m \u001b[38;5;241m%\u001b[39m \u001b[38;5;28mself\u001b[39m\u001b[38;5;241m.\u001b[39minit)\n\u001b[0;32m--> 658\u001b[0m \u001b[38;5;28mself\u001b[39m\u001b[38;5;241m.\u001b[39mcluster_centers_ \u001b[38;5;241m=\u001b[39m \u001b[43m_check_full_length\u001b[49m\u001b[43m(\u001b[49m\u001b[38;5;28;43mself\u001b[39;49m\u001b[38;5;241;43m.\u001b[39;49m\u001b[43mcluster_centers_\u001b[49m\u001b[43m)\u001b[49m\n\u001b[1;32m    659\u001b[0m old_inertia \u001b[38;5;241m=\u001b[39m numpy\u001b[38;5;241m.\u001b[39minf\n\u001b[1;32m    661\u001b[0m \u001b[38;5;28;01mfor\u001b[39;00m it \u001b[38;5;129;01min\u001b[39;00m \u001b[38;5;28mrange\u001b[39m(\u001b[38;5;28mself\u001b[39m\u001b[38;5;241m.\u001b[39mmax_iter):\n",
      "File \u001b[0;32m~/opt/anaconda3/lib/python3.9/site-packages/tslearn/clustering/utils.py:44\u001b[0m, in \u001b[0;36m_check_full_length\u001b[0;34m(centroids)\u001b[0m\n\u001b[1;32m     37\u001b[0m \u001b[38;5;124;03m\"\"\"Check that provided centroids are full-length (ie. not padded with\u001b[39;00m\n\u001b[1;32m     38\u001b[0m \u001b[38;5;124;03mnans).\u001b[39;00m\n\u001b[1;32m     39\u001b[0m \n\u001b[1;32m     40\u001b[0m \u001b[38;5;124;03mIf some centroids are found to be padded with nans, TimeSeriesResampler is\u001b[39;00m\n\u001b[1;32m     41\u001b[0m \u001b[38;5;124;03mused to resample the centroids.\u001b[39;00m\n\u001b[1;32m     42\u001b[0m \u001b[38;5;124;03m\"\"\"\u001b[39;00m\n\u001b[1;32m     43\u001b[0m resampler \u001b[38;5;241m=\u001b[39m TimeSeriesResampler(sz\u001b[38;5;241m=\u001b[39mcentroids\u001b[38;5;241m.\u001b[39mshape[\u001b[38;5;241m1\u001b[39m])\n\u001b[0;32m---> 44\u001b[0m \u001b[38;5;28;01mreturn\u001b[39;00m \u001b[43mresampler\u001b[49m\u001b[38;5;241;43m.\u001b[39;49m\u001b[43mfit_transform\u001b[49m\u001b[43m(\u001b[49m\u001b[43mcentroids\u001b[49m\u001b[43m)\u001b[49m\n",
      "File \u001b[0;32m~/opt/anaconda3/lib/python3.9/site-packages/tslearn/preprocessing/preprocessing.py:71\u001b[0m, in \u001b[0;36mTimeSeriesResampler.fit_transform\u001b[0;34m(self, X, y, **kwargs)\u001b[0m\n\u001b[1;32m     58\u001b[0m \u001b[38;5;28;01mdef\u001b[39;00m \u001b[38;5;21mfit_transform\u001b[39m(\u001b[38;5;28mself\u001b[39m, X, y\u001b[38;5;241m=\u001b[39m\u001b[38;5;28;01mNone\u001b[39;00m, \u001b[38;5;241m*\u001b[39m\u001b[38;5;241m*\u001b[39mkwargs):\n\u001b[1;32m     59\u001b[0m     \u001b[38;5;124;03m\"\"\"Fit to data, then transform it.\u001b[39;00m\n\u001b[1;32m     60\u001b[0m \n\u001b[1;32m     61\u001b[0m \u001b[38;5;124;03m    Parameters\u001b[39;00m\n\u001b[0;32m   (...)\u001b[0m\n\u001b[1;32m     69\u001b[0m \u001b[38;5;124;03m        Resampled time series dataset.\u001b[39;00m\n\u001b[1;32m     70\u001b[0m \u001b[38;5;124;03m    \"\"\"\u001b[39;00m\n\u001b[0;32m---> 71\u001b[0m     \u001b[38;5;28;01mreturn\u001b[39;00m \u001b[38;5;28;43mself\u001b[39;49m\u001b[38;5;241;43m.\u001b[39;49m\u001b[43mfit\u001b[49m\u001b[43m(\u001b[49m\u001b[43mX\u001b[49m\u001b[43m)\u001b[49m\u001b[38;5;241;43m.\u001b[39;49m\u001b[43mtransform\u001b[49m\u001b[43m(\u001b[49m\u001b[43mX\u001b[49m\u001b[43m)\u001b[49m\n",
      "File \u001b[0;32m~/opt/anaconda3/lib/python3.9/site-packages/tslearn/preprocessing/preprocessing.py:97\u001b[0m, in \u001b[0;36mTimeSeriesResampler.transform\u001b[0;34m(self, X, y, **kwargs)\u001b[0m\n\u001b[1;32m     95\u001b[0m         sz \u001b[38;5;241m=\u001b[39m ts_size(X_[i])\n\u001b[1;32m     96\u001b[0m     \u001b[38;5;28;01mfor\u001b[39;00m di \u001b[38;5;129;01min\u001b[39;00m \u001b[38;5;28mrange\u001b[39m(d):\n\u001b[0;32m---> 97\u001b[0m         f \u001b[38;5;241m=\u001b[39m \u001b[43minterp1d\u001b[49m\u001b[43m(\u001b[49m\u001b[43mnumpy\u001b[49m\u001b[38;5;241;43m.\u001b[39;49m\u001b[43mlinspace\u001b[49m\u001b[43m(\u001b[49m\u001b[38;5;241;43m0\u001b[39;49m\u001b[43m,\u001b[49m\u001b[43m \u001b[49m\u001b[38;5;241;43m1\u001b[39;49m\u001b[43m,\u001b[49m\u001b[43m \u001b[49m\u001b[43msz\u001b[49m\u001b[43m)\u001b[49m\u001b[43m,\u001b[49m\u001b[43m \u001b[49m\u001b[43mX_\u001b[49m\u001b[43m[\u001b[49m\u001b[43mi\u001b[49m\u001b[43m,\u001b[49m\u001b[43m \u001b[49m\u001b[43m:\u001b[49m\u001b[43msz\u001b[49m\u001b[43m,\u001b[49m\u001b[43m \u001b[49m\u001b[43mdi\u001b[49m\u001b[43m]\u001b[49m\u001b[43m,\u001b[49m\n\u001b[1;32m     98\u001b[0m \u001b[43m                     \u001b[49m\u001b[43mkind\u001b[49m\u001b[38;5;241;43m=\u001b[39;49m\u001b[38;5;124;43m\"\u001b[39;49m\u001b[38;5;124;43mslinear\u001b[39;49m\u001b[38;5;124;43m\"\u001b[39;49m\u001b[43m)\u001b[49m\n\u001b[1;32m     99\u001b[0m         X_out[i, :, di] \u001b[38;5;241m=\u001b[39m f(xnew)\n\u001b[1;32m    100\u001b[0m \u001b[38;5;28;01mreturn\u001b[39;00m X_out\n",
      "File \u001b[0;32m~/opt/anaconda3/lib/python3.9/site-packages/scipy/interpolate/interpolate.py:474\u001b[0m, in \u001b[0;36minterp1d.__init__\u001b[0;34m(self, x, y, kind, axis, copy, bounds_error, fill_value, assume_sorted)\u001b[0m\n\u001b[1;32m    472\u001b[0m \u001b[38;5;66;03m# Interpolation goes internally along the first axis\u001b[39;00m\n\u001b[1;32m    473\u001b[0m \u001b[38;5;28mself\u001b[39m\u001b[38;5;241m.\u001b[39my \u001b[38;5;241m=\u001b[39m y\n\u001b[0;32m--> 474\u001b[0m \u001b[38;5;28mself\u001b[39m\u001b[38;5;241m.\u001b[39m_y \u001b[38;5;241m=\u001b[39m \u001b[38;5;28;43mself\u001b[39;49m\u001b[38;5;241;43m.\u001b[39;49m\u001b[43m_reshape_yi\u001b[49m\u001b[43m(\u001b[49m\u001b[38;5;28;43mself\u001b[39;49m\u001b[38;5;241;43m.\u001b[39;49m\u001b[43my\u001b[49m\u001b[43m)\u001b[49m\n\u001b[1;32m    475\u001b[0m \u001b[38;5;28mself\u001b[39m\u001b[38;5;241m.\u001b[39mx \u001b[38;5;241m=\u001b[39m x\n\u001b[1;32m    476\u001b[0m \u001b[38;5;28;01mdel\u001b[39;00m y, x  \u001b[38;5;66;03m# clean up namespace to prevent misuse; use attributes\u001b[39;00m\n",
      "File \u001b[0;32m~/opt/anaconda3/lib/python3.9/site-packages/scipy/interpolate/polyint.py:110\u001b[0m, in \u001b[0;36m_Interpolator1D._reshape_yi\u001b[0;34m(self, yi, check)\u001b[0m\n\u001b[1;32m    107\u001b[0m     ok_shape \u001b[38;5;241m=\u001b[39m \u001b[38;5;124m\"\u001b[39m\u001b[38;5;132;01m%r\u001b[39;00m\u001b[38;5;124m + (N,) + \u001b[39m\u001b[38;5;132;01m%r\u001b[39;00m\u001b[38;5;124m\"\u001b[39m \u001b[38;5;241m%\u001b[39m (\u001b[38;5;28mself\u001b[39m\u001b[38;5;241m.\u001b[39m_y_extra_shape[\u001b[38;5;241m-\u001b[39m\u001b[38;5;28mself\u001b[39m\u001b[38;5;241m.\u001b[39m_y_axis:],\n\u001b[1;32m    108\u001b[0m                                    \u001b[38;5;28mself\u001b[39m\u001b[38;5;241m.\u001b[39m_y_extra_shape[:\u001b[38;5;241m-\u001b[39m\u001b[38;5;28mself\u001b[39m\u001b[38;5;241m.\u001b[39m_y_axis])\n\u001b[1;32m    109\u001b[0m     \u001b[38;5;28;01mraise\u001b[39;00m \u001b[38;5;167;01mValueError\u001b[39;00m(\u001b[38;5;124m\"\u001b[39m\u001b[38;5;124mData must be of shape \u001b[39m\u001b[38;5;132;01m%s\u001b[39;00m\u001b[38;5;124m\"\u001b[39m \u001b[38;5;241m%\u001b[39m ok_shape)\n\u001b[0;32m--> 110\u001b[0m \u001b[38;5;28;01mreturn\u001b[39;00m \u001b[43myi\u001b[49m\u001b[38;5;241;43m.\u001b[39;49m\u001b[43mreshape\u001b[49m\u001b[43m(\u001b[49m\u001b[43m(\u001b[49m\u001b[43myi\u001b[49m\u001b[38;5;241;43m.\u001b[39;49m\u001b[43mshape\u001b[49m\u001b[43m[\u001b[49m\u001b[38;5;241;43m0\u001b[39;49m\u001b[43m]\u001b[49m\u001b[43m,\u001b[49m\u001b[43m \u001b[49m\u001b[38;5;241;43m-\u001b[39;49m\u001b[38;5;241;43m1\u001b[39;49m\u001b[43m)\u001b[49m\u001b[43m)\u001b[49m\n",
      "\u001b[0;31mValueError\u001b[0m: cannot reshape array of size 0 into shape (0,newaxis)"
     ]
    }
   ],
   "source": [
    "kmeans = TimeSeriesKMeans(n_clusters=5, metric=\"euclidean\", \n",
    "                      max_iter=5, random_state=0)\n",
    "kmeans.fit(np.squeeze(df_train_decimated_scaled_denoised).T)\n",
    "hist, bins = np.histogram(kmeans.labels_, bins=range(0, len(set(kmeans.labels_)) + 1))\n",
    "print('labels', dict(zip(bins, hist)))\n",
    "print('sse', kmeans.inertia_)\n",
    "print('silhouette', silhouette_score(np.squeeze(df_train_decimated_scaled_denoised).T, kmeans.labels_))"
   ]
  }
 ],
 "metadata": {
  "kernelspec": {
   "display_name": "Python 3 (ipykernel)",
   "language": "python",
   "name": "python3"
  },
  "language_info": {
   "codemirror_mode": {
    "name": "ipython",
    "version": 3
   },
   "file_extension": ".py",
   "mimetype": "text/x-python",
   "name": "python",
   "nbconvert_exporter": "python",
   "pygments_lexer": "ipython3",
   "version": "3.9.12"
  }
 },
 "nbformat": 4,
 "nbformat_minor": 2
}
