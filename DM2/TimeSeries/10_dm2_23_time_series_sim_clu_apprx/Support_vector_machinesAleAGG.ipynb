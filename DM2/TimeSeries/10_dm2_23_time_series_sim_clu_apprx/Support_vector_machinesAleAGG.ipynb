{
 "cells": [
  {
   "cell_type": "code",
   "execution_count": 1,
   "metadata": {},
   "outputs": [],
   "source": [
    "%matplotlib inline\n",
    "\n",
    "import numpy as np\n",
    "import pandas as pd\n",
    "import matplotlib.pyplot as plt\n",
    "\n",
    "from collections import defaultdict\n",
    "\n",
    "from sklearn.feature_selection import SelectKBest\n",
    "from sklearn.preprocessing import StandardScaler\n",
    "\n",
    "from sklearn.svm import LinearSVC, SVC\n",
    "from sklearn.metrics import accuracy_score, f1_score, classification_report\n",
    "\n",
    "from scipy.special import expit\n",
    "\n",
    "from sklearn.model_selection import cross_val_score\n",
    "from sklearn.model_selection import RepeatedStratifiedKFold\n",
    "\n",
    "from sklearn.model_selection import RandomizedSearchCV, GridSearchCV\n",
    "from scipy.stats import loguniform, uniform"
   ]
  },
  {
   "cell_type": "code",
   "execution_count": 9,
   "metadata": {},
   "outputs": [],
   "source": [
    "df_train=pd.read_csv(\"../../ravdess_features_train_pulito.csv\")\n",
    "df_test=pd.read_csv(\"../../ravdess_features_test_pulito.csv\")\n",
    "\n",
    "df_train[\"emotion\"]=df_train[\"emotion\"].replace([\"fearful\", \"angry\", \"happy\", \"surprised\", \"neutral\", \"calm\", \"sad\", \"disgust\"],[0,1,2,3,4,5,6,7])\n",
    "df_train[\"emotional_intensity\"]=df_train[\"emotional_intensity\"].replace([\"normal\", \"strong\"],[0,1])\n",
    "df_train[\"sex\"]=df_train[\"sex\"].replace([\"M\", \"F\"],[0,1])\n",
    "df_train[\"statement\"]=df_train[\"statement\"].replace([\"Dogs are sitting by the door\", \"Kids are talking by the door\"],[0,1])\n",
    "df_train[\"vocal_channel\"]=df_train[\"vocal_channel\"].replace([\"speech\", \"song\"],[0,1])\n",
    "\n",
    "df_test[\"emotion\"]=df_test[\"emotion\"].replace([\"fearful\", \"angry\", \"happy\", \"surprised\", \"neutral\", \"calm\", \"sad\", \"disgust\"],[0,1,2,3,4,5,6,7])\n",
    "df_test[\"emotional_intensity\"]=df_test[\"emotional_intensity\"].replace([\"normal\", \"strong\"],[0,1])\n",
    "df_test[\"sex\"]=df_test[\"sex\"].replace([\"M\", \"F\"],[0,1])\n",
    "df_test[\"statement\"]=df_test[\"statement\"].replace([\"Dogs are sitting by the door\", \"Kids are talking by the door\"],[0,1])\n",
    "df_test[\"vocal_channel\"]=df_test[\"vocal_channel\"].replace([\"speech\", \"song\"],[0,1])"
   ]
  },
  {
   "cell_type": "markdown",
   "metadata": {},
   "source": [
    "### Outlier dropping"
   ]
  },
  {
   "cell_type": "code",
   "execution_count": 10,
   "metadata": {},
   "outputs": [],
   "source": [
    "df_train.drop(axis=\"index\", labels=[35,243,451,554,563,658,659,1031,1075,1283], inplace=True)\n",
    "X_train=df_train.drop(columns=[\"emotion\"]).values\n",
    "y_train=df_train.emotion.values\n",
    "\n",
    "df_test.drop(axis=\"index\", labels=[33,34,138,196,197,198,199], inplace=True)\n",
    "X_test=df_test.drop(columns=[\"emotion\"]).values\n",
    "y_test=df_test.emotion.values"
   ]
  },
  {
   "cell_type": "markdown",
   "metadata": {},
   "source": [
    "### Feature selection (da implementare)"
   ]
  },
  {
   "cell_type": "code",
   "execution_count": 11,
   "metadata": {},
   "outputs": [
    {
     "name": "stderr",
     "output_type": "stream",
     "text": [
      "/Users/jacopogneri/opt/anaconda3/lib/python3.9/site-packages/sklearn/feature_selection/_univariate_selection.py:112: UserWarning: Features [108] are constant.\n",
      "  warnings.warn(\"Features %s are constant.\" % constant_features_idx, UserWarning)\n",
      "/Users/jacopogneri/opt/anaconda3/lib/python3.9/site-packages/sklearn/feature_selection/_univariate_selection.py:113: RuntimeWarning: invalid value encountered in true_divide\n",
      "  f = msb / msw\n"
     ]
    }
   ],
   "source": [
    "sel = SelectKBest(k=108)\n",
    "X_train = sel.fit_transform(X_train, y_train)\n",
    "X_test = sel.transform(X_test)"
   ]
  },
  {
   "cell_type": "markdown",
   "metadata": {},
   "source": [
    "### Scaling"
   ]
  },
  {
   "cell_type": "code",
   "execution_count": 13,
   "metadata": {},
   "outputs": [],
   "source": [
    "scl = StandardScaler()\n",
    "X_train = scl.fit_transform(X_train)\n",
    "X_test = scl.transform(X_test)"
   ]
  },
  {
   "cell_type": "code",
   "execution_count": 7,
   "metadata": {},
   "outputs": [
    {
     "name": "stdout",
     "output_type": "stream",
     "text": [
      "Accuracy 0.44408427876823336\n",
      "F1-score [0.39189189 0.53080569 0.36538462 0.51282051 0.46753247 0.51886792\n",
      " 0.29530201 0.46428571]\n",
      "              precision    recall  f1-score   support\n",
      "\n",
      "           0       0.56      0.30      0.39        96\n",
      "           1       0.46      0.63      0.53        89\n",
      "           2       0.34      0.40      0.37        96\n",
      "           3       0.43      0.62      0.51        48\n",
      "           4       0.62      0.38      0.47        48\n",
      "           5       0.47      0.57      0.52        96\n",
      "           6       0.42      0.23      0.30        96\n",
      "           7       0.41      0.54      0.46        48\n",
      "\n",
      "    accuracy                           0.44       617\n",
      "   macro avg       0.46      0.46      0.44       617\n",
      "weighted avg       0.46      0.44      0.43       617\n",
      "\n"
     ]
    },
    {
     "name": "stderr",
     "output_type": "stream",
     "text": [
      "/Users/jacopogneri/opt/anaconda3/lib/python3.9/site-packages/sklearn/svm/_base.py:1206: ConvergenceWarning: Liblinear failed to converge, increase the number of iterations.\n",
      "  warnings.warn(\n"
     ]
    }
   ],
   "source": [
    "clf = LinearSVC(C=1.0, random_state=42)\n",
    "clf.fit(X_train, y_train)\n",
    "\n",
    "y_pred = clf.predict(X_test)\n",
    "\n",
    "print('Accuracy %s' % accuracy_score(y_test, y_pred))\n",
    "print('F1-score %s' % f1_score(y_test, y_pred, average=None))\n",
    "print(classification_report(y_test, y_pred))"
   ]
  },
  {
   "cell_type": "code",
   "execution_count": 8,
   "metadata": {},
   "outputs": [
    {
     "ename": "AttributeError",
     "evalue": "'LinearSVC' object has no attribute 'predict_proba'",
     "output_type": "error",
     "traceback": [
      "\u001b[0;31m---------------------------------------------------------------------------\u001b[0m",
      "\u001b[0;31mAttributeError\u001b[0m                            Traceback (most recent call last)",
      "Input \u001b[0;32mIn [8]\u001b[0m, in \u001b[0;36m<cell line: 1>\u001b[0;34m()\u001b[0m\n\u001b[0;32m----> 1\u001b[0m y_score \u001b[38;5;241m=\u001b[39m \u001b[43mclf\u001b[49m\u001b[38;5;241;43m.\u001b[39;49m\u001b[43mpredict_proba\u001b[49m(X_test)\n\u001b[1;32m      2\u001b[0m plot_roc(y_test, y_score, figsize\u001b[38;5;241m=\u001b[39m(\u001b[38;5;241m10\u001b[39m,\u001b[38;5;241m10\u001b[39m), title_fontsize\u001b[38;5;241m=\u001b[39m\u001b[38;5;241m15\u001b[39m, text_fontsize\u001b[38;5;241m=\u001b[39m\u001b[38;5;241m15\u001b[39m)\n\u001b[1;32m      3\u001b[0m \u001b[38;5;66;03m#plt.legend([\"AUC of class fearful = 0.76\", \"AUC of class angry = 0.92\", \"AUC of class happy = 0.78\", \"AUC of class surprised = 0.89\", \"AUC of class neutral = 0.92\", \"AUC of class calm = 0.90\", \"AUC of class sad = 0.74\", \"AUC of class disgust = 0.89\", \"micro-avg AUC = 0.85\", \"macro-avg AUC = 0.85\"], fontsize=15)\u001b[39;00m\n",
      "\u001b[0;31mAttributeError\u001b[0m: 'LinearSVC' object has no attribute 'predict_proba'"
     ]
    }
   ],
   "source": [
    "y_score = clf.predict_proba(X_test)\n",
    "plot_roc(y_test, y_score, figsize=(10,10), title_fontsize=15, text_fontsize=15)\n",
    "#plt.legend([\"AUC of class fearful = 0.76\", \"AUC of class angry = 0.92\", \"AUC of class happy = 0.78\", \"AUC of class surprised = 0.89\", \"AUC of class neutral = 0.92\", \"AUC of class calm = 0.90\", \"AUC of class sad = 0.74\", \"AUC of class disgust = 0.89\", \"micro-avg AUC = 0.85\", \"macro-avg AUC = 0.85\"], fontsize=15)\n",
    "plt.title(\"\")\n",
    "plt.show()"
   ]
  },
  {
   "cell_type": "markdown",
   "metadata": {},
   "source": [
    "# LinearSVC"
   ]
  },
  {
   "cell_type": "markdown",
   "metadata": {},
   "source": [
    "### Tuning hyperparameter"
   ]
  },
  {
   "cell_type": "code",
   "execution_count": 25,
   "metadata": {},
   "outputs": [],
   "source": [
    "def get_models_unweighted():\n",
    "    models = dict()\n",
    "    for p in [1e-5, 5e-5, 1e-4, 5e-4, 1e-3, 5e-3, 1e-2, 5e-2, 0.1, 0.5, 1]:\n",
    "        models[p] = LinearSVC(multi_class='ovr', C=p, class_weight=None)\n",
    "    return models\n",
    "\n",
    "def get_models_weighted():\n",
    "    models = dict()\n",
    "    for p in [1e-5, 5e-5, 1e-4, 5e-4, 1e-3, 5e-3, 1e-2, 5e-2, 0.1, 0.5, 1]:\n",
    "        models[p] = LinearSVC(multi_class='ovr', C=p, class_weight=\"balanced\")\n",
    "    return models\n",
    "\n",
    "def evaluate_model_accuracy(model, X, y):\n",
    "    cv = RepeatedStratifiedKFold(n_splits=10, n_repeats=3, random_state=1)\n",
    "    scores = cross_val_score(model, X, y, scoring='accuracy', cv=cv, n_jobs=-1)\n",
    "    return scores\n",
    "\n",
    "def evaluate_model_f1(model, X, y):\n",
    "    cv = RepeatedStratifiedKFold(n_splits=10, n_repeats=3, random_state=1)\n",
    "    scores = cross_val_score(model, X, y, scoring='f1_weighted', cv=cv, n_jobs=-1)\n",
    "    return scores"
   ]
  },
  {
   "cell_type": "code",
   "execution_count": 26,
   "metadata": {},
   "outputs": [
    {
     "name": "stdout",
     "output_type": "stream",
     "text": [
      "1e-05\n",
      "Accuracy:\t 0.334 (0.020)\n",
      "f1:\t 0.227 (0.021)\n",
      "5e-05\n",
      "Accuracy:\t 0.378 (0.029)\n",
      "f1:\t 0.305 (0.031)\n",
      "0.0001\n",
      "Accuracy:\t 0.396 (0.026)\n",
      "f1:\t 0.339 (0.027)\n",
      "0.0005\n",
      "Accuracy:\t 0.450 (0.027)\n",
      "f1:\t 0.414 (0.027)\n",
      "0.001\n",
      "Accuracy:\t 0.465 (0.028)\n",
      "f1:\t 0.431 (0.027)\n",
      "0.005\n",
      "Accuracy:\t 0.496 (0.028)\n",
      "f1:\t 0.470 (0.028)\n",
      "0.01\n",
      "Accuracy:\t 0.510 (0.032)\n",
      "f1:\t 0.488 (0.032)\n",
      "0.05\n",
      "Accuracy:\t 0.530 (0.034)\n",
      "f1:\t 0.517 (0.033)\n",
      "0.1\n",
      "Accuracy:\t 0.534 (0.035)\n",
      "f1:\t 0.521 (0.035)\n",
      "0.5\n",
      "Accuracy:\t 0.544 (0.041)\n",
      "f1:\t 0.534 (0.041)\n",
      "1\n",
      "Accuracy:\t 0.545 (0.035)\n",
      "f1:\t 0.539 (0.036)\n"
     ]
    }
   ],
   "source": [
    "models = get_models_unweighted()\n",
    "accuracy, f1, names = list(), list(), list()\n",
    "for name, model in models.items():\n",
    "\taccuracy_scores = evaluate_model_accuracy(model, X_train, y_train)\n",
    "\tf1_scores = evaluate_model_f1(model, X_train, y_train)\n",
    "\taccuracy.append(accuracy_scores)\n",
    "\tf1.append(f1_scores)\n",
    "\tnames.append(name)\n",
    "\tprint(name)\n",
    "\tprint('Accuracy:\\t %.3f (%.3f)' % (np.mean(accuracy_scores), np.std(accuracy_scores)))\n",
    "\tprint('f1:\\t %.3f (%.3f)' % (np.mean(f1_scores), np.std(f1_scores)))\n",
    "# Tempo stimato 4.30m"
   ]
  },
  {
   "cell_type": "code",
   "execution_count": 27,
   "metadata": {},
   "outputs": [
    {
     "name": "stdout",
     "output_type": "stream",
     "text": [
      "1e-05\n",
      "Accuracy:\t 0.336 (0.024)\n",
      "f1:\t 0.227 (0.022)\n",
      "\n",
      "\n",
      "5e-05\n",
      "Accuracy:\t 0.369 (0.026)\n",
      "f1:\t 0.290 (0.027)\n",
      "\n",
      "\n",
      "0.0001\n",
      "Accuracy:\t 0.389 (0.024)\n",
      "f1:\t 0.328 (0.026)\n",
      "\n",
      "\n",
      "0.0005\n",
      "Accuracy:\t 0.448 (0.027)\n",
      "f1:\t 0.412 (0.027)\n",
      "\n",
      "\n",
      "0.001\n",
      "Accuracy:\t 0.472 (0.031)\n",
      "f1:\t 0.442 (0.030)\n",
      "\n",
      "\n",
      "0.005\n",
      "Accuracy:\t 0.501 (0.033)\n",
      "f1:\t 0.479 (0.032)\n",
      "\n",
      "\n",
      "0.01\n",
      "Accuracy:\t 0.510 (0.032)\n",
      "f1:\t 0.491 (0.031)\n",
      "\n",
      "\n",
      "0.05\n",
      "Accuracy:\t 0.524 (0.035)\n",
      "f1:\t 0.509 (0.036)\n",
      "\n",
      "\n",
      "0.1\n",
      "Accuracy:\t 0.528 (0.038)\n",
      "f1:\t 0.514 (0.040)\n",
      "\n",
      "\n",
      "0.5\n",
      "Accuracy:\t 0.538 (0.044)\n",
      "f1:\t 0.528 (0.044)\n",
      "\n",
      "\n",
      "1\n",
      "Accuracy:\t 0.543 (0.042)\n",
      "f1:\t 0.534 (0.043)\n",
      "\n",
      "\n"
     ]
    }
   ],
   "source": [
    "\n",
    "models = get_models_weighted()\n",
    "accuracy, f1, names = list(), list(), list()\n",
    "for name, model in models.items():\n",
    "\taccuracy_scores = evaluate_model_accuracy(model, X_train, y_train)\n",
    "\tf1_scores = evaluate_model_f1(model, X_train, y_train)\n",
    "\taccuracy.append(accuracy_scores)\n",
    "\tf1.append(f1_scores)\n",
    "\tnames.append(name)\n",
    "\tprint(name)\n",
    "\tprint('Accuracy:\\t %.3f (%.3f)' % (np.mean(accuracy_scores), np.std(accuracy_scores)))\n",
    "\tprint('f1:\\t %.3f (%.3f)' % (np.mean(f1_scores), np.std(f1_scores)))\n",
    "\tprint(\"\\n\")\n",
    "\n",
    "# Tempo stimato 4.30m"
   ]
  },
  {
   "cell_type": "markdown",
   "metadata": {},
   "source": [
    "Migliore risultato dataset completo (solo OD) C=0.05, class_weight=\"balanced\"\n",
    "\n",
    "Migliore risultato dataset con FS C=1, class_weight=None"
   ]
  },
  {
   "cell_type": "code",
   "execution_count": 23,
   "metadata": {},
   "outputs": [
    {
     "ename": "TypeError",
     "evalue": "__init__() got an unexpected keyword argument 'probability'",
     "output_type": "error",
     "traceback": [
      "\u001b[0;31m---------------------------------------------------------------------------\u001b[0m",
      "\u001b[0;31mTypeError\u001b[0m                                 Traceback (most recent call last)",
      "Input \u001b[0;32mIn [23]\u001b[0m, in \u001b[0;36m<cell line: 1>\u001b[0;34m()\u001b[0m\n\u001b[0;32m----> 1\u001b[0m clf \u001b[38;5;241m=\u001b[39m \u001b[43mLinearSVC\u001b[49m\u001b[43m(\u001b[49m\u001b[43mC\u001b[49m\u001b[38;5;241;43m=\u001b[39;49m\u001b[38;5;241;43m1\u001b[39;49m\u001b[43m,\u001b[49m\u001b[43m \u001b[49m\u001b[43mclass_weight\u001b[49m\u001b[38;5;241;43m=\u001b[39;49m\u001b[38;5;28;43;01mNone\u001b[39;49;00m\u001b[43m,\u001b[49m\u001b[43m \u001b[49m\u001b[43mmax_iter\u001b[49m\u001b[38;5;241;43m=\u001b[39;49m\u001b[38;5;241;43m10000\u001b[39;49m\u001b[43m,\u001b[49m\u001b[43m \u001b[49m\u001b[43mprobability\u001b[49m\u001b[43m \u001b[49m\u001b[38;5;241;43m=\u001b[39;49m\u001b[43m \u001b[49m\u001b[38;5;28;43;01mTrue\u001b[39;49;00m\u001b[43m)\u001b[49m\n\u001b[1;32m      2\u001b[0m clf\u001b[38;5;241m.\u001b[39mfit(X_train, y_train)\n\u001b[1;32m      4\u001b[0m y_pred \u001b[38;5;241m=\u001b[39m clf\u001b[38;5;241m.\u001b[39mpredict(X_test)\n",
      "\u001b[0;31mTypeError\u001b[0m: __init__() got an unexpected keyword argument 'probability'"
     ]
    }
   ],
   "source": [
    "clf = LinearSVC(C=1, class_weight=None, max_iter=10000, probability = True)\n",
    "clf.fit(X_train, y_train)\n",
    "\n",
    "y_pred = clf.predict(X_test)\n",
    "\n",
    "print('Accuracy %s' % accuracy_score(y_test, y_pred))\n",
    "print('F1-score %s' % f1_score(y_test, y_pred, average=None))\n",
    "print(classification_report(y_test, y_pred))"
   ]
  },
  {
   "cell_type": "code",
   "execution_count": 15,
   "metadata": {},
   "outputs": [],
   "source": [
    "from scikitplot.metrics import plot_roc"
   ]
  },
  {
   "cell_type": "code",
   "execution_count": null,
   "metadata": {},
   "outputs": [],
   "source": [
    "y_score = clf.predict_proba(X_test)\n",
    "plot_roc(y_test, y_score, figsize=(10,10), title_fontsize=15, text_fontsize=15)\n",
    "#plt.legend([\"AUC of class fearful = 0.76\", \"AUC of class angry = 0.92\", \"AUC of class happy = 0.78\", \"AUC of class surprised = 0.89\", \"AUC of class neutral = 0.92\", \"AUC of class calm = 0.90\", \"AUC of class sad = 0.74\", \"AUC of class disgust = 0.89\", \"micro-avg AUC = 0.85\", \"macro-avg AUC = 0.85\"], fontsize=15)\n",
    "plt.title(\"\")\n",
    "plt.show()"
   ]
  },
  {
   "cell_type": "markdown",
   "metadata": {},
   "source": [
    "## Nonlinear SVM"
   ]
  },
  {
   "cell_type": "code",
   "execution_count": 31,
   "metadata": {},
   "outputs": [],
   "source": [
    "\n",
    "param_grid = {\n",
    "    \"C\": [1e-2, 2e-2, 3e-2, 4e-2, 5e-2, 6e-2, 7e-2, 8e-2, 9e-2, 0.1, 0.15, 0.2, 0.25, 0.3, 0.35, 0.4, 0.45, 0.5, 0.55, 0.6, 0.65, 0.7, 0.75, 0.8, 0.85, 0.9, 0.95, 1],\n",
    "    \"kernel\": [\"linear\", \"poly\", \"rbf\", \"sigmoid\"],\n",
    "    \"coef0\": [1e-2, 2e-2, 3e-2, 4e-2, 5e-2, 6e-2, 7e-2, 8e-2, 9e-2, 0.1, 0.15, 0.2, 0.25, 0.3, 0.35, 0.4, 0.45, 0.5, 0.55, 0.6, 0.65, 0.7, 0.75, 0.8, 0.85, 0.9, 0.95, 1],\n",
    "    \"gamma\": [\"scale\", \"auto\"],\n",
    "    \"class_weight\": [\"balanced\", None]\n",
    "}\n",
    "grid = RandomizedSearchCV(\n",
    "    SVC(max_iter=-1),\n",
    "    param_distributions=param_grid,\n",
    "    scoring=\"accuracy\",\n",
    "    cv=RepeatedStratifiedKFold(random_state=0),\n",
    "    n_jobs=-1,\n",
    "    n_iter=500,\n",
    ")\n",
    "grid.fit(X_train, y_train)\n",
    "clf = grid.best_estimator_\n",
    "\n",
    "# tempo impiegato circa 34 minuti"
   ]
  },
  {
   "cell_type": "code",
   "execution_count": 32,
   "metadata": {},
   "outputs": [
    {
     "data": {
      "text/plain": [
       "{'kernel': 'poly',\n",
       " 'gamma': 'auto',\n",
       " 'coef0': 0.95,\n",
       " 'class_weight': None,\n",
       " 'C': 1}"
      ]
     },
     "execution_count": 32,
     "metadata": {},
     "output_type": "execute_result"
    }
   ],
   "source": [
    "grid.best_params_"
   ]
  },
  {
   "cell_type": "markdown",
   "metadata": {},
   "source": [
    "Best params dataset completo (no outliers): C=0.75, class_weight='balanced', coef0=1, gamma='auto', kernel='poly'.\n",
    "\n",
    "Best params dataset con FS: {'kernel': 'poly', 'gamma': 'auto', 'coef0': 0.95, 'C': 1}"
   ]
  },
  {
   "cell_type": "code",
   "execution_count": 33,
   "metadata": {},
   "outputs": [
    {
     "name": "stdout",
     "output_type": "stream",
     "text": [
      "Accuracy 0.45705024311183146\n",
      "F1-score [0.28346457 0.5698324  0.42424242 0.51162791 0.48235294 0.57627119\n",
      " 0.16666667 0.53731343]\n",
      "              precision    recall  f1-score   support\n",
      "\n",
      "           0       0.58      0.19      0.28        96\n",
      "           1       0.57      0.57      0.57        89\n",
      "           2       0.41      0.44      0.42        96\n",
      "           3       0.41      0.69      0.51        48\n",
      "           4       0.34      0.85      0.48        48\n",
      "           5       0.63      0.53      0.58        96\n",
      "           6       0.42      0.10      0.17        96\n",
      "           7       0.42      0.75      0.54        48\n",
      "\n",
      "    accuracy                           0.46       617\n",
      "   macro avg       0.47      0.52      0.44       617\n",
      "weighted avg       0.49      0.46      0.43       617\n",
      "\n"
     ]
    }
   ],
   "source": [
    "clf = SVC(C=1, class_weight='balanced', coef0=0.95, gamma='auto', kernel='poly', degree=2)\n",
    "clf.fit(X_train, y_train)\n",
    "\n",
    "y_pred = clf.predict(X_test)\n",
    "\n",
    "print('Accuracy %s' % accuracy_score(y_test, y_pred))\n",
    "print('F1-score %s' % f1_score(y_test, y_pred, average=None))\n",
    "print(classification_report(y_test, y_pred))"
   ]
  },
  {
   "cell_type": "markdown",
   "metadata": {},
   "source": [
    "Non convince il coef0. Faccio GridSearchCV su quest'ultimo."
   ]
  },
  {
   "cell_type": "code",
   "execution_count": null,
   "metadata": {},
   "outputs": [
    {
     "name": "stdout",
     "output_type": "stream",
     "text": [
      "Accuracy 0.5283630470016207\n",
      "F1-score [0.41610738 0.68656716 0.47236181 0.47706422 0.60294118 0.58241758\n",
      " 0.35460993 0.58119658]\n",
      "              precision    recall  f1-score   support\n",
      "\n",
      "           0       0.58      0.32      0.42        96\n",
      "           1       0.62      0.78      0.69        89\n",
      "           2       0.46      0.49      0.47        96\n",
      "           3       0.43      0.54      0.48        48\n",
      "           4       0.47      0.85      0.60        48\n",
      "           5       0.62      0.55      0.58        96\n",
      "           6       0.56      0.26      0.35        96\n",
      "           7       0.49      0.71      0.58        48\n",
      "\n",
      "    accuracy                           0.53       617\n",
      "   macro avg       0.53      0.56      0.52       617\n",
      "weighted avg       0.54      0.53      0.51       617\n",
      "\n"
     ]
    }
   ],
   "source": [
    "clf = SVC(C=0.75, class_weight='balanced', coef0=1, gamma='auto', kernel='poly', degree=2)\n",
    "clf.fit(X_train, y_train)\n",
    "\n",
    "y_pred = clf.predict(X_test)\n",
    "\n",
    "print('Accuracy %s' % accuracy_score(y_test, y_pred))\n",
    "print('F1-score %s' % f1_score(y_test, y_pred, average=None))\n",
    "print(classification_report(y_test, y_pred))"
   ]
  },
  {
   "cell_type": "code",
   "execution_count": 39,
   "metadata": {},
   "outputs": [
    {
     "name": "stdout",
     "output_type": "stream",
     "text": [
      "Accuracy 0.44570502431118314\n",
      "F1-score [0.3125     0.53932584 0.42364532 0.50393701 0.43209877 0.58100559\n",
      " 0.17886179 0.50746269]\n",
      "              precision    recall  f1-score   support\n",
      "\n",
      "           0       0.62      0.21      0.31        96\n",
      "           1       0.54      0.54      0.54        89\n",
      "           2       0.40      0.45      0.42        96\n",
      "           3       0.41      0.67      0.50        48\n",
      "           4       0.31      0.73      0.43        48\n",
      "           5       0.63      0.54      0.58        96\n",
      "           6       0.41      0.11      0.18        96\n",
      "           7       0.40      0.71      0.51        48\n",
      "\n",
      "    accuracy                           0.45       617\n",
      "   macro avg       0.46      0.49      0.43       617\n",
      "weighted avg       0.48      0.45      0.42       617\n",
      "\n"
     ]
    }
   ],
   "source": [
    "clf = SVC(C=0.75, class_weight='balanced', coef0=1, gamma='auto', kernel='poly', degree=3)\n",
    "clf.fit(X_train, y_train)\n",
    "\n",
    "y_pred = clf.predict(X_test)\n",
    "\n",
    "print('Accuracy %s' % accuracy_score(y_test, y_pred))\n",
    "print('F1-score %s' % f1_score(y_test, y_pred, average=None))\n",
    "print(classification_report(y_test, y_pred))"
   ]
  },
  {
   "cell_type": "markdown",
   "metadata": {},
   "source": [
    "### GridSearchCV su coef0 e C"
   ]
  },
  {
   "cell_type": "code",
   "execution_count": null,
   "metadata": {},
   "outputs": [],
   "source": [
    "'''\n",
    "param_grid = {\n",
    "    \"coef0\": np.linspace(0,2,num=50),\n",
    "    \"C\": np.linspace(1e-16,1,num=25),\n",
    "}\n",
    "grid = GridSearchCV(\n",
    "    SVC(gamma=\"auto\", kernel=\"poly\", class_weight=\"balanced\", max_iter=-1),\n",
    "    param_grid=param_grid,\n",
    "    scoring=\"accuracy\",\n",
    "    cv=RepeatedStratifiedKFold(random_state=0),\n",
    "    n_jobs=-1,\n",
    ")\n",
    "grid.fit(X_train, y_train)\n",
    "clf = grid.best_estimator_\n",
    "'''\n",
    "# tempo stimato circa 220 minuti"
   ]
  },
  {
   "cell_type": "code",
   "execution_count": null,
   "metadata": {},
   "outputs": [
    {
     "data": {
      "text/plain": [
       "{'C': 1.0, 'coef0': 1.9591836734693877}"
      ]
     },
     "execution_count": 96,
     "metadata": {},
     "output_type": "execute_result"
    }
   ],
   "source": [
    "grid.best_params_"
   ]
  },
  {
   "cell_type": "markdown",
   "metadata": {},
   "source": [
    "coef0=2 risulta il migliore"
   ]
  },
  {
   "cell_type": "code",
   "execution_count": null,
   "metadata": {},
   "outputs": [
    {
     "name": "stdout",
     "output_type": "stream",
     "text": [
      "Accuracy 0.5072933549432739\n",
      "F1-score [0.44871795 0.60273973 0.44680851 0.5        0.57142857 0.58695652\n",
      " 0.36619718 0.48076923]\n",
      "              precision    recall  f1-score   support\n",
      "\n",
      "           0       0.58      0.36      0.45        96\n",
      "           1       0.51      0.74      0.60        89\n",
      "           2       0.46      0.44      0.45        96\n",
      "           3       0.45      0.56      0.50        48\n",
      "           4       0.45      0.79      0.57        48\n",
      "           5       0.61      0.56      0.59        96\n",
      "           6       0.57      0.27      0.37        96\n",
      "           7       0.45      0.52      0.48        48\n",
      "\n",
      "    accuracy                           0.51       617\n",
      "   macro avg       0.51      0.53      0.50       617\n",
      "weighted avg       0.52      0.51      0.50       617\n",
      "\n"
     ]
    }
   ],
   "source": [
    "clf = SVC(C=1, class_weight='balanced', coef0=2, gamma='auto', kernel='poly', degree=2, max_iter=-1)\n",
    "clf.fit(X_train, y_train)\n",
    "\n",
    "y_pred = clf.predict(X_test)\n",
    "\n",
    "print('Accuracy %s' % accuracy_score(y_test, y_pred))\n",
    "print('F1-score %s' % f1_score(y_test, y_pred, average=None))\n",
    "print(classification_report(y_test, y_pred))"
   ]
  },
  {
   "cell_type": "code",
   "execution_count": null,
   "metadata": {},
   "outputs": [
    {
     "name": "stdout",
     "output_type": "stream",
     "text": [
      "Accuracy 0.520259319286872\n",
      "F1-score [0.42384106 0.66666667 0.46560847 0.48214286 0.60294118 0.56830601\n",
      " 0.32857143 0.56896552]\n",
      "              precision    recall  f1-score   support\n",
      "\n",
      "           0       0.58      0.33      0.42        96\n",
      "           1       0.58      0.78      0.67        89\n",
      "           2       0.47      0.46      0.47        96\n",
      "           3       0.42      0.56      0.48        48\n",
      "           4       0.47      0.85      0.60        48\n",
      "           5       0.60      0.54      0.57        96\n",
      "           6       0.52      0.24      0.33        96\n",
      "           7       0.49      0.69      0.57        48\n",
      "\n",
      "    accuracy                           0.52       617\n",
      "   macro avg       0.52      0.56      0.51       617\n",
      "weighted avg       0.53      0.52      0.50       617\n",
      "\n"
     ]
    }
   ],
   "source": [
    "clf = SVC(C=0.5, class_weight='balanced', coef0=2, gamma='auto', kernel='poly', degree=2)\n",
    "clf.fit(X_train, y_train)\n",
    "\n",
    "y_pred = clf.predict(X_test)\n",
    "\n",
    "print('Accuracy %s' % accuracy_score(y_test, y_pred))\n",
    "print('F1-score %s' % f1_score(y_test, y_pred, average=None))\n",
    "print(classification_report(y_test, y_pred))"
   ]
  },
  {
   "cell_type": "code",
   "execution_count": 14,
   "metadata": {},
   "outputs": [
    {
     "name": "stdout",
     "output_type": "stream",
     "text": [
      "Accuracy 0.4343598055105348\n",
      "F1-score [0.24793388 0.61744966 0.4744186  0.52112676 0.43243243 0.45121951\n",
      " 0.11111111 0.48      ]\n",
      "              precision    recall  f1-score   support\n",
      "\n",
      "           0       0.60      0.16      0.25        96\n",
      "           1       0.77      0.52      0.62        89\n",
      "           2       0.43      0.53      0.47        96\n",
      "           3       0.39      0.77      0.52        48\n",
      "           4       0.29      0.83      0.43        48\n",
      "           5       0.54      0.39      0.45        96\n",
      "           6       0.50      0.06      0.11        96\n",
      "           7       0.35      0.75      0.48        48\n",
      "\n",
      "    accuracy                           0.43       617\n",
      "   macro avg       0.48      0.50      0.42       617\n",
      "weighted avg       0.51      0.43      0.40       617\n",
      "\n"
     ]
    }
   ],
   "source": [
    "clf = SVC(C=0.05, class_weight='balanced', coef0=1, gamma='auto', kernel='poly', degree=2, probability = True)\n",
    "clf.fit(X_train, y_train)\n",
    "\n",
    "y_pred = clf.predict(X_test)\n",
    "\n",
    "print('Accuracy %s' % accuracy_score(y_test, y_pred))\n",
    "print('F1-score %s' % f1_score(y_test, y_pred, average=None))\n",
    "print(classification_report(y_test, y_pred))"
   ]
  },
  {
   "cell_type": "code",
   "execution_count": 15,
   "metadata": {},
   "outputs": [],
   "source": [
    "from scikitplot.metrics import plot_roc\n"
   ]
  },
  {
   "cell_type": "code",
   "execution_count": 17,
   "metadata": {},
   "outputs": [
    {
     "data": {
      "image/png": "[encoded data removed]",
      "text/plain": [
       "<Figure size 720x720 with 1 Axes>"
      ]
     },
     "metadata": {
      "needs_background": "light"
     },
     "output_type": "display_data"
    }
   ],
   "source": [
    "y_score = clf.predict_proba(X_test)\n",
    "plot_roc(y_test, y_score, figsize=(10,10), title_fontsize=15, text_fontsize=15)\n",
    "plt.legend([\"AUC of class fearful = 0.77\", \"AUC of class angry = 0.88\", \"AUC of class happy = 0.77\", \"AUC of class surprised = 0.90\", \"AUC of class neutral = 0.88\", \"AUC of class calm = 0.88\", \"AUC of class sad = 0.80\", \"AUC of class disgust = 0.92\", \"micro-avg AUC = 0.85\", \"macro-avg AUC = 0.85\"], fontsize=15)\n",
    "plt.title(\"\")\n",
    "plt.show()"
   ]
  }
 ],
 "metadata": {
  "kernelspec": {
   "display_name": "Python 3 (ipykernel)",
   "language": "python",
   "name": "python3"
  },
  "language_info": {
   "codemirror_mode": {
    "name": "ipython",
    "version": 3
   },
   "file_extension": ".py",
   "mimetype": "text/x-python",
   "name": "python",
   "nbconvert_exporter": "python",
   "pygments_lexer": "ipython3",
   "version": "3.9.12"
  }
 },
 "nbformat": 4,
 "nbformat_minor": 2
}
