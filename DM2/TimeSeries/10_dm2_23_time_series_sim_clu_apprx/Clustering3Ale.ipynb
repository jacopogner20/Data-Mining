{
 "cells": [
  {
   "cell_type": "code",
   "execution_count": 1,
   "metadata": {},
   "outputs": [],
   "source": [
    "import numpy as np\n",
    "import pandas as pd\n",
    "import matplotlib.pyplot as plt\n",
    "#import librosa\n",
    "from IPython.display import Audio \n",
    "from collections import defaultdict\n",
    "from scipy.spatial.distance import cdist\n",
    "from sklearn.metrics import silhouette_score\n",
    "from numba import njit\n",
    "from scipy.spatial.distance import pdist, squareform"
   ]
  },
  {
   "cell_type": "code",
   "execution_count": 2,
   "metadata": {},
   "outputs": [],
   "source": [
    "X_train = np.load(\"RavdessAudioOnlyNumpy__X_train.npy\")\n",
    "X_test = np.load(\"RavdessAudioOnlyNumpy__X_test.npy\")\n",
    "y_train=pd.read_csv(\"RavdessAudioOnlyNumpy__Y_train.csv\")\n",
    "y_test=pd.read_csv(\"RavdessAudioOnlyNumpy__Y_test.csv\")\n",
    "X_train[np.isnan(X_train)] = 0\n",
    "X_test[np.isnan(X_test)] = 0\n",
    "X=np.vstack((X_train,X_test))\n",
    "df=pd.DataFrame(X)\n",
    "\n",
    "X_train_decimated = np.load(\"RavdessAudioOnlyNumpy__X_train_decimated.npy\")\n",
    "X_test_decimated = np.load(\"RavdessAudioOnlyNumpy__X_test_decimated.npy\")\n",
    "X_decimated=np.vstack((X_train_decimated,X_test_decimated))\n",
    "df_decimated=pd.DataFrame(X_decimated)\n",
    "\n",
    "X_train_decimated_scaled = np.load(\"RavdessAudioOnlyNumpy__X_train_decimated_scaled.npy\")\n",
    "X_test_decimated_scaled = np.load(\"RavdessAudioOnlyNumpy__X_test_decimated_scaled.npy\")\n",
    "X_decimated_scaled=np.vstack((X_train_decimated_scaled,X_test_decimated_scaled))\n",
    "df_decimated_scaled=pd.DataFrame(X_decimated_scaled)\n",
    "\n",
    "X_train_decimated_scaled_ft = np.load(\"RavdessAudioOnlyNumpy__X_train_decimated_scaled_ft.npy\")\n",
    "X_test_decimated_scaled_ft = np.load(\"RavdessAudioOnlyNumpy__X_test_decimated_scaled_ft.npy\")\n",
    "X_decimated_scaled_ft=np.vstack((X_train_decimated_scaled_ft,X_test_decimated_scaled_ft))\n",
    "df_decimated_scaled_ft=pd.DataFrame(X_decimated_scaled_ft)\n",
    "\n",
    "X_train_decimated_scaled_max = np.load(\"RavdessAudioOnlyNumpy__X_train_decimated_scaled_max.npy\")\n",
    "X_test_decimated_scaled_max = np.load(\"RavdessAudioOnlyNumpy__X_test_decimated_scaled_max.npy\")\n",
    "X_decimated_scaled_max = np.load(\"RavdessAudioOnlyNumpy__X_decimated_scaled_max.npy\")\n",
    "df_decimated_scaled_max=pd.DataFrame(X_decimated_scaled_max)"
   ]
  },
  {
   "cell_type": "markdown",
   "metadata": {},
   "source": [
    "NOT USE WITH DECIMATED_SCALED_MAX: Clean the dataset (drop all the possible initial and final noise mantaining the same TSs length)"
   ]
  },
  {
   "cell_type": "code",
   "execution_count": 3,
   "metadata": {},
   "outputs": [
    {
     "data": {
      "text/plain": [
       "'\\n#df_decimated_scaled_ft_denoised=df_decimated_scaled_ft[abs(df_decimated_scaled_ft)>0.1]\\n#X_decimated_scaled_ft_denoised=df_decimated_scaled_ft_denoised.values\\n\\nfirsts_notnan, lasts_notnan=[], []\\nfor i in range(len(df_decimated_scaled)):\\n    #firsts_notnan.append((df_decimated_scaled_ft_denoised.iloc[i][np.isfinite(df_decimated_scaled_ft_denoised.iloc[i])]).index[0])\\n    #lasts_notnan.append((df_decimated_scaled_ft_denoised.iloc[i][np.isfinite(df_decimated_scaled_ft_denoised.iloc[i])]).index[-1])\\n    print(i)\\n    firsts_notnan.append(df_decimated_scaled.iloc[i][abs(df_decimated_scaled.iloc[i])>3.7].index[0])\\n    lasts_notnan.append(df_decimated_scaled.iloc[i][abs(df_decimated_scaled.iloc[i])>0.1].index[-1])\\n\\nval_first_notnan=min(firsts_notnan)\\nfirst_notnan=np.argmin(firsts_notnan)\\nval_last_notnan=max(lasts_notnan)\\nlast_notnan=np.argmax(lasts_notnan)\\nprint(first_notnan, last_notnan)\\nprint(val_first_notnan, val_last_notnan)\\n'"
      ]
     },
     "execution_count": 3,
     "metadata": {},
     "output_type": "execute_result"
    }
   ],
   "source": [
    "'''\n",
    "#df_decimated_scaled_ft_denoised=df_decimated_scaled_ft[abs(df_decimated_scaled_ft)>0.1]\n",
    "#X_decimated_scaled_ft_denoised=df_decimated_scaled_ft_denoised.values\n",
    "\n",
    "firsts_notnan, lasts_notnan=[], []\n",
    "for i in range(len(df_decimated_scaled)):\n",
    "    #firsts_notnan.append((df_decimated_scaled_ft_denoised.iloc[i][np.isfinite(df_decimated_scaled_ft_denoised.iloc[i])]).index[0])\n",
    "    #lasts_notnan.append((df_decimated_scaled_ft_denoised.iloc[i][np.isfinite(df_decimated_scaled_ft_denoised.iloc[i])]).index[-1])\n",
    "    print(i)\n",
    "    firsts_notnan.append(df_decimated_scaled.iloc[i][abs(df_decimated_scaled.iloc[i])>3.7].index[0])\n",
    "    lasts_notnan.append(df_decimated_scaled.iloc[i][abs(df_decimated_scaled.iloc[i])>0.1].index[-1])\n",
    "\n",
    "val_first_notnan=min(firsts_notnan)\n",
    "first_notnan=np.argmin(firsts_notnan)\n",
    "val_last_notnan=max(lasts_notnan)\n",
    "last_notnan=np.argmax(lasts_notnan)\n",
    "print(first_notnan, last_notnan)\n",
    "print(val_first_notnan, val_last_notnan)\n",
    "'''"
   ]
  },
  {
   "cell_type": "code",
   "execution_count": 4,
   "metadata": {},
   "outputs": [
    {
     "data": {
      "text/plain": [
       "'\\nthreshold=3.7\\nfirsts_notnan=[]\\nfor i in range(X_decimated_scaled.shape[0]):\\n    for j in range(X_decimated_scaled.shape[1]):\\n        if abs(X_decimated_scaled[i,j])>threshold:\\n            firsts_notnan.append(j)\\n            break\\n            \\ndf_decimated_scaled_clean=df_decimated_scaled.iloc[:,val_first_notnan:val_last_notnan]\\nX_decimated_scaled_clean=df_decimated_scaled_clean.values\\nX_decimated_scaled_clean.shape\\n\\ndf_decimated_scaled.iloc[484].plot()\\ndf_decimated_scaled_clean.iloc[484].plot()\\nplt.show()\\n'"
      ]
     },
     "execution_count": 4,
     "metadata": {},
     "output_type": "execute_result"
    }
   ],
   "source": [
    "'''\n",
    "threshold=3.7\n",
    "firsts_notnan=[]\n",
    "for i in range(X_decimated_scaled.shape[0]):\n",
    "    for j in range(X_decimated_scaled.shape[1]):\n",
    "        if abs(X_decimated_scaled[i,j])>threshold:\n",
    "            firsts_notnan.append(j)\n",
    "            break\n",
    "            \n",
    "df_decimated_scaled_clean=df_decimated_scaled.iloc[:,val_first_notnan:val_last_notnan]\n",
    "X_decimated_scaled_clean=df_decimated_scaled_clean.values\n",
    "X_decimated_scaled_clean.shape\n",
    "\n",
    "df_decimated_scaled.iloc[484].plot()\n",
    "df_decimated_scaled_clean.iloc[484].plot()\n",
    "plt.show()\n",
    "'''"
   ]
  },
  {
   "cell_type": "markdown",
   "metadata": {},
   "source": [
    "## Shape-based Clustering"
   ]
  },
  {
   "cell_type": "markdown",
   "metadata": {},
   "source": [
    "Euclidean"
   ]
  },
  {
   "cell_type": "code",
   "execution_count": 5,
   "metadata": {},
   "outputs": [],
   "source": [
    "from tslearn.clustering import TimeSeriesKMeans"
   ]
  },
  {
   "cell_type": "code",
   "execution_count": 6,
   "metadata": {},
   "outputs": [
    {
     "data": {
      "text/plain": [
       "(2452, 50)"
      ]
     },
     "execution_count": 6,
     "metadata": {},
     "output_type": "execute_result"
    }
   ],
   "source": [
    "X_decimated_scaled_max.shape"
   ]
  },
  {
   "cell_type": "code",
   "execution_count": 7,
   "metadata": {},
   "outputs": [
    {
     "name": "stdout",
     "output_type": "stream",
     "text": [
      "1\n",
      "2\n",
      "3\n",
      "4\n",
      "5\n",
      "6\n",
      "7\n",
      "8\n",
      "9\n",
      "10\n",
      "11\n",
      "12\n",
      "13\n",
      "14\n",
      "15\n",
      "16\n",
      "17\n",
      "18\n",
      "19\n",
      "20\n",
      "21\n",
      "22\n",
      "23\n",
      "24\n",
      "25\n"
     ]
    },
    {
     "data": {
      "image/png": "[encoded data removed]",
      "text/plain": [
       "<Figure size 432x288 with 1 Axes>"
      ]
     },
     "metadata": {
      "needs_background": "light"
     },
     "output_type": "display_data"
    },
    {
     "data": {
      "image/png": "[encoded data removed]",
      "text/plain": [
       "<Figure size 432x288 with 1 Axes>"
      ]
     },
     "metadata": {
      "needs_background": "light"
     },
     "output_type": "display_data"
    }
   ],
   "source": [
    "\n",
    "inertias_eucl=[]\n",
    "for i in range(1,26):\n",
    "    print(i)\n",
    "    kmeans = TimeSeriesKMeans(n_clusters=i, metric=\"euclidean\", max_iter=15, random_state=0)\n",
    "    kmeans.fit(X_decimated_scaled_max)\n",
    "    inertias_eucl.append(kmeans.inertia_)\n",
    "    \n",
    "kmeans_centers= kmeans.cluster_centers_[:,:,0]\n",
    "kmeans_centers[0].T\n",
    "plt.plot(inertias_eucl)\n",
    "plt.show()\n",
    "\n",
    "plt.plot(kmeans_centers[0])\n",
    "plt.plot(kmeans_centers[1])\n",
    "plt.plot(kmeans_centers[2])\n",
    "plt.show()\n"
   ]
  },
  {
   "cell_type": "markdown",
   "metadata": {},
   "source": [
    "DTW"
   ]
  },
  {
   "cell_type": "code",
   "execution_count": 8,
   "metadata": {},
   "outputs": [
    {
     "data": {
      "text/plain": [
       "'\\ninertias_dtw=[]\\nfor i in range(1,26):\\n    print(i)\\n    kmeans = TimeSeriesKMeans(n_clusters=i, metric=\"dtw\", max_iter=5, random_state=0)\\n    kmeans.fit(X_decimated_scaled_max)\\n    inertias_dtw.append(kmeans.inertia_)\\n    \\nkmeans_centers= kmeans.cluster_centers_[:,:,0]\\nkmeans_centers[0].T\\nplt.plot(inertias_dtw)\\nplt.show()\\n\\nplt.plot(kmeans_centers[0])\\nplt.plot(kmeans_centers[1])\\nplt.plot(kmeans_centers[2])\\nplt.show()\\n'"
      ]
     },
     "execution_count": 8,
     "metadata": {},
     "output_type": "execute_result"
    }
   ],
   "source": [
    "'''\n",
    "inertias_dtw=[]\n",
    "for i in range(1,26):\n",
    "    print(i)\n",
    "    kmeans = TimeSeriesKMeans(n_clusters=i, metric=\"dtw\", max_iter=5, random_state=0)\n",
    "    kmeans.fit(X_decimated_scaled_max)\n",
    "    inertias_dtw.append(kmeans.inertia_)\n",
    "    \n",
    "kmeans_centers= kmeans.cluster_centers_[:,:,0]\n",
    "kmeans_centers[0].T\n",
    "plt.plot(inertias_dtw)\n",
    "plt.show()\n",
    "\n",
    "plt.plot(kmeans_centers[0])\n",
    "plt.plot(kmeans_centers[1])\n",
    "plt.plot(kmeans_centers[2])\n",
    "plt.show()\n",
    "'''"
   ]
  },
  {
   "cell_type": "code",
   "execution_count": 9,
   "metadata": {},
   "outputs": [],
   "source": [
    "#np.save(\"inertias_dtw.npy\",inertias_dtw)"
   ]
  },
  {
   "cell_type": "markdown",
   "metadata": {},
   "source": [
    "Sakoe-Chiba Kmeans with DTW"
   ]
  },
  {
   "cell_type": "code",
   "execution_count": 10,
   "metadata": {},
   "outputs": [],
   "source": [
    "from joblib import Parallel, delayed\n",
    "\n",
    "@njit\n",
    "def dtw_distance(x, y, window):\n",
    "    # Calculate the DTW distance between two sequences with Sakoe-Chiba band constraint\n",
    "    x_len, y_len = len(x), len(y)\n",
    "    window = max(window, abs(x_len - y_len))\n",
    "    dtw_matrix = np.zeros((x_len + 1, y_len + 1))\n",
    "    dtw_matrix[0, 1:] = np.inf\n",
    "    dtw_matrix[1:, 0] = np.inf\n",
    "\n",
    "    for i in range(1, x_len + 1):\n",
    "        for j in range(max(1, i - window), min(y_len, i + window) + 1):\n",
    "            cost = abs(x[i - 1] - y[j - 1])\n",
    "            dtw_matrix[i, j] = cost + min(dtw_matrix[i - 1, j], dtw_matrix[i, j - 1], dtw_matrix[i - 1, j - 1])\n",
    "\n",
    "    return dtw_matrix[-1, -1]\n",
    "\n",
    "def calculate_distances(data, centroids, window):\n",
    "    # Calculate distances between samples and centroids\n",
    "    return cdist(data, centroids, metric=lambda x, y: dtw_distance(x, y, window))\n",
    "\n",
    "def kmeans_with_sakoe_chiba(data, k, window, max_iterations):\n",
    "    n_samples = data.shape[0]\n",
    "    centroids = data[np.random.choice(n_samples, k, replace=False)]\n",
    "    iteration = 0\n",
    "\n",
    "    while iteration < max_iterations:\n",
    "        # Calculate distances between samples and centroids\n",
    "        distances = calculate_distances(data, centroids, window)\n",
    "\n",
    "        # Assign labels based on minimum distance\n",
    "        labels = np.argmin(distances, axis=1)\n",
    "\n",
    "        # Update centroids\n",
    "        new_centroids = Parallel(n_jobs=-1)(\n",
    "            delayed(np.mean)(data[labels == i], axis=0) for i in range(k)\n",
    "        )\n",
    "        new_centroids = np.vstack(new_centroids)\n",
    "\n",
    "        # Check for convergence\n",
    "        if np.allclose(centroids, new_centroids):\n",
    "            break\n",
    "\n",
    "        centroids = new_centroids\n",
    "        iteration += 1\n",
    "\n",
    "    # Calculate inertia\n",
    "    inertia = np.sqrt(np.min(distances, axis=1).sum())\n",
    "\n",
    "    return centroids, labels, inertia\n"
   ]
  },
  {
   "cell_type": "code",
   "execution_count": 11,
   "metadata": {},
   "outputs": [
    {
     "data": {
      "text/plain": [
       "'\\ninertias_dtw_sc=[]\\nfor i in range(1,51,5):\\n    _, _, inertia = kmeans_with_sakoe_chiba(X_decimated_scaled_max, k=12, window=i, max_iterations=5)\\n    inertias_dtw_sc.append(inertia)\\n\\nplt.plot(np.arange(1,51,5),inertias_dtw_sc)\\nplt.show()\\n'"
      ]
     },
     "execution_count": 11,
     "metadata": {},
     "output_type": "execute_result"
    }
   ],
   "source": [
    "'''\n",
    "inertias_dtw_sc=[]\n",
    "for i in range(1,51,5):\n",
    "    _, _, inertia = kmeans_with_sakoe_chiba(X_decimated_scaled_max, k=12, window=i, max_iterations=5)\n",
    "    inertias_dtw_sc.append(inertia)\n",
    "\n",
    "plt.plot(np.arange(1,51,5),inertias_dtw_sc)\n",
    "plt.show()\n",
    "'''"
   ]
  },
  {
   "cell_type": "code",
   "execution_count": 12,
   "metadata": {},
   "outputs": [],
   "source": [
    "#np.save(\"inertias_dtw_sc.npy\",inertias_dtw_sc)"
   ]
  },
  {
   "cell_type": "code",
   "execution_count": 24,
   "metadata": {},
   "outputs": [
    {
     "data": {
      "text/plain": [
       "array([335.94187044, 292.86232208, 271.96522767, 257.05596104,\n",
       "       246.13734003, 238.87489782, 225.42045756, 218.22367662,\n",
       "       213.87171698, 210.11042201, 206.81285467, 203.36164709,\n",
       "       196.18017499, 193.65289281, 191.16149712, 187.1041875 ,\n",
       "       185.17970996, 183.61835516, 181.59758711, 180.94310853,\n",
       "       175.97596424, 174.74699315, 172.11384236, 170.95236341,\n",
       "       169.22838176])"
      ]
     },
     "execution_count": 24,
     "metadata": {},
     "output_type": "execute_result"
    }
   ],
   "source": [
    "i=np.load(\"inertias_dtw.npy\")\n",
    "i"
   ]
  },
  {
   "cell_type": "markdown",
   "metadata": {},
   "source": [
    "## DBSCAN"
   ]
  },
  {
   "cell_type": "code",
   "execution_count": 14,
   "metadata": {},
   "outputs": [],
   "source": [
    "from sklearn.cluster import DBSCAN\n",
    "from kneed import KneeLocator"
   ]
  },
  {
   "cell_type": "code",
   "execution_count": 15,
   "metadata": {},
   "outputs": [],
   "source": [
    "# Define a function to compute the DTW distance between two time series subsequences\n",
    "@njit\n",
    "def dtw_distance(x, y):\n",
    "    # Calculate the DTW distance between two sequences\n",
    "    x_len, y_len = len(x), len(y)\n",
    "    dtw_matrix = np.zeros((x_len + 1, y_len + 1))\n",
    "    dtw_matrix[0, 1:] = 0\n",
    "    dtw_matrix[1:, 0] = 0\n",
    "\n",
    "    for i in range(1, x_len + 1):\n",
    "        for j in range(1, y_len + 1):\n",
    "            cost = abs(x[i - 1] - y[j - 1])\n",
    "            dtw_matrix[i, j] = cost + min(dtw_matrix[i - 1, j], dtw_matrix[i, j - 1], dtw_matrix[i - 1, j - 1])\n",
    "\n",
    "    return dtw_matrix[-1, -1]\n",
    "\n",
    "# Compute the pairwise distances between time series subsequences in parallel\n",
    "def distance(subseqs, metric):\n",
    "    if metric == \"euclidean\":\n",
    "        return np.linalg.norm(subseqs[:, None] - subseqs, axis=-1, ord=2)/100\n",
    "    elif metric == \"dtw\":\n",
    "        dist_matrix = np.full((len(subseqs), len(subseqs)), 0)\n",
    "        for i in range(len(subseqs)):\n",
    "            for j in range(i + 1, len(subseqs)):\n",
    "                dist_matrix[i, j] = dtw_distance(subseqs[i], subseqs[j])\n",
    "                dist_matrix[j, i] = dist_matrix[i, j]\n",
    "        return dist_matrix/100\n",
    "\n",
    "def TimeSeriesDBSCAN(data, epsilon, min_samples, metric):\n",
    "    dist_matrix = distance(data, metric)\n",
    "\n",
    "    dbscan = DBSCAN(eps=epsilon, min_samples=min_samples, metric='precomputed')\n",
    "    clusters = dbscan.fit_predict(dist_matrix)\n",
    "    labels = dbscan.labels_\n",
    "    silhouette = silhouette_score(data, labels)\n",
    "\n",
    "    # Print the cluster labels\n",
    "    return labels, clusters, silhouette"
   ]
  },
  {
   "cell_type": "code",
   "execution_count": 16,
   "metadata": {},
   "outputs": [],
   "source": [
    "dist_dtw = distance(X_decimated_scaled_max, 'dtw')\n",
    "dist_eucl = distance(X_decimated_scaled_max, 'euclidean')"
   ]
  },
  {
   "cell_type": "code",
   "execution_count": 17,
   "metadata": {},
   "outputs": [],
   "source": [
    "k=5\n",
    "kth_distances_dtw = []\n",
    "for d in dist_dtw:  # d is a vector containing distances between the ith record and all the others\n",
    "    index_kth_distance = np.argsort(d)[k]  # take the index of the kth nearest neighbor\n",
    "    kth_distances_dtw.append(d[index_kth_distance])  # store the distance in a list\n",
    "\n",
    "kth_distances_eucl = []\n",
    "for d in dist_eucl:  # d is a vector containing distances between the ith record and all the others\n",
    "    index_kth_distance = np.argsort(d)[k]  # take the index of the kth nearest neighbor\n",
    "    kth_distances_eucl.append(d[index_kth_distance])  # store the distance in a list"
   ]
  },
  {
   "cell_type": "code",
   "execution_count": 18,
   "metadata": {},
   "outputs": [
    {
     "data": {
      "image/png": "[encoded data removed]",
      "text/plain": [
       "<Figure size 432x288 with 1 Axes>"
      ]
     },
     "metadata": {
      "needs_background": "light"
     },
     "output_type": "display_data"
    },
    {
     "data": {
      "image/png": "[encoded data removed]",
      "text/plain": [
       "<Figure size 432x288 with 1 Axes>"
      ]
     },
     "metadata": {
      "needs_background": "light"
     },
     "output_type": "display_data"
    }
   ],
   "source": [
    "plt.plot(range(0, len(kth_distances_dtw)), sorted(kth_distances_dtw))\n",
    "plt.ylabel('distance from the {}th neighbor'.format(k))\n",
    "plt.show()\n",
    "\n",
    "plt.plot(range(0, len(kth_distances_eucl)), sorted(kth_distances_eucl))\n",
    "plt.ylabel('distance from the {}th neighbor'.format(k))\n",
    "plt.show()"
   ]
  },
  {
   "cell_type": "code",
   "execution_count": 19,
   "metadata": {},
   "outputs": [],
   "source": [
    "#dtw\n",
    "labels, clusters, silhouette = TimeSeriesDBSCAN(data=X_decimated_scaled_max, epsilon=0.8, min_samples=k, metric=\"dtw\")"
   ]
  },
  {
   "cell_type": "code",
   "execution_count": 20,
   "metadata": {},
   "outputs": [
    {
     "data": {
      "text/plain": [
       "((array([-1,  0]), array([  21, 2431])),\n",
       " array([0, 0, 0, ..., 0, 0, 0]),\n",
       " 0.345603435878155)"
      ]
     },
     "execution_count": 20,
     "metadata": {},
     "output_type": "execute_result"
    }
   ],
   "source": [
    "np.unique(labels, return_counts=True), clusters, silhouette"
   ]
  },
  {
   "cell_type": "code",
   "execution_count": 21,
   "metadata": {},
   "outputs": [],
   "source": [
    "#euclidean\n",
    "labels, clusters, silhouette = TimeSeriesDBSCAN(data=X_decimated_scaled_max, epsilon=0.25, min_samples=k, metric=\"euclidean\")"
   ]
  },
  {
   "cell_type": "code",
   "execution_count": 23,
   "metadata": {},
   "outputs": [
    {
     "data": {
      "text/plain": [
       "((array([-1,  0]), array([  86, 2366])),\n",
       " array([0, 0, 0, ..., 0, 0, 0]),\n",
       " 0.28779092439537174)"
      ]
     },
     "execution_count": 23,
     "metadata": {},
     "output_type": "execute_result"
    }
   ],
   "source": [
    "np.unique(labels, return_counts=True), clusters, silhouette"
   ]
  }
 ],
 "metadata": {
  "kernelspec": {
   "display_name": "Python 3 (ipykernel)",
   "language": "python",
   "name": "python3"
  },
  "language_info": {
   "codemirror_mode": {
    "name": "ipython",
    "version": 3
   },
   "file_extension": ".py",
   "mimetype": "text/x-python",
   "name": "python",
   "nbconvert_exporter": "python",
   "pygments_lexer": "ipython3",
   "version": "3.9.12"
  }
 },
 "nbformat": 4,
 "nbformat_minor": 2
}
