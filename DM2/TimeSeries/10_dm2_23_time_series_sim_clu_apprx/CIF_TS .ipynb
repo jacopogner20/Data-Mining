{
 "cells": [
  {
   "cell_type": "code",
   "execution_count": 1,
   "id": "5bf47c7b",
   "metadata": {},
   "outputs": [
    {
     "name": "stdout",
     "output_type": "stream",
     "text": [
      "Accuracy: 0.45\n"
     ]
    }
   ],
   "source": [
    "import numpy as np\n",
    "from sklearn.svm import SVC\n",
    "from sklearn.model_selection import train_test_split\n",
    "from sklearn.metrics import accuracy_score\n",
    "\n",
    "# Genera un esempio di serie temporali di input\n",
    "X = np.random.rand(100, 10)  # 100 esempi di serie temporali con 10 punti ciascuno\n",
    "\n",
    "# Genera le etichette di classe per l'input\n",
    "y = np.random.randint(0, 2, 100)  # 100 etichette binarie\n",
    "\n",
    "# Suddivide i dati in set di addestramento e test\n",
    "X_train, X_test, y_train, y_test = train_test_split(X, y, test_size=0.2)\n",
    "\n",
    "# Crea un classificatore SVM\n",
    "clf = SVC()\n",
    "\n",
    "# Addestra il classificatore SVM\n",
    "clf.fit(X_train, y_train)\n",
    "\n",
    "# Effettua la previsione sul set di test\n",
    "y_pred = clf.predict(X_test)\n",
    "\n",
    "# Calcola l'accuratezza della classificazione\n",
    "accuracy = accuracy_score(y_test, y_pred)\n",
    "print(\"Accuracy:\", accuracy)\n"
   ]
  },
  {
   "cell_type": "code",
   "execution_count": 2,
   "id": "2485a5c0",
   "metadata": {},
   "outputs": [
    {
     "data": {
      "text/plain": [
       "20"
      ]
     },
     "execution_count": 2,
     "metadata": {},
     "output_type": "execute_result"
    }
   ],
   "source": [
    "len(X_test)"
   ]
  },
  {
   "cell_type": "markdown",
   "id": "6373d892",
   "metadata": {},
   "source": [
    "In questo esempio, generiamo un set di dati di input X che consiste in 100 serie temporali di lunghezza 10. Generiamo anche le etichette di classe y, che sono 100 valori binari (0 o 1) corrispondenti alle serie temporali. Successivamente, suddividiamo i dati in set di addestramento e test utilizzando train_test_split dalla libreria scikit-learn.\n",
    "\n",
    "Poi creiamo un classificatore SVM utilizzando SVC e addestriamo il modello sul set di addestramento con il metodo fit. Infine, facciamo previsioni sul set di test con il metodo predict e calcoliamo l'accuratezza della classificazione utilizzando accuracy_score.\n",
    "\n",
    "Ricorda che questo è solo un esempio di come utilizzare un classificatore SVM per la classificazione di serie temporali. A seconda del tuo specifico problema e dei dati, potresti dover utilizzare altre tecniche di pre-elaborazione dei dati o diversi algoritmi di apprendimento automatico per ottenere risultati ottimali.\n"
   ]
  },
  {
   "cell_type": "markdown",
   "id": "a1c722b7",
   "metadata": {},
   "source": [
    "# prova classification"
   ]
  },
  {
   "cell_type": "code",
   "execution_count": 3,
   "id": "75c21b34",
   "metadata": {},
   "outputs": [],
   "source": [
    "import numpy as np\n",
    "import pandas as pd\n",
    "import matplotlib.pyplot as plt\n",
    "#import librosa\n",
    "from IPython.display import Audio \n",
    "from collections import defaultdict\n",
    "from scipy.spatial.distance import cdist\n",
    "import seaborn as sns\n",
    "from sklearn.metrics import (\n",
    "    accuracy_score,\n",
    "    f1_score,\n",
    "    classification_report,\n",
    "    confusion_matrix,\n",
    "    roc_auc_score,\n",
    ")"
   ]
  },
  {
   "cell_type": "code",
   "execution_count": 4,
   "id": "66fe522b",
   "metadata": {},
   "outputs": [],
   "source": [
    "from sklearn.model_selection import train_test_split, cross_val_score \n",
    "\n",
    "from sklearn.metrics import accuracy_score, f1_score, classification_report\n",
    "from sklearn.metrics import roc_curve, auc, roc_auc_score"
   ]
  },
  {
   "cell_type": "code",
   "execution_count": 5,
   "id": "52df158b",
   "metadata": {},
   "outputs": [],
   "source": [
    "from sklearn.tree import DecisionTreeClassifier"
   ]
  },
  {
   "cell_type": "code",
   "execution_count": 6,
   "id": "a0b4fc3e",
   "metadata": {},
   "outputs": [],
   "source": [
    "X_train = np.load(\"RavdessAudioOnlyNumpy__X_train.npy\")\n",
    "X_test = np.load(\"RavdessAudioOnlyNumpy__X_test.npy\")\n",
    "y_train=pd.read_csv(\"RavdessAudioOnlyNumpy__Y_train.csv\")\n",
    "y_test=pd.read_csv(\"RavdessAudioOnlyNumpy__Y_test.csv\")\n",
    "X_train[np.isnan(X_train)] = 0\n",
    "X_test[np.isnan(X_test)] = 0\n",
    "X=np.vstack((X_train,X_test))\n",
    "df=pd.DataFrame(X)\n",
    "\n",
    "X_train_decimated = np.load(\"RavdessAudioOnlyNumpy__X_train_decimated.npy\")\n",
    "X_test_decimated = np.load(\"RavdessAudioOnlyNumpy__X_test_decimated.npy\")\n",
    "X_decimated=np.vstack((X_train_decimated,X_test_decimated))\n",
    "df_decimated=pd.DataFrame(X_decimated)\n",
    "\n",
    "X_train_decimated_scaled = np.load(\"RavdessAudioOnlyNumpy__X_train_decimated_scaled.npy\")\n",
    "X_test_decimated_scaled = np.load(\"RavdessAudioOnlyNumpy__X_test_decimated_scaled.npy\")\n",
    "X_decimated_scaled=np.vstack((X_train_decimated_scaled,X_test_decimated_scaled))\n",
    "df_decimated_scaled=pd.DataFrame(X_decimated_scaled)\n",
    "\n",
    "X_train_decimated_scaled_ft = np.load(\"RavdessAudioOnlyNumpy__X_train_decimated_scaled_ft.npy\")\n",
    "X_test_decimated_scaled_ft = np.load(\"RavdessAudioOnlyNumpy__X_test_decimated_scaled_ft.npy\")\n",
    "X_decimated_scaled_ft=np.vstack((X_train_decimated_scaled_ft,X_test_decimated_scaled_ft))\n",
    "df_decimated_scaled_ft=pd.DataFrame(X_decimated_scaled_ft)\n",
    "\n",
    "X_train_decimated_scaled_max = np.load(\"RavdessAudioOnlyNumpy__X_train_decimated_scaled_max.npy\")\n",
    "X_test_decimated_scaled_max = np.load(\"RavdessAudioOnlyNumpy__X_test_decimated_scaled_max.npy\")\n",
    "X_decimated_scaled_max = np.load(\"RavdessAudioOnlyNumpy__X_decimated_scaled_max.npy\")\n",
    "df_decimated_scaled_max=pd.DataFrame(X_decimated_scaled_max)"
   ]
  },
  {
   "cell_type": "code",
   "execution_count": 7,
   "id": "e2657b66",
   "metadata": {},
   "outputs": [],
   "source": [
    "y_train_em = y_train.emotion.values\n",
    "y_test_em = y_test.emotion.values"
   ]
  },
  {
   "cell_type": "code",
   "execution_count": 8,
   "id": "cfc9d2ce",
   "metadata": {},
   "outputs": [
    {
     "data": {
      "text/plain": [
       "(1828, 50)"
      ]
     },
     "execution_count": 8,
     "metadata": {},
     "output_type": "execute_result"
    }
   ],
   "source": [
    "X_train_decimated_scaled_max.shape"
   ]
  },
  {
   "cell_type": "code",
   "execution_count": 9,
   "id": "a8176b00",
   "metadata": {},
   "outputs": [],
   "source": [
    "from tslearn.neighbors import KNeighborsTimeSeriesClassifier"
   ]
  },
  {
   "cell_type": "code",
   "execution_count": 10,
   "id": "f62915bb",
   "metadata": {},
   "outputs": [],
   "source": [
    "accuracy_sc = []\n",
    "f1_sc = []\n",
    "for i in range(1, 40):\n",
    "    clf = KNeighborsTimeSeriesClassifier(n_neighbors=i, weights='uniform', metric='euclidean')\n",
    "    clf.fit(X_train_decimated_scaled_max, y_train_em)\n",
    "\n",
    "    y_pred = clf.predict(X_test_decimated_scaled_max)\n",
    "    accuracy_sc.append(accuracy_score(y_test_em, y_pred))\n",
    "    f1_sc.append(f1_score(y_test_em, y_pred, average=None))\n",
    "                 \n",
    "\n",
    "#print('Accuracy %s' % accuracy_score(y_test_em, y_pred))\n",
    "#print('F1-score %s' % f1_score(y_test_em, y_pred, average=None))\n",
    "#print(classification_report(y_test_em, y_pred))\n"
   ]
  },
  {
   "cell_type": "code",
   "execution_count": 11,
   "id": "63d3b951",
   "metadata": {},
   "outputs": [
    {
     "data": {
      "text/plain": [
       "<function matplotlib.pyplot.show(close=None, block=None)>"
      ]
     },
     "execution_count": 11,
     "metadata": {},
     "output_type": "execute_result"
    },
    {
     "data": {
      "image/png": "[encoded data removed]",
      "text/plain": [
       "<Figure size 432x288 with 1 Axes>"
      ]
     },
     "metadata": {
      "needs_background": "light"
     },
     "output_type": "display_data"
    }
   ],
   "source": [
    "plt.plot(accuracy_sc)\n",
    "plt.show"
   ]
  },
  {
   "cell_type": "code",
   "execution_count": 12,
   "id": "3c9cc578",
   "metadata": {},
   "outputs": [
    {
     "name": "stdout",
     "output_type": "stream",
     "text": [
      "Accuracy 0.2692307692307692\n",
      "F1-score [0.35185185 0.41984733 0.14705882 0.2        0.28070175 0.1981982\n",
      " 0.16393443 0.08955224]\n",
      "              precision    recall  f1-score   support\n",
      "\n",
      "       angry       0.32      0.40      0.35        96\n",
      "        calm       0.33      0.57      0.42        96\n",
      "     disgust       0.25      0.10      0.15        48\n",
      "     fearful       0.23      0.18      0.20        96\n",
      "       happy       0.32      0.25      0.28        96\n",
      "     neutral       0.17      0.23      0.20        48\n",
      "         sad       0.17      0.16      0.16        96\n",
      "   surprised       0.16      0.06      0.09        48\n",
      "\n",
      "    accuracy                           0.27       624\n",
      "   macro avg       0.24      0.24      0.23       624\n",
      "weighted avg       0.26      0.27      0.25       624\n",
      "\n"
     ]
    }
   ],
   "source": [
    "clf = KNeighborsTimeSeriesClassifier(n_neighbors=8, weights='uniform', metric='euclidean')\n",
    "clf.fit(X_train_decimated_scaled_max, y_train_em)\n",
    "\n",
    "y_pred = clf.predict(X_test_decimated_scaled_max)\n",
    "\n",
    "print('Accuracy %s' % accuracy_score(y_test_em, y_pred))\n",
    "print('F1-score %s' % f1_score(y_test_em, y_pred, average=None))\n",
    "print(classification_report(y_test_em, y_pred))"
   ]
  },
  {
   "cell_type": "code",
   "execution_count": 13,
   "id": "e37f3ed4",
   "metadata": {},
   "outputs": [
    {
     "data": {
      "text/plain": [
       "'\\nplt.figure(figsize=(15,15))\\ncf = confusion_matrix(y_test_em, y_pred)\\nsns.heatmap(cf, annot=True, cmap=\"Greens\")\\nplt.xlabel(\"True\")\\nplt.ylabel(\"Predicted\")\\nplt.show()\\n'"
      ]
     },
     "execution_count": 13,
     "metadata": {},
     "output_type": "execute_result"
    }
   ],
   "source": [
    "'''\n",
    "plt.figure(figsize=(15,15))\n",
    "cf = confusion_matrix(y_test_em, y_pred)\n",
    "sns.heatmap(cf, annot=True, cmap=\"Greens\")\n",
    "plt.xlabel(\"True\")\n",
    "plt.ylabel(\"Predicted\")\n",
    "plt.show()\n",
    "'''"
   ]
  },
  {
   "cell_type": "code",
   "execution_count": 14,
   "id": "6158236f",
   "metadata": {},
   "outputs": [
    {
     "data": {
      "text/plain": [
       "'\\ny_score = clf.predict_proba(X_test)\\nplot_roc(y_test, y_score, figsize=(10,10), title_fontsize=15, text_fontsize=15)\\nplt.title(\"\")\\nplt.show()\\n'"
      ]
     },
     "execution_count": 14,
     "metadata": {},
     "output_type": "execute_result"
    }
   ],
   "source": [
    "'''\n",
    "y_score = clf.predict_proba(X_test)\n",
    "plot_roc(y_test, y_score, figsize=(10,10), title_fontsize=15, text_fontsize=15)\n",
    "plt.title(\"\")\n",
    "plt.show()\n",
    "'''"
   ]
  },
  {
   "cell_type": "code",
   "execution_count": 15,
   "id": "85b95e64",
   "metadata": {},
   "outputs": [
    {
     "name": "stdout",
     "output_type": "stream",
     "text": [
      "[0.20673076923076922, 0.23076923076923078, 0.22756410256410256, 0.23397435897435898, 0.2548076923076923, 0.2548076923076923, 0.2564102564102564, 0.2692307692307692, 0.2644230769230769, 0.25961538461538464]\n"
     ]
    }
   ],
   "source": [
    "print(accuracy_sc[:10])"
   ]
  },
  {
   "cell_type": "code",
   "execution_count": 16,
   "id": "7a5d0844",
   "metadata": {},
   "outputs": [
    {
     "data": {
      "text/plain": [
       "<function matplotlib.pyplot.show(close=None, block=None)>"
      ]
     },
     "execution_count": 16,
     "metadata": {},
     "output_type": "execute_result"
    },
    {
     "data": {
      "image/png": "[encoded data removed]",
      "text/plain": [
       "<Figure size 432x288 with 1 Axes>"
      ]
     },
     "metadata": {
      "needs_background": "light"
     },
     "output_type": "display_data"
    }
   ],
   "source": [
    "plt.plot(f1_sc)\n",
    "plt.show"
   ]
  },
  {
   "cell_type": "code",
   "execution_count": 17,
   "id": "5fd43484",
   "metadata": {},
   "outputs": [
    {
     "ename": "KeyboardInterrupt",
     "evalue": "",
     "output_type": "error",
     "traceback": [
      "\u001b[0;31m---------------------------------------------------------------------------\u001b[0m",
      "\u001b[0;31mKeyboardInterrupt\u001b[0m                         Traceback (most recent call last)",
      "Input \u001b[0;32mIn [17]\u001b[0m, in \u001b[0;36m<cell line: 3>\u001b[0;34m()\u001b[0m\n\u001b[1;32m      4\u001b[0m clf \u001b[38;5;241m=\u001b[39m KNeighborsTimeSeriesClassifier(n_neighbors\u001b[38;5;241m=\u001b[39mi, weights\u001b[38;5;241m=\u001b[39m\u001b[38;5;124m'\u001b[39m\u001b[38;5;124muniform\u001b[39m\u001b[38;5;124m'\u001b[39m, metric\u001b[38;5;241m=\u001b[39m\u001b[38;5;124m'\u001b[39m\u001b[38;5;124mdtw\u001b[39m\u001b[38;5;124m'\u001b[39m)\n\u001b[1;32m      5\u001b[0m clf\u001b[38;5;241m.\u001b[39mfit(X_train_decimated_scaled_max, y_train_em)\n\u001b[0;32m----> 7\u001b[0m y_pred \u001b[38;5;241m=\u001b[39m \u001b[43mclf\u001b[49m\u001b[38;5;241;43m.\u001b[39;49m\u001b[43mpredict\u001b[49m\u001b[43m(\u001b[49m\u001b[43mX_test_decimated_scaled_max\u001b[49m\u001b[43m)\u001b[49m\n\u001b[1;32m      8\u001b[0m accuracy_sc_dtw\u001b[38;5;241m.\u001b[39mappend(accuracy_score(y_test_em, y_pred))\n\u001b[1;32m      9\u001b[0m f1_sc_dtw\u001b[38;5;241m.\u001b[39mappend(f1_score(y_test_em, y_pred, average\u001b[38;5;241m=\u001b[39m\u001b[38;5;28;01mNone\u001b[39;00m))\n",
      "File \u001b[0;32m~/opt/anaconda3/lib/python3.9/site-packages/tslearn/neighbors/neighbors.py:520\u001b[0m, in \u001b[0;36mKNeighborsTimeSeriesClassifier.predict\u001b[0;34m(self, X)\u001b[0m\n\u001b[1;32m    517\u001b[0m X \u001b[38;5;241m=\u001b[39m to_time_series_dataset(X)\n\u001b[1;32m    518\u001b[0m X \u001b[38;5;241m=\u001b[39m check_dims(X, X_fit_dims\u001b[38;5;241m=\u001b[39m\u001b[38;5;28mself\u001b[39m\u001b[38;5;241m.\u001b[39m_ts_fit\u001b[38;5;241m.\u001b[39mshape, extend\u001b[38;5;241m=\u001b[39m\u001b[38;5;28;01mTrue\u001b[39;00m,\n\u001b[1;32m    519\u001b[0m                check_n_features_only\u001b[38;5;241m=\u001b[39m\u001b[38;5;28;01mTrue\u001b[39;00m)\n\u001b[0;32m--> 520\u001b[0m X_ \u001b[38;5;241m=\u001b[39m \u001b[38;5;28;43mself\u001b[39;49m\u001b[38;5;241;43m.\u001b[39;49m\u001b[43m_precompute_cross_dist\u001b[49m\u001b[43m(\u001b[49m\u001b[43mX\u001b[49m\u001b[43m)\u001b[49m\n\u001b[1;32m    521\u001b[0m pred \u001b[38;5;241m=\u001b[39m \u001b[38;5;28msuper\u001b[39m()\u001b[38;5;241m.\u001b[39mpredict(X_)\n\u001b[1;32m    522\u001b[0m \u001b[38;5;28mself\u001b[39m\u001b[38;5;241m.\u001b[39mmetric \u001b[38;5;241m=\u001b[39m \u001b[38;5;28mself\u001b[39m\u001b[38;5;241m.\u001b[39m_ts_metric\n",
      "File \u001b[0;32m~/opt/anaconda3/lib/python3.9/site-packages/tslearn/neighbors/neighbors.py:64\u001b[0m, in \u001b[0;36mKNeighborsTimeSeriesMixin._precompute_cross_dist\u001b[0;34m(self, X, other_X)\u001b[0m\n\u001b[1;32m     61\u001b[0m X \u001b[38;5;241m=\u001b[39m to_time_series_dataset(X)\n\u001b[1;32m     63\u001b[0m \u001b[38;5;28;01mif\u001b[39;00m \u001b[38;5;28mself\u001b[39m\u001b[38;5;241m.\u001b[39m_ts_metric \u001b[38;5;241m==\u001b[39m \u001b[38;5;124m\"\u001b[39m\u001b[38;5;124mdtw\u001b[39m\u001b[38;5;124m\"\u001b[39m:\n\u001b[0;32m---> 64\u001b[0m     X_ \u001b[38;5;241m=\u001b[39m \u001b[43mcdist_dtw\u001b[49m\u001b[43m(\u001b[49m\u001b[43mX\u001b[49m\u001b[43m,\u001b[49m\u001b[43m \u001b[49m\u001b[43mother_X\u001b[49m\u001b[43m,\u001b[49m\u001b[43m \u001b[49m\u001b[43mn_jobs\u001b[49m\u001b[38;5;241;43m=\u001b[39;49m\u001b[38;5;28;43mself\u001b[39;49m\u001b[38;5;241;43m.\u001b[39;49m\u001b[43mn_jobs\u001b[49m\u001b[43m,\u001b[49m\n\u001b[1;32m     65\u001b[0m \u001b[43m                   \u001b[49m\u001b[38;5;241;43m*\u001b[39;49m\u001b[38;5;241;43m*\u001b[39;49m\u001b[43mmetric_params\u001b[49m\u001b[43m)\u001b[49m\n\u001b[1;32m     66\u001b[0m \u001b[38;5;28;01melif\u001b[39;00m \u001b[38;5;28mself\u001b[39m\u001b[38;5;241m.\u001b[39m_ts_metric \u001b[38;5;241m==\u001b[39m \u001b[38;5;124m\"\u001b[39m\u001b[38;5;124mctw\u001b[39m\u001b[38;5;124m\"\u001b[39m:\n\u001b[1;32m     67\u001b[0m     X_ \u001b[38;5;241m=\u001b[39m cdist_ctw(X, other_X, \u001b[38;5;241m*\u001b[39m\u001b[38;5;241m*\u001b[39mmetric_params)\n",
      "File \u001b[0;32m~/opt/anaconda3/lib/python3.9/site-packages/tslearn/metrics/dtw_variants.py:1235\u001b[0m, in \u001b[0;36mcdist_dtw\u001b[0;34m(dataset1, dataset2, global_constraint, sakoe_chiba_radius, itakura_max_slope, n_jobs, verbose)\u001b[0m\n\u001b[1;32m   1144\u001b[0m \u001b[38;5;28;01mdef\u001b[39;00m \u001b[38;5;21mcdist_dtw\u001b[39m(dataset1, dataset2\u001b[38;5;241m=\u001b[39m\u001b[38;5;28;01mNone\u001b[39;00m, global_constraint\u001b[38;5;241m=\u001b[39m\u001b[38;5;28;01mNone\u001b[39;00m,\n\u001b[1;32m   1145\u001b[0m               sakoe_chiba_radius\u001b[38;5;241m=\u001b[39m\u001b[38;5;28;01mNone\u001b[39;00m, itakura_max_slope\u001b[38;5;241m=\u001b[39m\u001b[38;5;28;01mNone\u001b[39;00m, n_jobs\u001b[38;5;241m=\u001b[39m\u001b[38;5;28;01mNone\u001b[39;00m,\n\u001b[1;32m   1146\u001b[0m               verbose\u001b[38;5;241m=\u001b[39m\u001b[38;5;241m0\u001b[39m):\n\u001b[1;32m   1147\u001b[0m     \u001b[38;5;124mr\u001b[39m\u001b[38;5;124;03m\"\"\"Compute cross-similarity matrix using Dynamic Time Warping (DTW)\u001b[39;00m\n\u001b[1;32m   1148\u001b[0m \u001b[38;5;124;03m    similarity measure.\u001b[39;00m\n\u001b[1;32m   1149\u001b[0m \n\u001b[0;32m   (...)\u001b[0m\n\u001b[1;32m   1233\u001b[0m \u001b[38;5;124;03m           Signal Processing, vol. 26(1), pp. 43--49, 1978.\u001b[39;00m\n\u001b[1;32m   1234\u001b[0m \u001b[38;5;124;03m    \"\"\"\u001b[39;00m  \u001b[38;5;66;03m# noqa: E501\u001b[39;00m\n\u001b[0;32m-> 1235\u001b[0m     \u001b[38;5;28;01mreturn\u001b[39;00m \u001b[43m_cdist_generic\u001b[49m\u001b[43m(\u001b[49m\u001b[43mdist_fun\u001b[49m\u001b[38;5;241;43m=\u001b[39;49m\u001b[43mdtw\u001b[49m\u001b[43m,\u001b[49m\u001b[43m \u001b[49m\u001b[43mdataset1\u001b[49m\u001b[38;5;241;43m=\u001b[39;49m\u001b[43mdataset1\u001b[49m\u001b[43m,\u001b[49m\u001b[43m \u001b[49m\u001b[43mdataset2\u001b[49m\u001b[38;5;241;43m=\u001b[39;49m\u001b[43mdataset2\u001b[49m\u001b[43m,\u001b[49m\n\u001b[1;32m   1236\u001b[0m \u001b[43m                          \u001b[49m\u001b[43mn_jobs\u001b[49m\u001b[38;5;241;43m=\u001b[39;49m\u001b[43mn_jobs\u001b[49m\u001b[43m,\u001b[49m\u001b[43m \u001b[49m\u001b[43mverbose\u001b[49m\u001b[38;5;241;43m=\u001b[39;49m\u001b[43mverbose\u001b[49m\u001b[43m,\u001b[49m\n\u001b[1;32m   1237\u001b[0m \u001b[43m                          \u001b[49m\u001b[43mcompute_diagonal\u001b[49m\u001b[38;5;241;43m=\u001b[39;49m\u001b[38;5;28;43;01mFalse\u001b[39;49;00m\u001b[43m,\u001b[49m\n\u001b[1;32m   1238\u001b[0m \u001b[43m                          \u001b[49m\u001b[43mglobal_constraint\u001b[49m\u001b[38;5;241;43m=\u001b[39;49m\u001b[43mglobal_constraint\u001b[49m\u001b[43m,\u001b[49m\n\u001b[1;32m   1239\u001b[0m \u001b[43m                          \u001b[49m\u001b[43msakoe_chiba_radius\u001b[49m\u001b[38;5;241;43m=\u001b[39;49m\u001b[43msakoe_chiba_radius\u001b[49m\u001b[43m,\u001b[49m\n\u001b[1;32m   1240\u001b[0m \u001b[43m                          \u001b[49m\u001b[43mitakura_max_slope\u001b[49m\u001b[38;5;241;43m=\u001b[39;49m\u001b[43mitakura_max_slope\u001b[49m\u001b[43m)\u001b[49m\n",
      "File \u001b[0;32m~/opt/anaconda3/lib/python3.9/site-packages/tslearn/metrics/utils.py:78\u001b[0m, in \u001b[0;36m_cdist_generic\u001b[0;34m(dist_fun, dataset1, dataset2, n_jobs, verbose, compute_diagonal, dtype, *args, **kwargs)\u001b[0m\n\u001b[1;32m     76\u001b[0m \u001b[38;5;28;01melse\u001b[39;00m:\n\u001b[1;32m     77\u001b[0m     dataset2 \u001b[38;5;241m=\u001b[39m to_time_series_dataset(dataset2, dtype\u001b[38;5;241m=\u001b[39mdtype)\n\u001b[0;32m---> 78\u001b[0m     matrix \u001b[38;5;241m=\u001b[39m \u001b[43mParallel\u001b[49m\u001b[43m(\u001b[49m\u001b[43mn_jobs\u001b[49m\u001b[38;5;241;43m=\u001b[39;49m\u001b[43mn_jobs\u001b[49m\u001b[43m,\u001b[49m\u001b[43m \u001b[49m\u001b[43mprefer\u001b[49m\u001b[38;5;241;43m=\u001b[39;49m\u001b[38;5;124;43m\"\u001b[39;49m\u001b[38;5;124;43mthreads\u001b[39;49m\u001b[38;5;124;43m\"\u001b[39;49m\u001b[43m,\u001b[49m\u001b[43m \u001b[49m\u001b[43mverbose\u001b[49m\u001b[38;5;241;43m=\u001b[39;49m\u001b[43mverbose\u001b[49m\u001b[43m)\u001b[49m\u001b[43m(\u001b[49m\n\u001b[1;32m     79\u001b[0m \u001b[43m        \u001b[49m\u001b[43mdelayed\u001b[49m\u001b[43m(\u001b[49m\u001b[43mdist_fun\u001b[49m\u001b[43m)\u001b[49m\u001b[43m(\u001b[49m\n\u001b[1;32m     80\u001b[0m \u001b[43m            \u001b[49m\u001b[43mdataset1\u001b[49m\u001b[43m[\u001b[49m\u001b[43mi\u001b[49m\u001b[43m]\u001b[49m\u001b[43m,\u001b[49m\u001b[43m \u001b[49m\u001b[43mdataset2\u001b[49m\u001b[43m[\u001b[49m\u001b[43mj\u001b[49m\u001b[43m]\u001b[49m\u001b[43m,\u001b[49m\n\u001b[1;32m     81\u001b[0m \u001b[43m            \u001b[49m\u001b[38;5;241;43m*\u001b[39;49m\u001b[43margs\u001b[49m\u001b[43m,\u001b[49m\u001b[43m \u001b[49m\u001b[38;5;241;43m*\u001b[39;49m\u001b[38;5;241;43m*\u001b[39;49m\u001b[43mkwargs\u001b[49m\n\u001b[1;32m     82\u001b[0m \u001b[43m        \u001b[49m\u001b[43m)\u001b[49m\n\u001b[1;32m     83\u001b[0m \u001b[43m        \u001b[49m\u001b[38;5;28;43;01mfor\u001b[39;49;00m\u001b[43m \u001b[49m\u001b[43mi\u001b[49m\u001b[43m \u001b[49m\u001b[38;5;129;43;01min\u001b[39;49;00m\u001b[43m \u001b[49m\u001b[38;5;28;43mrange\u001b[39;49m\u001b[43m(\u001b[49m\u001b[38;5;28;43mlen\u001b[39;49m\u001b[43m(\u001b[49m\u001b[43mdataset1\u001b[49m\u001b[43m)\u001b[49m\u001b[43m)\u001b[49m\u001b[43m \u001b[49m\u001b[38;5;28;43;01mfor\u001b[39;49;00m\u001b[43m \u001b[49m\u001b[43mj\u001b[49m\u001b[43m \u001b[49m\u001b[38;5;129;43;01min\u001b[39;49;00m\u001b[43m \u001b[49m\u001b[38;5;28;43mrange\u001b[39;49m\u001b[43m(\u001b[49m\u001b[38;5;28;43mlen\u001b[39;49m\u001b[43m(\u001b[49m\u001b[43mdataset2\u001b[49m\u001b[43m)\u001b[49m\u001b[43m)\u001b[49m\n\u001b[1;32m     84\u001b[0m \u001b[43m    \u001b[49m\u001b[43m)\u001b[49m\n\u001b[1;32m     85\u001b[0m     \u001b[38;5;28;01mreturn\u001b[39;00m numpy\u001b[38;5;241m.\u001b[39marray(matrix)\u001b[38;5;241m.\u001b[39mreshape((\u001b[38;5;28mlen\u001b[39m(dataset1), \u001b[38;5;241m-\u001b[39m\u001b[38;5;241m1\u001b[39m))\n",
      "File \u001b[0;32m~/opt/anaconda3/lib/python3.9/site-packages/joblib/parallel.py:1098\u001b[0m, in \u001b[0;36mParallel.__call__\u001b[0;34m(self, iterable)\u001b[0m\n\u001b[1;32m   1095\u001b[0m     \u001b[38;5;28mself\u001b[39m\u001b[38;5;241m.\u001b[39m_iterating \u001b[38;5;241m=\u001b[39m \u001b[38;5;28;01mFalse\u001b[39;00m\n\u001b[1;32m   1097\u001b[0m \u001b[38;5;28;01mwith\u001b[39;00m \u001b[38;5;28mself\u001b[39m\u001b[38;5;241m.\u001b[39m_backend\u001b[38;5;241m.\u001b[39mretrieval_context():\n\u001b[0;32m-> 1098\u001b[0m     \u001b[38;5;28;43mself\u001b[39;49m\u001b[38;5;241;43m.\u001b[39;49m\u001b[43mretrieve\u001b[49m\u001b[43m(\u001b[49m\u001b[43m)\u001b[49m\n\u001b[1;32m   1099\u001b[0m \u001b[38;5;66;03m# Make sure that we get a last message telling us we are done\u001b[39;00m\n\u001b[1;32m   1100\u001b[0m elapsed_time \u001b[38;5;241m=\u001b[39m time\u001b[38;5;241m.\u001b[39mtime() \u001b[38;5;241m-\u001b[39m \u001b[38;5;28mself\u001b[39m\u001b[38;5;241m.\u001b[39m_start_time\n",
      "File \u001b[0;32m~/opt/anaconda3/lib/python3.9/site-packages/joblib/parallel.py:971\u001b[0m, in \u001b[0;36mParallel.retrieve\u001b[0;34m(self)\u001b[0m\n\u001b[1;32m    967\u001b[0m \u001b[38;5;66;03m# We need to be careful: the job list can be filling up as\u001b[39;00m\n\u001b[1;32m    968\u001b[0m \u001b[38;5;66;03m# we empty it and Python list are not thread-safe by default hence\u001b[39;00m\n\u001b[1;32m    969\u001b[0m \u001b[38;5;66;03m# the use of the lock\u001b[39;00m\n\u001b[1;32m    970\u001b[0m \u001b[38;5;28;01mwith\u001b[39;00m \u001b[38;5;28mself\u001b[39m\u001b[38;5;241m.\u001b[39m_lock:\n\u001b[0;32m--> 971\u001b[0m     job \u001b[38;5;241m=\u001b[39m \u001b[38;5;28;43mself\u001b[39;49m\u001b[38;5;241;43m.\u001b[39;49m\u001b[43m_jobs\u001b[49m\u001b[38;5;241;43m.\u001b[39;49m\u001b[43mpop\u001b[49m\u001b[43m(\u001b[49m\u001b[38;5;241;43m0\u001b[39;49m\u001b[43m)\u001b[49m\n\u001b[1;32m    973\u001b[0m \u001b[38;5;28;01mtry\u001b[39;00m:\n\u001b[1;32m    974\u001b[0m     \u001b[38;5;28;01mif\u001b[39;00m \u001b[38;5;28mgetattr\u001b[39m(\u001b[38;5;28mself\u001b[39m\u001b[38;5;241m.\u001b[39m_backend, \u001b[38;5;124m'\u001b[39m\u001b[38;5;124msupports_timeout\u001b[39m\u001b[38;5;124m'\u001b[39m, \u001b[38;5;28;01mFalse\u001b[39;00m):\n",
      "\u001b[0;31mKeyboardInterrupt\u001b[0m: "
     ]
    }
   ],
   "source": [
    "\n",
    "accuracy_sc_dtw = []\n",
    "f1_sc_dtw = []\n",
    "for i in range(1, 10):\n",
    "    clf = KNeighborsTimeSeriesClassifier(n_neighbors=i, weights='uniform', metric='dtw')\n",
    "    clf.fit(X_train_decimated_scaled_max, y_train_em)\n",
    "\n",
    "    y_pred = clf.predict(X_test_decimated_scaled_max)\n",
    "    accuracy_sc_dtw.append(accuracy_score(y_test_em, y_pred))\n",
    "    f1_sc_dtw.append(f1_score(y_test_em, y_pred, average=None))\n",
    "                 \n",
    "\n",
    "#print('Accuracy %s' % accuracy_score(y_test_em, y_pred))\n",
    "#print('F1-score %s' % f1_score(y_test_em, y_pred, average=None))\n",
    "#print(classification_report(y_test_em, y_pred))\n"
   ]
  },
  {
   "cell_type": "code",
   "execution_count": null,
   "id": "5be6d6a1",
   "metadata": {},
   "outputs": [],
   "source": [
    "plt.plot(accuracy_sc_dtw)\n",
    "plt.show"
   ]
  },
  {
   "cell_type": "code",
   "execution_count": null,
   "id": "17b91ce5",
   "metadata": {},
   "outputs": [],
   "source": [
    "\n",
    "clf = KNeighborsTimeSeriesClassifier(n_neighbors=6, weights='uniform', metric='dtw')\n",
    "clf.fit(X_train_decimated_scaled_max, y_train_em)\n",
    "\n",
    "y_pred = clf.predict(X_test_decimated_scaled_max)\n",
    "\n",
    "print('Accuracy %s' % accuracy_score(y_test_em, y_pred))\n",
    "print('F1-score %s' % f1_score(y_test_em, y_pred, average=None))\n",
    "print(classification_report(y_test_em, y_pred))"
   ]
  },
  {
   "cell_type": "code",
   "execution_count": null,
   "id": "c55afa84",
   "metadata": {},
   "outputs": [],
   "source": [
    "\n",
    "clf = KNeighborsTimeSeriesClassifier(n_neighbors=6, weights='uniform', metric='dtw')\n",
    "clf.fit(X_train_decimated_scaled_max, y_train_em)\n",
    "\n",
    "y_pred = clf.predict(X_test_decimated_scaled_max)\n",
    "\n",
    "print('Accuracy %s' % accuracy_score(y_test_em, y_pred))\n",
    "print('F1-score %s' % f1_score(y_test_em, y_pred, average=None))\n",
    "print(classification_report(y_test_em, y_pred))"
   ]
  },
  {
   "cell_type": "markdown",
   "id": "7a18e98c",
   "metadata": {},
   "source": [
    "# rocket"
   ]
  },
  {
   "cell_type": "code",
   "execution_count": null,
   "id": "78a7f939",
   "metadata": {},
   "outputs": [],
   "source": [
    "from sklearn.linear_model import RidgeClassifierCV\n",
    "from sktime.transformations.panel.rocket import Rocket"
   ]
  },
  {
   "cell_type": "code",
   "execution_count": null,
   "id": "3b481502",
   "metadata": {},
   "outputs": [],
   "source": [
    "'''\n",
    "%%time\n",
    "rocket = Rocket()  # by default, MiniRocket uses ~10,000 kernels\n",
    "rocket.fit(X_train_decimated_scaled_max)\n",
    "X_train_transform = rocket.transform(X_train_decimated_scaled_max)\n",
    "clf = RidgeClassifierCV(normalize=True)\n",
    "clf.fit(X_train_transform, y_train_em)\n",
    "'''"
   ]
  },
  {
   "cell_type": "code",
   "execution_count": null,
   "id": "52bdf677",
   "metadata": {},
   "outputs": [],
   "source": [
    "#X_train_transform.shape"
   ]
  },
  {
   "cell_type": "code",
   "execution_count": null,
   "id": "32b09771",
   "metadata": {},
   "outputs": [],
   "source": [
    "#y_train_em.shape"
   ]
  },
  {
   "cell_type": "code",
   "execution_count": null,
   "id": "71ff3342",
   "metadata": {},
   "outputs": [],
   "source": [
    "'''\n",
    "X_test_transform = rocket.transform(X_test_decimated_scaled_max)\n",
    "y_pred = clf.predict(X_test_transform)\n",
    "print(classification_report(y_test_em, y_pred))\n",
    "'''"
   ]
  },
  {
   "cell_type": "markdown",
   "id": "6c51e967",
   "metadata": {},
   "source": [
    "### Canonical Interval Forest (CIF)"
   ]
  },
  {
   "cell_type": "code",
   "execution_count": 18,
   "id": "24bde3fe",
   "metadata": {},
   "outputs": [],
   "source": [
    "from sktime.classification.interval_based import CanonicalIntervalForest"
   ]
  },
  {
   "cell_type": "code",
   "execution_count": 19,
   "id": "afcb760b",
   "metadata": {},
   "outputs": [
    {
     "ename": "KeyboardInterrupt",
     "evalue": "",
     "output_type": "error",
     "traceback": [
      "\u001b[0;31m---------------------------------------------------------------------------\u001b[0m",
      "\u001b[0;31mKeyboardInterrupt\u001b[0m                         Traceback (most recent call last)",
      "Input \u001b[0;32mIn [19]\u001b[0m, in \u001b[0;36m<cell line: 3>\u001b[0;34m()\u001b[0m\n\u001b[1;32m      4\u001b[0m clf \u001b[38;5;241m=\u001b[39m CanonicalIntervalForest(n_estimators\u001b[38;5;241m=\u001b[39mi)\n\u001b[1;32m      5\u001b[0m clf\u001b[38;5;241m.\u001b[39mfit(X_train_decimated_scaled_max, y_train_em)\n\u001b[0;32m----> 6\u001b[0m y_pred \u001b[38;5;241m=\u001b[39m \u001b[43mclf\u001b[49m\u001b[38;5;241;43m.\u001b[39;49m\u001b[43mpredict\u001b[49m\u001b[43m(\u001b[49m\u001b[43mX_test_decimated_scaled_max\u001b[49m\u001b[43m)\u001b[49m\n\u001b[1;32m      7\u001b[0m acc\u001b[38;5;241m.\u001b[39mappend(accuracy_score(y_test_em, y_pred))\n\u001b[1;32m      8\u001b[0m f1\u001b[38;5;241m.\u001b[39mappend(f1_score(y_test_em, y_pred, average\u001b[38;5;241m=\u001b[39m\u001b[38;5;28;01mNone\u001b[39;00m))\n",
      "File \u001b[0;32m~/opt/anaconda3/lib/python3.9/site-packages/sktime/classification/base.py:241\u001b[0m, in \u001b[0;36mBaseClassifier.predict\u001b[0;34m(self, X)\u001b[0m\n\u001b[1;32m    238\u001b[0m     \u001b[38;5;28;01mreturn\u001b[39;00m \u001b[38;5;28mself\u001b[39m\u001b[38;5;241m.\u001b[39m_single_class_y_pred(X, method\u001b[38;5;241m=\u001b[39m\u001b[38;5;124m\"\u001b[39m\u001b[38;5;124mpredict\u001b[39m\u001b[38;5;124m\"\u001b[39m)\n\u001b[1;32m    240\u001b[0m \u001b[38;5;66;03m# call internal _predict_proba\u001b[39;00m\n\u001b[0;32m--> 241\u001b[0m \u001b[38;5;28;01mreturn\u001b[39;00m \u001b[38;5;28;43mself\u001b[39;49m\u001b[38;5;241;43m.\u001b[39;49m\u001b[43m_predict\u001b[49m\u001b[43m(\u001b[49m\u001b[43mX\u001b[49m\u001b[43m)\u001b[49m\n",
      "File \u001b[0;32m~/opt/anaconda3/lib/python3.9/site-packages/sktime/classification/interval_based/_cif.py:216\u001b[0m, in \u001b[0;36mCanonicalIntervalForest._predict\u001b[0;34m(self, X)\u001b[0m\n\u001b[1;32m    211\u001b[0m \u001b[38;5;28;01mdef\u001b[39;00m \u001b[38;5;21m_predict\u001b[39m(\u001b[38;5;28mself\u001b[39m, X) \u001b[38;5;241m-\u001b[39m\u001b[38;5;241m>\u001b[39m np\u001b[38;5;241m.\u001b[39mndarray:\n\u001b[1;32m    212\u001b[0m     rng \u001b[38;5;241m=\u001b[39m check_random_state(\u001b[38;5;28mself\u001b[39m\u001b[38;5;241m.\u001b[39mrandom_state)\n\u001b[1;32m    213\u001b[0m     \u001b[38;5;28;01mreturn\u001b[39;00m np\u001b[38;5;241m.\u001b[39marray(\n\u001b[1;32m    214\u001b[0m         [\n\u001b[1;32m    215\u001b[0m             \u001b[38;5;28mself\u001b[39m\u001b[38;5;241m.\u001b[39mclasses_[\u001b[38;5;28mint\u001b[39m(rng\u001b[38;5;241m.\u001b[39mchoice(np\u001b[38;5;241m.\u001b[39mflatnonzero(prob \u001b[38;5;241m==\u001b[39m prob\u001b[38;5;241m.\u001b[39mmax())))]\n\u001b[0;32m--> 216\u001b[0m             \u001b[38;5;28;01mfor\u001b[39;00m prob \u001b[38;5;129;01min\u001b[39;00m \u001b[38;5;28;43mself\u001b[39;49m\u001b[38;5;241;43m.\u001b[39;49m\u001b[43m_predict_proba\u001b[49m\u001b[43m(\u001b[49m\u001b[43mX\u001b[49m\u001b[43m)\u001b[49m\n\u001b[1;32m    217\u001b[0m         ]\n\u001b[1;32m    218\u001b[0m     )\n",
      "File \u001b[0;32m~/opt/anaconda3/lib/python3.9/site-packages/sktime/classification/interval_based/_cif.py:228\u001b[0m, in \u001b[0;36mCanonicalIntervalForest._predict_proba\u001b[0;34m(self, X)\u001b[0m\n\u001b[1;32m    222\u001b[0m \u001b[38;5;28;01mif\u001b[39;00m series_length \u001b[38;5;241m!=\u001b[39m \u001b[38;5;28mself\u001b[39m\u001b[38;5;241m.\u001b[39mseries_length_:\n\u001b[1;32m    223\u001b[0m     \u001b[38;5;28;01mraise\u001b[39;00m \u001b[38;5;167;01mValueError\u001b[39;00m(\n\u001b[1;32m    224\u001b[0m         \u001b[38;5;124m\"\u001b[39m\u001b[38;5;124mERROR number of attributes in the train does not match \u001b[39m\u001b[38;5;124m\"\u001b[39m\n\u001b[1;32m    225\u001b[0m         \u001b[38;5;124m\"\u001b[39m\u001b[38;5;124mthat in the test data\u001b[39m\u001b[38;5;124m\"\u001b[39m\n\u001b[1;32m    226\u001b[0m     )\n\u001b[0;32m--> 228\u001b[0m y_probas \u001b[38;5;241m=\u001b[39m \u001b[43mParallel\u001b[49m\u001b[43m(\u001b[49m\u001b[43mn_jobs\u001b[49m\u001b[38;5;241;43m=\u001b[39;49m\u001b[38;5;28;43mself\u001b[39;49m\u001b[38;5;241;43m.\u001b[39;49m\u001b[43m_threads_to_use\u001b[49m\u001b[43m)\u001b[49m\u001b[43m(\u001b[49m\n\u001b[1;32m    229\u001b[0m \u001b[43m    \u001b[49m\u001b[43mdelayed\u001b[49m\u001b[43m(\u001b[49m\u001b[38;5;28;43mself\u001b[39;49m\u001b[38;5;241;43m.\u001b[39;49m\u001b[43m_predict_proba_for_estimator\u001b[49m\u001b[43m)\u001b[49m\u001b[43m(\u001b[49m\n\u001b[1;32m    230\u001b[0m \u001b[43m        \u001b[49m\u001b[43mX\u001b[49m\u001b[43m,\u001b[49m\n\u001b[1;32m    231\u001b[0m \u001b[43m        \u001b[49m\u001b[38;5;28;43mself\u001b[39;49m\u001b[38;5;241;43m.\u001b[39;49m\u001b[43mestimators_\u001b[49m\u001b[43m[\u001b[49m\u001b[43mi\u001b[49m\u001b[43m]\u001b[49m\u001b[43m,\u001b[49m\n\u001b[1;32m    232\u001b[0m \u001b[43m        \u001b[49m\u001b[38;5;28;43mself\u001b[39;49m\u001b[38;5;241;43m.\u001b[39;49m\u001b[43mintervals_\u001b[49m\u001b[43m[\u001b[49m\u001b[43mi\u001b[49m\u001b[43m]\u001b[49m\u001b[43m,\u001b[49m\n\u001b[1;32m    233\u001b[0m \u001b[43m        \u001b[49m\u001b[38;5;28;43mself\u001b[39;49m\u001b[38;5;241;43m.\u001b[39;49m\u001b[43mdims_\u001b[49m\u001b[43m[\u001b[49m\u001b[43mi\u001b[49m\u001b[43m]\u001b[49m\u001b[43m,\u001b[49m\n\u001b[1;32m    234\u001b[0m \u001b[43m        \u001b[49m\u001b[38;5;28;43mself\u001b[39;49m\u001b[38;5;241;43m.\u001b[39;49m\u001b[43matts_\u001b[49m\u001b[43m[\u001b[49m\u001b[43mi\u001b[49m\u001b[43m]\u001b[49m\u001b[43m,\u001b[49m\n\u001b[1;32m    235\u001b[0m \u001b[43m    \u001b[49m\u001b[43m)\u001b[49m\n\u001b[1;32m    236\u001b[0m \u001b[43m    \u001b[49m\u001b[38;5;28;43;01mfor\u001b[39;49;00m\u001b[43m \u001b[49m\u001b[43mi\u001b[49m\u001b[43m \u001b[49m\u001b[38;5;129;43;01min\u001b[39;49;00m\u001b[43m \u001b[49m\u001b[38;5;28;43mrange\u001b[39;49m\u001b[43m(\u001b[49m\u001b[38;5;28;43mself\u001b[39;49m\u001b[38;5;241;43m.\u001b[39;49m\u001b[43mn_estimators\u001b[49m\u001b[43m)\u001b[49m\n\u001b[1;32m    237\u001b[0m \u001b[43m\u001b[49m\u001b[43m)\u001b[49m\n\u001b[1;32m    239\u001b[0m output \u001b[38;5;241m=\u001b[39m np\u001b[38;5;241m.\u001b[39msum(y_probas, axis\u001b[38;5;241m=\u001b[39m\u001b[38;5;241m0\u001b[39m) \u001b[38;5;241m/\u001b[39m (\n\u001b[1;32m    240\u001b[0m     np\u001b[38;5;241m.\u001b[39mones(\u001b[38;5;28mself\u001b[39m\u001b[38;5;241m.\u001b[39mn_classes_) \u001b[38;5;241m*\u001b[39m \u001b[38;5;28mself\u001b[39m\u001b[38;5;241m.\u001b[39mn_estimators\n\u001b[1;32m    241\u001b[0m )\n\u001b[1;32m    242\u001b[0m \u001b[38;5;28;01mreturn\u001b[39;00m output\n",
      "File \u001b[0;32m~/opt/anaconda3/lib/python3.9/site-packages/joblib/parallel.py:1088\u001b[0m, in \u001b[0;36mParallel.__call__\u001b[0;34m(self, iterable)\u001b[0m\n\u001b[1;32m   1085\u001b[0m \u001b[38;5;28;01mif\u001b[39;00m \u001b[38;5;28mself\u001b[39m\u001b[38;5;241m.\u001b[39mdispatch_one_batch(iterator):\n\u001b[1;32m   1086\u001b[0m     \u001b[38;5;28mself\u001b[39m\u001b[38;5;241m.\u001b[39m_iterating \u001b[38;5;241m=\u001b[39m \u001b[38;5;28mself\u001b[39m\u001b[38;5;241m.\u001b[39m_original_iterator \u001b[38;5;129;01mis\u001b[39;00m \u001b[38;5;129;01mnot\u001b[39;00m \u001b[38;5;28;01mNone\u001b[39;00m\n\u001b[0;32m-> 1088\u001b[0m \u001b[38;5;28;01mwhile\u001b[39;00m \u001b[38;5;28;43mself\u001b[39;49m\u001b[38;5;241;43m.\u001b[39;49m\u001b[43mdispatch_one_batch\u001b[49m\u001b[43m(\u001b[49m\u001b[43miterator\u001b[49m\u001b[43m)\u001b[49m:\n\u001b[1;32m   1089\u001b[0m     \u001b[38;5;28;01mpass\u001b[39;00m\n\u001b[1;32m   1091\u001b[0m \u001b[38;5;28;01mif\u001b[39;00m pre_dispatch \u001b[38;5;241m==\u001b[39m \u001b[38;5;124m\"\u001b[39m\u001b[38;5;124mall\u001b[39m\u001b[38;5;124m\"\u001b[39m \u001b[38;5;129;01mor\u001b[39;00m n_jobs \u001b[38;5;241m==\u001b[39m \u001b[38;5;241m1\u001b[39m:\n\u001b[1;32m   1092\u001b[0m     \u001b[38;5;66;03m# The iterable was consumed all at once by the above for loop.\u001b[39;00m\n\u001b[1;32m   1093\u001b[0m     \u001b[38;5;66;03m# No need to wait for async callbacks to trigger to\u001b[39;00m\n\u001b[1;32m   1094\u001b[0m     \u001b[38;5;66;03m# consumption.\u001b[39;00m\n",
      "File \u001b[0;32m~/opt/anaconda3/lib/python3.9/site-packages/joblib/parallel.py:901\u001b[0m, in \u001b[0;36mParallel.dispatch_one_batch\u001b[0;34m(self, iterator)\u001b[0m\n\u001b[1;32m    899\u001b[0m     \u001b[38;5;28;01mreturn\u001b[39;00m \u001b[38;5;28;01mFalse\u001b[39;00m\n\u001b[1;32m    900\u001b[0m \u001b[38;5;28;01melse\u001b[39;00m:\n\u001b[0;32m--> 901\u001b[0m     \u001b[38;5;28;43mself\u001b[39;49m\u001b[38;5;241;43m.\u001b[39;49m\u001b[43m_dispatch\u001b[49m\u001b[43m(\u001b[49m\u001b[43mtasks\u001b[49m\u001b[43m)\u001b[49m\n\u001b[1;32m    902\u001b[0m     \u001b[38;5;28;01mreturn\u001b[39;00m \u001b[38;5;28;01mTrue\u001b[39;00m\n",
      "File \u001b[0;32m~/opt/anaconda3/lib/python3.9/site-packages/joblib/parallel.py:819\u001b[0m, in \u001b[0;36mParallel._dispatch\u001b[0;34m(self, batch)\u001b[0m\n\u001b[1;32m    817\u001b[0m \u001b[38;5;28;01mwith\u001b[39;00m \u001b[38;5;28mself\u001b[39m\u001b[38;5;241m.\u001b[39m_lock:\n\u001b[1;32m    818\u001b[0m     job_idx \u001b[38;5;241m=\u001b[39m \u001b[38;5;28mlen\u001b[39m(\u001b[38;5;28mself\u001b[39m\u001b[38;5;241m.\u001b[39m_jobs)\n\u001b[0;32m--> 819\u001b[0m     job \u001b[38;5;241m=\u001b[39m \u001b[38;5;28;43mself\u001b[39;49m\u001b[38;5;241;43m.\u001b[39;49m\u001b[43m_backend\u001b[49m\u001b[38;5;241;43m.\u001b[39;49m\u001b[43mapply_async\u001b[49m\u001b[43m(\u001b[49m\u001b[43mbatch\u001b[49m\u001b[43m,\u001b[49m\u001b[43m \u001b[49m\u001b[43mcallback\u001b[49m\u001b[38;5;241;43m=\u001b[39;49m\u001b[43mcb\u001b[49m\u001b[43m)\u001b[49m\n\u001b[1;32m    820\u001b[0m     \u001b[38;5;66;03m# A job can complete so quickly than its callback is\u001b[39;00m\n\u001b[1;32m    821\u001b[0m     \u001b[38;5;66;03m# called before we get here, causing self._jobs to\u001b[39;00m\n\u001b[1;32m    822\u001b[0m     \u001b[38;5;66;03m# grow. To ensure correct results ordering, .insert is\u001b[39;00m\n\u001b[1;32m    823\u001b[0m     \u001b[38;5;66;03m# used (rather than .append) in the following line\u001b[39;00m\n\u001b[1;32m    824\u001b[0m     \u001b[38;5;28mself\u001b[39m\u001b[38;5;241m.\u001b[39m_jobs\u001b[38;5;241m.\u001b[39minsert(job_idx, job)\n",
      "File \u001b[0;32m~/opt/anaconda3/lib/python3.9/site-packages/joblib/_parallel_backends.py:208\u001b[0m, in \u001b[0;36mSequentialBackend.apply_async\u001b[0;34m(self, func, callback)\u001b[0m\n\u001b[1;32m    206\u001b[0m \u001b[38;5;28;01mdef\u001b[39;00m \u001b[38;5;21mapply_async\u001b[39m(\u001b[38;5;28mself\u001b[39m, func, callback\u001b[38;5;241m=\u001b[39m\u001b[38;5;28;01mNone\u001b[39;00m):\n\u001b[1;32m    207\u001b[0m     \u001b[38;5;124;03m\"\"\"Schedule a func to be run\"\"\"\u001b[39;00m\n\u001b[0;32m--> 208\u001b[0m     result \u001b[38;5;241m=\u001b[39m \u001b[43mImmediateResult\u001b[49m\u001b[43m(\u001b[49m\u001b[43mfunc\u001b[49m\u001b[43m)\u001b[49m\n\u001b[1;32m    209\u001b[0m     \u001b[38;5;28;01mif\u001b[39;00m callback:\n\u001b[1;32m    210\u001b[0m         callback(result)\n",
      "File \u001b[0;32m~/opt/anaconda3/lib/python3.9/site-packages/joblib/_parallel_backends.py:597\u001b[0m, in \u001b[0;36mImmediateResult.__init__\u001b[0;34m(self, batch)\u001b[0m\n\u001b[1;32m    594\u001b[0m \u001b[38;5;28;01mdef\u001b[39;00m \u001b[38;5;21m__init__\u001b[39m(\u001b[38;5;28mself\u001b[39m, batch):\n\u001b[1;32m    595\u001b[0m     \u001b[38;5;66;03m# Don't delay the application, to avoid keeping the input\u001b[39;00m\n\u001b[1;32m    596\u001b[0m     \u001b[38;5;66;03m# arguments in memory\u001b[39;00m\n\u001b[0;32m--> 597\u001b[0m     \u001b[38;5;28mself\u001b[39m\u001b[38;5;241m.\u001b[39mresults \u001b[38;5;241m=\u001b[39m \u001b[43mbatch\u001b[49m\u001b[43m(\u001b[49m\u001b[43m)\u001b[49m\n",
      "File \u001b[0;32m~/opt/anaconda3/lib/python3.9/site-packages/joblib/parallel.py:288\u001b[0m, in \u001b[0;36mBatchedCalls.__call__\u001b[0;34m(self)\u001b[0m\n\u001b[1;32m    284\u001b[0m \u001b[38;5;28;01mdef\u001b[39;00m \u001b[38;5;21m__call__\u001b[39m(\u001b[38;5;28mself\u001b[39m):\n\u001b[1;32m    285\u001b[0m     \u001b[38;5;66;03m# Set the default nested backend to self._backend but do not set the\u001b[39;00m\n\u001b[1;32m    286\u001b[0m     \u001b[38;5;66;03m# change the default number of processes to -1\u001b[39;00m\n\u001b[1;32m    287\u001b[0m     \u001b[38;5;28;01mwith\u001b[39;00m parallel_backend(\u001b[38;5;28mself\u001b[39m\u001b[38;5;241m.\u001b[39m_backend, n_jobs\u001b[38;5;241m=\u001b[39m\u001b[38;5;28mself\u001b[39m\u001b[38;5;241m.\u001b[39m_n_jobs):\n\u001b[0;32m--> 288\u001b[0m         \u001b[38;5;28;01mreturn\u001b[39;00m [func(\u001b[38;5;241m*\u001b[39margs, \u001b[38;5;241m*\u001b[39m\u001b[38;5;241m*\u001b[39mkwargs)\n\u001b[1;32m    289\u001b[0m                 \u001b[38;5;28;01mfor\u001b[39;00m func, args, kwargs \u001b[38;5;129;01min\u001b[39;00m \u001b[38;5;28mself\u001b[39m\u001b[38;5;241m.\u001b[39mitems]\n",
      "File \u001b[0;32m~/opt/anaconda3/lib/python3.9/site-packages/joblib/parallel.py:288\u001b[0m, in \u001b[0;36m<listcomp>\u001b[0;34m(.0)\u001b[0m\n\u001b[1;32m    284\u001b[0m \u001b[38;5;28;01mdef\u001b[39;00m \u001b[38;5;21m__call__\u001b[39m(\u001b[38;5;28mself\u001b[39m):\n\u001b[1;32m    285\u001b[0m     \u001b[38;5;66;03m# Set the default nested backend to self._backend but do not set the\u001b[39;00m\n\u001b[1;32m    286\u001b[0m     \u001b[38;5;66;03m# change the default number of processes to -1\u001b[39;00m\n\u001b[1;32m    287\u001b[0m     \u001b[38;5;28;01mwith\u001b[39;00m parallel_backend(\u001b[38;5;28mself\u001b[39m\u001b[38;5;241m.\u001b[39m_backend, n_jobs\u001b[38;5;241m=\u001b[39m\u001b[38;5;28mself\u001b[39m\u001b[38;5;241m.\u001b[39m_n_jobs):\n\u001b[0;32m--> 288\u001b[0m         \u001b[38;5;28;01mreturn\u001b[39;00m [\u001b[43mfunc\u001b[49m\u001b[43m(\u001b[49m\u001b[38;5;241;43m*\u001b[39;49m\u001b[43margs\u001b[49m\u001b[43m,\u001b[49m\u001b[43m \u001b[49m\u001b[38;5;241;43m*\u001b[39;49m\u001b[38;5;241;43m*\u001b[39;49m\u001b[43mkwargs\u001b[49m\u001b[43m)\u001b[49m\n\u001b[1;32m    289\u001b[0m                 \u001b[38;5;28;01mfor\u001b[39;00m func, args, kwargs \u001b[38;5;129;01min\u001b[39;00m \u001b[38;5;28mself\u001b[39m\u001b[38;5;241m.\u001b[39mitems]\n",
      "File \u001b[0;32m~/opt/anaconda3/lib/python3.9/site-packages/sktime/classification/interval_based/_cif.py:322\u001b[0m, in \u001b[0;36mCanonicalIntervalForest._predict_proba_for_estimator\u001b[0;34m(self, X, classifier, intervals, dims, atts)\u001b[0m\n\u001b[1;32m    320\u001b[0m c22 \u001b[38;5;241m=\u001b[39m Catch22(outlier_norm\u001b[38;5;241m=\u001b[39m\u001b[38;5;28;01mTrue\u001b[39;00m)\n\u001b[1;32m    321\u001b[0m \u001b[38;5;28;01mif\u001b[39;00m \u001b[38;5;28misinstance\u001b[39m(\u001b[38;5;28mself\u001b[39m\u001b[38;5;241m.\u001b[39m_base_estimator, ContinuousIntervalTree):\n\u001b[0;32m--> 322\u001b[0m     \u001b[38;5;28;01mreturn\u001b[39;00m \u001b[43mclassifier\u001b[49m\u001b[38;5;241;43m.\u001b[39;49m\u001b[43m_predict_proba_cif\u001b[49m\u001b[43m(\u001b[49m\u001b[43mX\u001b[49m\u001b[43m,\u001b[49m\u001b[43m \u001b[49m\u001b[43mc22\u001b[49m\u001b[43m,\u001b[49m\u001b[43m \u001b[49m\u001b[43mintervals\u001b[49m\u001b[43m,\u001b[49m\u001b[43m \u001b[49m\u001b[43mdims\u001b[49m\u001b[43m,\u001b[49m\u001b[43m \u001b[49m\u001b[43matts\u001b[49m\u001b[43m)\u001b[49m\n\u001b[1;32m    323\u001b[0m \u001b[38;5;28;01melse\u001b[39;00m:\n\u001b[1;32m    324\u001b[0m     transformed_x \u001b[38;5;241m=\u001b[39m np\u001b[38;5;241m.\u001b[39mempty(\n\u001b[1;32m    325\u001b[0m         shape\u001b[38;5;241m=\u001b[39m(\u001b[38;5;28mself\u001b[39m\u001b[38;5;241m.\u001b[39m_att_subsample_size \u001b[38;5;241m*\u001b[39m \u001b[38;5;28mself\u001b[39m\u001b[38;5;241m.\u001b[39m_n_intervals, X\u001b[38;5;241m.\u001b[39mshape[\u001b[38;5;241m0\u001b[39m]),\n\u001b[1;32m    326\u001b[0m         dtype\u001b[38;5;241m=\u001b[39mnp\u001b[38;5;241m.\u001b[39mfloat32,\n\u001b[1;32m    327\u001b[0m     )\n",
      "File \u001b[0;32m~/opt/anaconda3/lib/python3.9/site-packages/sktime/classification/sklearn/_continuous_interval_tree.py:248\u001b[0m, in \u001b[0;36mContinuousIntervalTree._predict_proba_cif\u001b[0;34m(self, X, c22, intervals, dims, atts)\u001b[0m\n\u001b[1;32m    246\u001b[0m dists \u001b[38;5;241m=\u001b[39m np\u001b[38;5;241m.\u001b[39mzeros((n_instances, \u001b[38;5;28mself\u001b[39m\u001b[38;5;241m.\u001b[39mn_classes_))\n\u001b[1;32m    247\u001b[0m \u001b[38;5;28;01mfor\u001b[39;00m i \u001b[38;5;129;01min\u001b[39;00m \u001b[38;5;28mrange\u001b[39m(n_instances):\n\u001b[0;32m--> 248\u001b[0m     dists[i] \u001b[38;5;241m=\u001b[39m \u001b[38;5;28;43mself\u001b[39;49m\u001b[38;5;241;43m.\u001b[39;49m\u001b[43m_root\u001b[49m\u001b[38;5;241;43m.\u001b[39;49m\u001b[43mpredict_proba_cif\u001b[49m\u001b[43m(\u001b[49m\n\u001b[1;32m    249\u001b[0m \u001b[43m        \u001b[49m\u001b[43mX\u001b[49m\u001b[43m[\u001b[49m\u001b[43mi\u001b[49m\u001b[43m]\u001b[49m\u001b[38;5;241;43m.\u001b[39;49m\u001b[43mreshape\u001b[49m\u001b[43m(\u001b[49m\u001b[43m(\u001b[49m\u001b[38;5;241;43m1\u001b[39;49m\u001b[43m,\u001b[49m\u001b[43m \u001b[49m\u001b[43mn_dims\u001b[49m\u001b[43m,\u001b[49m\u001b[43m \u001b[49m\u001b[43mseries_length\u001b[49m\u001b[43m)\u001b[49m\u001b[43m)\u001b[49m\u001b[43m,\u001b[49m\n\u001b[1;32m    250\u001b[0m \u001b[43m        \u001b[49m\u001b[43mc22\u001b[49m\u001b[43m,\u001b[49m\n\u001b[1;32m    251\u001b[0m \u001b[43m        \u001b[49m\u001b[43mintervals\u001b[49m\u001b[43m,\u001b[49m\n\u001b[1;32m    252\u001b[0m \u001b[43m        \u001b[49m\u001b[43mdims\u001b[49m\u001b[43m,\u001b[49m\n\u001b[1;32m    253\u001b[0m \u001b[43m        \u001b[49m\u001b[43matts\u001b[49m\u001b[43m,\u001b[49m\n\u001b[1;32m    254\u001b[0m \u001b[43m        \u001b[49m\u001b[38;5;28;43mself\u001b[39;49m\u001b[38;5;241;43m.\u001b[39;49m\u001b[43mn_classes_\u001b[49m\u001b[43m,\u001b[49m\n\u001b[1;32m    255\u001b[0m \u001b[43m    \u001b[49m\u001b[43m)\u001b[49m\n\u001b[1;32m    256\u001b[0m \u001b[38;5;28;01mreturn\u001b[39;00m dists\n",
      "File \u001b[0;32m~/opt/anaconda3/lib/python3.9/site-packages/sktime/classification/sklearn/_continuous_interval_tree.py:506\u001b[0m, in \u001b[0;36m_TreeNode.predict_proba_cif\u001b[0;34m(self, X, c22, intervals, dims, atts, n_classes)\u001b[0m\n\u001b[1;32m    497\u001b[0m     \u001b[38;5;28;01mreturn\u001b[39;00m \u001b[38;5;28mself\u001b[39m\u001b[38;5;241m.\u001b[39mchildren[\u001b[38;5;241m0\u001b[39m]\u001b[38;5;241m.\u001b[39mpredict_proba_cif(\n\u001b[1;32m    498\u001b[0m         X,\n\u001b[1;32m    499\u001b[0m         c22,\n\u001b[0;32m   (...)\u001b[0m\n\u001b[1;32m    503\u001b[0m         n_classes,\n\u001b[1;32m    504\u001b[0m     )\n\u001b[1;32m    505\u001b[0m \u001b[38;5;28;01melif\u001b[39;00m value \u001b[38;5;241m>\u001b[39m \u001b[38;5;28mself\u001b[39m\u001b[38;5;241m.\u001b[39mbest_threshold:\n\u001b[0;32m--> 506\u001b[0m     \u001b[38;5;28;01mreturn\u001b[39;00m \u001b[38;5;28;43mself\u001b[39;49m\u001b[38;5;241;43m.\u001b[39;49m\u001b[43mchildren\u001b[49m\u001b[43m[\u001b[49m\u001b[38;5;241;43m1\u001b[39;49m\u001b[43m]\u001b[49m\u001b[38;5;241;43m.\u001b[39;49m\u001b[43mpredict_proba_cif\u001b[49m\u001b[43m(\u001b[49m\n\u001b[1;32m    507\u001b[0m \u001b[43m        \u001b[49m\u001b[43mX\u001b[49m\u001b[43m,\u001b[49m\n\u001b[1;32m    508\u001b[0m \u001b[43m        \u001b[49m\u001b[43mc22\u001b[49m\u001b[43m,\u001b[49m\n\u001b[1;32m    509\u001b[0m \u001b[43m        \u001b[49m\u001b[43mintervals\u001b[49m\u001b[43m,\u001b[49m\n\u001b[1;32m    510\u001b[0m \u001b[43m        \u001b[49m\u001b[43mdims\u001b[49m\u001b[43m,\u001b[49m\n\u001b[1;32m    511\u001b[0m \u001b[43m        \u001b[49m\u001b[43matts\u001b[49m\u001b[43m,\u001b[49m\n\u001b[1;32m    512\u001b[0m \u001b[43m        \u001b[49m\u001b[43mn_classes\u001b[49m\u001b[43m,\u001b[49m\n\u001b[1;32m    513\u001b[0m \u001b[43m    \u001b[49m\u001b[43m)\u001b[49m\n\u001b[1;32m    514\u001b[0m \u001b[38;5;28;01melse\u001b[39;00m:\n\u001b[1;32m    515\u001b[0m     \u001b[38;5;28;01mreturn\u001b[39;00m \u001b[38;5;28mself\u001b[39m\u001b[38;5;241m.\u001b[39mchildren[\u001b[38;5;241m2\u001b[39m]\u001b[38;5;241m.\u001b[39mpredict_proba_cif(\n\u001b[1;32m    516\u001b[0m         X,\n\u001b[1;32m    517\u001b[0m         c22,\n\u001b[0;32m   (...)\u001b[0m\n\u001b[1;32m    521\u001b[0m         n_classes,\n\u001b[1;32m    522\u001b[0m     )\n",
      "File \u001b[0;32m~/opt/anaconda3/lib/python3.9/site-packages/sktime/classification/sklearn/_continuous_interval_tree.py:506\u001b[0m, in \u001b[0;36m_TreeNode.predict_proba_cif\u001b[0;34m(self, X, c22, intervals, dims, atts, n_classes)\u001b[0m\n\u001b[1;32m    497\u001b[0m     \u001b[38;5;28;01mreturn\u001b[39;00m \u001b[38;5;28mself\u001b[39m\u001b[38;5;241m.\u001b[39mchildren[\u001b[38;5;241m0\u001b[39m]\u001b[38;5;241m.\u001b[39mpredict_proba_cif(\n\u001b[1;32m    498\u001b[0m         X,\n\u001b[1;32m    499\u001b[0m         c22,\n\u001b[0;32m   (...)\u001b[0m\n\u001b[1;32m    503\u001b[0m         n_classes,\n\u001b[1;32m    504\u001b[0m     )\n\u001b[1;32m    505\u001b[0m \u001b[38;5;28;01melif\u001b[39;00m value \u001b[38;5;241m>\u001b[39m \u001b[38;5;28mself\u001b[39m\u001b[38;5;241m.\u001b[39mbest_threshold:\n\u001b[0;32m--> 506\u001b[0m     \u001b[38;5;28;01mreturn\u001b[39;00m \u001b[38;5;28;43mself\u001b[39;49m\u001b[38;5;241;43m.\u001b[39;49m\u001b[43mchildren\u001b[49m\u001b[43m[\u001b[49m\u001b[38;5;241;43m1\u001b[39;49m\u001b[43m]\u001b[49m\u001b[38;5;241;43m.\u001b[39;49m\u001b[43mpredict_proba_cif\u001b[49m\u001b[43m(\u001b[49m\n\u001b[1;32m    507\u001b[0m \u001b[43m        \u001b[49m\u001b[43mX\u001b[49m\u001b[43m,\u001b[49m\n\u001b[1;32m    508\u001b[0m \u001b[43m        \u001b[49m\u001b[43mc22\u001b[49m\u001b[43m,\u001b[49m\n\u001b[1;32m    509\u001b[0m \u001b[43m        \u001b[49m\u001b[43mintervals\u001b[49m\u001b[43m,\u001b[49m\n\u001b[1;32m    510\u001b[0m \u001b[43m        \u001b[49m\u001b[43mdims\u001b[49m\u001b[43m,\u001b[49m\n\u001b[1;32m    511\u001b[0m \u001b[43m        \u001b[49m\u001b[43matts\u001b[49m\u001b[43m,\u001b[49m\n\u001b[1;32m    512\u001b[0m \u001b[43m        \u001b[49m\u001b[43mn_classes\u001b[49m\u001b[43m,\u001b[49m\n\u001b[1;32m    513\u001b[0m \u001b[43m    \u001b[49m\u001b[43m)\u001b[49m\n\u001b[1;32m    514\u001b[0m \u001b[38;5;28;01melse\u001b[39;00m:\n\u001b[1;32m    515\u001b[0m     \u001b[38;5;28;01mreturn\u001b[39;00m \u001b[38;5;28mself\u001b[39m\u001b[38;5;241m.\u001b[39mchildren[\u001b[38;5;241m2\u001b[39m]\u001b[38;5;241m.\u001b[39mpredict_proba_cif(\n\u001b[1;32m    516\u001b[0m         X,\n\u001b[1;32m    517\u001b[0m         c22,\n\u001b[0;32m   (...)\u001b[0m\n\u001b[1;32m    521\u001b[0m         n_classes,\n\u001b[1;32m    522\u001b[0m     )\n",
      "    \u001b[0;31m[... skipping similar frames: _TreeNode.predict_proba_cif at line 506 (1 times)]\u001b[0m\n",
      "File \u001b[0;32m~/opt/anaconda3/lib/python3.9/site-packages/sktime/classification/sklearn/_continuous_interval_tree.py:497\u001b[0m, in \u001b[0;36m_TreeNode.predict_proba_cif\u001b[0;34m(self, X, c22, intervals, dims, atts, n_classes)\u001b[0m\n\u001b[1;32m    494\u001b[0m value \u001b[38;5;241m=\u001b[39m np\u001b[38;5;241m.\u001b[39mnan_to_num(value, \u001b[38;5;28;01mFalse\u001b[39;00m, posinf\u001b[38;5;241m=\u001b[39mnp\u001b[38;5;241m.\u001b[39mnan, neginf\u001b[38;5;241m=\u001b[39mnp\u001b[38;5;241m.\u001b[39mnan)\n\u001b[1;32m    496\u001b[0m \u001b[38;5;28;01mif\u001b[39;00m value \u001b[38;5;241m<\u001b[39m\u001b[38;5;241m=\u001b[39m \u001b[38;5;28mself\u001b[39m\u001b[38;5;241m.\u001b[39mbest_threshold:\n\u001b[0;32m--> 497\u001b[0m     \u001b[38;5;28;01mreturn\u001b[39;00m \u001b[38;5;28;43mself\u001b[39;49m\u001b[38;5;241;43m.\u001b[39;49m\u001b[43mchildren\u001b[49m\u001b[43m[\u001b[49m\u001b[38;5;241;43m0\u001b[39;49m\u001b[43m]\u001b[49m\u001b[38;5;241;43m.\u001b[39;49m\u001b[43mpredict_proba_cif\u001b[49m\u001b[43m(\u001b[49m\n\u001b[1;32m    498\u001b[0m \u001b[43m        \u001b[49m\u001b[43mX\u001b[49m\u001b[43m,\u001b[49m\n\u001b[1;32m    499\u001b[0m \u001b[43m        \u001b[49m\u001b[43mc22\u001b[49m\u001b[43m,\u001b[49m\n\u001b[1;32m    500\u001b[0m \u001b[43m        \u001b[49m\u001b[43mintervals\u001b[49m\u001b[43m,\u001b[49m\n\u001b[1;32m    501\u001b[0m \u001b[43m        \u001b[49m\u001b[43mdims\u001b[49m\u001b[43m,\u001b[49m\n\u001b[1;32m    502\u001b[0m \u001b[43m        \u001b[49m\u001b[43matts\u001b[49m\u001b[43m,\u001b[49m\n\u001b[1;32m    503\u001b[0m \u001b[43m        \u001b[49m\u001b[43mn_classes\u001b[49m\u001b[43m,\u001b[49m\n\u001b[1;32m    504\u001b[0m \u001b[43m    \u001b[49m\u001b[43m)\u001b[49m\n\u001b[1;32m    505\u001b[0m \u001b[38;5;28;01melif\u001b[39;00m value \u001b[38;5;241m>\u001b[39m \u001b[38;5;28mself\u001b[39m\u001b[38;5;241m.\u001b[39mbest_threshold:\n\u001b[1;32m    506\u001b[0m     \u001b[38;5;28;01mreturn\u001b[39;00m \u001b[38;5;28mself\u001b[39m\u001b[38;5;241m.\u001b[39mchildren[\u001b[38;5;241m1\u001b[39m]\u001b[38;5;241m.\u001b[39mpredict_proba_cif(\n\u001b[1;32m    507\u001b[0m         X,\n\u001b[1;32m    508\u001b[0m         c22,\n\u001b[0;32m   (...)\u001b[0m\n\u001b[1;32m    512\u001b[0m         n_classes,\n\u001b[1;32m    513\u001b[0m     )\n",
      "    \u001b[0;31m[... skipping similar frames: _TreeNode.predict_proba_cif at line 506 (1 times)]\u001b[0m\n",
      "File \u001b[0;32m~/opt/anaconda3/lib/python3.9/site-packages/sktime/classification/sklearn/_continuous_interval_tree.py:497\u001b[0m, in \u001b[0;36m_TreeNode.predict_proba_cif\u001b[0;34m(self, X, c22, intervals, dims, atts, n_classes)\u001b[0m\n\u001b[1;32m    494\u001b[0m value \u001b[38;5;241m=\u001b[39m np\u001b[38;5;241m.\u001b[39mnan_to_num(value, \u001b[38;5;28;01mFalse\u001b[39;00m, posinf\u001b[38;5;241m=\u001b[39mnp\u001b[38;5;241m.\u001b[39mnan, neginf\u001b[38;5;241m=\u001b[39mnp\u001b[38;5;241m.\u001b[39mnan)\n\u001b[1;32m    496\u001b[0m \u001b[38;5;28;01mif\u001b[39;00m value \u001b[38;5;241m<\u001b[39m\u001b[38;5;241m=\u001b[39m \u001b[38;5;28mself\u001b[39m\u001b[38;5;241m.\u001b[39mbest_threshold:\n\u001b[0;32m--> 497\u001b[0m     \u001b[38;5;28;01mreturn\u001b[39;00m \u001b[38;5;28;43mself\u001b[39;49m\u001b[38;5;241;43m.\u001b[39;49m\u001b[43mchildren\u001b[49m\u001b[43m[\u001b[49m\u001b[38;5;241;43m0\u001b[39;49m\u001b[43m]\u001b[49m\u001b[38;5;241;43m.\u001b[39;49m\u001b[43mpredict_proba_cif\u001b[49m\u001b[43m(\u001b[49m\n\u001b[1;32m    498\u001b[0m \u001b[43m        \u001b[49m\u001b[43mX\u001b[49m\u001b[43m,\u001b[49m\n\u001b[1;32m    499\u001b[0m \u001b[43m        \u001b[49m\u001b[43mc22\u001b[49m\u001b[43m,\u001b[49m\n\u001b[1;32m    500\u001b[0m \u001b[43m        \u001b[49m\u001b[43mintervals\u001b[49m\u001b[43m,\u001b[49m\n\u001b[1;32m    501\u001b[0m \u001b[43m        \u001b[49m\u001b[43mdims\u001b[49m\u001b[43m,\u001b[49m\n\u001b[1;32m    502\u001b[0m \u001b[43m        \u001b[49m\u001b[43matts\u001b[49m\u001b[43m,\u001b[49m\n\u001b[1;32m    503\u001b[0m \u001b[43m        \u001b[49m\u001b[43mn_classes\u001b[49m\u001b[43m,\u001b[49m\n\u001b[1;32m    504\u001b[0m \u001b[43m    \u001b[49m\u001b[43m)\u001b[49m\n\u001b[1;32m    505\u001b[0m \u001b[38;5;28;01melif\u001b[39;00m value \u001b[38;5;241m>\u001b[39m \u001b[38;5;28mself\u001b[39m\u001b[38;5;241m.\u001b[39mbest_threshold:\n\u001b[1;32m    506\u001b[0m     \u001b[38;5;28;01mreturn\u001b[39;00m \u001b[38;5;28mself\u001b[39m\u001b[38;5;241m.\u001b[39mchildren[\u001b[38;5;241m1\u001b[39m]\u001b[38;5;241m.\u001b[39mpredict_proba_cif(\n\u001b[1;32m    507\u001b[0m         X,\n\u001b[1;32m    508\u001b[0m         c22,\n\u001b[0;32m   (...)\u001b[0m\n\u001b[1;32m    512\u001b[0m         n_classes,\n\u001b[1;32m    513\u001b[0m     )\n",
      "    \u001b[0;31m[... skipping similar frames: _TreeNode.predict_proba_cif at line 506 (3 times), _TreeNode.predict_proba_cif at line 497 (1 times)]\u001b[0m\n",
      "File \u001b[0;32m~/opt/anaconda3/lib/python3.9/site-packages/sktime/classification/sklearn/_continuous_interval_tree.py:497\u001b[0m, in \u001b[0;36m_TreeNode.predict_proba_cif\u001b[0;34m(self, X, c22, intervals, dims, atts, n_classes)\u001b[0m\n\u001b[1;32m    494\u001b[0m value \u001b[38;5;241m=\u001b[39m np\u001b[38;5;241m.\u001b[39mnan_to_num(value, \u001b[38;5;28;01mFalse\u001b[39;00m, posinf\u001b[38;5;241m=\u001b[39mnp\u001b[38;5;241m.\u001b[39mnan, neginf\u001b[38;5;241m=\u001b[39mnp\u001b[38;5;241m.\u001b[39mnan)\n\u001b[1;32m    496\u001b[0m \u001b[38;5;28;01mif\u001b[39;00m value \u001b[38;5;241m<\u001b[39m\u001b[38;5;241m=\u001b[39m \u001b[38;5;28mself\u001b[39m\u001b[38;5;241m.\u001b[39mbest_threshold:\n\u001b[0;32m--> 497\u001b[0m     \u001b[38;5;28;01mreturn\u001b[39;00m \u001b[38;5;28;43mself\u001b[39;49m\u001b[38;5;241;43m.\u001b[39;49m\u001b[43mchildren\u001b[49m\u001b[43m[\u001b[49m\u001b[38;5;241;43m0\u001b[39;49m\u001b[43m]\u001b[49m\u001b[38;5;241;43m.\u001b[39;49m\u001b[43mpredict_proba_cif\u001b[49m\u001b[43m(\u001b[49m\n\u001b[1;32m    498\u001b[0m \u001b[43m        \u001b[49m\u001b[43mX\u001b[49m\u001b[43m,\u001b[49m\n\u001b[1;32m    499\u001b[0m \u001b[43m        \u001b[49m\u001b[43mc22\u001b[49m\u001b[43m,\u001b[49m\n\u001b[1;32m    500\u001b[0m \u001b[43m        \u001b[49m\u001b[43mintervals\u001b[49m\u001b[43m,\u001b[49m\n\u001b[1;32m    501\u001b[0m \u001b[43m        \u001b[49m\u001b[43mdims\u001b[49m\u001b[43m,\u001b[49m\n\u001b[1;32m    502\u001b[0m \u001b[43m        \u001b[49m\u001b[43matts\u001b[49m\u001b[43m,\u001b[49m\n\u001b[1;32m    503\u001b[0m \u001b[43m        \u001b[49m\u001b[43mn_classes\u001b[49m\u001b[43m,\u001b[49m\n\u001b[1;32m    504\u001b[0m \u001b[43m    \u001b[49m\u001b[43m)\u001b[49m\n\u001b[1;32m    505\u001b[0m \u001b[38;5;28;01melif\u001b[39;00m value \u001b[38;5;241m>\u001b[39m \u001b[38;5;28mself\u001b[39m\u001b[38;5;241m.\u001b[39mbest_threshold:\n\u001b[1;32m    506\u001b[0m     \u001b[38;5;28;01mreturn\u001b[39;00m \u001b[38;5;28mself\u001b[39m\u001b[38;5;241m.\u001b[39mchildren[\u001b[38;5;241m1\u001b[39m]\u001b[38;5;241m.\u001b[39mpredict_proba_cif(\n\u001b[1;32m    507\u001b[0m         X,\n\u001b[1;32m    508\u001b[0m         c22,\n\u001b[0;32m   (...)\u001b[0m\n\u001b[1;32m    512\u001b[0m         n_classes,\n\u001b[1;32m    513\u001b[0m     )\n",
      "File \u001b[0;32m~/opt/anaconda3/lib/python3.9/site-packages/sktime/classification/sklearn/_continuous_interval_tree.py:506\u001b[0m, in \u001b[0;36m_TreeNode.predict_proba_cif\u001b[0;34m(self, X, c22, intervals, dims, atts, n_classes)\u001b[0m\n\u001b[1;32m    497\u001b[0m     \u001b[38;5;28;01mreturn\u001b[39;00m \u001b[38;5;28mself\u001b[39m\u001b[38;5;241m.\u001b[39mchildren[\u001b[38;5;241m0\u001b[39m]\u001b[38;5;241m.\u001b[39mpredict_proba_cif(\n\u001b[1;32m    498\u001b[0m         X,\n\u001b[1;32m    499\u001b[0m         c22,\n\u001b[0;32m   (...)\u001b[0m\n\u001b[1;32m    503\u001b[0m         n_classes,\n\u001b[1;32m    504\u001b[0m     )\n\u001b[1;32m    505\u001b[0m \u001b[38;5;28;01melif\u001b[39;00m value \u001b[38;5;241m>\u001b[39m \u001b[38;5;28mself\u001b[39m\u001b[38;5;241m.\u001b[39mbest_threshold:\n\u001b[0;32m--> 506\u001b[0m     \u001b[38;5;28;01mreturn\u001b[39;00m \u001b[38;5;28;43mself\u001b[39;49m\u001b[38;5;241;43m.\u001b[39;49m\u001b[43mchildren\u001b[49m\u001b[43m[\u001b[49m\u001b[38;5;241;43m1\u001b[39;49m\u001b[43m]\u001b[49m\u001b[38;5;241;43m.\u001b[39;49m\u001b[43mpredict_proba_cif\u001b[49m\u001b[43m(\u001b[49m\n\u001b[1;32m    507\u001b[0m \u001b[43m        \u001b[49m\u001b[43mX\u001b[49m\u001b[43m,\u001b[49m\n\u001b[1;32m    508\u001b[0m \u001b[43m        \u001b[49m\u001b[43mc22\u001b[49m\u001b[43m,\u001b[49m\n\u001b[1;32m    509\u001b[0m \u001b[43m        \u001b[49m\u001b[43mintervals\u001b[49m\u001b[43m,\u001b[49m\n\u001b[1;32m    510\u001b[0m \u001b[43m        \u001b[49m\u001b[43mdims\u001b[49m\u001b[43m,\u001b[49m\n\u001b[1;32m    511\u001b[0m \u001b[43m        \u001b[49m\u001b[43matts\u001b[49m\u001b[43m,\u001b[49m\n\u001b[1;32m    512\u001b[0m \u001b[43m        \u001b[49m\u001b[43mn_classes\u001b[49m\u001b[43m,\u001b[49m\n\u001b[1;32m    513\u001b[0m \u001b[43m    \u001b[49m\u001b[43m)\u001b[49m\n\u001b[1;32m    514\u001b[0m \u001b[38;5;28;01melse\u001b[39;00m:\n\u001b[1;32m    515\u001b[0m     \u001b[38;5;28;01mreturn\u001b[39;00m \u001b[38;5;28mself\u001b[39m\u001b[38;5;241m.\u001b[39mchildren[\u001b[38;5;241m2\u001b[39m]\u001b[38;5;241m.\u001b[39mpredict_proba_cif(\n\u001b[1;32m    516\u001b[0m         X,\n\u001b[1;32m    517\u001b[0m         c22,\n\u001b[0;32m   (...)\u001b[0m\n\u001b[1;32m    521\u001b[0m         n_classes,\n\u001b[1;32m    522\u001b[0m     )\n",
      "File \u001b[0;32m~/opt/anaconda3/lib/python3.9/site-packages/sktime/classification/sklearn/_continuous_interval_tree.py:494\u001b[0m, in \u001b[0;36m_TreeNode.predict_proba_cif\u001b[0;34m(self, X, c22, intervals, dims, atts, n_classes)\u001b[0m\n\u001b[1;32m    490\u001b[0m value \u001b[38;5;241m=\u001b[39m _drcif_feature(\n\u001b[1;32m    491\u001b[0m     X, intervals[interval], dims[interval], atts[att], c22\n\u001b[1;32m    492\u001b[0m )\n\u001b[1;32m    493\u001b[0m value \u001b[38;5;241m=\u001b[39m value\u001b[38;5;241m.\u001b[39mround(\u001b[38;5;241m8\u001b[39m)\n\u001b[0;32m--> 494\u001b[0m value \u001b[38;5;241m=\u001b[39m \u001b[43mnp\u001b[49m\u001b[38;5;241;43m.\u001b[39;49m\u001b[43mnan_to_num\u001b[49m\u001b[43m(\u001b[49m\u001b[43mvalue\u001b[49m\u001b[43m,\u001b[49m\u001b[43m \u001b[49m\u001b[38;5;28;43;01mFalse\u001b[39;49;00m\u001b[43m,\u001b[49m\u001b[43m \u001b[49m\u001b[43mposinf\u001b[49m\u001b[38;5;241;43m=\u001b[39;49m\u001b[43mnp\u001b[49m\u001b[38;5;241;43m.\u001b[39;49m\u001b[43mnan\u001b[49m\u001b[43m,\u001b[49m\u001b[43m \u001b[49m\u001b[43mneginf\u001b[49m\u001b[38;5;241;43m=\u001b[39;49m\u001b[43mnp\u001b[49m\u001b[38;5;241;43m.\u001b[39;49m\u001b[43mnan\u001b[49m\u001b[43m)\u001b[49m\n\u001b[1;32m    496\u001b[0m \u001b[38;5;28;01mif\u001b[39;00m value \u001b[38;5;241m<\u001b[39m\u001b[38;5;241m=\u001b[39m \u001b[38;5;28mself\u001b[39m\u001b[38;5;241m.\u001b[39mbest_threshold:\n\u001b[1;32m    497\u001b[0m     \u001b[38;5;28;01mreturn\u001b[39;00m \u001b[38;5;28mself\u001b[39m\u001b[38;5;241m.\u001b[39mchildren[\u001b[38;5;241m0\u001b[39m]\u001b[38;5;241m.\u001b[39mpredict_proba_cif(\n\u001b[1;32m    498\u001b[0m         X,\n\u001b[1;32m    499\u001b[0m         c22,\n\u001b[0;32m   (...)\u001b[0m\n\u001b[1;32m    503\u001b[0m         n_classes,\n\u001b[1;32m    504\u001b[0m     )\n",
      "File \u001b[0;32m<__array_function__ internals>:5\u001b[0m, in \u001b[0;36mnan_to_num\u001b[0;34m(*args, **kwargs)\u001b[0m\n",
      "File \u001b[0;32m~/opt/anaconda3/lib/python3.9/site-packages/numpy/lib/type_check.py:472\u001b[0m, in \u001b[0;36mnan_to_num\u001b[0;34m(x, copy, nan, posinf, neginf)\u001b[0m\n\u001b[1;32m    469\u001b[0m iscomplex \u001b[38;5;241m=\u001b[39m \u001b[38;5;28missubclass\u001b[39m(xtype, _nx\u001b[38;5;241m.\u001b[39mcomplexfloating)\n\u001b[1;32m    471\u001b[0m dest \u001b[38;5;241m=\u001b[39m (x\u001b[38;5;241m.\u001b[39mreal, x\u001b[38;5;241m.\u001b[39mimag) \u001b[38;5;28;01mif\u001b[39;00m iscomplex \u001b[38;5;28;01melse\u001b[39;00m (x,)\n\u001b[0;32m--> 472\u001b[0m maxf, minf \u001b[38;5;241m=\u001b[39m \u001b[43m_getmaxmin\u001b[49m\u001b[43m(\u001b[49m\u001b[43mx\u001b[49m\u001b[38;5;241;43m.\u001b[39;49m\u001b[43mreal\u001b[49m\u001b[38;5;241;43m.\u001b[39;49m\u001b[43mdtype\u001b[49m\u001b[43m)\u001b[49m\n\u001b[1;32m    473\u001b[0m \u001b[38;5;28;01mif\u001b[39;00m posinf \u001b[38;5;129;01mis\u001b[39;00m \u001b[38;5;129;01mnot\u001b[39;00m \u001b[38;5;28;01mNone\u001b[39;00m:\n\u001b[1;32m    474\u001b[0m     maxf \u001b[38;5;241m=\u001b[39m posinf\n",
      "File \u001b[0;32m~/opt/anaconda3/lib/python3.9/site-packages/numpy/lib/type_check.py:359\u001b[0m, in \u001b[0;36m_getmaxmin\u001b[0;34m(t)\u001b[0m\n\u001b[1;32m    357\u001b[0m \u001b[38;5;28;01mdef\u001b[39;00m \u001b[38;5;21m_getmaxmin\u001b[39m(t):\n\u001b[1;32m    358\u001b[0m     \u001b[38;5;28;01mfrom\u001b[39;00m \u001b[38;5;21;01mnumpy\u001b[39;00m\u001b[38;5;21;01m.\u001b[39;00m\u001b[38;5;21;01mcore\u001b[39;00m \u001b[38;5;28;01mimport\u001b[39;00m getlimits\n\u001b[0;32m--> 359\u001b[0m     f \u001b[38;5;241m=\u001b[39m \u001b[43mgetlimits\u001b[49m\u001b[38;5;241;43m.\u001b[39;49m\u001b[43mfinfo\u001b[49m\u001b[43m(\u001b[49m\u001b[43mt\u001b[49m\u001b[43m)\u001b[49m\n\u001b[1;32m    360\u001b[0m     \u001b[38;5;28;01mreturn\u001b[39;00m f\u001b[38;5;241m.\u001b[39mmax, f\u001b[38;5;241m.\u001b[39mmin\n",
      "File \u001b[0;32m~/opt/anaconda3/lib/python3.9/site-packages/numpy/core/getlimits.py:389\u001b[0m, in \u001b[0;36mfinfo.__new__\u001b[0;34m(cls, dtype)\u001b[0m\n\u001b[1;32m    385\u001b[0m \u001b[38;5;28;01mexcept\u001b[39;00m \u001b[38;5;167;01mTypeError\u001b[39;00m:\n\u001b[1;32m    386\u001b[0m     \u001b[38;5;66;03m# In case a float instance was given\u001b[39;00m\n\u001b[1;32m    387\u001b[0m     dtype \u001b[38;5;241m=\u001b[39m numeric\u001b[38;5;241m.\u001b[39mdtype(\u001b[38;5;28mtype\u001b[39m(dtype))\n\u001b[0;32m--> 389\u001b[0m obj \u001b[38;5;241m=\u001b[39m \u001b[38;5;28;43mcls\u001b[39;49m\u001b[38;5;241;43m.\u001b[39;49m\u001b[43m_finfo_cache\u001b[49m\u001b[38;5;241;43m.\u001b[39;49m\u001b[43mget\u001b[49m\u001b[43m(\u001b[49m\u001b[43mdtype\u001b[49m\u001b[43m,\u001b[49m\u001b[43m \u001b[49m\u001b[38;5;28;43;01mNone\u001b[39;49;00m\u001b[43m)\u001b[49m\n\u001b[1;32m    390\u001b[0m \u001b[38;5;28;01mif\u001b[39;00m obj \u001b[38;5;129;01mis\u001b[39;00m \u001b[38;5;129;01mnot\u001b[39;00m \u001b[38;5;28;01mNone\u001b[39;00m:\n\u001b[1;32m    391\u001b[0m     \u001b[38;5;28;01mreturn\u001b[39;00m obj\n",
      "\u001b[0;31mKeyboardInterrupt\u001b[0m: "
     ]
    }
   ],
   "source": [
    "acc = []\n",
    "f1 = []\n",
    "for i in range(1, 30):\n",
    "    clf = CanonicalIntervalForest(n_estimators=i)\n",
    "    clf.fit(X_train_decimated_scaled_max, y_train_em)\n",
    "    y_pred = clf.predict(X_test_decimated_scaled_max)\n",
    "    acc.append(accuracy_score(y_test_em, y_pred))\n",
    "    f1.append(f1_score(y_test_em, y_pred, average=None))\n",
    "#30 estimatori = 6 minuti 0.24\n",
    "#20 estimatori = 4 minuti 0.26\n",
    "#10 estimatori = 2 minuti 0.22"
   ]
  },
  {
   "cell_type": "code",
   "execution_count": 21,
   "id": "ca120cd0",
   "metadata": {},
   "outputs": [
    {
     "data": {
      "text/plain": [
       "<function matplotlib.pyplot.show(close=None, block=None)>"
      ]
     },
     "execution_count": 21,
     "metadata": {},
     "output_type": "execute_result"
    },
    {
     "data": {
      "image/png": "[encoded data removed]",
      "text/plain": [
       "<Figure size 432x288 with 1 Axes>"
      ]
     },
     "metadata": {
      "needs_background": "light"
     },
     "output_type": "display_data"
    }
   ],
   "source": [
    "plt.plot(acc)\n",
    "plt.show"
   ]
  },
  {
   "cell_type": "code",
   "execution_count": 24,
   "id": "77a83fce",
   "metadata": {},
   "outputs": [
    {
     "data": {
      "text/html": [
       "<style>#sk-3008b48a-d35c-4517-88c4-a792c8b59294 {color: black;background-color: white;}#sk-3008b48a-d35c-4517-88c4-a792c8b59294 pre{padding: 0;}#sk-3008b48a-d35c-4517-88c4-a792c8b59294 div.sk-toggleable {background-color: white;}#sk-3008b48a-d35c-4517-88c4-a792c8b59294 label.sk-toggleable__label {cursor: pointer;display: block;width: 100%;margin-bottom: 0;padding: 0.3em;box-sizing: border-box;text-align: center;}#sk-3008b48a-d35c-4517-88c4-a792c8b59294 label.sk-toggleable__label-arrow:before {content: \"▸\";float: left;margin-right: 0.25em;color: #696969;}#sk-3008b48a-d35c-4517-88c4-a792c8b59294 label.sk-toggleable__label-arrow:hover:before {color: black;}#sk-3008b48a-d35c-4517-88c4-a792c8b59294 div.sk-estimator:hover label.sk-toggleable__label-arrow:before {color: black;}#sk-3008b48a-d35c-4517-88c4-a792c8b59294 div.sk-toggleable__content {max-height: 0;max-width: 0;overflow: hidden;text-align: left;background-color: #f0f8ff;}#sk-3008b48a-d35c-4517-88c4-a792c8b59294 div.sk-toggleable__content pre {margin: 0.2em;color: black;border-radius: 0.25em;background-color: #f0f8ff;}#sk-3008b48a-d35c-4517-88c4-a792c8b59294 input.sk-toggleable__control:checked~div.sk-toggleable__content {max-height: 200px;max-width: 100%;overflow: auto;}#sk-3008b48a-d35c-4517-88c4-a792c8b59294 input.sk-toggleable__control:checked~label.sk-toggleable__label-arrow:before {content: \"▾\";}#sk-3008b48a-d35c-4517-88c4-a792c8b59294 div.sk-estimator input.sk-toggleable__control:checked~label.sk-toggleable__label {background-color: #d4ebff;}#sk-3008b48a-d35c-4517-88c4-a792c8b59294 div.sk-label input.sk-toggleable__control:checked~label.sk-toggleable__label {background-color: #d4ebff;}#sk-3008b48a-d35c-4517-88c4-a792c8b59294 input.sk-hidden--visually {border: 0;clip: rect(1px 1px 1px 1px);clip: rect(1px, 1px, 1px, 1px);height: 1px;margin: -1px;overflow: hidden;padding: 0;position: absolute;width: 1px;}#sk-3008b48a-d35c-4517-88c4-a792c8b59294 div.sk-estimator {font-family: monospace;background-color: #f0f8ff;border: 1px dotted black;border-radius: 0.25em;box-sizing: border-box;margin-bottom: 0.5em;}#sk-3008b48a-d35c-4517-88c4-a792c8b59294 div.sk-estimator:hover {background-color: #d4ebff;}#sk-3008b48a-d35c-4517-88c4-a792c8b59294 div.sk-parallel-item::after {content: \"\";width: 100%;border-bottom: 1px solid gray;flex-grow: 1;}#sk-3008b48a-d35c-4517-88c4-a792c8b59294 div.sk-label:hover label.sk-toggleable__label {background-color: #d4ebff;}#sk-3008b48a-d35c-4517-88c4-a792c8b59294 div.sk-serial::before {content: \"\";position: absolute;border-left: 1px solid gray;box-sizing: border-box;top: 2em;bottom: 0;left: 50%;}#sk-3008b48a-d35c-4517-88c4-a792c8b59294 div.sk-serial {display: flex;flex-direction: column;align-items: center;background-color: white;padding-right: 0.2em;padding-left: 0.2em;}#sk-3008b48a-d35c-4517-88c4-a792c8b59294 div.sk-item {z-index: 1;}#sk-3008b48a-d35c-4517-88c4-a792c8b59294 div.sk-parallel {display: flex;align-items: stretch;justify-content: center;background-color: white;}#sk-3008b48a-d35c-4517-88c4-a792c8b59294 div.sk-parallel::before {content: \"\";position: absolute;border-left: 1px solid gray;box-sizing: border-box;top: 2em;bottom: 0;left: 50%;}#sk-3008b48a-d35c-4517-88c4-a792c8b59294 div.sk-parallel-item {display: flex;flex-direction: column;position: relative;background-color: white;}#sk-3008b48a-d35c-4517-88c4-a792c8b59294 div.sk-parallel-item:first-child::after {align-self: flex-end;width: 50%;}#sk-3008b48a-d35c-4517-88c4-a792c8b59294 div.sk-parallel-item:last-child::after {align-self: flex-start;width: 50%;}#sk-3008b48a-d35c-4517-88c4-a792c8b59294 div.sk-parallel-item:only-child::after {width: 0;}#sk-3008b48a-d35c-4517-88c4-a792c8b59294 div.sk-dashed-wrapped {border: 1px dashed gray;margin: 0 0.4em 0.5em 0.4em;box-sizing: border-box;padding-bottom: 0.4em;background-color: white;position: relative;}#sk-3008b48a-d35c-4517-88c4-a792c8b59294 div.sk-label label {font-family: monospace;font-weight: bold;background-color: white;display: inline-block;line-height: 1.2em;}#sk-3008b48a-d35c-4517-88c4-a792c8b59294 div.sk-label-container {position: relative;z-index: 2;text-align: center;}#sk-3008b48a-d35c-4517-88c4-a792c8b59294 div.sk-container {/* jupyter's `normalize.less` sets `[hidden] { display: none; }` but bootstrap.min.css set `[hidden] { display: none !important; }` so we also need the `!important` here to be able to override the default hidden behavior on the sphinx rendered scikit-learn.org. See: https://github.com/scikit-learn/scikit-learn/issues/21755 */display: inline-block !important;position: relative;}#sk-3008b48a-d35c-4517-88c4-a792c8b59294 div.sk-text-repr-fallback {display: none;}</style><div id='sk-3008b48a-d35c-4517-88c4-a792c8b59294' class=\"sk-top-container\"><div class=\"sk-text-repr-fallback\"><pre>CanonicalIntervalForest(n_estimators=24)</pre><b>Please rerun this cell to show the HTML repr or trust the notebook.</b></div><div class=\"sk-container\" hidden><div class='sk-item'><div class=\"sk-estimator sk-toggleable\"><input class=\"sk-toggleable__control sk-hidden--visually\" id=UUID('8f7be660-271b-4657-bdf7-4149f87b24e3') type=\"checkbox\" checked><label for=UUID('8f7be660-271b-4657-bdf7-4149f87b24e3') class='sk-toggleable__label sk-toggleable__label-arrow'>CanonicalIntervalForest</label><div class=\"sk-toggleable__content\"><pre>CanonicalIntervalForest(n_estimators=24)</pre></div></div></div></div></div>"
      ],
      "text/plain": [
       "CanonicalIntervalForest(n_estimators=24)"
      ]
     },
     "execution_count": 24,
     "metadata": {},
     "output_type": "execute_result"
    }
   ],
   "source": [
    "clf = CanonicalIntervalForest(n_estimators=24)\n",
    "clf.fit(X_train_decimated_scaled_max, y_train_em)"
   ]
  },
  {
   "cell_type": "code",
   "execution_count": 25,
   "id": "f05fd058",
   "metadata": {},
   "outputs": [
    {
     "name": "stdout",
     "output_type": "stream",
     "text": [
      "Accuracy 0.28525641025641024\n",
      "F1-score [0.39631336 0.40707965 0.13888889 0.22340426 0.22009569 0.14084507\n",
      " 0.29896907 0.16901408]\n",
      "              precision    recall  f1-score   support\n",
      "\n",
      "       angry       0.36      0.45      0.40        96\n",
      "        calm       0.35      0.48      0.41        96\n",
      "     disgust       0.21      0.10      0.14        48\n",
      "     fearful       0.23      0.22      0.22        96\n",
      "       happy       0.20      0.24      0.22        96\n",
      "     neutral       0.22      0.10      0.14        48\n",
      "         sad       0.30      0.30      0.30        96\n",
      "   surprised       0.26      0.12      0.17        48\n",
      "\n",
      "    accuracy                           0.29       624\n",
      "   macro avg       0.27      0.25      0.25       624\n",
      "weighted avg       0.27      0.29      0.27       624\n",
      "\n"
     ]
    }
   ],
   "source": [
    "y_pred = clf.predict(X_test_decimated_scaled_max)\n",
    "print('Accuracy %s' % accuracy_score(y_test_em, y_pred))\n",
    "print('F1-score %s' % f1_score(y_test_em, y_pred, average=None))\n",
    "print(classification_report(y_test_em, y_pred))"
   ]
  },
  {
   "cell_type": "code",
   "execution_count": null,
   "id": "e86eaae1",
   "metadata": {},
   "outputs": [],
   "source": []
  },
  {
   "cell_type": "markdown",
   "id": "eae066ab",
   "metadata": {},
   "source": [
    "# shapelet"
   ]
  },
  {
   "cell_type": "code",
   "execution_count": null,
   "id": "5f6ea14a",
   "metadata": {},
   "outputs": [],
   "source": [
    "from sklearn.neighbors import KNeighborsClassifier\n",
    "from pyts.datasets import load_gunpoint\n",
    "from pyts.classification import LearningShapelets"
   ]
  },
  {
   "cell_type": "code",
   "execution_count": null,
   "id": "01375589",
   "metadata": {},
   "outputs": [],
   "source": [
    "from sklearn.neighbors import KNeighborsClassifier\n",
    "from pyts.datasets import load_gunpoint\n",
    "from pyts.classification import LearningShapelets"
   ]
  },
  {
   "cell_type": "code",
   "execution_count": null,
   "id": "e781e1b4",
   "metadata": {},
   "outputs": [],
   "source": [
    "knn = KNeighborsClassifier(n_neighbors=3)"
   ]
  },
  {
   "cell_type": "code",
   "execution_count": null,
   "id": "07ad4b05",
   "metadata": {},
   "outputs": [],
   "source": [
    "clf = LearningShapelets(n_shapelets=3, window_sizes=[20, 40, 60], \n",
    "                        time_contract_in_mins=0.5, n_jobs=1, \n",
    "                        random_state=42, verbose=0, \n",
    "                        learning_algorithm=knn)\n"
   ]
  },
  {
   "cell_type": "code",
   "execution_count": null,
   "id": "cb9b48ff",
   "metadata": {},
   "outputs": [],
   "source": [
    "clf.fit(X_train_decimated_scaled_max, y_train_em)"
   ]
  },
  {
   "cell_type": "code",
   "execution_count": null,
   "id": "a50fd1ca",
   "metadata": {},
   "outputs": [],
   "source": [
    "y_pred = clf.predict(X_test_decimated_scaled_max)"
   ]
  },
  {
   "cell_type": "code",
   "execution_count": null,
   "id": "2aaace72",
   "metadata": {},
   "outputs": [],
   "source": [
    "accuracy = np.mean(y_pred == y_test_em) * 100\n",
    "print(\"Accuracy:\", accuracy)"
   ]
  }
 ],
 "metadata": {
  "kernelspec": {
   "display_name": "Python 3 (ipykernel)",
   "language": "python",
   "name": "python3"
  },
  "language_info": {
   "codemirror_mode": {
    "name": "ipython",
    "version": 3
   },
   "file_extension": ".py",
   "mimetype": "text/x-python",
   "name": "python",
   "nbconvert_exporter": "python",
   "pygments_lexer": "ipython3",
   "version": "3.9.12"
  }
 },
 "nbformat": 4,
 "nbformat_minor": 5
}
