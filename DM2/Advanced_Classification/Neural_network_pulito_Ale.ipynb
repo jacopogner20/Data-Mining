{
 "cells": [
  {
   "cell_type": "code",
   "execution_count": null,
   "metadata": {},
   "outputs": [],
   "source": []
  },
  {
   "cell_type": "code",
   "execution_count": 1,
   "metadata": {},
   "outputs": [
    {
     "data": {
      "text/plain": [
       "'\\nfrom tensorflow import keras\\n\\nfrom keras.models import Sequential\\nfrom keras.layers import Dense, Dropout\\nfrom scikeras.wrappers import KerasClassifier\\nfrom keras.callbacks import EarlyStopping, ModelCheckpoint\\nfrom keras.regularizers import l2\\nfrom tensorflow.keras.constraints import MaxNorm\\n'"
      ]
     },
     "execution_count": 1,
     "metadata": {},
     "output_type": "execute_result"
    }
   ],
   "source": [
    "import numpy as np\n",
    "import pandas as pd\n",
    "import matplotlib.pyplot as plt\n",
    "\n",
    "from collections import defaultdict\n",
    "\n",
    "from sklearn.feature_selection import SelectKBest\n",
    "from sklearn.preprocessing import StandardScaler\n",
    "\n",
    "from sklearn.neural_network import MLPClassifier\n",
    "\n",
    "from sklearn.model_selection import cross_val_score, cross_val_predict\n",
    "from sklearn.model_selection import RepeatedStratifiedKFold\n",
    "\n",
    "from sklearn.model_selection import RandomizedSearchCV, GridSearchCV, train_test_split\n",
    "\n",
    "from sklearn.metrics import accuracy_score, f1_score, classification_report\n",
    "from sklearn.metrics import roc_curve, auc, roc_auc_score\n",
    "from sklearn.metrics import log_loss\n",
    "\n",
    "'''\n",
    "from tensorflow import keras\n",
    "\n",
    "from keras.models import Sequential\n",
    "from keras.layers import Dense, Dropout\n",
    "from scikeras.wrappers import KerasClassifier\n",
    "from keras.callbacks import EarlyStopping, ModelCheckpoint\n",
    "from keras.regularizers import l2\n",
    "from tensorflow.keras.constraints import MaxNorm\n",
    "'''"
   ]
  },
  {
   "cell_type": "code",
   "execution_count": 2,
   "metadata": {},
   "outputs": [],
   "source": [
    "import seaborn as sns\n",
    "from sklearn.metrics import (\n",
    "    accuracy_score,\n",
    "    f1_score,\n",
    "    classification_report,\n",
    "    confusion_matrix,\n",
    "    roc_auc_score,\n",
    ")\n",
    "from scikitplot.metrics import plot_roc\n",
    "from sklearn.metrics import roc_curve, auc, roc_auc_score\n",
    "import time"
   ]
  },
  {
   "cell_type": "code",
   "execution_count": 3,
   "metadata": {},
   "outputs": [],
   "source": [
    "df_train=pd.read_csv(\"../ravdess_features_train_pulito.csv\")\n",
    "df_test=pd.read_csv(\"../ravdess_features_test_pulito.csv\")\n",
    "\n",
    "df_train[\"emotion\"]=df_train[\"emotion\"].replace([\"fearful\", \"angry\", \"happy\", \"surprised\", \"neutral\", \"calm\", \"sad\", \"disgust\"],[0,1,2,3,4,5,6,7])\n",
    "df_train[\"emotional_intensity\"]=df_train[\"emotional_intensity\"].replace([\"normal\", \"strong\"],[0,1])\n",
    "df_train[\"sex\"]=df_train[\"sex\"].replace([\"M\", \"F\"],[0,1])\n",
    "df_train[\"statement\"]=df_train[\"statement\"].replace([\"Dogs are sitting by the door\", \"Kids are talking by the door\"],[0,1])\n",
    "df_train[\"vocal_channel\"]=df_train[\"vocal_channel\"].replace([\"speech\", \"song\"],[0,1])\n",
    "\n",
    "df_test[\"emotion\"]=df_test[\"emotion\"].replace([\"fearful\", \"angry\", \"happy\", \"surprised\", \"neutral\", \"calm\", \"sad\", \"disgust\"],[0,1,2,3,4,5,6,7])\n",
    "df_test[\"emotional_intensity\"]=df_test[\"emotional_intensity\"].replace([\"normal\", \"strong\"],[0,1])\n",
    "df_test[\"sex\"]=df_test[\"sex\"].replace([\"M\", \"F\"],[0,1])\n",
    "df_test[\"statement\"]=df_test[\"statement\"].replace([\"Dogs are sitting by the door\", \"Kids are talking by the door\"],[0,1])\n",
    "df_test[\"vocal_channel\"]=df_test[\"vocal_channel\"].replace([\"speech\", \"song\"],[0,1])"
   ]
  },
  {
   "cell_type": "markdown",
   "metadata": {},
   "source": [
    "### Outliers dropping"
   ]
  },
  {
   "cell_type": "code",
   "execution_count": 4,
   "metadata": {},
   "outputs": [],
   "source": [
    "df_train.drop(axis=\"index\", labels=[35,243,451,554,563,658,659,1031,1075,1283], inplace=True)\n",
    "X_train=df_train.drop(columns=[\"emotion\"]).values\n",
    "y_train=df_train.emotion.values\n",
    "\n",
    "df_test.drop(axis=\"index\", labels=[33,34,138,196,197,198,199], inplace=True)\n",
    "X_test=df_test.drop(columns=[\"emotion\"]).values\n",
    "y_test=df_test.emotion.values"
   ]
  },
  {
   "cell_type": "markdown",
   "metadata": {},
   "source": [
    "### Features selection (da implementare)"
   ]
  },
  {
   "cell_type": "code",
   "execution_count": 5,
   "metadata": {},
   "outputs": [
    {
     "name": "stderr",
     "output_type": "stream",
     "text": [
      "/Users/jacopogneri/opt/anaconda3/lib/python3.9/site-packages/sklearn/feature_selection/_univariate_selection.py:112: UserWarning: Features [108] are constant.\n",
      "  warnings.warn(\"Features %s are constant.\" % constant_features_idx, UserWarning)\n",
      "/Users/jacopogneri/opt/anaconda3/lib/python3.9/site-packages/sklearn/feature_selection/_univariate_selection.py:113: RuntimeWarning: invalid value encountered in true_divide\n",
      "  f = msb / msw\n"
     ]
    }
   ],
   "source": [
    "sel = SelectKBest(k=108)\n",
    "X_train_sel = sel.fit_transform(X_train, y_train)\n",
    "X_test_sel = sel.transform(X_test)"
   ]
  },
  {
   "cell_type": "code",
   "execution_count": null,
   "metadata": {},
   "outputs": [],
   "source": []
  },
  {
   "cell_type": "markdown",
   "metadata": {},
   "source": [
    "### Scaling"
   ]
  },
  {
   "cell_type": "code",
   "execution_count": 6,
   "metadata": {},
   "outputs": [],
   "source": [
    "scl = StandardScaler()\n",
    "X_train = scl.fit_transform(X_train_sel)\n",
    "X_test = scl.transform(X_test_sel)"
   ]
  },
  {
   "cell_type": "code",
   "execution_count": 7,
   "metadata": {},
   "outputs": [
    {
     "data": {
      "text/plain": [
       "(617, 108)"
      ]
     },
     "execution_count": 7,
     "metadata": {},
     "output_type": "execute_result"
    }
   ],
   "source": [
    "X_test.shape"
   ]
  },
  {
   "cell_type": "markdown",
   "metadata": {},
   "source": [
    "# Multilayer Perceptron"
   ]
  },
  {
   "cell_type": "markdown",
   "metadata": {},
   "source": [
    "### Formula empirica 1"
   ]
  },
  {
   "cell_type": "markdown",
   "metadata": {},
   "source": [
    "$size_{layer}=\\sqrt{input*output}$ da cui per 2 layers:\n",
    "\n",
    "\\begin{cases}\n",
    "    size_1 = \\sqrt{input*size_2} \\\\\n",
    "    size_2 = \\sqrt{size_1*output}\n",
    "\\end{cases}\n",
    "\n",
    "risolvendo si ha:\n",
    "\n",
    "\\begin{cases}\n",
    "    size_1 = (input^2*output)^{1/3} \\\\\n",
    "    size_2 = (input*output^2)^{1/3}\n",
    "\\end{cases}"
   ]
  },
  {
   "cell_type": "markdown",
   "metadata": {},
   "source": [
    "Per 2 layers:"
   ]
  },
  {
   "cell_type": "code",
   "execution_count": 8,
   "metadata": {},
   "outputs": [
    {
     "data": {
      "text/plain": [
       "(45.357157796215425, 19.048812623618392)"
      ]
     },
     "execution_count": 8,
     "metadata": {},
     "output_type": "execute_result"
    }
   ],
   "source": [
    "layer_size_1 = ((X_train.shape[1]**2)*len(np.unique(y_train)))**(1/3)\n",
    "layer_size_2 = ((X_train.shape[1])*len(np.unique(y_train))**2)**(1/3)\n",
    "layer_size_1, layer_size_2"
   ]
  },
  {
   "cell_type": "code",
   "execution_count": 9,
   "metadata": {},
   "outputs": [
    {
     "name": "stdout",
     "output_type": "stream",
     "text": [
      "Accuracy 0.4100486223662885\n",
      "F1-score [0.37837838 0.53140097 0.35820896 0.34042553 0.38983051 0.44198895\n",
      " 0.30681818 0.51376147]\n",
      "              precision    recall  f1-score   support\n",
      "\n",
      "           0       0.54      0.29      0.38        96\n",
      "           1       0.47      0.62      0.53        89\n",
      "           2       0.34      0.38      0.36        96\n",
      "           3       0.35      0.33      0.34        48\n",
      "           4       0.33      0.48      0.39        48\n",
      "           5       0.47      0.42      0.44        96\n",
      "           6       0.34      0.28      0.31        96\n",
      "           7       0.46      0.58      0.51        48\n",
      "\n",
      "    accuracy                           0.41       617\n",
      "   macro avg       0.41      0.42      0.41       617\n",
      "weighted avg       0.42      0.41      0.40       617\n",
      "\n"
     ]
    }
   ],
   "source": [
    "clf = MLPClassifier(hidden_layer_sizes=(104,29), random_state=0, max_iter=1000)\n",
    "\n",
    "clf.fit(X_train, y_train)\n",
    "\n",
    "y_pred = clf.predict(X_test)\n",
    "\n",
    "print('Accuracy %s' % accuracy_score(y_test, y_pred))\n",
    "print('F1-score %s' % f1_score(y_test, y_pred, average=None))\n",
    "print(classification_report(y_test, y_pred))"
   ]
  },
  {
   "cell_type": "markdown",
   "metadata": {},
   "source": [
    "Per un layer"
   ]
  },
  {
   "cell_type": "code",
   "execution_count": 10,
   "metadata": {},
   "outputs": [
    {
     "data": {
      "text/plain": [
       "29.393876913398138"
      ]
     },
     "execution_count": 10,
     "metadata": {},
     "output_type": "execute_result"
    }
   ],
   "source": [
    "layer_size = np.sqrt(X_train.shape[1]*len(np.unique(y_train)))\n",
    "layer_size"
   ]
  },
  {
   "cell_type": "code",
   "execution_count": 11,
   "metadata": {},
   "outputs": [
    {
     "name": "stdout",
     "output_type": "stream",
     "text": [
      "Accuracy 0.41491085899513774\n",
      "F1-score [0.35036496 0.57819905 0.38139535 0.32967033 0.38983051 0.47252747\n",
      " 0.2967033  0.44897959]\n",
      "              precision    recall  f1-score   support\n",
      "\n",
      "           0       0.59      0.25      0.35        96\n",
      "           1       0.50      0.69      0.58        89\n",
      "           2       0.34      0.43      0.38        96\n",
      "           3       0.35      0.31      0.33        48\n",
      "           4       0.33      0.48      0.39        48\n",
      "           5       0.50      0.45      0.47        96\n",
      "           6       0.31      0.28      0.30        96\n",
      "           7       0.44      0.46      0.45        48\n",
      "\n",
      "    accuracy                           0.41       617\n",
      "   macro avg       0.42      0.42      0.41       617\n",
      "weighted avg       0.43      0.41      0.41       617\n",
      "\n"
     ]
    }
   ],
   "source": [
    "clf = MLPClassifier(hidden_layer_sizes=(55), random_state=0, max_iter=1000)\n",
    "\n",
    "clf.fit(X_train, y_train)\n",
    "\n",
    "y_pred = clf.predict(X_test)\n",
    "\n",
    "print('Accuracy %s' % accuracy_score(y_test, y_pred))\n",
    "print('F1-score %s' % f1_score(y_test, y_pred, average=None))\n",
    "print(classification_report(y_test, y_pred))"
   ]
  },
  {
   "cell_type": "markdown",
   "metadata": {},
   "source": [
    "### Formula empirica 2"
   ]
  },
  {
   "cell_type": "markdown",
   "metadata": {},
   "source": [
    "$size_{layer} = \\frac{2}{3}input + output$"
   ]
  },
  {
   "cell_type": "code",
   "execution_count": 12,
   "metadata": {},
   "outputs": [
    {
     "data": {
      "text/plain": [
       "80.0"
      ]
     },
     "execution_count": 12,
     "metadata": {},
     "output_type": "execute_result"
    }
   ],
   "source": [
    "layer_size = 2*X_train.shape[1]/3+len(np.unique(y_train))\n",
    "layer_size"
   ]
  },
  {
   "cell_type": "code",
   "execution_count": 13,
   "metadata": {},
   "outputs": [
    {
     "name": "stdout",
     "output_type": "stream",
     "text": [
      "Accuracy 0.41491085899513774\n",
      "F1-score [0.37956204 0.53191489 0.3628692  0.4        0.39655172 0.48241206\n",
      " 0.28930818 0.46601942]\n",
      "              precision    recall  f1-score   support\n",
      "\n",
      "           0       0.63      0.27      0.38        96\n",
      "           1       0.51      0.56      0.53        89\n",
      "           2       0.30      0.45      0.36        96\n",
      "           3       0.40      0.40      0.40        48\n",
      "           4       0.34      0.48      0.40        48\n",
      "           5       0.47      0.50      0.48        96\n",
      "           6       0.37      0.24      0.29        96\n",
      "           7       0.44      0.50      0.47        48\n",
      "\n",
      "    accuracy                           0.41       617\n",
      "   macro avg       0.43      0.42      0.41       617\n",
      "weighted avg       0.44      0.41      0.41       617\n",
      "\n"
     ]
    }
   ],
   "source": [
    "clf = MLPClassifier(hidden_layer_sizes=(259), random_state=0, max_iter=1000)\n",
    "\n",
    "clf.fit(X_train, y_train)\n",
    "\n",
    "y_pred = clf.predict(X_test)\n",
    "\n",
    "print('Accuracy %s' % accuracy_score(y_test, y_pred))\n",
    "print('F1-score %s' % f1_score(y_test, y_pred, average=None))\n",
    "print(classification_report(y_test, y_pred))"
   ]
  },
  {
   "cell_type": "markdown",
   "metadata": {},
   "source": [
    "### Formula empirica 3"
   ]
  },
  {
   "cell_type": "markdown",
   "metadata": {},
   "source": [
    "$size_{layer} = \\frac{input+output}{2}$ da cui per 2 layers:\n",
    "\n",
    "\\begin{cases}\n",
    "    size_1 = \\frac{input+size_2}{2} \\\\\n",
    "    size_2 = \\frac{size_1+output}{2}\n",
    "\\end{cases}\n",
    "\n",
    "risolvendo si ha:\n",
    "\n",
    "\\begin{cases}\n",
    "    size_1 = \\frac{2}{3}input+\\frac{1}{3}output \\\\\n",
    "    size_2 = \\frac{1}{3}input+\\frac{2}{3}output\n",
    "\\end{cases}"
   ]
  },
  {
   "cell_type": "markdown",
   "metadata": {},
   "source": [
    "Per 2 layers:"
   ]
  },
  {
   "cell_type": "code",
   "execution_count": 14,
   "metadata": {},
   "outputs": [
    {
     "data": {
      "text/plain": [
       "(74.66666666666667, 41.333333333333336)"
      ]
     },
     "execution_count": 14,
     "metadata": {},
     "output_type": "execute_result"
    }
   ],
   "source": [
    "layer_size_1 = 2*X_train.shape[1]/3+len(np.unique(y_train))/3\n",
    "layer_size_2 = X_train.shape[1]/3+2*len(np.unique(y_train))/3\n",
    "layer_size_1, layer_size_2"
   ]
  },
  {
   "cell_type": "code",
   "execution_count": 15,
   "metadata": {},
   "outputs": [
    {
     "name": "stdout",
     "output_type": "stream",
     "text": [
      "Accuracy 0.42949756888168555\n",
      "F1-score [0.45637584 0.58378378 0.34188034 0.30232558 0.39669421 0.56043956\n",
      " 0.26900585 0.49056604]\n",
      "              precision    recall  f1-score   support\n",
      "\n",
      "           0       0.64      0.35      0.46        96\n",
      "           1       0.56      0.61      0.58        89\n",
      "           2       0.29      0.42      0.34        96\n",
      "           3       0.34      0.27      0.30        48\n",
      "           4       0.33      0.50      0.40        48\n",
      "           5       0.59      0.53      0.56        96\n",
      "           6       0.31      0.24      0.27        96\n",
      "           7       0.45      0.54      0.49        48\n",
      "\n",
      "    accuracy                           0.43       617\n",
      "   macro avg       0.44      0.43      0.43       617\n",
      "weighted avg       0.45      0.43      0.43       617\n",
      "\n"
     ]
    }
   ],
   "source": [
    "clf = MLPClassifier(hidden_layer_sizes=(253,131), random_state=0, max_iter=1000)\n",
    "\n",
    "clf.fit(X_train, y_train)\n",
    "\n",
    "y_pred = clf.predict(X_test)\n",
    "\n",
    "print('Accuracy %s' % accuracy_score(y_test, y_pred))\n",
    "print('F1-score %s' % f1_score(y_test, y_pred, average=None))\n",
    "print(classification_report(y_test, y_pred))"
   ]
  },
  {
   "cell_type": "markdown",
   "metadata": {},
   "source": [
    "Per 1 layer:"
   ]
  },
  {
   "cell_type": "code",
   "execution_count": 16,
   "metadata": {},
   "outputs": [
    {
     "data": {
      "text/plain": [
       "58.0"
      ]
     },
     "execution_count": 16,
     "metadata": {},
     "output_type": "execute_result"
    }
   ],
   "source": [
    "layer_size = (X_train.shape[1]+len(np.unique(y_train)))/2\n",
    "layer_size"
   ]
  },
  {
   "cell_type": "code",
   "execution_count": 17,
   "metadata": {},
   "outputs": [
    {
     "name": "stdout",
     "output_type": "stream",
     "text": [
      "Accuracy 0.41166936790923825\n",
      "F1-score [0.40559441 0.5212766  0.34745763 0.41666667 0.3902439  0.48648649\n",
      " 0.26751592 0.47169811]\n",
      "              precision    recall  f1-score   support\n",
      "\n",
      "           0       0.62      0.30      0.41        96\n",
      "           1       0.49      0.55      0.52        89\n",
      "           2       0.29      0.43      0.35        96\n",
      "           3       0.42      0.42      0.42        48\n",
      "           4       0.32      0.50      0.39        48\n",
      "           5       0.51      0.47      0.49        96\n",
      "           6       0.34      0.22      0.27        96\n",
      "           7       0.43      0.52      0.47        48\n",
      "\n",
      "    accuracy                           0.41       617\n",
      "   macro avg       0.43      0.43      0.41       617\n",
      "weighted avg       0.44      0.41      0.41       617\n",
      "\n"
     ]
    }
   ],
   "source": [
    "clf = MLPClassifier(hidden_layer_sizes=(192), random_state=0, max_iter=1000)\n",
    "\n",
    "clf.fit(X_train, y_train)\n",
    "\n",
    "y_pred = clf.predict(X_test)\n",
    "\n",
    "print('Accuracy %s' % accuracy_score(y_test, y_pred))\n",
    "print('F1-score %s' % f1_score(y_test, y_pred, average=None))\n",
    "print(classification_report(y_test, y_pred))"
   ]
  },
  {
   "cell_type": "code",
   "execution_count": 18,
   "metadata": {},
   "outputs": [
    {
     "data": {
      "image/png": "[encoded data removed]",
      "text/plain": [
       "<Figure size 432x288 with 1 Axes>"
      ]
     },
     "metadata": {
      "needs_background": "light"
     },
     "output_type": "display_data"
    }
   ],
   "source": [
    "plt.plot(clf.loss_curve_)\n",
    "plt.show()"
   ]
  },
  {
   "cell_type": "markdown",
   "metadata": {},
   "source": [
    "### RandomSearchCV"
   ]
  },
  {
   "cell_type": "code",
   "execution_count": 19,
   "metadata": {},
   "outputs": [
    {
     "data": {
      "text/plain": [
       "'\\nparam_grid = {\\n    \"hidden_layer_sizes\": [(104,29), (55), (259), (253,131), (192)],\\n    \"activation\": [\"relu\", \"tanh\", \"logistic\"],\\n    \"alpha\": np.linspace(0.001,0.005,num=10),\\n    #\"momentum\": np.linspace(0,1,num=11),\\n    \"learning_rate_init\": np.linspace(0.001,0.01,num=11)\\n}\\ngrid = RandomizedSearchCV(\\n    MLPClassifier(solver=\"adam\",learning_rate=\"adaptive\"),\\n    param_distributions=param_grid,\\n    scoring=\"accuracy\",\\n    cv=RepeatedStratifiedKFold(random_state=0),\\n    n_jobs=-1,\\n    n_iter=500,\\n)\\ngrid.fit(X_train, y_train)\\nclf = grid.best_params_\\n'"
      ]
     },
     "execution_count": 19,
     "metadata": {},
     "output_type": "execute_result"
    }
   ],
   "source": [
    "'''\n",
    "param_grid = {\n",
    "    \"hidden_layer_sizes\": [(104,29), (55), (259), (253,131), (192)],\n",
    "    \"activation\": [\"relu\", \"tanh\", \"logistic\"],\n",
    "    \"alpha\": np.linspace(0.001,0.005,num=10),\n",
    "    #\"momentum\": np.linspace(0,1,num=11),\n",
    "    \"learning_rate_init\": np.linspace(0.001,0.01,num=11)\n",
    "}\n",
    "grid = RandomizedSearchCV(\n",
    "    MLPClassifier(solver=\"adam\",learning_rate=\"adaptive\"),\n",
    "    param_distributions=param_grid,\n",
    "    scoring=\"accuracy\",\n",
    "    cv=RepeatedStratifiedKFold(random_state=0),\n",
    "    n_jobs=-1,\n",
    "    n_iter=500,\n",
    ")\n",
    "grid.fit(X_train, y_train)\n",
    "clf = grid.best_params_\n",
    "'''"
   ]
  },
  {
   "cell_type": "code",
   "execution_count": 20,
   "metadata": {},
   "outputs": [],
   "source": [
    "#grid.best_params_"
   ]
  },
  {
   "cell_type": "markdown",
   "metadata": {},
   "source": [
    "### Best params: {'learning_rate_init': 0.0064,'hidden_layer_sizes': 259,'alpha': 0.003666666666666667,'activation': 'relu'}"
   ]
  },
  {
   "cell_type": "code",
   "execution_count": 21,
   "metadata": {},
   "outputs": [
    {
     "name": "stdout",
     "output_type": "stream",
     "text": [
      "Accuracy 0.44408427876823336\n",
      "F1-score [0.48148148 0.55837563 0.40343348 0.38709677 0.33333333 0.50228311\n",
      " 0.24657534 0.56      ]\n",
      "              precision    recall  f1-score   support\n",
      "\n",
      "           0       0.59      0.41      0.48        96\n",
      "           1       0.51      0.62      0.56        89\n",
      "           2       0.34      0.49      0.40        96\n",
      "           3       0.40      0.38      0.39        48\n",
      "           4       0.39      0.29      0.33        48\n",
      "           5       0.45      0.57      0.50        96\n",
      "           6       0.36      0.19      0.25        96\n",
      "           7       0.54      0.58      0.56        48\n",
      "\n",
      "    accuracy                           0.44       617\n",
      "   macro avg       0.45      0.44      0.43       617\n",
      "weighted avg       0.45      0.44      0.43       617\n",
      "\n"
     ]
    }
   ],
   "source": [
    "clf = MLPClassifier(activation=\"relu\", early_stopping=True, hidden_layer_sizes=(259), solver=\"adam\", alpha=0.003666666666666667, learning_rate=\"adaptive\", learning_rate_init=0.0064, random_state=0, max_iter=1000)\n",
    "\n",
    "clf.fit(X_train, y_train)\n",
    "\n",
    "y_pred = clf.predict(X_test)\n",
    "\n",
    "print('Accuracy %s' % accuracy_score(y_test, y_pred))\n",
    "print('F1-score %s' % f1_score(y_test, y_pred, average=None))\n",
    "print(classification_report(y_test, y_pred))"
   ]
  },
  {
   "cell_type": "code",
   "execution_count": 22,
   "metadata": {},
   "outputs": [],
   "source": [
    "y_test_pred_proba = clf.predict_proba(X_test)"
   ]
  },
  {
   "cell_type": "code",
   "execution_count": 23,
   "metadata": {},
   "outputs": [
    {
     "data": {
      "image/png": "[encoded data removed]",
      "text/plain": [
       "<Figure size 432x288 with 1 Axes>"
      ]
     },
     "metadata": {
      "needs_background": "light"
     },
     "output_type": "display_data"
    },
    {
     "name": "stdout",
     "output_type": "stream",
     "text": [
      "0.852806795556337\n"
     ]
    }
   ],
   "source": [
    "plot_roc(y_test, clf.predict_proba(X_test))\n",
    "plt.show()\n",
    "print(roc_auc_score(y_test, y_test_pred_proba, multi_class=\"ovr\", average=\"macro\"))"
   ]
  },
  {
   "cell_type": "code",
   "execution_count": 24,
   "metadata": {},
   "outputs": [
    {
     "data": {
      "image/png": "[encoded data removed]",
      "text/plain": [
       "<Figure size 432x288 with 1 Axes>"
      ]
     },
     "metadata": {
      "needs_background": "light"
     },
     "output_type": "display_data"
    }
   ],
   "source": [
    "plt.plot(clf.validation_scores_)\n",
    "plt.show()"
   ]
  },
  {
   "cell_type": "markdown",
   "metadata": {},
   "source": [
    "### Keras"
   ]
  },
  {
   "cell_type": "code",
   "execution_count": 25,
   "metadata": {},
   "outputs": [],
   "source": [
    "def build_model():\n",
    "    \n",
    "    model = Sequential()\n",
    "    model.add(Dense(X_train.shape[1], input_dim=X_train.shape[1], activation='relu', kernel_regularizer=l2(0.02)))\n",
    "    model.add(Dropout(0.05))\n",
    "    model.add(Dense(259, activation='relu', kernel_regularizer=l2(0.02), kernel_constraint=MaxNorm(3)))\n",
    "    model.add(Dropout(0.05))\n",
    "    model.add(Dense(8, activation='softmax', kernel_regularizer=l2(0.02), kernel_constraint=MaxNorm(3)))\n",
    "\n",
    "    model.compile(loss='sparse_categorical_crossentropy', \n",
    "                  optimizer=\"adam\", weighted_metrics=['accuracy'])\n",
    "    return model"
   ]
  },
  {
   "cell_type": "code",
   "execution_count": 26,
   "metadata": {},
   "outputs": [
    {
     "ename": "NameError",
     "evalue": "name 'EarlyStopping' is not defined",
     "output_type": "error",
     "traceback": [
      "\u001b[0;31m---------------------------------------------------------------------------\u001b[0m",
      "\u001b[0;31mNameError\u001b[0m                                 Traceback (most recent call last)",
      "Input \u001b[0;32mIn [26]\u001b[0m, in \u001b[0;36m<cell line: 1>\u001b[0;34m()\u001b[0m\n\u001b[0;32m----> 1\u001b[0m es \u001b[38;5;241m=\u001b[39m \u001b[43mEarlyStopping\u001b[49m(monitor\u001b[38;5;241m=\u001b[39m\u001b[38;5;124m'\u001b[39m\u001b[38;5;124mval_accuracy\u001b[39m\u001b[38;5;124m'\u001b[39m, patience\u001b[38;5;241m=\u001b[39m\u001b[38;5;241m100\u001b[39m, verbose\u001b[38;5;241m=\u001b[39m\u001b[38;5;28;01mTrue\u001b[39;00m)\n\u001b[1;32m      2\u001b[0m mc \u001b[38;5;241m=\u001b[39m ModelCheckpoint(\u001b[38;5;124m'\u001b[39m\u001b[38;5;124mbest_model_NOREG.h5\u001b[39m\u001b[38;5;124m'\u001b[39m, monitor\u001b[38;5;241m=\u001b[39m\u001b[38;5;124m'\u001b[39m\u001b[38;5;124mval_accuracy\u001b[39m\u001b[38;5;124m'\u001b[39m, save_best_only\u001b[38;5;241m=\u001b[39m\u001b[38;5;28;01mTrue\u001b[39;00m)\n\u001b[1;32m      3\u001b[0m clf \u001b[38;5;241m=\u001b[39m KerasClassifier(build_fn\u001b[38;5;241m=\u001b[39mbuild_model, \n\u001b[1;32m      4\u001b[0m                       callbacks\u001b[38;5;241m=\u001b[39m[es],\n\u001b[1;32m      5\u001b[0m                       batch_size\u001b[38;5;241m=\u001b[39m\u001b[38;5;241m128\u001b[39m, optimizer\u001b[38;5;241m=\u001b[39m\u001b[38;5;124m\"\u001b[39m\u001b[38;5;124madam\u001b[39m\u001b[38;5;124m\"\u001b[39m, class_weight\u001b[38;5;241m=\u001b[39m\u001b[38;5;124m\"\u001b[39m\u001b[38;5;124mbalanced\u001b[39m\u001b[38;5;124m\"\u001b[39m)\n",
      "\u001b[0;31mNameError\u001b[0m: name 'EarlyStopping' is not defined"
     ]
    }
   ],
   "source": [
    "es = EarlyStopping(monitor='val_accuracy', patience=100, verbose=True)\n",
    "mc = ModelCheckpoint('best_model_NOREG.h5', monitor='val_accuracy', save_best_only=True)\n",
    "clf = KerasClassifier(build_fn=build_model, \n",
    "                      callbacks=[es],\n",
    "                      batch_size=128, optimizer=\"adam\", class_weight=\"balanced\")"
   ]
  },
  {
   "cell_type": "code",
   "execution_count": null,
   "metadata": {},
   "outputs": [],
   "source": [
    "clf.fit(X_train, y_train, validation_split=0.2, epochs=500)"
   ]
  },
  {
   "cell_type": "code",
   "execution_count": null,
   "metadata": {},
   "outputs": [],
   "source": [
    "history = clf.history_\n",
    "plt.plot(history['accuracy'], label='Train')\n",
    "plt.plot(history['val_accuracy'], label='Val')\n",
    "plt.xlabel('Epochs')\n",
    "plt.ylabel('Accuracy')\n",
    "plt.legend()\n",
    "plt.show()"
   ]
  },
  {
   "cell_type": "code",
   "execution_count": null,
   "metadata": {},
   "outputs": [],
   "source": [
    "plt.plot(history['loss'], label='Train')\n",
    "plt.plot(history['val_loss'], label='Val')\n",
    "plt.xlabel('Epochs')\n",
    "plt.ylabel('Cross-Entropy')\n",
    "plt.legend()\n",
    "plt.show()"
   ]
  },
  {
   "cell_type": "code",
   "execution_count": null,
   "metadata": {},
   "outputs": [],
   "source": [
    "y_pred = clf.predict(X_test).astype(int)\n",
    "\n",
    "print('Accuracy %s' % accuracy_score(y_test, y_pred))\n",
    "print('F1-score %s' % f1_score(y_test, y_pred, average=None))\n",
    "print(classification_report(y_test, y_pred))"
   ]
  },
  {
   "cell_type": "code",
   "execution_count": null,
   "metadata": {},
   "outputs": [],
   "source": []
  }
 ],
 "metadata": {
  "kernelspec": {
   "display_name": "Python 3 (ipykernel)",
   "language": "python",
   "name": "python3"
  },
  "language_info": {
   "codemirror_mode": {
    "name": "ipython",
    "version": 3
   },
   "file_extension": ".py",
   "mimetype": "text/x-python",
   "name": "python",
   "nbconvert_exporter": "python",
   "pygments_lexer": "ipython3",
   "version": "3.9.12"
  }
 },
 "nbformat": 4,
 "nbformat_minor": 2
}
