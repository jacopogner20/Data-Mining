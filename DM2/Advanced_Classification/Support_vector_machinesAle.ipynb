{
 "cells": [
  {
   "cell_type": "code",
   "execution_count": 42,
   "metadata": {},
   "outputs": [],
   "source": [
    "%matplotlib inline\n",
    "\n",
    "import numpy as np\n",
    "import pandas as pd\n",
    "import matplotlib.pyplot as plt\n",
    "\n",
    "from collections import defaultdict\n",
    "\n",
    "from sklearn.feature_selection import SelectKBest\n",
    "from sklearn.preprocessing import StandardScaler\n",
    "\n",
    "from sklearn.svm import LinearSVC, SVC\n",
    "from sklearn.metrics import accuracy_score, f1_score, classification_report\n",
    "\n",
    "from scipy.special import expit\n",
    "\n",
    "from sklearn.model_selection import cross_val_score\n",
    "from sklearn.model_selection import RepeatedStratifiedKFold\n",
    "\n",
    "from sklearn.model_selection import RandomizedSearchCV, GridSearchCV\n",
    "from scipy.stats import loguniform, uniform\n",
    "from scikitplot.metrics import plot_roc\n",
    "from sklearn.metrics import roc_curve, auc, roc_auc_score"
   ]
  },
  {
   "cell_type": "code",
   "execution_count": 43,
   "metadata": {},
   "outputs": [],
   "source": [
    "df_train=pd.read_csv(\"../ravdess_features_train_pulito.csv\")\n",
    "df_test=pd.read_csv(\"../ravdess_features_test_pulito.csv\")\n",
    "\n",
    "df_train[\"emotion\"]=df_train[\"emotion\"].replace([\"fearful\", \"angry\", \"happy\", \"surprised\", \"neutral\", \"calm\", \"sad\", \"disgust\"],[0,1,2,3,4,5,6,7])\n",
    "df_train[\"emotional_intensity\"]=df_train[\"emotional_intensity\"].replace([\"normal\", \"strong\"],[0,1])\n",
    "df_train[\"sex\"]=df_train[\"sex\"].replace([\"M\", \"F\"],[0,1])\n",
    "df_train[\"statement\"]=df_train[\"statement\"].replace([\"Dogs are sitting by the door\", \"Kids are talking by the door\"],[0,1])\n",
    "df_train[\"vocal_channel\"]=df_train[\"vocal_channel\"].replace([\"speech\", \"song\"],[0,1])\n",
    "\n",
    "df_test[\"emotion\"]=df_test[\"emotion\"].replace([\"fearful\", \"angry\", \"happy\", \"surprised\", \"neutral\", \"calm\", \"sad\", \"disgust\"],[0,1,2,3,4,5,6,7])\n",
    "df_test[\"emotional_intensity\"]=df_test[\"emotional_intensity\"].replace([\"normal\", \"strong\"],[0,1])\n",
    "df_test[\"sex\"]=df_test[\"sex\"].replace([\"M\", \"F\"],[0,1])\n",
    "df_test[\"statement\"]=df_test[\"statement\"].replace([\"Dogs are sitting by the door\", \"Kids are talking by the door\"],[0,1])\n",
    "df_test[\"vocal_channel\"]=df_test[\"vocal_channel\"].replace([\"speech\", \"song\"],[0,1])"
   ]
  },
  {
   "cell_type": "markdown",
   "metadata": {},
   "source": [
    "### Outlier dropping"
   ]
  },
  {
   "cell_type": "code",
   "execution_count": 44,
   "metadata": {},
   "outputs": [],
   "source": [
    "#df_train.drop(axis=\"index\", labels=[35,243,451,554,563,658,659,1031,1075,1283], inplace=True)\n",
    "X_train=df_train.drop(columns=[\"emotion\"]).values\n",
    "y_train=df_train.emotion.values\n",
    "\n",
    "#df_test.drop(axis=\"index\", labels=[33,34,138,196,197,198,199], inplace=True)\n",
    "X_test=df_test.drop(columns=[\"emotion\"]).values\n",
    "y_test=df_test.emotion.values"
   ]
  },
  {
   "cell_type": "markdown",
   "metadata": {},
   "source": [
    "### Feature selection (da implementare)"
   ]
  },
  {
   "cell_type": "code",
   "execution_count": 40,
   "metadata": {},
   "outputs": [],
   "source": [
    "sel = SelectKBest(k=108)\n",
    "X_train_sel = sel.fit_transform(X_train, y_train)\n",
    "X_test_sel = sel.transform(X_test)"
   ]
  },
  {
   "cell_type": "markdown",
   "metadata": {},
   "source": [
    "### Scaling"
   ]
  },
  {
   "cell_type": "code",
   "execution_count": 45,
   "metadata": {},
   "outputs": [],
   "source": [
    "scl = StandardScaler()\n",
    "X_train = scl.fit_transform(X_train)\n",
    "X_test = scl.transform(X_test)"
   ]
  },
  {
   "cell_type": "code",
   "execution_count": 46,
   "metadata": {},
   "outputs": [
    {
     "data": {
      "text/plain": [
       "(1828, 376)"
      ]
     },
     "execution_count": 46,
     "metadata": {},
     "output_type": "execute_result"
    }
   ],
   "source": [
    "X_train.shape"
   ]
  },
  {
   "cell_type": "code",
   "execution_count": 47,
   "metadata": {},
   "outputs": [
    {
     "data": {
      "text/plain": [
       "(624, 376)"
      ]
     },
     "execution_count": 47,
     "metadata": {},
     "output_type": "execute_result"
    }
   ],
   "source": [
    "X_test.shape"
   ]
  },
  {
   "cell_type": "code",
   "execution_count": 35,
   "metadata": {},
   "outputs": [],
   "source": [
    "a = X_test"
   ]
  },
  {
   "cell_type": "code",
   "execution_count": 21,
   "metadata": {},
   "outputs": [
    {
     "name": "stdout",
     "output_type": "stream",
     "text": [
      "Accuracy 0.46153846153846156\n",
      "F1-score [0.44       0.56034483 0.37       0.52252252 0.46153846 0.52631579\n",
      " 0.31168831 0.47368421]\n",
      "              precision    recall  f1-score   support\n",
      "\n",
      "           0       0.61      0.34      0.44        96\n",
      "           1       0.48      0.68      0.56        96\n",
      "           2       0.36      0.39      0.37        96\n",
      "           3       0.46      0.60      0.52        48\n",
      "           4       0.60      0.38      0.46        48\n",
      "           5       0.49      0.57      0.53        96\n",
      "           6       0.41      0.25      0.31        96\n",
      "           7       0.41      0.56      0.47        48\n",
      "\n",
      "    accuracy                           0.46       624\n",
      "   macro avg       0.48      0.47      0.46       624\n",
      "weighted avg       0.47      0.46      0.45       624\n",
      "\n"
     ]
    },
    {
     "name": "stderr",
     "output_type": "stream",
     "text": [
      "/Users/jacopogneri/opt/anaconda3/lib/python3.9/site-packages/sklearn/svm/_base.py:1206: ConvergenceWarning: Liblinear failed to converge, increase the number of iterations.\n",
      "  warnings.warn(\n"
     ]
    }
   ],
   "source": [
    "clf = LinearSVC(C=1.0, random_state=42)\n",
    "clf.fit(X_train, y_train)\n",
    "\n",
    "y_pred = clf.predict(X_test)\n",
    "\n",
    "print('Accuracy %s' % accuracy_score(y_test, y_pred))\n",
    "print('F1-score %s' % f1_score(y_test, y_pred, average=None))\n",
    "print(classification_report(y_test, y_pred))"
   ]
  },
  {
   "cell_type": "markdown",
   "metadata": {},
   "source": [
    "# LinearSVC"
   ]
  },
  {
   "cell_type": "markdown",
   "metadata": {},
   "source": [
    "### Tuning hyperparameter"
   ]
  },
  {
   "cell_type": "code",
   "execution_count": null,
   "metadata": {},
   "outputs": [],
   "source": [
    "def get_models_unweighted():\n",
    "    models = dict()\n",
    "    for p in [1e-5, 5e-5, 1e-4, 5e-4, 1e-3, 5e-3, 1e-2, 5e-2, 0.1, 0.5, 1]:\n",
    "        models[p] = LinearSVC(multi_class='ovr', C=p, class_weight=None)\n",
    "    return models\n",
    "\n",
    "def get_models_weighted():\n",
    "    models = dict()\n",
    "    for p in [1e-5, 5e-5, 1e-4, 5e-4, 1e-3, 5e-3, 1e-2, 5e-2, 0.1, 0.5, 1]:\n",
    "        models[p] = LinearSVC(multi_class='ovr', C=p, class_weight=\"balanced\")\n",
    "    return models\n",
    "\n",
    "def evaluate_model_accuracy(model, X, y):\n",
    "    cv = RepeatedStratifiedKFold(n_splits=10, n_repeats=3, random_state=1)\n",
    "    scores = cross_val_score(model, X, y, scoring='accuracy', cv=cv, n_jobs=-1)\n",
    "    return scores\n",
    "\n",
    "def evaluate_model_f1(model, X, y):\n",
    "    cv = RepeatedStratifiedKFold(n_splits=10, n_repeats=3, random_state=1)\n",
    "    scores = cross_val_score(model, X, y, scoring='f1_weighted', cv=cv, n_jobs=-1)\n",
    "    return scores"
   ]
  },
  {
   "cell_type": "code",
   "execution_count": null,
   "metadata": {},
   "outputs": [
    {
     "name": "stdout",
     "output_type": "stream",
     "text": [
      "1e-05\n",
      "Accuracy:\t 0.390 (0.031)\n",
      "f1:\t 0.331 (0.035)\n",
      "5e-05\n",
      "Accuracy:\t 0.460 (0.037)\n",
      "f1:\t 0.427 (0.039)\n",
      "0.0001\n",
      "Accuracy:\t 0.496 (0.034)\n",
      "f1:\t 0.473 (0.035)\n",
      "0.0005\n",
      "Accuracy:\t 0.554 (0.035)\n",
      "f1:\t 0.539 (0.036)\n",
      "0.001\n",
      "Accuracy:\t 0.574 (0.034)\n",
      "f1:\t 0.560 (0.035)\n",
      "0.005\n",
      "Accuracy:\t 0.608 (0.037)\n",
      "f1:\t 0.600 (0.038)\n",
      "0.01\n",
      "Accuracy:\t 0.613 (0.038)\n",
      "f1:\t 0.607 (0.040)\n",
      "0.05\n",
      "Accuracy:\t 0.615 (0.035)\n",
      "f1:\t 0.612 (0.036)\n",
      "0.1\n",
      "Accuracy:\t 0.614 (0.033)\n",
      "f1:\t 0.612 (0.033)\n",
      "0.5\n",
      "Accuracy:\t 0.594 (0.033)\n",
      "f1:\t 0.591 (0.032)\n",
      "1\n",
      "Accuracy:\t 0.586 (0.032)\n",
      "f1:\t 0.585 (0.031)\n"
     ]
    }
   ],
   "source": [
    "models = get_models_unweighted()\n",
    "accuracy, f1, names = list(), list(), list()\n",
    "for name, model in models.items():\n",
    "\taccuracy_scores = evaluate_model_accuracy(model, X_train, y_train)\n",
    "\tf1_scores = evaluate_model_f1(model, X_train, y_train)\n",
    "\taccuracy.append(accuracy_scores)\n",
    "\tf1.append(f1_scores)\n",
    "\tnames.append(name)\n",
    "\tprint(name)\n",
    "\tprint('Accuracy:\\t %.3f (%.3f)' % (np.mean(accuracy_scores), np.std(accuracy_scores)))\n",
    "\tprint('f1:\\t %.3f (%.3f)' % (np.mean(f1_scores), np.std(f1_scores)))\n",
    "# Tempo stimato 4.30m"
   ]
  },
  {
   "cell_type": "code",
   "execution_count": null,
   "metadata": {},
   "outputs": [
    {
     "data": {
      "text/plain": [
       "'\\nmodels = get_models_weighted()\\naccuracy, f1, names = list(), list(), list()\\nfor name, model in models.items():\\n\\taccuracy_scores = evaluate_model_accuracy(model, X_train, y_train)\\n\\tf1_scores = evaluate_model_f1(model, X_train, y_train)\\n\\taccuracy.append(accuracy_scores)\\n\\tf1.append(f1_scores)\\n\\tnames.append(name)\\n\\tprint(name)\\n\\tprint(\\'Accuracy:\\t %.3f (%.3f)\\' % (np.mean(accuracy_scores), np.std(accuracy_scores)))\\n\\tprint(\\'f1:\\t %.3f (%.3f)\\' % (np.mean(f1_scores), np.std(f1_scores)))\\n\\tprint(\"\\n\")\\n'"
      ]
     },
     "execution_count": 9,
     "metadata": {},
     "output_type": "execute_result"
    }
   ],
   "source": [
    "'''\n",
    "models = get_models_weighted()\n",
    "accuracy, f1, names = list(), list(), list()\n",
    "for name, model in models.items():\n",
    "\taccuracy_scores = evaluate_model_accuracy(model, X_train, y_train)\n",
    "\tf1_scores = evaluate_model_f1(model, X_train, y_train)\n",
    "\taccuracy.append(accuracy_scores)\n",
    "\tf1.append(f1_scores)\n",
    "\tnames.append(name)\n",
    "\tprint(name)\n",
    "\tprint('Accuracy:\\t %.3f (%.3f)' % (np.mean(accuracy_scores), np.std(accuracy_scores)))\n",
    "\tprint('f1:\\t %.3f (%.3f)' % (np.mean(f1_scores), np.std(f1_scores)))\n",
    "\tprint(\"\\n\")\n",
    "'''\n",
    "# Tempo stimato 4.30m"
   ]
  },
  {
   "cell_type": "markdown",
   "metadata": {},
   "source": [
    "Migliore risultato C=0.05, class_weight=\"balanced\""
   ]
  },
  {
   "cell_type": "code",
   "execution_count": 48,
   "metadata": {},
   "outputs": [
    {
     "name": "stdout",
     "output_type": "stream",
     "text": [
      "Accuracy 0.4823717948717949\n",
      "F1-score [0.46540881 0.66363636 0.36956522 0.47272727 0.4        0.5645933\n",
      " 0.24242424 0.54263566]\n",
      "              precision    recall  f1-score   support\n",
      "\n",
      "           0       0.59      0.39      0.47        96\n",
      "           1       0.59      0.76      0.66        96\n",
      "           2       0.39      0.35      0.37        96\n",
      "           3       0.42      0.54      0.47        48\n",
      "           4       0.37      0.44      0.40        48\n",
      "           5       0.52      0.61      0.56        96\n",
      "           6       0.44      0.17      0.24        96\n",
      "           7       0.43      0.73      0.54        48\n",
      "\n",
      "    accuracy                           0.48       624\n",
      "   macro avg       0.47      0.50      0.47       624\n",
      "weighted avg       0.48      0.48      0.46       624\n",
      "\n"
     ]
    }
   ],
   "source": [
    "clf = LinearSVC(C=0.05, class_weight=\"balanced\", max_iter=10000)\n",
    "clf.fit(X_train, y_train)\n",
    "\n",
    "y_pred = clf.predict(X_test)\n",
    "\n",
    "print('Accuracy %s' % accuracy_score(y_test, y_pred))\n",
    "print('F1-score %s' % f1_score(y_test, y_pred, average=None))\n",
    "print(classification_report(y_test, y_pred))"
   ]
  },
  {
   "cell_type": "code",
   "execution_count": 49,
   "metadata": {},
   "outputs": [
    {
     "data": {
      "image/png": "[encoded data removed]",
      "text/plain": [
       "<Figure size 720x720 with 1 Axes>"
      ]
     },
     "metadata": {
      "needs_background": "light"
     },
     "output_type": "display_data"
    }
   ],
   "source": [
    "y_score = clf.decision_function(X_test)\n",
    "\n",
    "plot_roc(y_test, y_score, figsize=(10,10), title_fontsize=15, text_fontsize=15)\n",
    "\n",
    "plt.legend([\"AUC of class fearful = 0.85\", \"AUC of class angry = 0.91\", \"AUC of class happy = 0.73\", \"AUC of class surprised = 0.89\", \"AUC of class neutral = 0.91\", \"AUC of class calm = 0.87\", \"AUC of class sad = 0.75\", \"AUC of class disgust = 0.92\", \"micro-avg AUC = 0.85\", \"macro-avg AUC = 0.86\"], fontsize=15)\n",
    "\n",
    "plt.title(\"\")\n",
    "\n",
    "plt.show()"
   ]
  },
  {
   "cell_type": "markdown",
   "metadata": {},
   "source": [
    "## Nonlinear SVM"
   ]
  },
  {
   "cell_type": "code",
   "execution_count": null,
   "metadata": {},
   "outputs": [],
   "source": [
    "'''\n",
    "param_grid = {\n",
    "    \"C\": [1e-2, 2e-2, 3e-2, 4e-2, 5e-2, 6e-2, 7e-2, 8e-2, 9e-2, 0.1, 0.15, 0.2, 0.25, 0.3, 0.35, 0.4, 0.45, 0.5, 0.55, 0.6, 0.65, 0.7, 0.75, 0.8, 0.85, 0.9, 0.95, 1],\n",
    "    \"kernel\": [\"linear\", \"poly\", \"rbf\", \"sigmoid\"],\n",
    "    \"coef0\": [1e-2, 2e-2, 3e-2, 4e-2, 5e-2, 6e-2, 7e-2, 8e-2, 9e-2, 0.1, 0.15, 0.2, 0.25, 0.3, 0.35, 0.4, 0.45, 0.5, 0.55, 0.6, 0.65, 0.7, 0.75, 0.8, 0.85, 0.9, 0.95, 1],\n",
    "    \"gamma\": [\"scale\", \"auto\"]\n",
    "}\n",
    "grid = RandomizedSearchCV(\n",
    "    SVC(class_weight=\"balanced\", max_iter=-1),\n",
    "    param_distributions=param_grid,\n",
    "    scoring=\"accuracy\",\n",
    "    cv=RepeatedStratifiedKFold(random_state=0),\n",
    "    n_jobs=-1,\n",
    "    n_iter=500,\n",
    ")\n",
    "grid.fit(X_train, y_train)\n",
    "clf = grid.best_estimator_\n",
    "'''\n",
    "# tempo impiegato circa 34 minuti"
   ]
  },
  {
   "cell_type": "code",
   "execution_count": null,
   "metadata": {},
   "outputs": [
    {
     "data": {
      "text/plain": [
       "SVC(C=0.75, class_weight='balanced', coef0=1, kernel='poly')"
      ]
     },
     "execution_count": 18,
     "metadata": {},
     "output_type": "execute_result"
    }
   ],
   "source": [
    "grid.best_estimator_"
   ]
  },
  {
   "cell_type": "code",
   "execution_count": null,
   "metadata": {},
   "outputs": [
    {
     "name": "stdout",
     "output_type": "stream",
     "text": [
      "Accuracy 0.5283630470016207\n",
      "F1-score [0.41610738 0.68656716 0.47236181 0.47706422 0.60294118 0.58241758\n",
      " 0.35460993 0.58119658]\n",
      "              precision    recall  f1-score   support\n",
      "\n",
      "           0       0.58      0.32      0.42        96\n",
      "           1       0.62      0.78      0.69        89\n",
      "           2       0.46      0.49      0.47        96\n",
      "           3       0.43      0.54      0.48        48\n",
      "           4       0.47      0.85      0.60        48\n",
      "           5       0.62      0.55      0.58        96\n",
      "           6       0.56      0.26      0.35        96\n",
      "           7       0.49      0.71      0.58        48\n",
      "\n",
      "    accuracy                           0.53       617\n",
      "   macro avg       0.53      0.56      0.52       617\n",
      "weighted avg       0.54      0.53      0.51       617\n",
      "\n"
     ]
    }
   ],
   "source": [
    "clf = SVC(C=0.75, class_weight='balanced', coef0=1, gamma='auto', kernel='poly', degree=2)\n",
    "clf.fit(X_train, y_train)\n",
    "\n",
    "y_pred = clf.predict(X_test)\n",
    "\n",
    "print('Accuracy %s' % accuracy_score(y_test, y_pred))\n",
    "print('F1-score %s' % f1_score(y_test, y_pred, average=None))\n",
    "print(classification_report(y_test, y_pred))"
   ]
  },
  {
   "cell_type": "markdown",
   "metadata": {},
   "source": [
    "Best params: C=0.75, class_weight='balanced', coef0=1, gamma='auto', kernel='poly'.\n",
    "\n",
    "Non convince il coef0. Faccio GridSearchCV su quest'ultimo."
   ]
  },
  {
   "cell_type": "code",
   "execution_count": null,
   "metadata": {},
   "outputs": [
    {
     "name": "stdout",
     "output_type": "stream",
     "text": [
      "Accuracy 0.5283630470016207\n",
      "F1-score [0.41610738 0.68656716 0.47236181 0.47706422 0.60294118 0.58241758\n",
      " 0.35460993 0.58119658]\n",
      "              precision    recall  f1-score   support\n",
      "\n",
      "           0       0.58      0.32      0.42        96\n",
      "           1       0.62      0.78      0.69        89\n",
      "           2       0.46      0.49      0.47        96\n",
      "           3       0.43      0.54      0.48        48\n",
      "           4       0.47      0.85      0.60        48\n",
      "           5       0.62      0.55      0.58        96\n",
      "           6       0.56      0.26      0.35        96\n",
      "           7       0.49      0.71      0.58        48\n",
      "\n",
      "    accuracy                           0.53       617\n",
      "   macro avg       0.53      0.56      0.52       617\n",
      "weighted avg       0.54      0.53      0.51       617\n",
      "\n"
     ]
    }
   ],
   "source": [
    "clf = SVC(C=0.75, class_weight='balanced', coef0=1, gamma='auto', kernel='poly', degree=2)\n",
    "clf.fit(X_train, y_train)\n",
    "\n",
    "y_pred = clf.predict(X_test)\n",
    "\n",
    "print('Accuracy %s' % accuracy_score(y_test, y_pred))\n",
    "print('F1-score %s' % f1_score(y_test, y_pred, average=None))\n",
    "print(classification_report(y_test, y_pred))"
   ]
  },
  {
   "cell_type": "code",
   "execution_count": null,
   "metadata": {},
   "outputs": [
    {
     "name": "stdout",
     "output_type": "stream",
     "text": [
      "Accuracy 0.5056726094003241\n",
      "F1-score [0.43312102 0.63809524 0.43925234 0.48       0.53225806 0.5698324\n",
      " 0.37837838 0.54901961]\n",
      "              precision    recall  f1-score   support\n",
      "\n",
      "           0       0.56      0.35      0.43        96\n",
      "           1       0.55      0.75      0.64        89\n",
      "           2       0.40      0.49      0.44        96\n",
      "           3       0.46      0.50      0.48        48\n",
      "           4       0.43      0.69      0.53        48\n",
      "           5       0.61      0.53      0.57        96\n",
      "           6       0.54      0.29      0.38        96\n",
      "           7       0.52      0.58      0.55        48\n",
      "\n",
      "    accuracy                           0.51       617\n",
      "   macro avg       0.51      0.52      0.50       617\n",
      "weighted avg       0.52      0.51      0.50       617\n",
      "\n"
     ]
    }
   ],
   "source": [
    "clf = SVC(C=0.75, class_weight='balanced', coef0=1, gamma='auto', kernel='poly', degree=3)\n",
    "clf.fit(X_train, y_train)\n",
    "\n",
    "y_pred = clf.predict(X_test)\n",
    "\n",
    "print('Accuracy %s' % accuracy_score(y_test, y_pred))\n",
    "print('F1-score %s' % f1_score(y_test, y_pred, average=None))\n",
    "print(classification_report(y_test, y_pred))"
   ]
  },
  {
   "cell_type": "markdown",
   "metadata": {},
   "source": [
    "### GridSearchCV su coef0 e C"
   ]
  },
  {
   "cell_type": "code",
   "execution_count": 95,
   "metadata": {},
   "outputs": [],
   "source": [
    "'''\n",
    "param_grid = {\n",
    "    \"coef0\": np.linspace(0,2,num=50),\n",
    "    \"C\": np.linspace(1e-16,1,num=25),\n",
    "}\n",
    "grid = GridSearchCV(\n",
    "    SVC(gamma=\"auto\", kernel=\"poly\", class_weight=\"balanced\", max_iter=-1),\n",
    "    param_grid=param_grid,\n",
    "    scoring=\"accuracy\",\n",
    "    cv=RepeatedStratifiedKFold(random_state=0),\n",
    "    n_jobs=-1,\n",
    ")\n",
    "grid.fit(X_train, y_train)\n",
    "clf = grid.best_estimator_\n",
    "'''\n",
    "# tempo stimato circa 220 minuti"
   ]
  },
  {
   "cell_type": "code",
   "execution_count": 96,
   "metadata": {},
   "outputs": [
    {
     "data": {
      "text/plain": [
       "{'C': 1.0, 'coef0': 1.9591836734693877}"
      ]
     },
     "execution_count": 96,
     "metadata": {},
     "output_type": "execute_result"
    }
   ],
   "source": [
    "grid.best_params_"
   ]
  },
  {
   "cell_type": "markdown",
   "metadata": {},
   "source": [
    "coef0=2 risulta il migliore"
   ]
  },
  {
   "cell_type": "code",
   "execution_count": 98,
   "metadata": {},
   "outputs": [
    {
     "name": "stdout",
     "output_type": "stream",
     "text": [
      "Accuracy 0.5072933549432739\n",
      "F1-score [0.44871795 0.60273973 0.44680851 0.5        0.57142857 0.58695652\n",
      " 0.36619718 0.48076923]\n",
      "              precision    recall  f1-score   support\n",
      "\n",
      "           0       0.58      0.36      0.45        96\n",
      "           1       0.51      0.74      0.60        89\n",
      "           2       0.46      0.44      0.45        96\n",
      "           3       0.45      0.56      0.50        48\n",
      "           4       0.45      0.79      0.57        48\n",
      "           5       0.61      0.56      0.59        96\n",
      "           6       0.57      0.27      0.37        96\n",
      "           7       0.45      0.52      0.48        48\n",
      "\n",
      "    accuracy                           0.51       617\n",
      "   macro avg       0.51      0.53      0.50       617\n",
      "weighted avg       0.52      0.51      0.50       617\n",
      "\n"
     ]
    }
   ],
   "source": [
    "clf = SVC(C=1, class_weight='balanced', coef0=2, gamma='auto', kernel='poly', degree=2, max_iter=-1)\n",
    "clf.fit(X_train, y_train)\n",
    "\n",
    "y_pred = clf.predict(X_test)\n",
    "\n",
    "print('Accuracy %s' % accuracy_score(y_test, y_pred))\n",
    "print('F1-score %s' % f1_score(y_test, y_pred, average=None))\n",
    "print(classification_report(y_test, y_pred))"
   ]
  },
  {
   "cell_type": "code",
   "execution_count": 99,
   "metadata": {},
   "outputs": [
    {
     "name": "stdout",
     "output_type": "stream",
     "text": [
      "Accuracy 0.520259319286872\n",
      "F1-score [0.42384106 0.66666667 0.46560847 0.48214286 0.60294118 0.56830601\n",
      " 0.32857143 0.56896552]\n",
      "              precision    recall  f1-score   support\n",
      "\n",
      "           0       0.58      0.33      0.42        96\n",
      "           1       0.58      0.78      0.67        89\n",
      "           2       0.47      0.46      0.47        96\n",
      "           3       0.42      0.56      0.48        48\n",
      "           4       0.47      0.85      0.60        48\n",
      "           5       0.60      0.54      0.57        96\n",
      "           6       0.52      0.24      0.33        96\n",
      "           7       0.49      0.69      0.57        48\n",
      "\n",
      "    accuracy                           0.52       617\n",
      "   macro avg       0.52      0.56      0.51       617\n",
      "weighted avg       0.53      0.52      0.50       617\n",
      "\n"
     ]
    }
   ],
   "source": [
    "clf = SVC(C=0.5, class_weight='balanced', coef0=2, gamma='auto', kernel='poly', degree=2)\n",
    "clf.fit(X_train, y_train)\n",
    "\n",
    "y_pred = clf.predict(X_test)\n",
    "\n",
    "print('Accuracy %s' % accuracy_score(y_test, y_pred))\n",
    "print('F1-score %s' % f1_score(y_test, y_pred, average=None))\n",
    "print(classification_report(y_test, y_pred))"
   ]
  }
 ],
 "metadata": {
  "kernelspec": {
   "display_name": "Python 3 (ipykernel)",
   "language": "python",
   "name": "python3"
  },
  "language_info": {
   "codemirror_mode": {
    "name": "ipython",
    "version": 3
   },
   "file_extension": ".py",
   "mimetype": "text/x-python",
   "name": "python",
   "nbconvert_exporter": "python",
   "pygments_lexer": "ipython3",
   "version": "3.9.12"
  }
 },
 "nbformat": 4,
 "nbformat_minor": 2
}
