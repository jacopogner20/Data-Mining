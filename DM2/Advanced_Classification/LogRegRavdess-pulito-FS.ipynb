{
 "cells": [
  {
   "cell_type": "code",
   "execution_count": 1,
   "id": "b6d73789",
   "metadata": {},
   "outputs": [],
   "source": [
    "%matplotlib inline\n",
    "\n",
    "import numpy as np\n",
    "import pandas as pd\n",
    "import matplotlib.pyplot as plt\n",
    "\n",
    "from collections import defaultdict"
   ]
  },
  {
   "cell_type": "code",
   "execution_count": 2,
   "id": "01db36da",
   "metadata": {},
   "outputs": [],
   "source": [
    "from scipy import stats\n",
    "\n",
    "from collections import Counter\n",
    "from collections import defaultdict\n",
    "from sklearn.feature_selection import SelectKBest\n",
    "\n",
    "from sklearn.preprocessing import StandardScaler"
   ]
  },
  {
   "cell_type": "code",
   "execution_count": 3,
   "id": "9e3e3c6f",
   "metadata": {},
   "outputs": [
    {
     "data": {
      "text/plain": [
       "'\\'\\ndf_train[\"emotion\"]=df_train[\"emotion\"].replace([\"fearful\", \"angry\", \"happy\", \"surprised\", \"neutral\", \"calm\", \"sad\", \"disgust\"],[0,1,2,3,4,5,6,7])\\ndf_train[\"emotional_intensity\"]=df_train[\"emotional_intensity\"].replace([\"normal\", \"strong\"],[0,1])\\ndf_train[\"sex\"]=df_train[\"sex\"].replace([\"M\", \"F\"],[0,1])\\ndf_train[\"statement\"]=df_train[\"statement\"].replace([\"Dogs are sitting by the door\", \"Kids are talking by the door\"],[0,1])\\ndf_train[\"vocal_channel\"]=df_train[\"vocal_channel\"].replace([\"speech\", \"song\"],[0,1])\\ny_train=df_train.sex.values\\n\\nX_train=df_train.drop(columns=[\"emotion\", \"modality\",\"emotional_intensity\",\"sex\",\"statement\",\"vocal_channel\",\"repetition\",\"actor\",\"filename\"]).values\\n#X_train = df_train.values\\n\\n\\ndf_test[\"emotion\"]=df_test[\"emotion\"].replace([\"fearful\", \"angry\", \"happy\", \"surprised\", \"neutral\", \"calm\", \"sad\", \"disgust\"],[0,1,2,3,4,5,6,7])\\ndf_test[\"emotional_intensity\"]=df_test[\"emotional_intensity\"].replace([\"normal\", \"strong\"],[0,1])\\ndf_test[\"sex\"]=df_test[\"sex\"].replace([\"M\", \"F\"],[0,1])\\ndf_test[\"statement\"]=df_test[\"statement\"].replace([\"Dogs are sitting by the door\", \"Kids are talking by the door\"],[0,1])\\ndf_test[\"vocal_channel\"]=df_test[\"vocal_channel\"].replace([\"speech\", \"song\"],[0,1])\\ny_test=df_test.sex.values\\n\\nX_test=df_test.drop(columns=[\"emotion\", \"modality\",\"emotional_intensity\",\"statement\",\"sex\",\"vocal_channel\",\"repetition\",\"actor\",\"filename\"]).values\\n#X_test = df_test.values\\n'"
      ]
     },
     "execution_count": 3,
     "metadata": {},
     "output_type": "execute_result"
    }
   ],
   "source": [
    "#df_train=pd.read_csv(\"RavdessAudioOnlyFeatures_TRAIN.csv\")\n",
    "#df_test=pd.read_csv(\"RavdessAudioOnlyFeatures_TEST.csv\")\n",
    "\n",
    "df_train=pd.read_csv(\"../ravdess_features_train_pulito.csv\")\n",
    "df_test=pd.read_csv(\"../ravdess_features_test_pulito.csv\")\n",
    "\n",
    "''''\n",
    "df_train[\"emotion\"]=df_train[\"emotion\"].replace([\"fearful\", \"angry\", \"happy\", \"surprised\", \"neutral\", \"calm\", \"sad\", \"disgust\"],[0,1,2,3,4,5,6,7])\n",
    "df_train[\"emotional_intensity\"]=df_train[\"emotional_intensity\"].replace([\"normal\", \"strong\"],[0,1])\n",
    "df_train[\"sex\"]=df_train[\"sex\"].replace([\"M\", \"F\"],[0,1])\n",
    "df_train[\"statement\"]=df_train[\"statement\"].replace([\"Dogs are sitting by the door\", \"Kids are talking by the door\"],[0,1])\n",
    "df_train[\"vocal_channel\"]=df_train[\"vocal_channel\"].replace([\"speech\", \"song\"],[0,1])\n",
    "y_train=df_train.sex.values\n",
    "\n",
    "X_train=df_train.drop(columns=[\"emotion\", \"modality\",\"emotional_intensity\",\"sex\",\"statement\",\"vocal_channel\",\"repetition\",\"actor\",\"filename\"]).values\n",
    "#X_train = df_train.values\n",
    "\n",
    "\n",
    "df_test[\"emotion\"]=df_test[\"emotion\"].replace([\"fearful\", \"angry\", \"happy\", \"surprised\", \"neutral\", \"calm\", \"sad\", \"disgust\"],[0,1,2,3,4,5,6,7])\n",
    "df_test[\"emotional_intensity\"]=df_test[\"emotional_intensity\"].replace([\"normal\", \"strong\"],[0,1])\n",
    "df_test[\"sex\"]=df_test[\"sex\"].replace([\"M\", \"F\"],[0,1])\n",
    "df_test[\"statement\"]=df_test[\"statement\"].replace([\"Dogs are sitting by the door\", \"Kids are talking by the door\"],[0,1])\n",
    "df_test[\"vocal_channel\"]=df_test[\"vocal_channel\"].replace([\"speech\", \"song\"],[0,1])\n",
    "y_test=df_test.sex.values\n",
    "\n",
    "X_test=df_test.drop(columns=[\"emotion\", \"modality\",\"emotional_intensity\",\"statement\",\"sex\",\"vocal_channel\",\"repetition\",\"actor\",\"filename\"]).values\n",
    "#X_test = df_test.values\n",
    "'''"
   ]
  },
  {
   "cell_type": "code",
   "execution_count": 4,
   "id": "42e0dc43",
   "metadata": {},
   "outputs": [],
   "source": [
    "df_train[\"emotion\"]=df_train[\"emotion\"].replace([\"fearful\", \"angry\", \"happy\", \"surprised\", \"neutral\", \"calm\", \"sad\", \"disgust\"],[0,1,2,3,4,5,6,7])\n",
    "df_train[\"emotional_intensity\"]=df_train[\"emotional_intensity\"].replace([\"normal\", \"strong\"],[0,1])\n",
    "df_train[\"sex\"]=df_train[\"sex\"].replace([\"M\", \"F\"],[0,1])\n",
    "df_train[\"statement\"]=df_train[\"statement\"].replace([\"Dogs are sitting by the door\", \"Kids are talking by the door\"],[0,1])\n",
    "df_train[\"vocal_channel\"]=df_train[\"vocal_channel\"].replace([\"speech\", \"song\"],[0,1])\n",
    "\n",
    "df_test[\"emotion\"]=df_test[\"emotion\"].replace([\"fearful\", \"angry\", \"happy\", \"surprised\", \"neutral\", \"calm\", \"sad\", \"disgust\"],[0,1,2,3,4,5,6,7])\n",
    "df_test[\"emotional_intensity\"]=df_test[\"emotional_intensity\"].replace([\"normal\", \"strong\"],[0,1])\n",
    "df_test[\"sex\"]=df_test[\"sex\"].replace([\"M\", \"F\"],[0,1])\n",
    "df_test[\"statement\"]=df_test[\"statement\"].replace([\"Dogs are sitting by the door\", \"Kids are talking by the door\"],[0,1])\n",
    "df_test[\"vocal_channel\"]=df_test[\"vocal_channel\"].replace([\"speech\", \"song\"],[0,1])"
   ]
  },
  {
   "cell_type": "code",
   "execution_count": 5,
   "id": "2ab7e4da",
   "metadata": {},
   "outputs": [],
   "source": [
    "frames = [df_train, df_test]\n",
    "df = pd.concat(frames)\n",
    "X = df.drop(columns=[\"emotion\",  \"emotional_intensity\",\"statement\",\"vocal_channel\",\"sex\",]).values\n",
    "X_unscaled = df.drop(columns=[\"emotion\",\"emotional_intensity\",\"statement\",\"vocal_channel\",\"sex\",]).values\n",
    "y=df.emotion.values"
   ]
  },
  {
   "cell_type": "code",
   "execution_count": 6,
   "id": "09a70d8b",
   "metadata": {},
   "outputs": [],
   "source": [
    "sel = SelectKBest(k=108)\n",
    "X = sel.fit_transform(X, y)"
   ]
  },
  {
   "cell_type": "code",
   "execution_count": 7,
   "id": "8144deea",
   "metadata": {},
   "outputs": [
    {
     "data": {
      "text/html": [
       "<div>\n",
       "<style scoped>\n",
       "    .dataframe tbody tr th:only-of-type {\n",
       "        vertical-align: middle;\n",
       "    }\n",
       "\n",
       "    .dataframe tbody tr th {\n",
       "        vertical-align: top;\n",
       "    }\n",
       "\n",
       "    .dataframe thead th {\n",
       "        text-align: right;\n",
       "    }\n",
       "</style>\n",
       "<table border=\"1\" class=\"dataframe\">\n",
       "  <thead>\n",
       "    <tr style=\"text-align: right;\">\n",
       "      <th></th>\n",
       "      <th>vocal_channel</th>\n",
       "      <th>statement</th>\n",
       "      <th>sex</th>\n",
       "      <th>frame_count</th>\n",
       "      <th>sum</th>\n",
       "      <th>mean</th>\n",
       "      <th>q01</th>\n",
       "      <th>q05</th>\n",
       "      <th>q99</th>\n",
       "      <th>kur</th>\n",
       "      <th>...</th>\n",
       "      <th>zc_kur_w3</th>\n",
       "      <th>mfcc_sum_w3</th>\n",
       "      <th>mfcc_mean_w3</th>\n",
       "      <th>mfcc_q50_w3</th>\n",
       "      <th>stft_q25_w3</th>\n",
       "      <th>stft_skew_w3</th>\n",
       "      <th>length_w4</th>\n",
       "      <th>kur_w4</th>\n",
       "      <th>skew_w4</th>\n",
       "      <th>zc_std_w4</th>\n",
       "    </tr>\n",
       "  </thead>\n",
       "  <tbody>\n",
       "    <tr>\n",
       "      <th>0</th>\n",
       "      <td>0.0</td>\n",
       "      <td>1.0</td>\n",
       "      <td>0.0</td>\n",
       "      <td>158558.0</td>\n",
       "      <td>0.145081</td>\n",
       "      <td>9.150000e-07</td>\n",
       "      <td>-0.012586</td>\n",
       "      <td>-0.005890</td>\n",
       "      <td>0.015272</td>\n",
       "      <td>15.028520</td>\n",
       "      <td>...</td>\n",
       "      <td>29.084377</td>\n",
       "      <td>-34356.484307</td>\n",
       "      <td>-22.023387</td>\n",
       "      <td>0.533580</td>\n",
       "      <td>0.234335</td>\n",
       "      <td>0.288573</td>\n",
       "      <td>39640.0</td>\n",
       "      <td>17.550783</td>\n",
       "      <td>0.465485</td>\n",
       "      <td>0.227131</td>\n",
       "    </tr>\n",
       "    <tr>\n",
       "      <th>1</th>\n",
       "      <td>0.0</td>\n",
       "      <td>1.0</td>\n",
       "      <td>0.0</td>\n",
       "      <td>160160.0</td>\n",
       "      <td>0.114319</td>\n",
       "      <td>7.137790e-07</td>\n",
       "      <td>-0.013550</td>\n",
       "      <td>-0.006104</td>\n",
       "      <td>0.015900</td>\n",
       "      <td>16.488415</td>\n",
       "      <td>...</td>\n",
       "      <td>28.231719</td>\n",
       "      <td>-33708.480180</td>\n",
       "      <td>-21.334481</td>\n",
       "      <td>-0.172550</td>\n",
       "      <td>0.209817</td>\n",
       "      <td>0.513204</td>\n",
       "      <td>40040.0</td>\n",
       "      <td>33.514234</td>\n",
       "      <td>-0.400318</td>\n",
       "      <td>0.198888</td>\n",
       "    </tr>\n",
       "    <tr>\n",
       "      <th>2</th>\n",
       "      <td>0.0</td>\n",
       "      <td>0.0</td>\n",
       "      <td>0.0</td>\n",
       "      <td>156956.0</td>\n",
       "      <td>0.149963</td>\n",
       "      <td>9.554485e-07</td>\n",
       "      <td>-0.015822</td>\n",
       "      <td>-0.007294</td>\n",
       "      <td>0.018494</td>\n",
       "      <td>17.035218</td>\n",
       "      <td>...</td>\n",
       "      <td>29.270049</td>\n",
       "      <td>-32972.110544</td>\n",
       "      <td>-21.410461</td>\n",
       "      <td>-0.237159</td>\n",
       "      <td>0.221506</td>\n",
       "      <td>0.474012</td>\n",
       "      <td>39239.0</td>\n",
       "      <td>19.702873</td>\n",
       "      <td>-0.976030</td>\n",
       "      <td>0.183175</td>\n",
       "    </tr>\n",
       "    <tr>\n",
       "      <th>3</th>\n",
       "      <td>0.0</td>\n",
       "      <td>0.0</td>\n",
       "      <td>0.0</td>\n",
       "      <td>152152.0</td>\n",
       "      <td>0.139618</td>\n",
       "      <td>9.176213e-07</td>\n",
       "      <td>-0.014923</td>\n",
       "      <td>-0.006714</td>\n",
       "      <td>0.017487</td>\n",
       "      <td>21.824521</td>\n",
       "      <td>...</td>\n",
       "      <td>29.023160</td>\n",
       "      <td>-31355.913512</td>\n",
       "      <td>-20.903942</td>\n",
       "      <td>0.444741</td>\n",
       "      <td>0.295453</td>\n",
       "      <td>0.239217</td>\n",
       "      <td>38038.0</td>\n",
       "      <td>18.295975</td>\n",
       "      <td>-0.169360</td>\n",
       "      <td>0.255206</td>\n",
       "    </tr>\n",
       "    <tr>\n",
       "      <th>4</th>\n",
       "      <td>0.0</td>\n",
       "      <td>1.0</td>\n",
       "      <td>0.0</td>\n",
       "      <td>169769.0</td>\n",
       "      <td>0.137665</td>\n",
       "      <td>8.108948e-07</td>\n",
       "      <td>-0.009399</td>\n",
       "      <td>-0.004364</td>\n",
       "      <td>0.011566</td>\n",
       "      <td>13.236022</td>\n",
       "      <td>...</td>\n",
       "      <td>28.060016</td>\n",
       "      <td>-36494.162399</td>\n",
       "      <td>-21.984435</td>\n",
       "      <td>-0.839454</td>\n",
       "      <td>0.189045</td>\n",
       "      <td>0.575065</td>\n",
       "      <td>42443.0</td>\n",
       "      <td>18.503776</td>\n",
       "      <td>0.139319</td>\n",
       "      <td>0.226439</td>\n",
       "    </tr>\n",
       "  </tbody>\n",
       "</table>\n",
       "<p>5 rows × 108 columns</p>\n",
       "</div>"
      ],
      "text/plain": [
       "   vocal_channel  statement  sex  frame_count       sum          mean  \\\n",
       "0            0.0        1.0  0.0     158558.0  0.145081  9.150000e-07   \n",
       "1            0.0        1.0  0.0     160160.0  0.114319  7.137790e-07   \n",
       "2            0.0        0.0  0.0     156956.0  0.149963  9.554485e-07   \n",
       "3            0.0        0.0  0.0     152152.0  0.139618  9.176213e-07   \n",
       "4            0.0        1.0  0.0     169769.0  0.137665  8.108948e-07   \n",
       "\n",
       "        q01       q05       q99        kur  ...  zc_kur_w3   mfcc_sum_w3  \\\n",
       "0 -0.012586 -0.005890  0.015272  15.028520  ...  29.084377 -34356.484307   \n",
       "1 -0.013550 -0.006104  0.015900  16.488415  ...  28.231719 -33708.480180   \n",
       "2 -0.015822 -0.007294  0.018494  17.035218  ...  29.270049 -32972.110544   \n",
       "3 -0.014923 -0.006714  0.017487  21.824521  ...  29.023160 -31355.913512   \n",
       "4 -0.009399 -0.004364  0.011566  13.236022  ...  28.060016 -36494.162399   \n",
       "\n",
       "   mfcc_mean_w3  mfcc_q50_w3  stft_q25_w3  stft_skew_w3  length_w4     kur_w4  \\\n",
       "0    -22.023387     0.533580     0.234335      0.288573    39640.0  17.550783   \n",
       "1    -21.334481    -0.172550     0.209817      0.513204    40040.0  33.514234   \n",
       "2    -21.410461    -0.237159     0.221506      0.474012    39239.0  19.702873   \n",
       "3    -20.903942     0.444741     0.295453      0.239217    38038.0  18.295975   \n",
       "4    -21.984435    -0.839454     0.189045      0.575065    42443.0  18.503776   \n",
       "\n",
       "    skew_w4  zc_std_w4  \n",
       "0  0.465485   0.227131  \n",
       "1 -0.400318   0.198888  \n",
       "2 -0.976030   0.183175  \n",
       "3 -0.169360   0.255206  \n",
       "4  0.139319   0.226439  \n",
       "\n",
       "[5 rows x 108 columns]"
      ]
     },
     "execution_count": 7,
     "metadata": {},
     "output_type": "execute_result"
    }
   ],
   "source": [
    "features = sel.get_feature_names_out()\n",
    "features = ([s.replace(\"x\", \"\") for s in features])\n",
    "df.T.iloc[features].T.head()"
   ]
  },
  {
   "cell_type": "code",
   "execution_count": 8,
   "id": "2b987bc4",
   "metadata": {},
   "outputs": [
    {
     "data": {
      "text/plain": [
       "(2452, 108)"
      ]
     },
     "execution_count": 8,
     "metadata": {},
     "output_type": "execute_result"
    }
   ],
   "source": [
    "X.shape"
   ]
  },
  {
   "cell_type": "markdown",
   "id": "f35f7691",
   "metadata": {},
   "source": [
    "# data partitioning"
   ]
  },
  {
   "cell_type": "code",
   "execution_count": 9,
   "id": "669168a5",
   "metadata": {},
   "outputs": [],
   "source": [
    "from sklearn.model_selection import train_test_split, cross_val_score \n",
    "\n",
    "from sklearn.metrics import r2_score, mean_squared_error, mean_absolute_error"
   ]
  },
  {
   "cell_type": "code",
   "execution_count": 10,
   "id": "5733d770",
   "metadata": {},
   "outputs": [],
   "source": [
    "X_train, X_test, y_train, y_test = train_test_split(\n",
    "    X, y, test_size=0.3, random_state=100)"
   ]
  },
  {
   "cell_type": "code",
   "execution_count": 11,
   "id": "02b4191b",
   "metadata": {},
   "outputs": [],
   "source": [
    "from sklearn.preprocessing import StandardScaler"
   ]
  },
  {
   "cell_type": "code",
   "execution_count": 12,
   "id": "4264272b",
   "metadata": {},
   "outputs": [],
   "source": [
    "scl = StandardScaler()\n",
    "X_train = scl.fit_transform(X_train)\n",
    "X_test = scl.transform(X_test)"
   ]
  },
  {
   "cell_type": "markdown",
   "id": "13ab7753",
   "metadata": {},
   "source": [
    "# Log Reg"
   ]
  },
  {
   "cell_type": "code",
   "execution_count": 13,
   "id": "cdf5253e",
   "metadata": {},
   "outputs": [
    {
     "data": {
      "image/png": "[encoded data removed]",
      "text/plain": [
       "<Figure size 432x288 with 1 Axes>"
      ]
     },
     "metadata": {
      "needs_background": "light"
     },
     "output_type": "display_data"
    }
   ],
   "source": [
    "plt.scatter(X_train.T[0], y_train)\n",
    "plt.tick_params(axis='both', which='major', labelsize=16)\n",
    "plt.show()"
   ]
  },
  {
   "cell_type": "code",
   "execution_count": 14,
   "id": "432cbecb",
   "metadata": {},
   "outputs": [],
   "source": [
    "from sklearn.linear_model import LogisticRegression\n",
    "from sklearn.metrics import accuracy_score, f1_score, classification_report"
   ]
  },
  {
   "cell_type": "code",
   "execution_count": 15,
   "id": "7ac22ce7",
   "metadata": {},
   "outputs": [
    {
     "data": {
      "text/plain": [
       "LogisticRegression(random_state=0)"
      ]
     },
     "execution_count": 15,
     "metadata": {},
     "output_type": "execute_result"
    }
   ],
   "source": [
    "clf = LogisticRegression(random_state=0)\n",
    "clf.fit(X_train.T[0].reshape(-1,1), y_train)"
   ]
  },
  {
   "cell_type": "code",
   "execution_count": 16,
   "id": "29e5364a",
   "metadata": {},
   "outputs": [
    {
     "name": "stdout",
     "output_type": "stream",
     "text": [
      "Accuracy 0.19972826086956522\n",
      "F1-score [0.21495327 0.17316017 0.         0.3255814  0.         0.36363636\n",
      " 0.         0.        ]\n",
      "              precision    recall  f1-score   support\n",
      "\n",
      "           0       0.15      0.41      0.21       111\n",
      "           1       0.15      0.20      0.17        99\n",
      "           2       0.00      0.00      0.00       124\n",
      "           3       0.29      0.37      0.33        57\n",
      "           4       0.00      0.00      0.00        58\n",
      "           5       0.28      0.52      0.36       115\n",
      "           6       0.00      0.00      0.00       118\n",
      "           7       0.00      0.00      0.00        54\n",
      "\n",
      "    accuracy                           0.20       736\n",
      "   macro avg       0.11      0.19      0.13       736\n",
      "weighted avg       0.11      0.20      0.14       736\n",
      "\n"
     ]
    },
    {
     "name": "stderr",
     "output_type": "stream",
     "text": [
      "/Users/jacopogneri/opt/anaconda3/lib/python3.9/site-packages/sklearn/metrics/_classification.py:1318: UndefinedMetricWarning: Precision and F-score are ill-defined and being set to 0.0 in labels with no predicted samples. Use `zero_division` parameter to control this behavior.\n",
      "  _warn_prf(average, modifier, msg_start, len(result))\n",
      "/Users/jacopogneri/opt/anaconda3/lib/python3.9/site-packages/sklearn/metrics/_classification.py:1318: UndefinedMetricWarning: Precision and F-score are ill-defined and being set to 0.0 in labels with no predicted samples. Use `zero_division` parameter to control this behavior.\n",
      "  _warn_prf(average, modifier, msg_start, len(result))\n",
      "/Users/jacopogneri/opt/anaconda3/lib/python3.9/site-packages/sklearn/metrics/_classification.py:1318: UndefinedMetricWarning: Precision and F-score are ill-defined and being set to 0.0 in labels with no predicted samples. Use `zero_division` parameter to control this behavior.\n",
      "  _warn_prf(average, modifier, msg_start, len(result))\n"
     ]
    }
   ],
   "source": [
    "y_pred = clf.predict(X_test.T[0].reshape(-1,1))\n",
    "\n",
    "print('Accuracy %s' % accuracy_score(y_test, y_pred))\n",
    "print('F1-score %s' % f1_score(y_test, y_pred, average=None))\n",
    "print(classification_report(y_test, y_pred))"
   ]
  },
  {
   "cell_type": "code",
   "execution_count": 17,
   "id": "a13ec391",
   "metadata": {},
   "outputs": [
    {
     "data": {
      "text/plain": [
       "array([ 0.40062239,  0.46659767,  0.39703542, -1.43857065, -0.28847475,\n",
       "        0.31016327,  0.38513333, -0.23250669])"
      ]
     },
     "execution_count": 17,
     "metadata": {},
     "output_type": "execute_result"
    }
   ],
   "source": [
    "clf.intercept_"
   ]
  },
  {
   "cell_type": "code",
   "execution_count": 18,
   "id": "d4e826ed",
   "metadata": {},
   "outputs": [
    {
     "data": {
      "text/plain": [
       "array([[-0.11722901],\n",
       "       [ 0.45482577],\n",
       "       [ 0.25161685],\n",
       "       [-1.75850136],\n",
       "       [-0.01966211],\n",
       "       [ 0.72857449],\n",
       "       [ 0.49821567],\n",
       "       [-0.03784031]])"
      ]
     },
     "execution_count": 18,
     "metadata": {},
     "output_type": "execute_result"
    }
   ],
   "source": [
    "clf.coef_"
   ]
  },
  {
   "cell_type": "code",
   "execution_count": 19,
   "id": "f227b303",
   "metadata": {},
   "outputs": [],
   "source": [
    "from scipy.special import expit"
   ]
  },
  {
   "cell_type": "code",
   "execution_count": 20,
   "id": "016ebb77",
   "metadata": {},
   "outputs": [
    {
     "ename": "ValueError",
     "evalue": "operands could not be broadcast together with shapes (736,1) (8,1) ",
     "output_type": "error",
     "traceback": [
      "\u001b[0;31m---------------------------------------------------------------------------\u001b[0m",
      "\u001b[0;31mValueError\u001b[0m                                Traceback (most recent call last)",
      "Input \u001b[0;32mIn [20]\u001b[0m, in \u001b[0;36m<cell line: 1>\u001b[0;34m()\u001b[0m\n\u001b[0;32m----> 1\u001b[0m loss \u001b[38;5;241m=\u001b[39m expit(\u001b[38;5;28;43msorted\u001b[39;49m\u001b[43m(\u001b[49m\u001b[43mX_test\u001b[49m\u001b[38;5;241;43m.\u001b[39;49m\u001b[43mT\u001b[49m\u001b[43m[\u001b[49m\u001b[38;5;241;43m0\u001b[39;49m\u001b[43m]\u001b[49m\u001b[38;5;241;43m.\u001b[39;49m\u001b[43mreshape\u001b[49m\u001b[43m(\u001b[49m\u001b[38;5;241;43m-\u001b[39;49m\u001b[38;5;241;43m1\u001b[39;49m\u001b[43m,\u001b[49m\u001b[38;5;241;43m1\u001b[39;49m\u001b[43m)\u001b[49m\u001b[43m)\u001b[49m\u001b[43m \u001b[49m\u001b[38;5;241;43m*\u001b[39;49m\u001b[43m \u001b[49m\u001b[43mclf\u001b[49m\u001b[38;5;241;43m.\u001b[39;49m\u001b[43mcoef_\u001b[49m \u001b[38;5;241m+\u001b[39m clf\u001b[38;5;241m.\u001b[39mintercept_)\u001b[38;5;241m.\u001b[39mravel()\n\u001b[1;32m      2\u001b[0m plt\u001b[38;5;241m.\u001b[39mplot(\u001b[38;5;28msorted\u001b[39m(X_test\u001b[38;5;241m.\u001b[39mT[\u001b[38;5;241m0\u001b[39m]\u001b[38;5;241m.\u001b[39mreshape(\u001b[38;5;241m-\u001b[39m\u001b[38;5;241m1\u001b[39m,\u001b[38;5;241m1\u001b[39m)), loss, color\u001b[38;5;241m=\u001b[39m\u001b[38;5;124m'\u001b[39m\u001b[38;5;124mred\u001b[39m\u001b[38;5;124m'\u001b[39m, linewidth\u001b[38;5;241m=\u001b[39m\u001b[38;5;241m3\u001b[39m)\n\u001b[1;32m      3\u001b[0m plt\u001b[38;5;241m.\u001b[39mscatter(X_train\u001b[38;5;241m.\u001b[39mT[\u001b[38;5;241m0\u001b[39m]\u001b[38;5;241m.\u001b[39mreshape(\u001b[38;5;241m-\u001b[39m\u001b[38;5;241m1\u001b[39m,\u001b[38;5;241m1\u001b[39m), y_train)\n",
      "\u001b[0;31mValueError\u001b[0m: operands could not be broadcast together with shapes (736,1) (8,1) "
     ]
    }
   ],
   "source": [
    "loss = expit(sorted(X_test.T[0].reshape(-1,1)) * clf.coef_ + clf.intercept_).ravel()\n",
    "plt.plot(sorted(X_test.T[0].reshape(-1,1)), loss, color='red', linewidth=3)\n",
    "plt.scatter(X_train.T[0].reshape(-1,1), y_train)\n",
    "#plt.xlabel(selected_columns[0], fontsize=16)\n",
    "#plt.ylabel('Occupancy', fontsize=16)\n",
    "plt.tick_params(axis='both', which='major', labelsize=16)\n",
    "plt.show()"
   ]
  }
 ],
 "metadata": {
  "kernelspec": {
   "display_name": "Python 3 (ipykernel)",
   "language": "python",
   "name": "python3"
  },
  "language_info": {
   "codemirror_mode": {
    "name": "ipython",
    "version": 3
   },
   "file_extension": ".py",
   "mimetype": "text/x-python",
   "name": "python",
   "nbconvert_exporter": "python",
   "pygments_lexer": "ipython3",
   "version": "3.9.12"
  }
 },
 "nbformat": 4,
 "nbformat_minor": 5
}
